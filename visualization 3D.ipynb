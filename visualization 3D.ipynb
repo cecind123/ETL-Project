{
 "cells": [
  {
   "cell_type": "code",
   "execution_count": 1,
   "metadata": {},
   "outputs": [],
   "source": [
    "import pandas as pd \n",
    "import requests\n",
    "from pprint import pprint\n",
    "import NameDataModule as NDM\n",
    "import seaborn as sns"
   ]
  },
  {
   "cell_type": "code",
   "execution_count": 2,
   "metadata": {},
   "outputs": [],
   "source": [
    "df_BabyNames = pd.read_csv('Resources/most-popular-baby-names-2005-current-3.csv')"
   ]
  },
  {
   "cell_type": "code",
   "execution_count": 3,
   "metadata": {},
   "outputs": [
    {
     "data": {
      "text/html": [
       "<div>\n",
       "<style scoped>\n",
       "    .dataframe tbody tr th:only-of-type {\n",
       "        vertical-align: middle;\n",
       "    }\n",
       "\n",
       "    .dataframe tbody tr th {\n",
       "        vertical-align: top;\n",
       "    }\n",
       "\n",
       "    .dataframe thead th {\n",
       "        text-align: right;\n",
       "    }\n",
       "</style>\n",
       "<table border=\"1\" class=\"dataframe\">\n",
       "  <thead>\n",
       "    <tr style=\"text-align: right;\">\n",
       "      <th></th>\n",
       "      <th>YEAR</th>\n",
       "      <th>Gender</th>\n",
       "      <th>RANK</th>\n",
       "      <th>Name</th>\n",
       "      <th>Count</th>\n",
       "    </tr>\n",
       "  </thead>\n",
       "  <tbody>\n",
       "    <tr>\n",
       "      <th>0</th>\n",
       "      <td>2005</td>\n",
       "      <td>Female</td>\n",
       "      <td>1</td>\n",
       "      <td>EMILY</td>\n",
       "      <td>3268</td>\n",
       "    </tr>\n",
       "    <tr>\n",
       "      <th>1</th>\n",
       "      <td>2005</td>\n",
       "      <td>Female</td>\n",
       "      <td>2</td>\n",
       "      <td>ASHLEY</td>\n",
       "      <td>2770</td>\n",
       "    </tr>\n",
       "    <tr>\n",
       "      <th>2</th>\n",
       "      <td>2005</td>\n",
       "      <td>Female</td>\n",
       "      <td>3</td>\n",
       "      <td>SAMANTHA</td>\n",
       "      <td>2483</td>\n",
       "    </tr>\n",
       "    <tr>\n",
       "      <th>3</th>\n",
       "      <td>2005</td>\n",
       "      <td>Female</td>\n",
       "      <td>4</td>\n",
       "      <td>ISABELLA</td>\n",
       "      <td>2333</td>\n",
       "    </tr>\n",
       "    <tr>\n",
       "      <th>4</th>\n",
       "      <td>2005</td>\n",
       "      <td>Female</td>\n",
       "      <td>5</td>\n",
       "      <td>MIA</td>\n",
       "      <td>2172</td>\n",
       "    </tr>\n",
       "    <tr>\n",
       "      <th>...</th>\n",
       "      <td>...</td>\n",
       "      <td>...</td>\n",
       "      <td>...</td>\n",
       "      <td>...</td>\n",
       "      <td>...</td>\n",
       "    </tr>\n",
       "    <tr>\n",
       "      <th>646</th>\n",
       "      <td>2017</td>\n",
       "      <td>Male</td>\n",
       "      <td>21</td>\n",
       "      <td>JAMES</td>\n",
       "      <td>1508</td>\n",
       "    </tr>\n",
       "    <tr>\n",
       "      <th>647</th>\n",
       "      <td>2017</td>\n",
       "      <td>Male</td>\n",
       "      <td>22</td>\n",
       "      <td>MICHAEL</td>\n",
       "      <td>1507</td>\n",
       "    </tr>\n",
       "    <tr>\n",
       "      <th>648</th>\n",
       "      <td>2017</td>\n",
       "      <td>Male</td>\n",
       "      <td>23</td>\n",
       "      <td>ELIJAH</td>\n",
       "      <td>1486</td>\n",
       "    </tr>\n",
       "    <tr>\n",
       "      <th>649</th>\n",
       "      <td>2017</td>\n",
       "      <td>Male</td>\n",
       "      <td>24</td>\n",
       "      <td>ANTHONY</td>\n",
       "      <td>1439</td>\n",
       "    </tr>\n",
       "    <tr>\n",
       "      <th>650</th>\n",
       "      <td>2017</td>\n",
       "      <td>Male</td>\n",
       "      <td>25</td>\n",
       "      <td>ISAAC</td>\n",
       "      <td>1423</td>\n",
       "    </tr>\n",
       "  </tbody>\n",
       "</table>\n",
       "<p>651 rows × 5 columns</p>\n",
       "</div>"
      ],
      "text/plain": [
       "     YEAR  Gender  RANK      Name  Count\n",
       "0    2005  Female     1     EMILY   3268\n",
       "1    2005  Female     2    ASHLEY   2770\n",
       "2    2005  Female     3  SAMANTHA   2483\n",
       "3    2005  Female     4  ISABELLA   2333\n",
       "4    2005  Female     5       MIA   2172\n",
       "..    ...     ...   ...       ...    ...\n",
       "646  2017    Male    21     JAMES   1508\n",
       "647  2017    Male    22   MICHAEL   1507\n",
       "648  2017    Male    23    ELIJAH   1486\n",
       "649  2017    Male    24   ANTHONY   1439\n",
       "650  2017    Male    25     ISAAC   1423\n",
       "\n",
       "[651 rows x 5 columns]"
      ]
     },
     "execution_count": 3,
     "metadata": {},
     "output_type": "execute_result"
    }
   ],
   "source": [
    "df_BabyNames"
   ]
  },
  {
   "cell_type": "code",
   "execution_count": 4,
   "metadata": {},
   "outputs": [],
   "source": [
    "df2 = df_BabyNames.groupby([\"Name\"]).sum()"
   ]
  },
  {
   "cell_type": "code",
   "execution_count": 5,
   "metadata": {},
   "outputs": [
    {
     "data": {
      "text/html": [
       "<div>\n",
       "<style scoped>\n",
       "    .dataframe tbody tr th:only-of-type {\n",
       "        vertical-align: middle;\n",
       "    }\n",
       "\n",
       "    .dataframe tbody tr th {\n",
       "        vertical-align: top;\n",
       "    }\n",
       "\n",
       "    .dataframe thead th {\n",
       "        text-align: right;\n",
       "    }\n",
       "</style>\n",
       "<table border=\"1\" class=\"dataframe\">\n",
       "  <thead>\n",
       "    <tr style=\"text-align: right;\">\n",
       "      <th></th>\n",
       "      <th>YEAR</th>\n",
       "      <th>RANK</th>\n",
       "      <th>Count</th>\n",
       "    </tr>\n",
       "    <tr>\n",
       "      <th>Name</th>\n",
       "      <th></th>\n",
       "      <th></th>\n",
       "      <th></th>\n",
       "    </tr>\n",
       "  </thead>\n",
       "  <tbody>\n",
       "    <tr>\n",
       "      <th>AARON</th>\n",
       "      <td>10071</td>\n",
       "      <td>110</td>\n",
       "      <td>7766</td>\n",
       "    </tr>\n",
       "    <tr>\n",
       "      <th>ABIGAIL</th>\n",
       "      <td>26143</td>\n",
       "      <td>123</td>\n",
       "      <td>20081</td>\n",
       "    </tr>\n",
       "    <tr>\n",
       "      <th>ADRIAN</th>\n",
       "      <td>20105</td>\n",
       "      <td>192</td>\n",
       "      <td>18777</td>\n",
       "    </tr>\n",
       "    <tr>\n",
       "      <th>AIDEN</th>\n",
       "      <td>18117</td>\n",
       "      <td>138</td>\n",
       "      <td>16502</td>\n",
       "    </tr>\n",
       "    <tr>\n",
       "      <th>ALEXA</th>\n",
       "      <td>16087</td>\n",
       "      <td>163</td>\n",
       "      <td>8533</td>\n",
       "    </tr>\n",
       "    <tr>\n",
       "      <th>...</th>\n",
       "      <td>...</td>\n",
       "      <td>...</td>\n",
       "      <td>...</td>\n",
       "    </tr>\n",
       "    <tr>\n",
       "      <th>STEPHANIE</th>\n",
       "      <td>2005</td>\n",
       "      <td>24</td>\n",
       "      <td>1152</td>\n",
       "    </tr>\n",
       "    <tr>\n",
       "      <th>VALERIA</th>\n",
       "      <td>8033</td>\n",
       "      <td>73</td>\n",
       "      <td>4753</td>\n",
       "    </tr>\n",
       "    <tr>\n",
       "      <th>VANESSA</th>\n",
       "      <td>6020</td>\n",
       "      <td>71</td>\n",
       "      <td>3382</td>\n",
       "    </tr>\n",
       "    <tr>\n",
       "      <th>VICTORIA</th>\n",
       "      <td>22132</td>\n",
       "      <td>161</td>\n",
       "      <td>14510</td>\n",
       "    </tr>\n",
       "    <tr>\n",
       "      <th>ZOE</th>\n",
       "      <td>14098</td>\n",
       "      <td>154</td>\n",
       "      <td>6434</td>\n",
       "    </tr>\n",
       "  </tbody>\n",
       "</table>\n",
       "<p>94 rows × 3 columns</p>\n",
       "</div>"
      ],
      "text/plain": [
       "            YEAR  RANK  Count\n",
       "Name                         \n",
       "AARON      10071   110   7766\n",
       "ABIGAIL    26143   123  20081\n",
       "ADRIAN     20105   192  18777\n",
       "AIDEN      18117   138  16502\n",
       "ALEXA      16087   163   8533\n",
       "...          ...   ...    ...\n",
       "STEPHANIE   2005    24   1152\n",
       "VALERIA     8033    73   4753\n",
       "VANESSA     6020    71   3382\n",
       "VICTORIA   22132   161  14510\n",
       "ZOE        14098   154   6434\n",
       "\n",
       "[94 rows x 3 columns]"
      ]
     },
     "execution_count": 5,
     "metadata": {},
     "output_type": "execute_result"
    }
   ],
   "source": [
    "df2"
   ]
  },
  {
   "cell_type": "code",
   "execution_count": 6,
   "metadata": {},
   "outputs": [
    {
     "data": {
      "text/plain": [
       "<matplotlib.axes._subplots.AxesSubplot at 0x2d93ef62d68>"
      ]
     },
     "execution_count": 6,
     "metadata": {},
     "output_type": "execute_result"
    },
    {
     "data": {
      "image/png": "[encoded data removed]",
      "text/plain": [
       "<Figure size 432x288 with 1 Axes>"
      ]
     },
     "metadata": {
      "needs_background": "light"
     },
     "output_type": "display_data"
    }
   ],
   "source": [
    "sns.distplot( a=df2[\"Count\"], hist=True, kde=True, rug=True )"
   ]
  },
  {
   "cell_type": "code",
   "execution_count": 7,
   "metadata": {},
   "outputs": [
    {
     "data": {
      "text/plain": [
       "<matplotlib.axes._subplots.AxesSubplot at 0x2d93f27d438>"
      ]
     },
     "execution_count": 7,
     "metadata": {},
     "output_type": "execute_result"
    },
    {
     "data": {
      "image/png": "[encoded data removed]",
      "text/plain": [
       "<Figure size 432x288 with 1 Axes>"
      ]
     },
     "metadata": {
      "needs_background": "light"
     },
     "output_type": "display_data"
    }
   ],
   "source": [
    "sns.scatterplot(x=\"RANK\", y=\"Count\",data=df2)"
   ]
  },
  {
   "cell_type": "code",
   "execution_count": 8,
   "metadata": {},
   "outputs": [
    {
     "data": {
      "text/plain": [
       "<seaborn.axisgrid.FacetGrid at 0x2d93f3594a8>"
      ]
     },
     "execution_count": 8,
     "metadata": {},
     "output_type": "execute_result"
    },
    {
     "data": {
      "image/png": "[encoded data removed]",
      "text/plain": [
       "<Figure size 432x432 with 1 Axes>"
      ]
     },
     "metadata": {
      "needs_background": "light"
     },
     "output_type": "display_data"
    }
   ],
   "source": [
    "sns.relplot(x=\"Name\", y=\"Count\",sizes=(40, 400), alpha=.5, palette=\"muted\",height=6, data=df_BabyNames)"
   ]
  },
  {
   "cell_type": "code",
   "execution_count": 9,
   "metadata": {},
   "outputs": [
    {
     "data": {
      "text/plain": [
       "<matplotlib.axes._subplots.AxesSubplot at 0x2d93f4ddb70>"
      ]
     },
     "execution_count": 9,
     "metadata": {},
     "output_type": "execute_result"
    },
    {
     "data": {
      "image/png": "[encoded data removed]",
      "text/plain": [
       "<Figure size 432x288 with 1 Axes>"
      ]
     },
     "metadata": {
      "needs_background": "light"
     },
     "output_type": "display_data"
    }
   ],
   "source": [
    "sns.lineplot(data=df_BabyNames,x=\"YEAR\",y=\"Count\",linewidth=2.5)"
   ]
  },
  {
   "cell_type": "code",
   "execution_count": 11,
   "metadata": {},
   "outputs": [
    {
     "data": {
      "application/vnd.plotly.v1+json": {
       "config": {
        "plotlyServerURL": "https://plot.ly"
       },
       "data": [
        {
         "hoverlabel": {
          "namelength": 0
         },
         "hovertemplate": "Count=%{marker.color}<br>Name=%{x}<br>YEAR=%{y}",
         "legendgroup": "Count=3268",
         "marker": {
          "color": [
           3268
          ],
          "coloraxis": "coloraxis",
          "symbol": "circle"
         },
         "mode": "markers",
         "name": "Count=3268",
         "scene": "scene",
         "showlegend": true,
         "type": "scatter3d",
         "x": [
          "EMILY"
         ],
         "y": [
          2005
         ],
         "z": [
          3268
         ]
        },
        {
         "hoverlabel": {
          "namelength": 0
         },
         "hovertemplate": "Count=%{marker.color}<br>Name=%{x}<br>YEAR=%{y}",
         "legendgroup": "Count=2770",
         "marker": {
          "color": [
           2770
          ],
          "coloraxis": "coloraxis",
          "symbol": "diamond"
         },
         "mode": "markers",
         "name": "Count=2770",
         "scene": "scene",
         "showlegend": true,
         "type": "scatter3d",
         "x": [
          "ASHLEY"
         ],
         "y": [
          2005
         ],
         "z": [
          2770
         ]
        },
        {
         "hoverlabel": {
          "namelength": 0
         },
         "hovertemplate": "Count=%{marker.color}<br>Name=%{x}<br>YEAR=%{y}",
         "legendgroup": "Count=2483",
         "marker": {
          "color": [
           2483
          ],
          "coloraxis": "coloraxis",
          "symbol": "square"
         },
         "mode": "markers",
         "name": "Count=2483",
         "scene": "scene",
         "showlegend": true,
         "type": "scatter3d",
         "x": [
          "SAMANTHA"
         ],
         "y": [
          2005
         ],
         "z": [
          2483
         ]
        },
        {
         "hoverlabel": {
          "namelength": 0
         },
         "hovertemplate": "Count=%{marker.color}<br>Name=%{x}<br>YEAR=%{y}",
         "legendgroup": "Count=2333",
         "marker": {
          "color": [
           2333
          ],
          "coloraxis": "coloraxis",
          "symbol": "x"
         },
         "mode": "markers",
         "name": "Count=2333",
         "scene": "scene",
         "showlegend": true,
         "type": "scatter3d",
         "x": [
          "ISABELLA"
         ],
         "y": [
          2005
         ],
         "z": [
          2333
         ]
        },
        {
         "hoverlabel": {
          "namelength": 0
         },
         "hovertemplate": "Count=%{marker.color}<br>Name=%{x}<br>YEAR=%{y}",
         "legendgroup": "Count=2172",
         "marker": {
          "color": [
           2172
          ],
          "coloraxis": "coloraxis",
          "symbol": "cross"
         },
         "mode": "markers",
         "name": "Count=2172",
         "scene": "scene",
         "showlegend": true,
         "type": "scatter3d",
         "x": [
          "MIA"
         ],
         "y": [
          2005
         ],
         "z": [
          2172
         ]
        },
        {
         "hoverlabel": {
          "namelength": 0
         },
         "hovertemplate": "Count=%{marker.color}<br>Name=%{x}<br>YEAR=%{y}",
         "legendgroup": "Count=2035",
         "marker": {
          "color": [
           2035,
           2035
          ],
          "coloraxis": "coloraxis",
          "symbol": "circle"
         },
         "mode": "markers",
         "name": "Count=2035",
         "scene": "scene",
         "showlegend": true,
         "type": "scatter3d",
         "x": [
          "NATALIE",
          "ASHLEY"
         ],
         "y": [
          2005,
          2008
         ],
         "z": [
          2035,
          2035
         ]
        },
        {
         "hoverlabel": {
          "namelength": 0
         },
         "hovertemplate": "Count=%{marker.color}<br>Name=%{x}<br>YEAR=%{y}",
         "legendgroup": "Count=1876",
         "marker": {
          "color": [
           1876
          ],
          "coloraxis": "coloraxis",
          "symbol": "diamond"
         },
         "mode": "markers",
         "name": "Count=1876",
         "scene": "scene",
         "showlegend": true,
         "type": "scatter3d",
         "x": [
          "SOPHIA"
         ],
         "y": [
          2005
         ],
         "z": [
          1876
         ]
        },
        {
         "hoverlabel": {
          "namelength": 0
         },
         "hovertemplate": "Count=%{marker.color}<br>Name=%{x}<br>YEAR=%{y}",
         "legendgroup": "Count=1626",
         "marker": {
          "color": [
           1626
          ],
          "coloraxis": "coloraxis",
          "symbol": "square"
         },
         "mode": "markers",
         "name": "Count=1626",
         "scene": "scene",
         "showlegend": true,
         "type": "scatter3d",
         "x": [
          "EMMA"
         ],
         "y": [
          2005
         ],
         "z": [
          1626
         ]
        },
        {
         "hoverlabel": {
          "namelength": 0
         },
         "hovertemplate": "Count=%{marker.color}<br>Name=%{x}<br>YEAR=%{y}",
         "legendgroup": "Count=1612",
         "marker": {
          "color": [
           1612,
           1612
          ],
          "coloraxis": "coloraxis",
          "symbol": "x"
         },
         "mode": "markers",
         "name": "Count=1612",
         "scene": "scene",
         "showlegend": true,
         "type": "scatter3d",
         "x": [
          "ALYSSA",
          "ASHLEY"
         ],
         "y": [
          2005,
          2009
         ],
         "z": [
          1612,
          1612
         ]
        },
        {
         "hoverlabel": {
          "namelength": 0
         },
         "hovertemplate": "Count=%{marker.color}<br>Name=%{x}<br>YEAR=%{y}",
         "legendgroup": "Count=1523",
         "marker": {
          "color": [
           1523
          ],
          "coloraxis": "coloraxis",
          "symbol": "cross"
         },
         "mode": "markers",
         "name": "Count=1523",
         "scene": "scene",
         "showlegend": true,
         "type": "scatter3d",
         "x": [
          "MADISON"
         ],
         "y": [
          2005
         ],
         "z": [
          1523
         ]
        },
        {
         "hoverlabel": {
          "namelength": 0
         },
         "hovertemplate": "Count=%{marker.color}<br>Name=%{x}<br>YEAR=%{y}",
         "legendgroup": "Count=1519",
         "marker": {
          "color": [
           1519
          ],
          "coloraxis": "coloraxis",
          "symbol": "circle"
         },
         "mode": "markers",
         "name": "Count=1519",
         "scene": "scene",
         "showlegend": true,
         "type": "scatter3d",
         "x": [
          "JASMINE"
         ],
         "y": [
          2005
         ],
         "z": [
          1519
         ]
        },
        {
         "hoverlabel": {
          "namelength": 0
         },
         "hovertemplate": "Count=%{marker.color}<br>Name=%{x}<br>YEAR=%{y}",
         "legendgroup": "Count=1479",
         "marker": {
          "color": [
           1479
          ],
          "coloraxis": "coloraxis",
          "symbol": "diamond"
         },
         "mode": "markers",
         "name": "Count=1479",
         "scene": "scene",
         "showlegend": true,
         "type": "scatter3d",
         "x": [
          "ELIZABETH"
         ],
         "y": [
          2005
         ],
         "z": [
          1479
         ]
        },
        {
         "hoverlabel": {
          "namelength": 0
         },
         "hovertemplate": "Count=%{marker.color}<br>Name=%{x}<br>YEAR=%{y}",
         "legendgroup": "Count=1406",
         "marker": {
          "color": [
           1406,
           1406
          ],
          "coloraxis": "coloraxis",
          "symbol": "square"
         },
         "mode": "markers",
         "name": "Count=1406",
         "scene": "scene",
         "showlegend": true,
         "type": "scatter3d",
         "x": [
          "JESSICA",
          "ELIZABETH"
         ],
         "y": [
          2005,
          2008
         ],
         "z": [
          1406,
          1406
         ]
        },
        {
         "hoverlabel": {
          "namelength": 0
         },
         "hovertemplate": "Count=%{marker.color}<br>Name=%{x}<br>YEAR=%{y}",
         "legendgroup": "Count=1397",
         "marker": {
          "color": [
           1397
          ],
          "coloraxis": "coloraxis",
          "symbol": "x"
         },
         "mode": "markers",
         "name": "Count=1397",
         "scene": "scene",
         "showlegend": true,
         "type": "scatter3d",
         "x": [
          "KIMBERLY"
         ],
         "y": [
          2005
         ],
         "z": [
          1397
         ]
        },
        {
         "hoverlabel": {
          "namelength": 0
         },
         "hovertemplate": "Count=%{marker.color}<br>Name=%{x}<br>YEAR=%{y}",
         "legendgroup": "Count=1368",
         "marker": {
          "color": [
           1368,
           1368
          ],
          "coloraxis": "coloraxis",
          "symbol": "cross"
         },
         "mode": "markers",
         "name": "Count=1368",
         "scene": "scene",
         "showlegend": true,
         "type": "scatter3d",
         "x": [
          "ABIGAIL",
          "CHARLOTTE"
         ],
         "y": [
          2005,
          2016
         ],
         "z": [
          1368,
          1368
         ]
        },
        {
         "hoverlabel": {
          "namelength": 0
         },
         "hovertemplate": "Count=%{marker.color}<br>Name=%{x}<br>YEAR=%{y}",
         "legendgroup": "Count=1347",
         "marker": {
          "color": [
           1347
          ],
          "coloraxis": "coloraxis",
          "symbol": "circle"
         },
         "mode": "markers",
         "name": "Count=1347",
         "scene": "scene",
         "showlegend": true,
         "type": "scatter3d",
         "x": [
          "BRIANNA"
         ],
         "y": [
          2005
         ],
         "z": [
          1347
         ]
        },
        {
         "hoverlabel": {
          "namelength": 0
         },
         "hovertemplate": "Count=%{marker.color}<br>Name=%{x}<br>YEAR=%{y}",
         "legendgroup": "Count=1291",
         "marker": {
          "color": [
           1291
          ],
          "coloraxis": "coloraxis",
          "symbol": "diamond"
         },
         "mode": "markers",
         "name": "Count=1291",
         "scene": "scene",
         "showlegend": true,
         "type": "scatter3d",
         "x": [
          "JENNIFER"
         ],
         "y": [
          2005
         ],
         "z": [
          1291
         ]
        },
        {
         "hoverlabel": {
          "namelength": 0
         },
         "hovertemplate": "Count=%{marker.color}<br>Name=%{x}<br>YEAR=%{y}",
         "legendgroup": "Count=1223",
         "marker": {
          "color": [
           1223
          ],
          "coloraxis": "coloraxis",
          "symbol": "square"
         },
         "mode": "markers",
         "name": "Count=1223",
         "scene": "scene",
         "showlegend": true,
         "type": "scatter3d",
         "x": [
          "AVA"
         ],
         "y": [
          2005
         ],
         "z": [
          1223
         ]
        },
        {
         "hoverlabel": {
          "namelength": 0
         },
         "hovertemplate": "Count=%{marker.color}<br>Name=%{x}<br>YEAR=%{y}",
         "legendgroup": "Count=1217",
         "marker": {
          "color": [
           1217
          ],
          "coloraxis": "coloraxis",
          "symbol": "x"
         },
         "mode": "markers",
         "name": "Count=1217",
         "scene": "scene",
         "showlegend": true,
         "type": "scatter3d",
         "x": [
          "HANNAH"
         ],
         "y": [
          2005
         ],
         "z": [
          1217
         ]
        },
        {
         "hoverlabel": {
          "namelength": 0
         },
         "hovertemplate": "Count=%{marker.color}<br>Name=%{x}<br>YEAR=%{y}",
         "legendgroup": "Count=1208",
         "marker": {
          "color": [
           1208
          ],
          "coloraxis": "coloraxis",
          "symbol": "cross"
         },
         "mode": "markers",
         "name": "Count=1208",
         "scene": "scene",
         "showlegend": true,
         "type": "scatter3d",
         "x": [
          "SARAH"
         ],
         "y": [
          2005
         ],
         "z": [
          1208
         ]
        },
        {
         "hoverlabel": {
          "namelength": 0
         },
         "hovertemplate": "Count=%{marker.color}<br>Name=%{x}<br>YEAR=%{y}",
         "legendgroup": "Count=1201",
         "marker": {
          "color": [
           1201
          ],
          "coloraxis": "coloraxis",
          "symbol": "circle"
         },
         "mode": "markers",
         "name": "Count=1201",
         "scene": "scene",
         "showlegend": true,
         "type": "scatter3d",
         "x": [
          "ALEXIS"
         ],
         "y": [
          2005
         ],
         "z": [
          1201
         ]
        },
        {
         "hoverlabel": {
          "namelength": 0
         },
         "hovertemplate": "Count=%{marker.color}<br>Name=%{x}<br>YEAR=%{y}",
         "legendgroup": "Count=1197",
         "marker": {
          "color": [
           1197
          ],
          "coloraxis": "coloraxis",
          "symbol": "diamond"
         },
         "mode": "markers",
         "name": "Count=1197",
         "scene": "scene",
         "showlegend": true,
         "type": "scatter3d",
         "x": [
          "ANDREA"
         ],
         "y": [
          2005
         ],
         "z": [
          1197
         ]
        },
        {
         "hoverlabel": {
          "namelength": 0
         },
         "hovertemplate": "Count=%{marker.color}<br>Name=%{x}<br>YEAR=%{y}",
         "legendgroup": "Count=1175",
         "marker": {
          "color": [
           1175
          ],
          "coloraxis": "coloraxis",
          "symbol": "square"
         },
         "mode": "markers",
         "name": "Count=1175",
         "scene": "scene",
         "showlegend": true,
         "type": "scatter3d",
         "x": [
          "ANGELINA"
         ],
         "y": [
          2005
         ],
         "z": [
          1175
         ]
        },
        {
         "hoverlabel": {
          "namelength": 0
         },
         "hovertemplate": "Count=%{marker.color}<br>Name=%{x}<br>YEAR=%{y}",
         "legendgroup": "Count=1152",
         "marker": {
          "color": [
           1152,
           1152
          ],
          "coloraxis": "coloraxis",
          "symbol": "x"
         },
         "mode": "markers",
         "name": "Count=1152",
         "scene": "scene",
         "showlegend": true,
         "type": "scatter3d",
         "x": [
          "STEPHANIE",
          "SARAH"
         ],
         "y": [
          2005,
          2006
         ],
         "z": [
          1152,
          1152
         ]
        },
        {
         "hoverlabel": {
          "namelength": 0
         },
         "hovertemplate": "Count=%{marker.color}<br>Name=%{x}<br>YEAR=%{y}",
         "legendgroup": "Count=1151",
         "marker": {
          "color": [
           1151
          ],
          "coloraxis": "coloraxis",
          "symbol": "cross"
         },
         "mode": "markers",
         "name": "Count=1151",
         "scene": "scene",
         "showlegend": true,
         "type": "scatter3d",
         "x": [
          "VANESSA"
         ],
         "y": [
          2005
         ],
         "z": [
          1151
         ]
        },
        {
         "hoverlabel": {
          "namelength": 0
         },
         "hovertemplate": "Count=%{marker.color}<br>Name=%{x}<br>YEAR=%{y}",
         "legendgroup": "Count=3889",
         "marker": {
          "color": [
           3889
          ],
          "coloraxis": "coloraxis",
          "symbol": "circle"
         },
         "mode": "markers",
         "name": "Count=3889",
         "scene": "scene",
         "showlegend": true,
         "type": "scatter3d",
         "x": [
          "DANIEL"
         ],
         "y": [
          2005
         ],
         "z": [
          3889
         ]
        },
        {
         "hoverlabel": {
          "namelength": 0
         },
         "hovertemplate": "Count=%{marker.color}<br>Name=%{x}<br>YEAR=%{y}",
         "legendgroup": "Count=3714",
         "marker": {
          "color": [
           3714
          ],
          "coloraxis": "coloraxis",
          "symbol": "diamond"
         },
         "mode": "markers",
         "name": "Count=3714",
         "scene": "scene",
         "showlegend": true,
         "type": "scatter3d",
         "x": [
          "ANTHONY"
         ],
         "y": [
          2005
         ],
         "z": [
          3714
         ]
        },
        {
         "hoverlabel": {
          "namelength": 0
         },
         "hovertemplate": "Count=%{marker.color}<br>Name=%{x}<br>YEAR=%{y}",
         "legendgroup": "Count=3538",
         "marker": {
          "color": [
           3538
          ],
          "coloraxis": "coloraxis",
          "symbol": "square"
         },
         "mode": "markers",
         "name": "Count=3538",
         "scene": "scene",
         "showlegend": true,
         "type": "scatter3d",
         "x": [
          "ANGEL"
         ],
         "y": [
          2005
         ],
         "z": [
          3538
         ]
        },
        {
         "hoverlabel": {
          "namelength": 0
         },
         "hovertemplate": "Count=%{marker.color}<br>Name=%{x}<br>YEAR=%{y}",
         "legendgroup": "Count=3243",
         "marker": {
          "color": [
           3243
          ],
          "coloraxis": "coloraxis",
          "symbol": "x"
         },
         "mode": "markers",
         "name": "Count=3243",
         "scene": "scene",
         "showlegend": true,
         "type": "scatter3d",
         "x": [
          "DAVID"
         ],
         "y": [
          2005
         ],
         "z": [
          3243
         ]
        },
        {
         "hoverlabel": {
          "namelength": 0
         },
         "hovertemplate": "Count=%{marker.color}<br>Name=%{x}<br>YEAR=%{y}",
         "legendgroup": "Count=3203",
         "marker": {
          "color": [
           3203
          ],
          "coloraxis": "coloraxis",
          "symbol": "cross"
         },
         "mode": "markers",
         "name": "Count=3203",
         "scene": "scene",
         "showlegend": true,
         "type": "scatter3d",
         "x": [
          "JOSHUA"
         ],
         "y": [
          2005
         ],
         "z": [
          3203
         ]
        },
        {
         "hoverlabel": {
          "namelength": 0
         },
         "hovertemplate": "Count=%{marker.color}<br>Name=%{x}<br>YEAR=%{y}",
         "legendgroup": "Count=3187",
         "marker": {
          "color": [
           3187
          ],
          "coloraxis": "coloraxis",
          "symbol": "circle"
         },
         "mode": "markers",
         "name": "Count=3187",
         "scene": "scene",
         "showlegend": true,
         "type": "scatter3d",
         "x": [
          "JOSE"
         ],
         "y": [
          2005
         ],
         "z": [
          3187
         ]
        },
        {
         "hoverlabel": {
          "namelength": 0
         },
         "hovertemplate": "Count=%{marker.color}<br>Name=%{x}<br>YEAR=%{y}",
         "legendgroup": "Count=3136",
         "marker": {
          "color": [
           3136
          ],
          "coloraxis": "coloraxis",
          "symbol": "diamond"
         },
         "mode": "markers",
         "name": "Count=3136",
         "scene": "scene",
         "showlegend": true,
         "type": "scatter3d",
         "x": [
          "ANDREW"
         ],
         "y": [
          2005
         ],
         "z": [
          3136
         ]
        },
        {
         "hoverlabel": {
          "namelength": 0
         },
         "hovertemplate": "Count=%{marker.color}<br>Name=%{x}<br>YEAR=%{y}",
         "legendgroup": "Count=3095",
         "marker": {
          "color": [
           3095
          ],
          "coloraxis": "coloraxis",
          "symbol": "square"
         },
         "mode": "markers",
         "name": "Count=3095",
         "scene": "scene",
         "showlegend": true,
         "type": "scatter3d",
         "x": [
          "JACOB"
         ],
         "y": [
          2005
         ],
         "z": [
          3095
         ]
        },
        {
         "hoverlabel": {
          "namelength": 0
         },
         "hovertemplate": "Count=%{marker.color}<br>Name=%{x}<br>YEAR=%{y}",
         "legendgroup": "Count=2841",
         "marker": {
          "color": [
           2841
          ],
          "coloraxis": "coloraxis",
          "symbol": "x"
         },
         "mode": "markers",
         "name": "Count=2841",
         "scene": "scene",
         "showlegend": true,
         "type": "scatter3d",
         "x": [
          "MATTHEW"
         ],
         "y": [
          2005
         ],
         "z": [
          2841
         ]
        },
        {
         "hoverlabel": {
          "namelength": 0
         },
         "hovertemplate": "Count=%{marker.color}<br>Name=%{x}<br>YEAR=%{y}",
         "legendgroup": "Count=2730",
         "marker": {
          "color": [
           2730
          ],
          "coloraxis": "coloraxis",
          "symbol": "cross"
         },
         "mode": "markers",
         "name": "Count=2730",
         "scene": "scene",
         "showlegend": true,
         "type": "scatter3d",
         "x": [
          "MICHAEL"
         ],
         "y": [
          2005
         ],
         "z": [
          2730
         ]
        },
        {
         "hoverlabel": {
          "namelength": 0
         },
         "hovertemplate": "Count=%{marker.color}<br>Name=%{x}<br>YEAR=%{y}",
         "legendgroup": "Count=2631",
         "marker": {
          "color": [
           2631
          ],
          "coloraxis": "coloraxis",
          "symbol": "circle"
         },
         "mode": "markers",
         "name": "Count=2631",
         "scene": "scene",
         "showlegend": true,
         "type": "scatter3d",
         "x": [
          "JONATHAN"
         ],
         "y": [
          2005
         ],
         "z": [
          2631
         ]
        },
        {
         "hoverlabel": {
          "namelength": 0
         },
         "hovertemplate": "Count=%{marker.color}<br>Name=%{x}<br>YEAR=%{y}",
         "legendgroup": "Count=2581",
         "marker": {
          "color": [
           2581,
           2581,
           2581
          ],
          "coloraxis": "coloraxis",
          "symbol": "diamond"
         },
         "mode": "markers",
         "name": "Count=2581",
         "scene": "scene",
         "showlegend": true,
         "type": "scatter3d",
         "x": [
          "CHRISTOPHER",
          "EMMA",
          "MIA"
         ],
         "y": [
          2005,
          2016,
          2017
         ],
         "z": [
          2581,
          2581,
          2581
         ]
        },
        {
         "hoverlabel": {
          "namelength": 0
         },
         "hovertemplate": "Count=%{marker.color}<br>Name=%{x}<br>YEAR=%{y}",
         "legendgroup": "Count=2526",
         "marker": {
          "color": [
           2526
          ],
          "coloraxis": "coloraxis",
          "symbol": "square"
         },
         "mode": "markers",
         "name": "Count=2526",
         "scene": "scene",
         "showlegend": true,
         "type": "scatter3d",
         "x": [
          "JOSEPH"
         ],
         "y": [
          2005
         ],
         "z": [
          2526
         ]
        },
        {
         "hoverlabel": {
          "namelength": 0
         },
         "hovertemplate": "Count=%{marker.color}<br>Name=%{x}<br>YEAR=%{y}",
         "legendgroup": "Count=2436",
         "marker": {
          "color": [
           2436,
           2436
          ],
          "coloraxis": "coloraxis",
          "symbol": "x"
         },
         "mode": "markers",
         "name": "Count=2436",
         "scene": "scene",
         "showlegend": true,
         "type": "scatter3d",
         "x": [
          "ALEXANDER",
          "SOPHIA"
         ],
         "y": [
          2005,
          2017
         ],
         "z": [
          2436,
          2436
         ]
        },
        {
         "hoverlabel": {
          "namelength": 0
         },
         "hovertemplate": "Count=%{marker.color}<br>Name=%{x}<br>YEAR=%{y}",
         "legendgroup": "Count=2399",
         "marker": {
          "color": [
           2399
          ],
          "coloraxis": "coloraxis",
          "symbol": "cross"
         },
         "mode": "markers",
         "name": "Count=2399",
         "scene": "scene",
         "showlegend": true,
         "type": "scatter3d",
         "x": [
          "NATHAN"
         ],
         "y": [
          2005
         ],
         "z": [
          2399
         ]
        },
        {
         "hoverlabel": {
          "namelength": 0
         },
         "hovertemplate": "Count=%{marker.color}<br>Name=%{x}<br>YEAR=%{y}",
         "legendgroup": "Count=2354",
         "marker": {
          "color": [
           2354
          ],
          "coloraxis": "coloraxis",
          "symbol": "circle"
         },
         "mode": "markers",
         "name": "Count=2354",
         "scene": "scene",
         "showlegend": true,
         "type": "scatter3d",
         "x": [
          "ETHAN"
         ],
         "y": [
          2005
         ],
         "z": [
          2354
         ]
        },
        {
         "hoverlabel": {
          "namelength": 0
         },
         "hovertemplate": "Count=%{marker.color}<br>Name=%{x}<br>YEAR=%{y}",
         "legendgroup": "Count=2323",
         "marker": {
          "color": [
           2323
          ],
          "coloraxis": "coloraxis",
          "symbol": "diamond"
         },
         "mode": "markers",
         "name": "Count=2323",
         "scene": "scene",
         "showlegend": true,
         "type": "scatter3d",
         "x": [
          "RYAN"
         ],
         "y": [
          2005
         ],
         "z": [
          2323
         ]
        },
        {
         "hoverlabel": {
          "namelength": 0
         },
         "hovertemplate": "Count=%{marker.color}<br>Name=%{x}<br>YEAR=%{y}",
         "legendgroup": "Count=2279",
         "marker": {
          "color": [
           2279,
           2279
          ],
          "coloraxis": "coloraxis",
          "symbol": "square"
         },
         "mode": "markers",
         "name": "Count=2279",
         "scene": "scene",
         "showlegend": true,
         "type": "scatter3d",
         "x": [
          "DIEGO",
          "EMILY"
         ],
         "y": [
          2005,
          2013
         ],
         "z": [
          2279,
          2279
         ]
        },
        {
         "hoverlabel": {
          "namelength": 0
         },
         "hovertemplate": "Count=%{marker.color}<br>Name=%{x}<br>YEAR=%{y}",
         "legendgroup": "Count=2207",
         "marker": {
          "color": [
           2207
          ],
          "coloraxis": "coloraxis",
          "symbol": "x"
         },
         "mode": "markers",
         "name": "Count=2207",
         "scene": "scene",
         "showlegend": true,
         "type": "scatter3d",
         "x": [
          "JUAN"
         ],
         "y": [
          2005
         ],
         "z": [
          2207
         ]
        },
        {
         "hoverlabel": {
          "namelength": 0
         },
         "hovertemplate": "Count=%{marker.color}<br>Name=%{x}<br>YEAR=%{y}",
         "legendgroup": "Count=2188",
         "marker": {
          "color": [
           2188,
           2188
          ],
          "coloraxis": "coloraxis",
          "symbol": "cross"
         },
         "mode": "markers",
         "name": "Count=2188",
         "scene": "scene",
         "showlegend": true,
         "type": "scatter3d",
         "x": [
          "KEVIN",
          "CHRISTIAN"
         ],
         "y": [
          2005,
          2006
         ],
         "z": [
          2188,
          2188
         ]
        },
        {
         "hoverlabel": {
          "namelength": 0
         },
         "hovertemplate": "Count=%{marker.color}<br>Name=%{x}<br>YEAR=%{y}",
         "legendgroup": "Count=2112",
         "marker": {
          "color": [
           2112
          ],
          "coloraxis": "coloraxis",
          "symbol": "circle"
         },
         "mode": "markers",
         "name": "Count=2112",
         "scene": "scene",
         "showlegend": true,
         "type": "scatter3d",
         "x": [
          "BRANDON"
         ],
         "y": [
          2005
         ],
         "z": [
          2112
         ]
        },
        {
         "hoverlabel": {
          "namelength": 0
         },
         "hovertemplate": "Count=%{marker.color}<br>Name=%{x}<br>YEAR=%{y}",
         "legendgroup": "Count=2006",
         "marker": {
          "color": [
           2006
          ],
          "coloraxis": "coloraxis",
          "symbol": "diamond"
         },
         "mode": "markers",
         "name": "Count=2006",
         "scene": "scene",
         "showlegend": true,
         "type": "scatter3d",
         "x": [
          "CHRISTIAN"
         ],
         "y": [
          2005
         ],
         "z": [
          2006
         ]
        },
        {
         "hoverlabel": {
          "namelength": 0
         },
         "hovertemplate": "Count=%{marker.color}<br>Name=%{x}<br>YEAR=%{y}",
         "legendgroup": "Count=1987",
         "marker": {
          "color": [
           1987
          ],
          "coloraxis": "coloraxis",
          "symbol": "square"
         },
         "mode": "markers",
         "name": "Count=1987",
         "scene": "scene",
         "showlegend": true,
         "type": "scatter3d",
         "x": [
          "LUIS"
         ],
         "y": [
          2005
         ],
         "z": [
          1987
         ]
        },
        {
         "hoverlabel": {
          "namelength": 0
         },
         "hovertemplate": "Count=%{marker.color}<br>Name=%{x}<br>YEAR=%{y}",
         "legendgroup": "Count=1959",
         "marker": {
          "color": [
           1959
          ],
          "coloraxis": "coloraxis",
          "symbol": "x"
         },
         "mode": "markers",
         "name": "Count=1959",
         "scene": "scene",
         "showlegend": true,
         "type": "scatter3d",
         "x": [
          "JESUS"
         ],
         "y": [
          2005
         ],
         "z": [
          1959
         ]
        },
        {
         "hoverlabel": {
          "namelength": 0
         },
         "hovertemplate": "Count=%{marker.color}<br>Name=%{x}<br>YEAR=%{y}",
         "legendgroup": "Count=1941",
         "marker": {
          "color": [
           1941
          ],
          "coloraxis": "coloraxis",
          "symbol": "cross"
         },
         "mode": "markers",
         "name": "Count=1941",
         "scene": "scene",
         "showlegend": true,
         "type": "scatter3d",
         "x": [
          "GABRIEL"
         ],
         "y": [
          2005
         ],
         "z": [
          1941
         ]
        },
        {
         "hoverlabel": {
          "namelength": 0
         },
         "hovertemplate": "Count=%{marker.color}<br>Name=%{x}<br>YEAR=%{y}",
         "legendgroup": "Count=3085",
         "marker": {
          "color": [
           3085
          ],
          "coloraxis": "coloraxis",
          "symbol": "circle"
         },
         "mode": "markers",
         "name": "Count=3085",
         "scene": "scene",
         "showlegend": true,
         "type": "scatter3d",
         "x": [
          "EMILY"
         ],
         "y": [
          2006
         ],
         "z": [
          3085
         ]
        },
        {
         "hoverlabel": {
          "namelength": 0
         },
         "hovertemplate": "Count=%{marker.color}<br>Name=%{x}<br>YEAR=%{y}",
         "legendgroup": "Count=2771",
         "marker": {
          "color": [
           2771
          ],
          "coloraxis": "coloraxis",
          "symbol": "diamond"
         },
         "mode": "markers",
         "name": "Count=2771",
         "scene": "scene",
         "showlegend": true,
         "type": "scatter3d",
         "x": [
          "ISABELLA"
         ],
         "y": [
          2006
         ],
         "z": [
          2771
         ]
        },
        {
         "hoverlabel": {
          "namelength": 0
         },
         "hovertemplate": "Count=%{marker.color}<br>Name=%{x}<br>YEAR=%{y}",
         "legendgroup": "Count=2596",
         "marker": {
          "color": [
           2596
          ],
          "coloraxis": "coloraxis",
          "symbol": "square"
         },
         "mode": "markers",
         "name": "Count=2596",
         "scene": "scene",
         "showlegend": true,
         "type": "scatter3d",
         "x": [
          "ASHLEY"
         ],
         "y": [
          2006
         ],
         "z": [
          2596
         ]
        },
        {
         "hoverlabel": {
          "namelength": 0
         },
         "hovertemplate": "Count=%{marker.color}<br>Name=%{x}<br>YEAR=%{y}",
         "legendgroup": "Count=2425",
         "marker": {
          "color": [
           2425
          ],
          "coloraxis": "coloraxis",
          "symbol": "x"
         },
         "mode": "markers",
         "name": "Count=2425",
         "scene": "scene",
         "showlegend": true,
         "type": "scatter3d",
         "x": [
          "MIA"
         ],
         "y": [
          2006
         ],
         "z": [
          2425
         ]
        },
        {
         "hoverlabel": {
          "namelength": 0
         },
         "hovertemplate": "Count=%{marker.color}<br>Name=%{x}<br>YEAR=%{y}",
         "legendgroup": "Count=2331",
         "marker": {
          "color": [
           2331,
           2331
          ],
          "coloraxis": "coloraxis",
          "symbol": "cross"
         },
         "mode": "markers",
         "name": "Count=2331",
         "scene": "scene",
         "showlegend": true,
         "type": "scatter3d",
         "x": [
          "SAMANTHA",
          "ISABELLA"
         ],
         "y": [
          2006,
          2016
         ],
         "z": [
          2331,
          2331
         ]
        },
        {
         "hoverlabel": {
          "namelength": 0
         },
         "hovertemplate": "Count=%{marker.color}<br>Name=%{x}<br>YEAR=%{y}",
         "legendgroup": "Count=2218",
         "marker": {
          "color": [
           2218
          ],
          "coloraxis": "coloraxis",
          "symbol": "circle"
         },
         "mode": "markers",
         "name": "Count=2218",
         "scene": "scene",
         "showlegend": true,
         "type": "scatter3d",
         "x": [
          "NATALIE"
         ],
         "y": [
          2006
         ],
         "z": [
          2218
         ]
        },
        {
         "hoverlabel": {
          "namelength": 0
         },
         "hovertemplate": "Count=%{marker.color}<br>Name=%{x}<br>YEAR=%{y}",
         "legendgroup": "Count=1958",
         "marker": {
          "color": [
           1958
          ],
          "coloraxis": "coloraxis",
          "symbol": "diamond"
         },
         "mode": "markers",
         "name": "Count=1958",
         "scene": "scene",
         "showlegend": true,
         "type": "scatter3d",
         "x": [
          "SOPHIA"
         ],
         "y": [
          2006
         ],
         "z": [
          1958
         ]
        },
        {
         "hoverlabel": {
          "namelength": 0
         },
         "hovertemplate": "Count=%{marker.color}<br>Name=%{x}<br>YEAR=%{y}",
         "legendgroup": "Count=1540",
         "marker": {
          "color": [
           1540
          ],
          "coloraxis": "coloraxis",
          "symbol": "square"
         },
         "mode": "markers",
         "name": "Count=1540",
         "scene": "scene",
         "showlegend": true,
         "type": "scatter3d",
         "x": [
          "EMMA"
         ],
         "y": [
          2006
         ],
         "z": [
          1540
         ]
        },
        {
         "hoverlabel": {
          "namelength": 0
         },
         "hovertemplate": "Count=%{marker.color}<br>Name=%{x}<br>YEAR=%{y}",
         "legendgroup": "Count=1474",
         "marker": {
          "color": [
           1474
          ],
          "coloraxis": "coloraxis",
          "symbol": "x"
         },
         "mode": "markers",
         "name": "Count=1474",
         "scene": "scene",
         "showlegend": true,
         "type": "scatter3d",
         "x": [
          "ABIGAIL"
         ],
         "y": [
          2006
         ],
         "z": [
          1474
         ]
        },
        {
         "hoverlabel": {
          "namelength": 0
         },
         "hovertemplate": "Count=%{marker.color}<br>Name=%{x}<br>YEAR=%{y}",
         "legendgroup": "Count=1467",
         "marker": {
          "color": [
           1467
          ],
          "coloraxis": "coloraxis",
          "symbol": "cross"
         },
         "mode": "markers",
         "name": "Count=1467",
         "scene": "scene",
         "showlegend": true,
         "type": "scatter3d",
         "x": [
          "AVA"
         ],
         "y": [
          2006
         ],
         "z": [
          1467
         ]
        },
        {
         "hoverlabel": {
          "namelength": 0
         },
         "hovertemplate": "Count=%{marker.color}<br>Name=%{x}<br>YEAR=%{y}",
         "legendgroup": "Count=1433",
         "marker": {
          "color": [
           1433
          ],
          "coloraxis": "coloraxis",
          "symbol": "circle"
         },
         "mode": "markers",
         "name": "Count=1433",
         "scene": "scene",
         "showlegend": true,
         "type": "scatter3d",
         "x": [
          "MADISON"
         ],
         "y": [
          2006
         ],
         "z": [
          1433
         ]
        },
        {
         "hoverlabel": {
          "namelength": 0
         },
         "hovertemplate": "Count=%{marker.color}<br>Name=%{x}<br>YEAR=%{y}",
         "legendgroup": "Count=1416",
         "marker": {
          "color": [
           1416
          ],
          "coloraxis": "coloraxis",
          "symbol": "diamond"
         },
         "mode": "markers",
         "name": "Count=1416",
         "scene": "scene",
         "showlegend": true,
         "type": "scatter3d",
         "x": [
          "ELIZABETH"
         ],
         "y": [
          2006
         ],
         "z": [
          1416
         ]
        },
        {
         "hoverlabel": {
          "namelength": 0
         },
         "hovertemplate": "Count=%{marker.color}<br>Name=%{x}<br>YEAR=%{y}",
         "legendgroup": "Count=1392",
         "marker": {
          "color": [
           1392,
           1392
          ],
          "coloraxis": "coloraxis",
          "symbol": "square"
         },
         "mode": "markers",
         "name": "Count=1392",
         "scene": "scene",
         "showlegend": true,
         "type": "scatter3d",
         "x": [
          "ALYSSA",
          "BRIANNA"
         ],
         "y": [
          2006,
          2006
         ],
         "z": [
          1392,
          1392
         ]
        },
        {
         "hoverlabel": {
          "namelength": 0
         },
         "hovertemplate": "Count=%{marker.color}<br>Name=%{x}<br>YEAR=%{y}",
         "legendgroup": "Count=1390",
         "marker": {
          "color": [
           1390
          ],
          "coloraxis": "coloraxis",
          "symbol": "x"
         },
         "mode": "markers",
         "name": "Count=1390",
         "scene": "scene",
         "showlegend": true,
         "type": "scatter3d",
         "x": [
          "KIMBERLY"
         ],
         "y": [
          2006
         ],
         "z": [
          1390
         ]
        },
        {
         "hoverlabel": {
          "namelength": 0
         },
         "hovertemplate": "Count=%{marker.color}<br>Name=%{x}<br>YEAR=%{y}",
         "legendgroup": "Count=1380",
         "marker": {
          "color": [
           1380
          ],
          "coloraxis": "coloraxis",
          "symbol": "cross"
         },
         "mode": "markers",
         "name": "Count=1380",
         "scene": "scene",
         "showlegend": true,
         "type": "scatter3d",
         "x": [
          "JASMINE"
         ],
         "y": [
          2006
         ],
         "z": [
          1380
         ]
        },
        {
         "hoverlabel": {
          "namelength": 0
         },
         "hovertemplate": "Count=%{marker.color}<br>Name=%{x}<br>YEAR=%{y}",
         "legendgroup": "Count=1308",
         "marker": {
          "color": [
           1308
          ],
          "coloraxis": "coloraxis",
          "symbol": "circle"
         },
         "mode": "markers",
         "name": "Count=1308",
         "scene": "scene",
         "showlegend": true,
         "type": "scatter3d",
         "x": [
          "ANDREA"
         ],
         "y": [
          2006
         ],
         "z": [
          1308
         ]
        },
        {
         "hoverlabel": {
          "namelength": 0
         },
         "hovertemplate": "Count=%{marker.color}<br>Name=%{x}<br>YEAR=%{y}",
         "legendgroup": "Count=1257",
         "marker": {
          "color": [
           1257
          ],
          "coloraxis": "coloraxis",
          "symbol": "diamond"
         },
         "mode": "markers",
         "name": "Count=1257",
         "scene": "scene",
         "showlegend": true,
         "type": "scatter3d",
         "x": [
          "JESSICA"
         ],
         "y": [
          2006
         ],
         "z": [
          1257
         ]
        },
        {
         "hoverlabel": {
          "namelength": 0
         },
         "hovertemplate": "Count=%{marker.color}<br>Name=%{x}<br>YEAR=%{y}",
         "legendgroup": "Count=1233",
         "marker": {
          "color": [
           1233
          ],
          "coloraxis": "coloraxis",
          "symbol": "square"
         },
         "mode": "markers",
         "name": "Count=1233",
         "scene": "scene",
         "showlegend": true,
         "type": "scatter3d",
         "x": [
          "ALEXA"
         ],
         "y": [
          2006
         ],
         "z": [
          1233
         ]
        },
        {
         "hoverlabel": {
          "namelength": 0
         },
         "hovertemplate": "Count=%{marker.color}<br>Name=%{x}<br>YEAR=%{y}",
         "legendgroup": "Count=1202",
         "marker": {
          "color": [
           1202,
           1202
          ],
          "coloraxis": "coloraxis",
          "symbol": "x"
         },
         "mode": "markers",
         "name": "Count=1202",
         "scene": "scene",
         "showlegend": true,
         "type": "scatter3d",
         "x": [
          "OLIVIA",
          "ALYSSA"
         ],
         "y": [
          2006,
          2009
         ],
         "z": [
          1202,
          1202
         ]
        },
        {
         "hoverlabel": {
          "namelength": 0
         },
         "hovertemplate": "Count=%{marker.color}<br>Name=%{x}<br>YEAR=%{y}",
         "legendgroup": "Count=1198",
         "marker": {
          "color": [
           1198
          ],
          "coloraxis": "coloraxis",
          "symbol": "cross"
         },
         "mode": "markers",
         "name": "Count=1198",
         "scene": "scene",
         "showlegend": true,
         "type": "scatter3d",
         "x": [
          "HANNAH"
         ],
         "y": [
          2006
         ],
         "z": [
          1198
         ]
        },
        {
         "hoverlabel": {
          "namelength": 0
         },
         "hovertemplate": "Count=%{marker.color}<br>Name=%{x}<br>YEAR=%{y}",
         "legendgroup": "Count=1187",
         "marker": {
          "color": [
           1187
          ],
          "coloraxis": "coloraxis",
          "symbol": "circle"
         },
         "mode": "markers",
         "name": "Count=1187",
         "scene": "scene",
         "showlegend": true,
         "type": "scatter3d",
         "x": [
          "VALERIA"
         ],
         "y": [
          2006
         ],
         "z": [
          1187
         ]
        },
        {
         "hoverlabel": {
          "namelength": 0
         },
         "hovertemplate": "Count=%{marker.color}<br>Name=%{x}<br>YEAR=%{y}",
         "legendgroup": "Count=1156",
         "marker": {
          "color": [
           1156
          ],
          "coloraxis": "coloraxis",
          "symbol": "diamond"
         },
         "mode": "markers",
         "name": "Count=1156",
         "scene": "scene",
         "showlegend": true,
         "type": "scatter3d",
         "x": [
          "ANGELINA"
         ],
         "y": [
          2006
         ],
         "z": [
          1156
         ]
        },
        {
         "hoverlabel": {
          "namelength": 0
         },
         "hovertemplate": "Count=%{marker.color}<br>Name=%{x}<br>YEAR=%{y}",
         "legendgroup": "Count=1143",
         "marker": {
          "color": [
           1143
          ],
          "coloraxis": "coloraxis",
          "symbol": "square"
         },
         "mode": "markers",
         "name": "Count=1143",
         "scene": "scene",
         "showlegend": true,
         "type": "scatter3d",
         "x": [
          "JOCELYN"
         ],
         "y": [
          2006
         ],
         "z": [
          1143
         ]
        },
        {
         "hoverlabel": {
          "namelength": 0
         },
         "hovertemplate": "Count=%{marker.color}<br>Name=%{x}<br>YEAR=%{y}",
         "legendgroup": "Count=3797",
         "marker": {
          "color": [
           3797
          ],
          "coloraxis": "coloraxis",
          "symbol": "x"
         },
         "mode": "markers",
         "name": "Count=3797",
         "scene": "scene",
         "showlegend": true,
         "type": "scatter3d",
         "x": [
          "DANIEL"
         ],
         "y": [
          2006
         ],
         "z": [
          3797
         ]
        },
        {
         "hoverlabel": {
          "namelength": 0
         },
         "hovertemplate": "Count=%{marker.color}<br>Name=%{x}<br>YEAR=%{y}",
         "legendgroup": "Count=3762",
         "marker": {
          "color": [
           3762
          ],
          "coloraxis": "coloraxis",
          "symbol": "cross"
         },
         "mode": "markers",
         "name": "Count=3762",
         "scene": "scene",
         "showlegend": true,
         "type": "scatter3d",
         "x": [
          "ANTHONY"
         ],
         "y": [
          2006
         ],
         "z": [
          3762
         ]
        },
        {
         "hoverlabel": {
          "namelength": 0
         },
         "hovertemplate": "Count=%{marker.color}<br>Name=%{x}<br>YEAR=%{y}",
         "legendgroup": "Count=3706",
         "marker": {
          "color": [
           3706
          ],
          "coloraxis": "coloraxis",
          "symbol": "circle"
         },
         "mode": "markers",
         "name": "Count=3706",
         "scene": "scene",
         "showlegend": true,
         "type": "scatter3d",
         "x": [
          "ANGEL"
         ],
         "y": [
          2006
         ],
         "z": [
          3706
         ]
        },
        {
         "hoverlabel": {
          "namelength": 0
         },
         "hovertemplate": "Count=%{marker.color}<br>Name=%{x}<br>YEAR=%{y}",
         "legendgroup": "Count=3184",
         "marker": {
          "color": [
           3184
          ],
          "coloraxis": "coloraxis",
          "symbol": "diamond"
         },
         "mode": "markers",
         "name": "Count=3184",
         "scene": "scene",
         "showlegend": true,
         "type": "scatter3d",
         "x": [
          "JACOB"
         ],
         "y": [
          2006
         ],
         "z": [
          3184
         ]
        },
        {
         "hoverlabel": {
          "namelength": 0
         },
         "hovertemplate": "Count=%{marker.color}<br>Name=%{x}<br>YEAR=%{y}",
         "legendgroup": "Count=3125",
         "marker": {
          "color": [
           3125
          ],
          "coloraxis": "coloraxis",
          "symbol": "square"
         },
         "mode": "markers",
         "name": "Count=3125",
         "scene": "scene",
         "showlegend": true,
         "type": "scatter3d",
         "x": [
          "DAVID"
         ],
         "y": [
          2006
         ],
         "z": [
          3125
         ]
        },
        {
         "hoverlabel": {
          "namelength": 0
         },
         "hovertemplate": "Count=%{marker.color}<br>Name=%{x}<br>YEAR=%{y}",
         "legendgroup": "Count=3114",
         "marker": {
          "color": [
           3114
          ],
          "coloraxis": "coloraxis",
          "symbol": "x"
         },
         "mode": "markers",
         "name": "Count=3114",
         "scene": "scene",
         "showlegend": true,
         "type": "scatter3d",
         "x": [
          "ANDREW"
         ],
         "y": [
          2006
         ],
         "z": [
          3114
         ]
        },
        {
         "hoverlabel": {
          "namelength": 0
         },
         "hovertemplate": "Count=%{marker.color}<br>Name=%{x}<br>YEAR=%{y}",
         "legendgroup": "Count=3089",
         "marker": {
          "color": [
           3089
          ],
          "coloraxis": "coloraxis",
          "symbol": "cross"
         },
         "mode": "markers",
         "name": "Count=3089",
         "scene": "scene",
         "showlegend": true,
         "type": "scatter3d",
         "x": [
          "JOSE"
         ],
         "y": [
          2006
         ],
         "z": [
          3089
         ]
        },
        {
         "hoverlabel": {
          "namelength": 0
         },
         "hovertemplate": "Count=%{marker.color}<br>Name=%{x}<br>YEAR=%{y}",
         "legendgroup": "Count=3003",
         "marker": {
          "color": [
           3003
          ],
          "coloraxis": "coloraxis",
          "symbol": "circle"
         },
         "mode": "markers",
         "name": "Count=3003",
         "scene": "scene",
         "showlegend": true,
         "type": "scatter3d",
         "x": [
          "JOSHUA"
         ],
         "y": [
          2006
         ],
         "z": [
          3003
         ]
        },
        {
         "hoverlabel": {
          "namelength": 0
         },
         "hovertemplate": "Count=%{marker.color}<br>Name=%{x}<br>YEAR=%{y}",
         "legendgroup": "Count=2864",
         "marker": {
          "color": [
           2864
          ],
          "coloraxis": "coloraxis",
          "symbol": "diamond"
         },
         "mode": "markers",
         "name": "Count=2864",
         "scene": "scene",
         "showlegend": true,
         "type": "scatter3d",
         "x": [
          "CHRISTOPHER"
         ],
         "y": [
          2006
         ],
         "z": [
          2864
         ]
        },
        {
         "hoverlabel": {
          "namelength": 0
         },
         "hovertemplate": "Count=%{marker.color}<br>Name=%{x}<br>YEAR=%{y}",
         "legendgroup": "Count=2732",
         "marker": {
          "color": [
           2732
          ],
          "coloraxis": "coloraxis",
          "symbol": "square"
         },
         "mode": "markers",
         "name": "Count=2732",
         "scene": "scene",
         "showlegend": true,
         "type": "scatter3d",
         "x": [
          "MATTHEW"
         ],
         "y": [
          2006
         ],
         "z": [
          2732
         ]
        },
        {
         "hoverlabel": {
          "namelength": 0
         },
         "hovertemplate": "Count=%{marker.color}<br>Name=%{x}<br>YEAR=%{y}",
         "legendgroup": "Count=2717",
         "marker": {
          "color": [
           2717
          ],
          "coloraxis": "coloraxis",
          "symbol": "x"
         },
         "mode": "markers",
         "name": "Count=2717",
         "scene": "scene",
         "showlegend": true,
         "type": "scatter3d",
         "x": [
          "DIEGO"
         ],
         "y": [
          2006
         ],
         "z": [
          2717
         ]
        },
        {
         "hoverlabel": {
          "namelength": 0
         },
         "hovertemplate": "Count=%{marker.color}<br>Name=%{x}<br>YEAR=%{y}",
         "legendgroup": "Count=2711",
         "marker": {
          "color": [
           2711
          ],
          "coloraxis": "coloraxis",
          "symbol": "cross"
         },
         "mode": "markers",
         "name": "Count=2711",
         "scene": "scene",
         "showlegend": true,
         "type": "scatter3d",
         "x": [
          "MICHAEL"
         ],
         "y": [
          2006
         ],
         "z": [
          2711
         ]
        },
        {
         "hoverlabel": {
          "namelength": 0
         },
         "hovertemplate": "Count=%{marker.color}<br>Name=%{x}<br>YEAR=%{y}",
         "legendgroup": "Count=2617",
         "marker": {
          "color": [
           2617
          ],
          "coloraxis": "coloraxis",
          "symbol": "circle"
         },
         "mode": "markers",
         "name": "Count=2617",
         "scene": "scene",
         "showlegend": true,
         "type": "scatter3d",
         "x": [
          "JONATHAN"
         ],
         "y": [
          2006
         ],
         "z": [
          2617
         ]
        },
        {
         "hoverlabel": {
          "namelength": 0
         },
         "hovertemplate": "Count=%{marker.color}<br>Name=%{x}<br>YEAR=%{y}",
         "legendgroup": "Count=2477",
         "marker": {
          "color": [
           2477
          ],
          "coloraxis": "coloraxis",
          "symbol": "diamond"
         },
         "mode": "markers",
         "name": "Count=2477",
         "scene": "scene",
         "showlegend": true,
         "type": "scatter3d",
         "x": [
          "ALEXANDER"
         ],
         "y": [
          2006
         ],
         "z": [
          2477
         ]
        },
        {
         "hoverlabel": {
          "namelength": 0
         },
         "hovertemplate": "Count=%{marker.color}<br>Name=%{x}<br>YEAR=%{y}",
         "legendgroup": "Count=2440",
         "marker": {
          "color": [
           2440
          ],
          "coloraxis": "coloraxis",
          "symbol": "square"
         },
         "mode": "markers",
         "name": "Count=2440",
         "scene": "scene",
         "showlegend": true,
         "type": "scatter3d",
         "x": [
          "NATHAN"
         ],
         "y": [
          2006
         ],
         "z": [
          2440
         ]
        },
        {
         "hoverlabel": {
          "namelength": 0
         },
         "hovertemplate": "Count=%{marker.color}<br>Name=%{x}<br>YEAR=%{y}",
         "legendgroup": "Count=2379",
         "marker": {
          "color": [
           2379,
           2379
          ],
          "coloraxis": "coloraxis",
          "symbol": "x"
         },
         "mode": "markers",
         "name": "Count=2379",
         "scene": "scene",
         "showlegend": true,
         "type": "scatter3d",
         "x": [
          "ETHAN",
          "ETHAN"
         ],
         "y": [
          2006,
          2011
         ],
         "z": [
          2379,
          2379
         ]
        },
        {
         "hoverlabel": {
          "namelength": 0
         },
         "hovertemplate": "Count=%{marker.color}<br>Name=%{x}<br>YEAR=%{y}",
         "legendgroup": "Count=2349",
         "marker": {
          "color": [
           2349
          ],
          "coloraxis": "coloraxis",
          "symbol": "cross"
         },
         "mode": "markers",
         "name": "Count=2349",
         "scene": "scene",
         "showlegend": true,
         "type": "scatter3d",
         "x": [
          "JOSEPH"
         ],
         "y": [
          2006
         ],
         "z": [
          2349
         ]
        },
        {
         "hoverlabel": {
          "namelength": 0
         },
         "hovertemplate": "Count=%{marker.color}<br>Name=%{x}<br>YEAR=%{y}",
         "legendgroup": "Count=2104",
         "marker": {
          "color": [
           2104
          ],
          "coloraxis": "coloraxis",
          "symbol": "circle"
         },
         "mode": "markers",
         "name": "Count=2104",
         "scene": "scene",
         "showlegend": true,
         "type": "scatter3d",
         "x": [
          "ADRIAN"
         ],
         "y": [
          2006
         ],
         "z": [
          2104
         ]
        },
        {
         "hoverlabel": {
          "namelength": 0
         },
         "hovertemplate": "Count=%{marker.color}<br>Name=%{x}<br>YEAR=%{y}",
         "legendgroup": "Count=2074",
         "marker": {
          "color": [
           2074
          ],
          "coloraxis": "coloraxis",
          "symbol": "diamond"
         },
         "mode": "markers",
         "name": "Count=2074",
         "scene": "scene",
         "showlegend": true,
         "type": "scatter3d",
         "x": [
          "JUAN"
         ],
         "y": [
          2006
         ],
         "z": [
          2074
         ]
        },
        {
         "hoverlabel": {
          "namelength": 0
         },
         "hovertemplate": "Count=%{marker.color}<br>Name=%{x}<br>YEAR=%{y}",
         "legendgroup": "Count=2064",
         "marker": {
          "color": [
           2064,
           2064
          ],
          "coloraxis": "coloraxis",
          "symbol": "square"
         },
         "mode": "markers",
         "name": "Count=2064",
         "scene": "scene",
         "showlegend": true,
         "type": "scatter3d",
         "x": [
          "BRANDON",
          "SEBASTIAN"
         ],
         "y": [
          2006,
          2015
         ],
         "z": [
          2064,
          2064
         ]
        },
        {
         "hoverlabel": {
          "namelength": 0
         },
         "hovertemplate": "Count=%{marker.color}<br>Name=%{x}<br>YEAR=%{y}",
         "legendgroup": "Count=2058",
         "marker": {
          "color": [
           2058
          ],
          "coloraxis": "coloraxis",
          "symbol": "x"
         },
         "mode": "markers",
         "name": "Count=2058",
         "scene": "scene",
         "showlegend": true,
         "type": "scatter3d",
         "x": [
          "LUIS"
         ],
         "y": [
          2006
         ],
         "z": [
          2058
         ]
        },
        {
         "hoverlabel": {
          "namelength": 0
         },
         "hovertemplate": "Count=%{marker.color}<br>Name=%{x}<br>YEAR=%{y}",
         "legendgroup": "Count=2043",
         "marker": {
          "color": [
           2043,
           2043
          ],
          "coloraxis": "coloraxis",
          "symbol": "cross"
         },
         "mode": "markers",
         "name": "Count=2043",
         "scene": "scene",
         "showlegend": true,
         "type": "scatter3d",
         "x": [
          "KEVIN",
          "RYAN"
         ],
         "y": [
          2006,
          2006
         ],
         "z": [
          2043,
          2043
         ]
        },
        {
         "hoverlabel": {
          "namelength": 0
         },
         "hovertemplate": "Count=%{marker.color}<br>Name=%{x}<br>YEAR=%{y}",
         "legendgroup": "Count=1938",
         "marker": {
          "color": [
           1938
          ],
          "coloraxis": "coloraxis",
          "symbol": "circle"
         },
         "mode": "markers",
         "name": "Count=1938",
         "scene": "scene",
         "showlegend": true,
         "type": "scatter3d",
         "x": [
          "JESUS"
         ],
         "y": [
          2006
         ],
         "z": [
          1938
         ]
        },
        {
         "hoverlabel": {
          "namelength": 0
         },
         "hovertemplate": "Count=%{marker.color}<br>Name=%{x}<br>YEAR=%{y}",
         "legendgroup": "Count=2952",
         "marker": {
          "color": [
           2952
          ],
          "coloraxis": "coloraxis",
          "symbol": "diamond"
         },
         "mode": "markers",
         "name": "Count=2952",
         "scene": "scene",
         "showlegend": true,
         "type": "scatter3d",
         "x": [
          "EMILY"
         ],
         "y": [
          2007
         ],
         "z": [
          2952
         ]
        },
        {
         "hoverlabel": {
          "namelength": 0
         },
         "hovertemplate": "Count=%{marker.color}<br>Name=%{x}<br>YEAR=%{y}",
         "legendgroup": "Count=2903",
         "marker": {
          "color": [
           2903
          ],
          "coloraxis": "coloraxis",
          "symbol": "square"
         },
         "mode": "markers",
         "name": "Count=2903",
         "scene": "scene",
         "showlegend": true,
         "type": "scatter3d",
         "x": [
          "ISABELLA"
         ],
         "y": [
          2007
         ],
         "z": [
          2903
         ]
        },
        {
         "hoverlabel": {
          "namelength": 0
         },
         "hovertemplate": "Count=%{marker.color}<br>Name=%{x}<br>YEAR=%{y}",
         "legendgroup": "Count=2582",
         "marker": {
          "color": [
           2582
          ],
          "coloraxis": "coloraxis",
          "symbol": "x"
         },
         "mode": "markers",
         "name": "Count=2582",
         "scene": "scene",
         "showlegend": true,
         "type": "scatter3d",
         "x": [
          "SOPHIA"
         ],
         "y": [
          2007
         ],
         "z": [
          2582
         ]
        },
        {
         "hoverlabel": {
          "namelength": 0
         },
         "hovertemplate": "Count=%{marker.color}<br>Name=%{x}<br>YEAR=%{y}",
         "legendgroup": "Count=2507",
         "marker": {
          "color": [
           2507
          ],
          "coloraxis": "coloraxis",
          "symbol": "cross"
         },
         "mode": "markers",
         "name": "Count=2507",
         "scene": "scene",
         "showlegend": true,
         "type": "scatter3d",
         "x": [
          "ASHLEY"
         ],
         "y": [
          2007
         ],
         "z": [
          2507
         ]
        },
        {
         "hoverlabel": {
          "namelength": 0
         },
         "hovertemplate": "Count=%{marker.color}<br>Name=%{x}<br>YEAR=%{y}",
         "legendgroup": "Count=2360",
         "marker": {
          "color": [
           2360
          ],
          "coloraxis": "coloraxis",
          "symbol": "circle"
         },
         "mode": "markers",
         "name": "Count=2360",
         "scene": "scene",
         "showlegend": true,
         "type": "scatter3d",
         "x": [
          "SAMANTHA"
         ],
         "y": [
          2007
         ],
         "z": [
          2360
         ]
        },
        {
         "hoverlabel": {
          "namelength": 0
         },
         "hovertemplate": "Count=%{marker.color}<br>Name=%{x}<br>YEAR=%{y}",
         "legendgroup": "Count=2054",
         "marker": {
          "color": [
           2054,
           2054
          ],
          "coloraxis": "coloraxis",
          "symbol": "diamond"
         },
         "mode": "markers",
         "name": "Count=2054",
         "scene": "scene",
         "showlegend": true,
         "type": "scatter3d",
         "x": [
          "MIA",
          "JACOB"
         ],
         "y": [
          2007,
          2017
         ],
         "z": [
          2054,
          2054
         ]
        },
        {
         "hoverlabel": {
          "namelength": 0
         },
         "hovertemplate": "Count=%{marker.color}<br>Name=%{x}<br>YEAR=%{y}",
         "legendgroup": "Count=1907",
         "marker": {
          "color": [
           1907
          ],
          "coloraxis": "coloraxis",
          "symbol": "square"
         },
         "mode": "markers",
         "name": "Count=1907",
         "scene": "scene",
         "showlegend": true,
         "type": "scatter3d",
         "x": [
          "NATALIE"
         ],
         "y": [
          2007
         ],
         "z": [
          1907
         ]
        },
        {
         "hoverlabel": {
          "namelength": 0
         },
         "hovertemplate": "Count=%{marker.color}<br>Name=%{x}<br>YEAR=%{y}",
         "legendgroup": "Count=1620",
         "marker": {
          "color": [
           1620,
           1620,
           1620
          ],
          "coloraxis": "coloraxis",
          "symbol": "x"
         },
         "mode": "markers",
         "name": "Count=1620",
         "scene": "scene",
         "showlegend": true,
         "type": "scatter3d",
         "x": [
          "EMMA",
          "DYLAN",
          "JAMES"
         ],
         "y": [
          2007,
          2013,
          2016
         ],
         "z": [
          1620,
          1620,
          1620
         ]
        },
        {
         "hoverlabel": {
          "namelength": 0
         },
         "hovertemplate": "Count=%{marker.color}<br>Name=%{x}<br>YEAR=%{y}",
         "legendgroup": "Count=1552",
         "marker": {
          "color": [
           1552
          ],
          "coloraxis": "coloraxis",
          "symbol": "cross"
         },
         "mode": "markers",
         "name": "Count=1552",
         "scene": "scene",
         "showlegend": true,
         "type": "scatter3d",
         "x": [
          "ALYSSA"
         ],
         "y": [
          2007
         ],
         "z": [
          1552
         ]
        },
        {
         "hoverlabel": {
          "namelength": 0
         },
         "hovertemplate": "Count=%{marker.color}<br>Name=%{x}<br>YEAR=%{y}",
         "legendgroup": "Count=1512",
         "marker": {
          "color": [
           1512
          ],
          "coloraxis": "coloraxis",
          "symbol": "circle"
         },
         "mode": "markers",
         "name": "Count=1512",
         "scene": "scene",
         "showlegend": true,
         "type": "scatter3d",
         "x": [
          "JOCELYN"
         ],
         "y": [
          2007
         ],
         "z": [
          1512
         ]
        },
        {
         "hoverlabel": {
          "namelength": 0
         },
         "hovertemplate": "Count=%{marker.color}<br>Name=%{x}<br>YEAR=%{y}",
         "legendgroup": "Count=1502",
         "marker": {
          "color": [
           1502
          ],
          "coloraxis": "coloraxis",
          "symbol": "diamond"
         },
         "mode": "markers",
         "name": "Count=1502",
         "scene": "scene",
         "showlegend": true,
         "type": "scatter3d",
         "x": [
          "ELIZABETH"
         ],
         "y": [
          2007
         ],
         "z": [
          1502
         ]
        },
        {
         "hoverlabel": {
          "namelength": 0
         },
         "hovertemplate": "Count=%{marker.color}<br>Name=%{x}<br>YEAR=%{y}",
         "legendgroup": "Count=1476",
         "marker": {
          "color": [
           1476
          ],
          "coloraxis": "coloraxis",
          "symbol": "square"
         },
         "mode": "markers",
         "name": "Count=1476",
         "scene": "scene",
         "showlegend": true,
         "type": "scatter3d",
         "x": [
          "AVA"
         ],
         "y": [
          2007
         ],
         "z": [
          1476
         ]
        },
        {
         "hoverlabel": {
          "namelength": 0
         },
         "hovertemplate": "Count=%{marker.color}<br>Name=%{x}<br>YEAR=%{y}",
         "legendgroup": "Count=1432",
         "marker": {
          "color": [
           1432
          ],
          "coloraxis": "coloraxis",
          "symbol": "x"
         },
         "mode": "markers",
         "name": "Count=1432",
         "scene": "scene",
         "showlegend": true,
         "type": "scatter3d",
         "x": [
          "ABIGAIL"
         ],
         "y": [
          2007
         ],
         "z": [
          1432
         ]
        },
        {
         "hoverlabel": {
          "namelength": 0
         },
         "hovertemplate": "Count=%{marker.color}<br>Name=%{x}<br>YEAR=%{y}",
         "legendgroup": "Count=1408",
         "marker": {
          "color": [
           1408
          ],
          "coloraxis": "coloraxis",
          "symbol": "cross"
         },
         "mode": "markers",
         "name": "Count=1408",
         "scene": "scene",
         "showlegend": true,
         "type": "scatter3d",
         "x": [
          "KIMBERLY"
         ],
         "y": [
          2007
         ],
         "z": [
          1408
         ]
        },
        {
         "hoverlabel": {
          "namelength": 0
         },
         "hovertemplate": "Count=%{marker.color}<br>Name=%{x}<br>YEAR=%{y}",
         "legendgroup": "Count=1341",
         "marker": {
          "color": [
           1341
          ],
          "coloraxis": "coloraxis",
          "symbol": "circle"
         },
         "mode": "markers",
         "name": "Count=1341",
         "scene": "scene",
         "showlegend": true,
         "type": "scatter3d",
         "x": [
          "MADISON"
         ],
         "y": [
          2007
         ],
         "z": [
          1341
         ]
        },
        {
         "hoverlabel": {
          "namelength": 0
         },
         "hovertemplate": "Count=%{marker.color}<br>Name=%{x}<br>YEAR=%{y}",
         "legendgroup": "Count=1333",
         "marker": {
          "color": [
           1333
          ],
          "coloraxis": "coloraxis",
          "symbol": "diamond"
         },
         "mode": "markers",
         "name": "Count=1333",
         "scene": "scene",
         "showlegend": true,
         "type": "scatter3d",
         "x": [
          "OLIVIA"
         ],
         "y": [
          2007
         ],
         "z": [
          1333
         ]
        },
        {
         "hoverlabel": {
          "namelength": 0
         },
         "hovertemplate": "Count=%{marker.color}<br>Name=%{x}<br>YEAR=%{y}",
         "legendgroup": "Count=1328",
         "marker": {
          "color": [
           1328
          ],
          "coloraxis": "coloraxis",
          "symbol": "square"
         },
         "mode": "markers",
         "name": "Count=1328",
         "scene": "scene",
         "showlegend": true,
         "type": "scatter3d",
         "x": [
          "BRIANNA"
         ],
         "y": [
          2007
         ],
         "z": [
          1328
         ]
        },
        {
         "hoverlabel": {
          "namelength": 0
         },
         "hovertemplate": "Count=%{marker.color}<br>Name=%{x}<br>YEAR=%{y}",
         "legendgroup": "Count=1305",
         "marker": {
          "color": [
           1305
          ],
          "coloraxis": "coloraxis",
          "symbol": "x"
         },
         "mode": "markers",
         "name": "Count=1305",
         "scene": "scene",
         "showlegend": true,
         "type": "scatter3d",
         "x": [
          "SOFIA"
         ],
         "y": [
          2007
         ],
         "z": [
          1305
         ]
        },
        {
         "hoverlabel": {
          "namelength": 0
         },
         "hovertemplate": "Count=%{marker.color}<br>Name=%{x}<br>YEAR=%{y}",
         "legendgroup": "Count=1298",
         "marker": {
          "color": [
           1298
          ],
          "coloraxis": "coloraxis",
          "symbol": "cross"
         },
         "mode": "markers",
         "name": "Count=1298",
         "scene": "scene",
         "showlegend": true,
         "type": "scatter3d",
         "x": [
          "JASMINE"
         ],
         "y": [
          2007
         ],
         "z": [
          1298
         ]
        },
        {
         "hoverlabel": {
          "namelength": 0
         },
         "hovertemplate": "Count=%{marker.color}<br>Name=%{x}<br>YEAR=%{y}",
         "legendgroup": "Count=1261",
         "marker": {
          "color": [
           1261
          ],
          "coloraxis": "coloraxis",
          "symbol": "circle"
         },
         "mode": "markers",
         "name": "Count=1261",
         "scene": "scene",
         "showlegend": true,
         "type": "scatter3d",
         "x": [
          "ANDREA"
         ],
         "y": [
          2007
         ],
         "z": [
          1261
         ]
        },
        {
         "hoverlabel": {
          "namelength": 0
         },
         "hovertemplate": "Count=%{marker.color}<br>Name=%{x}<br>YEAR=%{y}",
         "legendgroup": "Count=1204",
         "marker": {
          "color": [
           1204
          ],
          "coloraxis": "coloraxis",
          "symbol": "diamond"
         },
         "mode": "markers",
         "name": "Count=1204",
         "scene": "scene",
         "showlegend": true,
         "type": "scatter3d",
         "x": [
          "VANESSA"
         ],
         "y": [
          2007
         ],
         "z": [
          1204
         ]
        },
        {
         "hoverlabel": {
          "namelength": 0
         },
         "hovertemplate": "Count=%{marker.color}<br>Name=%{x}<br>YEAR=%{y}",
         "legendgroup": "Count=1167",
         "marker": {
          "color": [
           1167
          ],
          "coloraxis": "coloraxis",
          "symbol": "square"
         },
         "mode": "markers",
         "name": "Count=1167",
         "scene": "scene",
         "showlegend": true,
         "type": "scatter3d",
         "x": [
          "HANNAH"
         ],
         "y": [
          2007
         ],
         "z": [
          1167
         ]
        },
        {
         "hoverlabel": {
          "namelength": 0
         },
         "hovertemplate": "Count=%{marker.color}<br>Name=%{x}<br>YEAR=%{y}",
         "legendgroup": "Count=1164",
         "marker": {
          "color": [
           1164
          ],
          "coloraxis": "coloraxis",
          "symbol": "x"
         },
         "mode": "markers",
         "name": "Count=1164",
         "scene": "scene",
         "showlegend": true,
         "type": "scatter3d",
         "x": [
          "CHLOE"
         ],
         "y": [
          2007
         ],
         "z": [
          1164
         ]
        },
        {
         "hoverlabel": {
          "namelength": 0
         },
         "hovertemplate": "Count=%{marker.color}<br>Name=%{x}<br>YEAR=%{y}",
         "legendgroup": "Count=1149",
         "marker": {
          "color": [
           1149
          ],
          "coloraxis": "coloraxis",
          "symbol": "cross"
         },
         "mode": "markers",
         "name": "Count=1149",
         "scene": "scene",
         "showlegend": true,
         "type": "scatter3d",
         "x": [
          "ALEXA"
         ],
         "y": [
          2007
         ],
         "z": [
          1149
         ]
        },
        {
         "hoverlabel": {
          "namelength": 0
         },
         "hovertemplate": "Count=%{marker.color}<br>Name=%{x}<br>YEAR=%{y}",
         "legendgroup": "Count=1132",
         "marker": {
          "color": [
           1132
          ],
          "coloraxis": "coloraxis",
          "symbol": "circle"
         },
         "mode": "markers",
         "name": "Count=1132",
         "scene": "scene",
         "showlegend": true,
         "type": "scatter3d",
         "x": [
          "VICTORIA"
         ],
         "y": [
          2007
         ],
         "z": [
          1132
         ]
        },
        {
         "hoverlabel": {
          "namelength": 0
         },
         "hovertemplate": "Count=%{marker.color}<br>Name=%{x}<br>YEAR=%{y}",
         "legendgroup": "Count=3838",
         "marker": {
          "color": [
           3838
          ],
          "coloraxis": "coloraxis",
          "symbol": "diamond"
         },
         "mode": "markers",
         "name": "Count=3838",
         "scene": "scene",
         "showlegend": true,
         "type": "scatter3d",
         "x": [
          "DANIEL"
         ],
         "y": [
          2007
         ],
         "z": [
          3838
         ]
        },
        {
         "hoverlabel": {
          "namelength": 0
         },
         "hovertemplate": "Count=%{marker.color}<br>Name=%{x}<br>YEAR=%{y}",
         "legendgroup": "Count=3766",
         "marker": {
          "color": [
           3766
          ],
          "coloraxis": "coloraxis",
          "symbol": "square"
         },
         "mode": "markers",
         "name": "Count=3766",
         "scene": "scene",
         "showlegend": true,
         "type": "scatter3d",
         "x": [
          "ANTHONY"
         ],
         "y": [
          2007
         ],
         "z": [
          3766
         ]
        },
        {
         "hoverlabel": {
          "namelength": 0
         },
         "hovertemplate": "Count=%{marker.color}<br>Name=%{x}<br>YEAR=%{y}",
         "legendgroup": "Count=3520",
         "marker": {
          "color": [
           3520
          ],
          "coloraxis": "coloraxis",
          "symbol": "x"
         },
         "mode": "markers",
         "name": "Count=3520",
         "scene": "scene",
         "showlegend": true,
         "type": "scatter3d",
         "x": [
          "ANGEL"
         ],
         "y": [
          2007
         ],
         "z": [
          3520
         ]
        },
        {
         "hoverlabel": {
          "namelength": 0
         },
         "hovertemplate": "Count=%{marker.color}<br>Name=%{x}<br>YEAR=%{y}",
         "legendgroup": "Count=3101",
         "marker": {
          "color": [
           3101
          ],
          "coloraxis": "coloraxis",
          "symbol": "cross"
         },
         "mode": "markers",
         "name": "Count=3101",
         "scene": "scene",
         "showlegend": true,
         "type": "scatter3d",
         "x": [
          "JACOB"
         ],
         "y": [
          2007
         ],
         "z": [
          3101
         ]
        },
        {
         "hoverlabel": {
          "namelength": 0
         },
         "hovertemplate": "Count=%{marker.color}<br>Name=%{x}<br>YEAR=%{y}",
         "legendgroup": "Count=3100",
         "marker": {
          "color": [
           3100
          ],
          "coloraxis": "coloraxis",
          "symbol": "circle"
         },
         "mode": "markers",
         "name": "Count=3100",
         "scene": "scene",
         "showlegend": true,
         "type": "scatter3d",
         "x": [
          "DAVID"
         ],
         "y": [
          2007
         ],
         "z": [
          3100
         ]
        },
        {
         "hoverlabel": {
          "namelength": 0
         },
         "hovertemplate": "Count=%{marker.color}<br>Name=%{x}<br>YEAR=%{y}",
         "legendgroup": "Count=3013",
         "marker": {
          "color": [
           3013
          ],
          "coloraxis": "coloraxis",
          "symbol": "diamond"
         },
         "mode": "markers",
         "name": "Count=3013",
         "scene": "scene",
         "showlegend": true,
         "type": "scatter3d",
         "x": [
          "ANDREW"
         ],
         "y": [
          2007
         ],
         "z": [
          3013
         ]
        },
        {
         "hoverlabel": {
          "namelength": 0
         },
         "hovertemplate": "Count=%{marker.color}<br>Name=%{x}<br>YEAR=%{y}",
         "legendgroup": "Count=2972",
         "marker": {
          "color": [
           2972
          ],
          "coloraxis": "coloraxis",
          "symbol": "square"
         },
         "mode": "markers",
         "name": "Count=2972",
         "scene": "scene",
         "showlegend": true,
         "type": "scatter3d",
         "x": [
          "CHRISTOPHER"
         ],
         "y": [
          2007
         ],
         "z": [
          2972
         ]
        },
        {
         "hoverlabel": {
          "namelength": 0
         },
         "hovertemplate": "Count=%{marker.color}<br>Name=%{x}<br>YEAR=%{y}",
         "legendgroup": "Count=2867",
         "marker": {
          "color": [
           2867
          ],
          "coloraxis": "coloraxis",
          "symbol": "x"
         },
         "mode": "markers",
         "name": "Count=2867",
         "scene": "scene",
         "showlegend": true,
         "type": "scatter3d",
         "x": [
          "JOSHUA"
         ],
         "y": [
          2007
         ],
         "z": [
          2867
         ]
        },
        {
         "hoverlabel": {
          "namelength": 0
         },
         "hovertemplate": "Count=%{marker.color}<br>Name=%{x}<br>YEAR=%{y}",
         "legendgroup": "Count=2832",
         "marker": {
          "color": [
           2832
          ],
          "coloraxis": "coloraxis",
          "symbol": "cross"
         },
         "mode": "markers",
         "name": "Count=2832",
         "scene": "scene",
         "showlegend": true,
         "type": "scatter3d",
         "x": [
          "JOSE"
         ],
         "y": [
          2007
         ],
         "z": [
          2832
         ]
        },
        {
         "hoverlabel": {
          "namelength": 0
         },
         "hovertemplate": "Count=%{marker.color}<br>Name=%{x}<br>YEAR=%{y}",
         "legendgroup": "Count=2590",
         "marker": {
          "color": [
           2590
          ],
          "coloraxis": "coloraxis",
          "symbol": "circle"
         },
         "mode": "markers",
         "name": "Count=2590",
         "scene": "scene",
         "showlegend": true,
         "type": "scatter3d",
         "x": [
          "ALEXANDER"
         ],
         "y": [
          2007
         ],
         "z": [
          2590
         ]
        },
        {
         "hoverlabel": {
          "namelength": 0
         },
         "hovertemplate": "Count=%{marker.color}<br>Name=%{x}<br>YEAR=%{y}",
         "legendgroup": "Count=2588",
         "marker": {
          "color": [
           2588,
           2588
          ],
          "coloraxis": "coloraxis",
          "symbol": "diamond"
         },
         "mode": "markers",
         "name": "Count=2588",
         "scene": "scene",
         "showlegend": true,
         "type": "scatter3d",
         "x": [
          "DIEGO",
          "DANIEL"
         ],
         "y": [
          2007,
          2013
         ],
         "z": [
          2588,
          2588
         ]
        },
        {
         "hoverlabel": {
          "namelength": 0
         },
         "hovertemplate": "Count=%{marker.color}<br>Name=%{x}<br>YEAR=%{y}",
         "legendgroup": "Count=2573",
         "marker": {
          "color": [
           2573
          ],
          "coloraxis": "coloraxis",
          "symbol": "square"
         },
         "mode": "markers",
         "name": "Count=2573",
         "scene": "scene",
         "showlegend": true,
         "type": "scatter3d",
         "x": [
          "MATTHEW"
         ],
         "y": [
          2007
         ],
         "z": [
          2573
         ]
        },
        {
         "hoverlabel": {
          "namelength": 0
         },
         "hovertemplate": "Count=%{marker.color}<br>Name=%{x}<br>YEAR=%{y}",
         "legendgroup": "Count=2544",
         "marker": {
          "color": [
           2544
          ],
          "coloraxis": "coloraxis",
          "symbol": "x"
         },
         "mode": "markers",
         "name": "Count=2544",
         "scene": "scene",
         "showlegend": true,
         "type": "scatter3d",
         "x": [
          "MICHAEL"
         ],
         "y": [
          2007
         ],
         "z": [
          2544
         ]
        },
        {
         "hoverlabel": {
          "namelength": 0
         },
         "hovertemplate": "Count=%{marker.color}<br>Name=%{x}<br>YEAR=%{y}",
         "legendgroup": "Count=2503",
         "marker": {
          "color": [
           2503
          ],
          "coloraxis": "coloraxis",
          "symbol": "cross"
         },
         "mode": "markers",
         "name": "Count=2503",
         "scene": "scene",
         "showlegend": true,
         "type": "scatter3d",
         "x": [
          "ETHAN"
         ],
         "y": [
          2007
         ],
         "z": [
          2503
         ]
        },
        {
         "hoverlabel": {
          "namelength": 0
         },
         "hovertemplate": "Count=%{marker.color}<br>Name=%{x}<br>YEAR=%{y}",
         "legendgroup": "Count=2489",
         "marker": {
          "color": [
           2489
          ],
          "coloraxis": "coloraxis",
          "symbol": "circle"
         },
         "mode": "markers",
         "name": "Count=2489",
         "scene": "scene",
         "showlegend": true,
         "type": "scatter3d",
         "x": [
          "JONATHAN"
         ],
         "y": [
          2007
         ],
         "z": [
          2489
         ]
        },
        {
         "hoverlabel": {
          "namelength": 0
         },
         "hovertemplate": "Count=%{marker.color}<br>Name=%{x}<br>YEAR=%{y}",
         "legendgroup": "Count=2447",
         "marker": {
          "color": [
           2447
          ],
          "coloraxis": "coloraxis",
          "symbol": "diamond"
         },
         "mode": "markers",
         "name": "Count=2447",
         "scene": "scene",
         "showlegend": true,
         "type": "scatter3d",
         "x": [
          "NATHAN"
         ],
         "y": [
          2007
         ],
         "z": [
          2447
         ]
        },
        {
         "hoverlabel": {
          "namelength": 0
         },
         "hovertemplate": "Count=%{marker.color}<br>Name=%{x}<br>YEAR=%{y}",
         "legendgroup": "Count=2283",
         "marker": {
          "color": [
           2283
          ],
          "coloraxis": "coloraxis",
          "symbol": "square"
         },
         "mode": "markers",
         "name": "Count=2283",
         "scene": "scene",
         "showlegend": true,
         "type": "scatter3d",
         "x": [
          "JOSEPH"
         ],
         "y": [
          2007
         ],
         "z": [
          2283
         ]
        },
        {
         "hoverlabel": {
          "namelength": 0
         },
         "hovertemplate": "Count=%{marker.color}<br>Name=%{x}<br>YEAR=%{y}",
         "legendgroup": "Count=2144",
         "marker": {
          "color": [
           2144
          ],
          "coloraxis": "coloraxis",
          "symbol": "x"
         },
         "mode": "markers",
         "name": "Count=2144",
         "scene": "scene",
         "showlegend": true,
         "type": "scatter3d",
         "x": [
          "ADRIAN"
         ],
         "y": [
          2007
         ],
         "z": [
          2144
         ]
        },
        {
         "hoverlabel": {
          "namelength": 0
         },
         "hovertemplate": "Count=%{marker.color}<br>Name=%{x}<br>YEAR=%{y}",
         "legendgroup": "Count=2139",
         "marker": {
          "color": [
           2139
          ],
          "coloraxis": "coloraxis",
          "symbol": "cross"
         },
         "mode": "markers",
         "name": "Count=2139",
         "scene": "scene",
         "showlegend": true,
         "type": "scatter3d",
         "x": [
          "BRANDON"
         ],
         "y": [
          2007
         ],
         "z": [
          2139
         ]
        },
        {
         "hoverlabel": {
          "namelength": 0
         },
         "hovertemplate": "Count=%{marker.color}<br>Name=%{x}<br>YEAR=%{y}",
         "legendgroup": "Count=2080",
         "marker": {
          "color": [
           2080,
           2080
          ],
          "coloraxis": "coloraxis",
          "symbol": "circle"
         },
         "mode": "markers",
         "name": "Count=2080",
         "scene": "scene",
         "showlegend": true,
         "type": "scatter3d",
         "x": [
          "KEVIN",
          "MICHAEL"
         ],
         "y": [
          2007,
          2010
         ],
         "z": [
          2080,
          2080
         ]
        },
        {
         "hoverlabel": {
          "namelength": 0
         },
         "hovertemplate": "Count=%{marker.color}<br>Name=%{x}<br>YEAR=%{y}",
         "legendgroup": "Count=2056",
         "marker": {
          "color": [
           2056
          ],
          "coloraxis": "coloraxis",
          "symbol": "diamond"
         },
         "mode": "markers",
         "name": "Count=2056",
         "scene": "scene",
         "showlegend": true,
         "type": "scatter3d",
         "x": [
          "CHRISTIAN"
         ],
         "y": [
          2007
         ],
         "z": [
          2056
         ]
        },
        {
         "hoverlabel": {
          "namelength": 0
         },
         "hovertemplate": "Count=%{marker.color}<br>Name=%{x}<br>YEAR=%{y}",
         "legendgroup": "Count=1998",
         "marker": {
          "color": [
           1998,
           1998,
           1998
          ],
          "coloraxis": "coloraxis",
          "symbol": "square"
         },
         "mode": "markers",
         "name": "Count=1998",
         "scene": "scene",
         "showlegend": true,
         "type": "scatter3d",
         "x": [
          "LUIS",
          "SOFIA",
          "ALEXANDER"
         ],
         "y": [
          2007,
          2015,
          2017
         ],
         "z": [
          1998,
          1998,
          1998
         ]
        },
        {
         "hoverlabel": {
          "namelength": 0
         },
         "hovertemplate": "Count=%{marker.color}<br>Name=%{x}<br>YEAR=%{y}",
         "legendgroup": "Count=1968",
         "marker": {
          "color": [
           1968
          ],
          "coloraxis": "coloraxis",
          "symbol": "x"
         },
         "mode": "markers",
         "name": "Count=1968",
         "scene": "scene",
         "showlegend": true,
         "type": "scatter3d",
         "x": [
          "ISAAC"
         ],
         "y": [
          2007
         ],
         "z": [
          1968
         ]
        },
        {
         "hoverlabel": {
          "namelength": 0
         },
         "hovertemplate": "Count=%{marker.color}<br>Name=%{x}<br>YEAR=%{y}",
         "legendgroup": "Count=1966",
         "marker": {
          "color": [
           1966
          ],
          "coloraxis": "coloraxis",
          "symbol": "cross"
         },
         "mode": "markers",
         "name": "Count=1966",
         "scene": "scene",
         "showlegend": true,
         "type": "scatter3d",
         "x": [
          "RYAN"
         ],
         "y": [
          2007
         ],
         "z": [
          1966
         ]
        },
        {
         "hoverlabel": {
          "namelength": 0
         },
         "hovertemplate": "Count=%{marker.color}<br>Name=%{x}<br>YEAR=%{y}",
         "legendgroup": "Count=1933",
         "marker": {
          "color": [
           1933
          ],
          "coloraxis": "coloraxis",
          "symbol": "circle"
         },
         "mode": "markers",
         "name": "Count=1933",
         "scene": "scene",
         "showlegend": true,
         "type": "scatter3d",
         "x": [
          "NOAH"
         ],
         "y": [
          2007
         ],
         "z": [
          1933
         ]
        },
        {
         "hoverlabel": {
          "namelength": 0
         },
         "hovertemplate": "Count=%{marker.color}<br>Name=%{x}<br>YEAR=%{y}",
         "legendgroup": "Count=2767",
         "marker": {
          "color": [
           2767
          ],
          "coloraxis": "coloraxis",
          "symbol": "diamond"
         },
         "mode": "markers",
         "name": "Count=2767",
         "scene": "scene",
         "showlegend": true,
         "type": "scatter3d",
         "x": [
          "EMILY"
         ],
         "y": [
          2008
         ],
         "z": [
          2767
         ]
        },
        {
         "hoverlabel": {
          "namelength": 0
         },
         "hovertemplate": "Count=%{marker.color}<br>Name=%{x}<br>YEAR=%{y}",
         "legendgroup": "Count=2764",
         "marker": {
          "color": [
           2764
          ],
          "coloraxis": "coloraxis",
          "symbol": "square"
         },
         "mode": "markers",
         "name": "Count=2764",
         "scene": "scene",
         "showlegend": true,
         "type": "scatter3d",
         "x": [
          "ISABELLA"
         ],
         "y": [
          2008
         ],
         "z": [
          2764
         ]
        },
        {
         "hoverlabel": {
          "namelength": 0
         },
         "hovertemplate": "Count=%{marker.color}<br>Name=%{x}<br>YEAR=%{y}",
         "legendgroup": "Count=2561",
         "marker": {
          "color": [
           2561
          ],
          "coloraxis": "coloraxis",
          "symbol": "x"
         },
         "mode": "markers",
         "name": "Count=2561",
         "scene": "scene",
         "showlegend": true,
         "type": "scatter3d",
         "x": [
          "SOPHIA"
         ],
         "y": [
          2008
         ],
         "z": [
          2561
         ]
        },
        {
         "hoverlabel": {
          "namelength": 0
         },
         "hovertemplate": "Count=%{marker.color}<br>Name=%{x}<br>YEAR=%{y}",
         "legendgroup": "Count=2249",
         "marker": {
          "color": [
           2249
          ],
          "coloraxis": "coloraxis",
          "symbol": "cross"
         },
         "mode": "markers",
         "name": "Count=2249",
         "scene": "scene",
         "showlegend": true,
         "type": "scatter3d",
         "x": [
          "SAMANTHA"
         ],
         "y": [
          2008
         ],
         "z": [
          2249
         ]
        },
        {
         "hoverlabel": {
          "namelength": 0
         },
         "hovertemplate": "Count=%{marker.color}<br>Name=%{x}<br>YEAR=%{y}",
         "legendgroup": "Count=1870",
         "marker": {
          "color": [
           1870
          ],
          "coloraxis": "coloraxis",
          "symbol": "circle"
         },
         "mode": "markers",
         "name": "Count=1870",
         "scene": "scene",
         "showlegend": true,
         "type": "scatter3d",
         "x": [
          "NATALIE"
         ],
         "y": [
          2008
         ],
         "z": [
          1870
         ]
        },
        {
         "hoverlabel": {
          "namelength": 0
         },
         "hovertemplate": "Count=%{marker.color}<br>Name=%{x}<br>YEAR=%{y}",
         "legendgroup": "Count=1834",
         "marker": {
          "color": [
           1834
          ],
          "coloraxis": "coloraxis",
          "symbol": "diamond"
         },
         "mode": "markers",
         "name": "Count=1834",
         "scene": "scene",
         "showlegend": true,
         "type": "scatter3d",
         "x": [
          "MIA"
         ],
         "y": [
          2008
         ],
         "z": [
          1834
         ]
        },
        {
         "hoverlabel": {
          "namelength": 0
         },
         "hovertemplate": "Count=%{marker.color}<br>Name=%{x}<br>YEAR=%{y}",
         "legendgroup": "Count=1734",
         "marker": {
          "color": [
           1734
          ],
          "coloraxis": "coloraxis",
          "symbol": "square"
         },
         "mode": "markers",
         "name": "Count=1734",
         "scene": "scene",
         "showlegend": true,
         "type": "scatter3d",
         "x": [
          "EMMA"
         ],
         "y": [
          2008
         ],
         "z": [
          1734
         ]
        },
        {
         "hoverlabel": {
          "namelength": 0
         },
         "hovertemplate": "Count=%{marker.color}<br>Name=%{x}<br>YEAR=%{y}",
         "legendgroup": "Count=1564",
         "marker": {
          "color": [
           1564
          ],
          "coloraxis": "coloraxis",
          "symbol": "x"
         },
         "mode": "markers",
         "name": "Count=1564",
         "scene": "scene",
         "showlegend": true,
         "type": "scatter3d",
         "x": [
          "ABIGAIL"
         ],
         "y": [
          2008
         ],
         "z": [
          1564
         ]
        },
        {
         "hoverlabel": {
          "namelength": 0
         },
         "hovertemplate": "Count=%{marker.color}<br>Name=%{x}<br>YEAR=%{y}",
         "legendgroup": "Count=1462",
         "marker": {
          "color": [
           1462
          ],
          "coloraxis": "coloraxis",
          "symbol": "cross"
         },
         "mode": "markers",
         "name": "Count=1462",
         "scene": "scene",
         "showlegend": true,
         "type": "scatter3d",
         "x": [
          "AVA"
         ],
         "y": [
          2008
         ],
         "z": [
          1462
         ]
        },
        {
         "hoverlabel": {
          "namelength": 0
         },
         "hovertemplate": "Count=%{marker.color}<br>Name=%{x}<br>YEAR=%{y}",
         "legendgroup": "Count=1415",
         "marker": {
          "color": [
           1415
          ],
          "coloraxis": "coloraxis",
          "symbol": "circle"
         },
         "mode": "markers",
         "name": "Count=1415",
         "scene": "scene",
         "showlegend": true,
         "type": "scatter3d",
         "x": [
          "OLIVIA"
         ],
         "y": [
          2008
         ],
         "z": [
          1415
         ]
        },
        {
         "hoverlabel": {
          "namelength": 0
         },
         "hovertemplate": "Count=%{marker.color}<br>Name=%{x}<br>YEAR=%{y}",
         "legendgroup": "Count=1404",
         "marker": {
          "color": [
           1404,
           1404
          ],
          "coloraxis": "coloraxis",
          "symbol": "diamond"
         },
         "mode": "markers",
         "name": "Count=1404",
         "scene": "scene",
         "showlegend": true,
         "type": "scatter3d",
         "x": [
          "MADISON",
          "AVA"
         ],
         "y": [
          2008,
          2012
         ],
         "z": [
          1404,
          1404
         ]
        },
        {
         "hoverlabel": {
          "namelength": 0
         },
         "hovertemplate": "Count=%{marker.color}<br>Name=%{x}<br>YEAR=%{y}",
         "legendgroup": "Count=1360",
         "marker": {
          "color": [
           1360
          ],
          "coloraxis": "coloraxis",
          "symbol": "square"
         },
         "mode": "markers",
         "name": "Count=1360",
         "scene": "scene",
         "showlegend": true,
         "type": "scatter3d",
         "x": [
          "VALERIA"
         ],
         "y": [
          2008
         ],
         "z": [
          1360
         ]
        },
        {
         "hoverlabel": {
          "namelength": 0
         },
         "hovertemplate": "Count=%{marker.color}<br>Name=%{x}<br>YEAR=%{y}",
         "legendgroup": "Count=1353",
         "marker": {
          "color": [
           1353
          ],
          "coloraxis": "coloraxis",
          "symbol": "x"
         },
         "mode": "markers",
         "name": "Count=1353",
         "scene": "scene",
         "showlegend": true,
         "type": "scatter3d",
         "x": [
          "ALYSSA"
         ],
         "y": [
          2008
         ],
         "z": [
          1353
         ]
        },
        {
         "hoverlabel": {
          "namelength": 0
         },
         "hovertemplate": "Count=%{marker.color}<br>Name=%{x}<br>YEAR=%{y}",
         "legendgroup": "Count=1346",
         "marker": {
          "color": [
           1346
          ],
          "coloraxis": "coloraxis",
          "symbol": "cross"
         },
         "mode": "markers",
         "name": "Count=1346",
         "scene": "scene",
         "showlegend": true,
         "type": "scatter3d",
         "x": [
          "CHLOE"
         ],
         "y": [
          2008
         ],
         "z": [
          1346
         ]
        },
        {
         "hoverlabel": {
          "namelength": 0
         },
         "hovertemplate": "Count=%{marker.color}<br>Name=%{x}<br>YEAR=%{y}",
         "legendgroup": "Count=1315",
         "marker": {
          "color": [
           1315
          ],
          "coloraxis": "coloraxis",
          "symbol": "circle"
         },
         "mode": "markers",
         "name": "Count=1315",
         "scene": "scene",
         "showlegend": true,
         "type": "scatter3d",
         "x": [
          "KIMBERLY"
         ],
         "y": [
          2008
         ],
         "z": [
          1315
         ]
        },
        {
         "hoverlabel": {
          "namelength": 0
         },
         "hovertemplate": "Count=%{marker.color}<br>Name=%{x}<br>YEAR=%{y}",
         "legendgroup": "Count=1310",
         "marker": {
          "color": [
           1310
          ],
          "coloraxis": "coloraxis",
          "symbol": "diamond"
         },
         "mode": "markers",
         "name": "Count=1310",
         "scene": "scene",
         "showlegend": true,
         "type": "scatter3d",
         "x": [
          "SOFIA"
         ],
         "y": [
          2008
         ],
         "z": [
          1310
         ]
        },
        {
         "hoverlabel": {
          "namelength": 0
         },
         "hovertemplate": "Count=%{marker.color}<br>Name=%{x}<br>YEAR=%{y}",
         "legendgroup": "Count=1230",
         "marker": {
          "color": [
           1230
          ],
          "coloraxis": "coloraxis",
          "symbol": "square"
         },
         "mode": "markers",
         "name": "Count=1230",
         "scene": "scene",
         "showlegend": true,
         "type": "scatter3d",
         "x": [
          "BRIANNA"
         ],
         "y": [
          2008
         ],
         "z": [
          1230
         ]
        },
        {
         "hoverlabel": {
          "namelength": 0
         },
         "hovertemplate": "Count=%{marker.color}<br>Name=%{x}<br>YEAR=%{y}",
         "legendgroup": "Count=1139",
         "marker": {
          "color": [
           1139
          ],
          "coloraxis": "coloraxis",
          "symbol": "x"
         },
         "mode": "markers",
         "name": "Count=1139",
         "scene": "scene",
         "showlegend": true,
         "type": "scatter3d",
         "x": [
          "VICTORIA"
         ],
         "y": [
          2008
         ],
         "z": [
          1139
         ]
        },
        {
         "hoverlabel": {
          "namelength": 0
         },
         "hovertemplate": "Count=%{marker.color}<br>Name=%{x}<br>YEAR=%{y}",
         "legendgroup": "Count=1101",
         "marker": {
          "color": [
           1101
          ],
          "coloraxis": "coloraxis",
          "symbol": "cross"
         },
         "mode": "markers",
         "name": "Count=1101",
         "scene": "scene",
         "showlegend": true,
         "type": "scatter3d",
         "x": [
          "ANDREA"
         ],
         "y": [
          2008
         ],
         "z": [
          1101
         ]
        },
        {
         "hoverlabel": {
          "namelength": 0
         },
         "hovertemplate": "Count=%{marker.color}<br>Name=%{x}<br>YEAR=%{y}",
         "legendgroup": "Count=1088",
         "marker": {
          "color": [
           1088
          ],
          "coloraxis": "coloraxis",
          "symbol": "circle"
         },
         "mode": "markers",
         "name": "Count=1088",
         "scene": "scene",
         "showlegend": true,
         "type": "scatter3d",
         "x": [
          "CAMILA"
         ],
         "y": [
          2008
         ],
         "z": [
          1088
         ]
        },
        {
         "hoverlabel": {
          "namelength": 0
         },
         "hovertemplate": "Count=%{marker.color}<br>Name=%{x}<br>YEAR=%{y}",
         "legendgroup": "Count=1084",
         "marker": {
          "color": [
           1084
          ],
          "coloraxis": "coloraxis",
          "symbol": "diamond"
         },
         "mode": "markers",
         "name": "Count=1084",
         "scene": "scene",
         "showlegend": true,
         "type": "scatter3d",
         "x": [
          "JOCELYN"
         ],
         "y": [
          2008
         ],
         "z": [
          1084
         ]
        },
        {
         "hoverlabel": {
          "namelength": 0
         },
         "hovertemplate": "Count=%{marker.color}<br>Name=%{x}<br>YEAR=%{y}",
         "legendgroup": "Count=1039",
         "marker": {
          "color": [
           1039
          ],
          "coloraxis": "coloraxis",
          "symbol": "square"
         },
         "mode": "markers",
         "name": "Count=1039",
         "scene": "scene",
         "showlegend": true,
         "type": "scatter3d",
         "x": [
          "JASMINE"
         ],
         "y": [
          2008
         ],
         "z": [
          1039
         ]
        },
        {
         "hoverlabel": {
          "namelength": 0
         },
         "hovertemplate": "Count=%{marker.color}<br>Name=%{x}<br>YEAR=%{y}",
         "legendgroup": "Count=1027",
         "marker": {
          "color": [
           1027
          ],
          "coloraxis": "coloraxis",
          "symbol": "x"
         },
         "mode": "markers",
         "name": "Count=1027",
         "scene": "scene",
         "showlegend": true,
         "type": "scatter3d",
         "x": [
          "VANESSA"
         ],
         "y": [
          2008
         ],
         "z": [
          1027
         ]
        },
        {
         "hoverlabel": {
          "namelength": 0
         },
         "hovertemplate": "Count=%{marker.color}<br>Name=%{x}<br>YEAR=%{y}",
         "legendgroup": "Count=3722",
         "marker": {
          "color": [
           3722
          ],
          "coloraxis": "coloraxis",
          "symbol": "cross"
         },
         "mode": "markers",
         "name": "Count=3722",
         "scene": "scene",
         "showlegend": true,
         "type": "scatter3d",
         "x": [
          "DANIEL"
         ],
         "y": [
          2008
         ],
         "z": [
          3722
         ]
        },
        {
         "hoverlabel": {
          "namelength": 0
         },
         "hovertemplate": "Count=%{marker.color}<br>Name=%{x}<br>YEAR=%{y}",
         "legendgroup": "Count=3623",
         "marker": {
          "color": [
           3623
          ],
          "coloraxis": "coloraxis",
          "symbol": "circle"
         },
         "mode": "markers",
         "name": "Count=3623",
         "scene": "scene",
         "showlegend": true,
         "type": "scatter3d",
         "x": [
          "ANTHONY"
         ],
         "y": [
          2008
         ],
         "z": [
          3623
         ]
        },
        {
         "hoverlabel": {
          "namelength": 0
         },
         "hovertemplate": "Count=%{marker.color}<br>Name=%{x}<br>YEAR=%{y}",
         "legendgroup": "Count=3189",
         "marker": {
          "color": [
           3189
          ],
          "coloraxis": "coloraxis",
          "symbol": "diamond"
         },
         "mode": "markers",
         "name": "Count=3189",
         "scene": "scene",
         "showlegend": true,
         "type": "scatter3d",
         "x": [
          "ANGEL"
         ],
         "y": [
          2008
         ],
         "z": [
          3189
         ]
        },
        {
         "hoverlabel": {
          "namelength": 0
         },
         "hovertemplate": "Count=%{marker.color}<br>Name=%{x}<br>YEAR=%{y}",
         "legendgroup": "Count=3014",
         "marker": {
          "color": [
           3014
          ],
          "coloraxis": "coloraxis",
          "symbol": "square"
         },
         "mode": "markers",
         "name": "Count=3014",
         "scene": "scene",
         "showlegend": true,
         "type": "scatter3d",
         "x": [
          "JACOB"
         ],
         "y": [
          2008
         ],
         "z": [
          3014
         ]
        },
        {
         "hoverlabel": {
          "namelength": 0
         },
         "hovertemplate": "Count=%{marker.color}<br>Name=%{x}<br>YEAR=%{y}",
         "legendgroup": "Count=2895",
         "marker": {
          "color": [
           2895
          ],
          "coloraxis": "coloraxis",
          "symbol": "x"
         },
         "mode": "markers",
         "name": "Count=2895",
         "scene": "scene",
         "showlegend": true,
         "type": "scatter3d",
         "x": [
          "DAVID"
         ],
         "y": [
          2008
         ],
         "z": [
          2895
         ]
        },
        {
         "hoverlabel": {
          "namelength": 0
         },
         "hovertemplate": "Count=%{marker.color}<br>Name=%{x}<br>YEAR=%{y}",
         "legendgroup": "Count=2854",
         "marker": {
          "color": [
           2854
          ],
          "coloraxis": "coloraxis",
          "symbol": "cross"
         },
         "mode": "markers",
         "name": "Count=2854",
         "scene": "scene",
         "showlegend": true,
         "type": "scatter3d",
         "x": [
          "ALEXANDER"
         ],
         "y": [
          2008
         ],
         "z": [
          2854
         ]
        },
        {
         "hoverlabel": {
          "namelength": 0
         },
         "hovertemplate": "Count=%{marker.color}<br>Name=%{x}<br>YEAR=%{y}",
         "legendgroup": "Count=2825",
         "marker": {
          "color": [
           2825
          ],
          "coloraxis": "coloraxis",
          "symbol": "circle"
         },
         "mode": "markers",
         "name": "Count=2825",
         "scene": "scene",
         "showlegend": true,
         "type": "scatter3d",
         "x": [
          "ANDREW"
         ],
         "y": [
          2008
         ],
         "z": [
          2825
         ]
        },
        {
         "hoverlabel": {
          "namelength": 0
         },
         "hovertemplate": "Count=%{marker.color}<br>Name=%{x}<br>YEAR=%{y}",
         "legendgroup": "Count=2734",
         "marker": {
          "color": [
           2734,
           2734
          ],
          "coloraxis": "coloraxis",
          "symbol": "diamond"
         },
         "mode": "markers",
         "name": "Count=2734",
         "scene": "scene",
         "showlegend": true,
         "type": "scatter3d",
         "x": [
          "JOSHUA",
          "EMMA"
         ],
         "y": [
          2008,
          2017
         ],
         "z": [
          2734,
          2734
         ]
        },
        {
         "hoverlabel": {
          "namelength": 0
         },
         "hovertemplate": "Count=%{marker.color}<br>Name=%{x}<br>YEAR=%{y}",
         "legendgroup": "Count=2603",
         "marker": {
          "color": [
           2603
          ],
          "coloraxis": "coloraxis",
          "symbol": "square"
         },
         "mode": "markers",
         "name": "Count=2603",
         "scene": "scene",
         "showlegend": true,
         "type": "scatter3d",
         "x": [
          "CHRISTOPHER"
         ],
         "y": [
          2008
         ],
         "z": [
          2603
         ]
        },
        {
         "hoverlabel": {
          "namelength": 0
         },
         "hovertemplate": "Count=%{marker.color}<br>Name=%{x}<br>YEAR=%{y}",
         "legendgroup": "Count=2564",
         "marker": {
          "color": [
           2564
          ],
          "coloraxis": "coloraxis",
          "symbol": "x"
         },
         "mode": "markers",
         "name": "Count=2564",
         "scene": "scene",
         "showlegend": true,
         "type": "scatter3d",
         "x": [
          "JOSE"
         ],
         "y": [
          2008
         ],
         "z": [
          2564
         ]
        },
        {
         "hoverlabel": {
          "namelength": 0
         },
         "hovertemplate": "Count=%{marker.color}<br>Name=%{x}<br>YEAR=%{y}",
         "legendgroup": "Count=2530",
         "marker": {
          "color": [
           2530
          ],
          "coloraxis": "coloraxis",
          "symbol": "cross"
         },
         "mode": "markers",
         "name": "Count=2530",
         "scene": "scene",
         "showlegend": true,
         "type": "scatter3d",
         "x": [
          "MATTHEW"
         ],
         "y": [
          2008
         ],
         "z": [
          2530
         ]
        },
        {
         "hoverlabel": {
          "namelength": 0
         },
         "hovertemplate": "Count=%{marker.color}<br>Name=%{x}<br>YEAR=%{y}",
         "legendgroup": "Count=2514",
         "marker": {
          "color": [
           2514
          ],
          "coloraxis": "coloraxis",
          "symbol": "circle"
         },
         "mode": "markers",
         "name": "Count=2514",
         "scene": "scene",
         "showlegend": true,
         "type": "scatter3d",
         "x": [
          "ETHAN"
         ],
         "y": [
          2008
         ],
         "z": [
          2514
         ]
        },
        {
         "hoverlabel": {
          "namelength": 0
         },
         "hovertemplate": "Count=%{marker.color}<br>Name=%{x}<br>YEAR=%{y}",
         "legendgroup": "Count=2513",
         "marker": {
          "color": [
           2513,
           2513
          ],
          "coloraxis": "coloraxis",
          "symbol": "diamond"
         },
         "mode": "markers",
         "name": "Count=2513",
         "scene": "scene",
         "showlegend": true,
         "type": "scatter3d",
         "x": [
          "NATHAN",
          "NOAH"
         ],
         "y": [
          2008,
          2017
         ],
         "z": [
          2513,
          2513
         ]
        },
        {
         "hoverlabel": {
          "namelength": 0
         },
         "hovertemplate": "Count=%{marker.color}<br>Name=%{x}<br>YEAR=%{y}",
         "legendgroup": "Count=2495",
         "marker": {
          "color": [
           2495
          ],
          "coloraxis": "coloraxis",
          "symbol": "square"
         },
         "mode": "markers",
         "name": "Count=2495",
         "scene": "scene",
         "showlegend": true,
         "type": "scatter3d",
         "x": [
          "MICHAEL"
         ],
         "y": [
          2008
         ],
         "z": [
          2495
         ]
        },
        {
         "hoverlabel": {
          "namelength": 0
         },
         "hovertemplate": "Count=%{marker.color}<br>Name=%{x}<br>YEAR=%{y}",
         "legendgroup": "Count=2302",
         "marker": {
          "color": [
           2302
          ],
          "coloraxis": "coloraxis",
          "symbol": "x"
         },
         "mode": "markers",
         "name": "Count=2302",
         "scene": "scene",
         "showlegend": true,
         "type": "scatter3d",
         "x": [
          "JONATHAN"
         ],
         "y": [
          2008
         ],
         "z": [
          2302
         ]
        },
        {
         "hoverlabel": {
          "namelength": 0
         },
         "hovertemplate": "Count=%{marker.color}<br>Name=%{x}<br>YEAR=%{y}",
         "legendgroup": "Count=2201",
         "marker": {
          "color": [
           2201
          ],
          "coloraxis": "coloraxis",
          "symbol": "cross"
         },
         "mode": "markers",
         "name": "Count=2201",
         "scene": "scene",
         "showlegend": true,
         "type": "scatter3d",
         "x": [
          "JOSEPH"
         ],
         "y": [
          2008
         ],
         "z": [
          2201
         ]
        },
        {
         "hoverlabel": {
          "namelength": 0
         },
         "hovertemplate": "Count=%{marker.color}<br>Name=%{x}<br>YEAR=%{y}",
         "legendgroup": "Count=2134",
         "marker": {
          "color": [
           2134,
           2134,
           2134
          ],
          "coloraxis": "coloraxis",
          "symbol": "circle"
         },
         "mode": "markers",
         "name": "Count=2134",
         "scene": "scene",
         "showlegend": true,
         "type": "scatter3d",
         "x": [
          "ADRIAN",
          "ANDREW",
          "DAVID"
         ],
         "y": [
          2008,
          2012,
          2012
         ],
         "z": [
          2134,
          2134,
          2134
         ]
        },
        {
         "hoverlabel": {
          "namelength": 0
         },
         "hovertemplate": "Count=%{marker.color}<br>Name=%{x}<br>YEAR=%{y}",
         "legendgroup": "Count=2128",
         "marker": {
          "color": [
           2128
          ],
          "coloraxis": "coloraxis",
          "symbol": "diamond"
         },
         "mode": "markers",
         "name": "Count=2128",
         "scene": "scene",
         "showlegend": true,
         "type": "scatter3d",
         "x": [
          "DIEGO"
         ],
         "y": [
          2008
         ],
         "z": [
          2128
         ]
        },
        {
         "hoverlabel": {
          "namelength": 0
         },
         "hovertemplate": "Count=%{marker.color}<br>Name=%{x}<br>YEAR=%{y}",
         "legendgroup": "Count=2046",
         "marker": {
          "color": [
           2046,
           2046
          ],
          "coloraxis": "coloraxis",
          "symbol": "square"
         },
         "mode": "markers",
         "name": "Count=2046",
         "scene": "scene",
         "showlegend": true,
         "type": "scatter3d",
         "x": [
          "JAYDEN",
          "NOAH"
         ],
         "y": [
          2008,
          2009
         ],
         "z": [
          2046,
          2046
         ]
        },
        {
         "hoverlabel": {
          "namelength": 0
         },
         "hovertemplate": "Count=%{marker.color}<br>Name=%{x}<br>YEAR=%{y}",
         "legendgroup": "Count=2008",
         "marker": {
          "color": [
           2008
          ],
          "coloraxis": "coloraxis",
          "symbol": "x"
         },
         "mode": "markers",
         "name": "Count=2008",
         "scene": "scene",
         "showlegend": true,
         "type": "scatter3d",
         "x": [
          "BRANDON"
         ],
         "y": [
          2008
         ],
         "z": [
          2008
         ]
        },
        {
         "hoverlabel": {
          "namelength": 0
         },
         "hovertemplate": "Count=%{marker.color}<br>Name=%{x}<br>YEAR=%{y}",
         "legendgroup": "Count=1961",
         "marker": {
          "color": [
           1961,
           1961
          ],
          "coloraxis": "coloraxis",
          "symbol": "cross"
         },
         "mode": "markers",
         "name": "Count=1961",
         "scene": "scene",
         "showlegend": true,
         "type": "scatter3d",
         "x": [
          "ISAAC",
          "SOFIA"
         ],
         "y": [
          2008,
          2013
         ],
         "z": [
          1961,
          1961
         ]
        },
        {
         "hoverlabel": {
          "namelength": 0
         },
         "hovertemplate": "Count=%{marker.color}<br>Name=%{x}<br>YEAR=%{y}",
         "legendgroup": "Count=1928",
         "marker": {
          "color": [
           1928,
           1928
          ],
          "coloraxis": "coloraxis",
          "symbol": "circle"
         },
         "mode": "markers",
         "name": "Count=1928",
         "scene": "scene",
         "showlegend": true,
         "type": "scatter3d",
         "x": [
          "NOAH",
          "JULIAN"
         ],
         "y": [
          2008,
          2011
         ],
         "z": [
          1928,
          1928
         ]
        },
        {
         "hoverlabel": {
          "namelength": 0
         },
         "hovertemplate": "Count=%{marker.color}<br>Name=%{x}<br>YEAR=%{y}",
         "legendgroup": "Count=1912",
         "marker": {
          "color": [
           1912
          ],
          "coloraxis": "coloraxis",
          "symbol": "diamond"
         },
         "mode": "markers",
         "name": "Count=1912",
         "scene": "scene",
         "showlegend": true,
         "type": "scatter3d",
         "x": [
          "KEVIN"
         ],
         "y": [
          2008
         ],
         "z": [
          1912
         ]
        },
        {
         "hoverlabel": {
          "namelength": 0
         },
         "hovertemplate": "Count=%{marker.color}<br>Name=%{x}<br>YEAR=%{y}",
         "legendgroup": "Count=1879",
         "marker": {
          "color": [
           1879
          ],
          "coloraxis": "coloraxis",
          "symbol": "square"
         },
         "mode": "markers",
         "name": "Count=1879",
         "scene": "scene",
         "showlegend": true,
         "type": "scatter3d",
         "x": [
          "CHRISTIAN"
         ],
         "y": [
          2008
         ],
         "z": [
          1879
         ]
        },
        {
         "hoverlabel": {
          "namelength": 0
         },
         "hovertemplate": "Count=%{marker.color}<br>Name=%{x}<br>YEAR=%{y}",
         "legendgroup": "Count=1828",
         "marker": {
          "color": [
           1828
          ],
          "coloraxis": "coloraxis",
          "symbol": "x"
         },
         "mode": "markers",
         "name": "Count=1828",
         "scene": "scene",
         "showlegend": true,
         "type": "scatter3d",
         "x": [
          "RYAN"
         ],
         "y": [
          2008
         ],
         "z": [
          1828
         ]
        },
        {
         "hoverlabel": {
          "namelength": 0
         },
         "hovertemplate": "Count=%{marker.color}<br>Name=%{x}<br>YEAR=%{y}",
         "legendgroup": "Count=3139",
         "marker": {
          "color": [
           3139
          ],
          "coloraxis": "coloraxis",
          "symbol": "cross"
         },
         "mode": "markers",
         "name": "Count=3139",
         "scene": "scene",
         "showlegend": true,
         "type": "scatter3d",
         "x": [
          "ISABELLA"
         ],
         "y": [
          2009
         ],
         "z": [
          3139
         ]
        },
        {
         "hoverlabel": {
          "namelength": 0
         },
         "hovertemplate": "Count=%{marker.color}<br>Name=%{x}<br>YEAR=%{y}",
         "legendgroup": "Count=2647",
         "marker": {
          "color": [
           2647
          ],
          "coloraxis": "coloraxis",
          "symbol": "circle"
         },
         "mode": "markers",
         "name": "Count=2647",
         "scene": "scene",
         "showlegend": true,
         "type": "scatter3d",
         "x": [
          "SOPHIA"
         ],
         "y": [
          2009
         ],
         "z": [
          2647
         ]
        },
        {
         "hoverlabel": {
          "namelength": 0
         },
         "hovertemplate": "Count=%{marker.color}<br>Name=%{x}<br>YEAR=%{y}",
         "legendgroup": "Count=2529",
         "marker": {
          "color": [
           2529,
           2529
          ],
          "coloraxis": "coloraxis",
          "symbol": "diamond"
         },
         "mode": "markers",
         "name": "Count=2529",
         "scene": "scene",
         "showlegend": true,
         "type": "scatter3d",
         "x": [
          "EMILY",
          "OLIVIA"
         ],
         "y": [
          2009,
          2016
         ],
         "z": [
          2529,
          2529
         ]
        },
        {
         "hoverlabel": {
          "namelength": 0
         },
         "hovertemplate": "Count=%{marker.color}<br>Name=%{x}<br>YEAR=%{y}",
         "legendgroup": "Count=2098",
         "marker": {
          "color": [
           2098
          ],
          "coloraxis": "coloraxis",
          "symbol": "square"
         },
         "mode": "markers",
         "name": "Count=2098",
         "scene": "scene",
         "showlegend": true,
         "type": "scatter3d",
         "x": [
          "MIA"
         ],
         "y": [
          2009
         ],
         "z": [
          2098
         ]
        },
        {
         "hoverlabel": {
          "namelength": 0
         },
         "hovertemplate": "Count=%{marker.color}<br>Name=%{x}<br>YEAR=%{y}",
         "legendgroup": "Count=1829",
         "marker": {
          "color": [
           1829
          ],
          "coloraxis": "coloraxis",
          "symbol": "x"
         },
         "mode": "markers",
         "name": "Count=1829",
         "scene": "scene",
         "showlegend": true,
         "type": "scatter3d",
         "x": [
          "SAMANTHA"
         ],
         "y": [
          2009
         ],
         "z": [
          1829
         ]
        },
        {
         "hoverlabel": {
          "namelength": 0
         },
         "hovertemplate": "Count=%{marker.color}<br>Name=%{x}<br>YEAR=%{y}",
         "legendgroup": "Count=1726",
         "marker": {
          "color": [
           1726
          ],
          "coloraxis": "coloraxis",
          "symbol": "cross"
         },
         "mode": "markers",
         "name": "Count=1726",
         "scene": "scene",
         "showlegend": true,
         "type": "scatter3d",
         "x": [
          "NATALIE"
         ],
         "y": [
          2009
         ],
         "z": [
          1726
         ]
        },
        {
         "hoverlabel": {
          "namelength": 0
         },
         "hovertemplate": "Count=%{marker.color}<br>Name=%{x}<br>YEAR=%{y}",
         "legendgroup": "Count=1701",
         "marker": {
          "color": [
           1701
          ],
          "coloraxis": "coloraxis",
          "symbol": "circle"
         },
         "mode": "markers",
         "name": "Count=1701",
         "scene": "scene",
         "showlegend": true,
         "type": "scatter3d",
         "x": [
          "EMMA"
         ],
         "y": [
          2009
         ],
         "z": [
          1701
         ]
        },
        {
         "hoverlabel": {
          "namelength": 0
         },
         "hovertemplate": "Count=%{marker.color}<br>Name=%{x}<br>YEAR=%{y}",
         "legendgroup": "Count=1546",
         "marker": {
          "color": [
           1546
          ],
          "coloraxis": "coloraxis",
          "symbol": "diamond"
         },
         "mode": "markers",
         "name": "Count=1546",
         "scene": "scene",
         "showlegend": true,
         "type": "scatter3d",
         "x": [
          "ABIGAIL"
         ],
         "y": [
          2009
         ],
         "z": [
          1546
         ]
        },
        {
         "hoverlabel": {
          "namelength": 0
         },
         "hovertemplate": "Count=%{marker.color}<br>Name=%{x}<br>YEAR=%{y}",
         "legendgroup": "Count=1544",
         "marker": {
          "color": [
           1544,
           1544
          ],
          "coloraxis": "coloraxis",
          "symbol": "square"
         },
         "mode": "markers",
         "name": "Count=1544",
         "scene": "scene",
         "showlegend": true,
         "type": "scatter3d",
         "x": [
          "OLIVIA",
          "ABIGAIL"
         ],
         "y": [
          2009,
          2017
         ],
         "z": [
          1544,
          1544
         ]
        },
        {
         "hoverlabel": {
          "namelength": 0
         },
         "hovertemplate": "Count=%{marker.color}<br>Name=%{x}<br>YEAR=%{y}",
         "legendgroup": "Count=1337",
         "marker": {
          "color": [
           1337,
           1337
          ],
          "coloraxis": "coloraxis",
          "symbol": "x"
         },
         "mode": "markers",
         "name": "Count=1337",
         "scene": "scene",
         "showlegend": true,
         "type": "scatter3d",
         "x": [
          "AVA",
          "AVA"
         ],
         "y": [
          2009,
          2013
         ],
         "z": [
          1337,
          1337
         ]
        },
        {
         "hoverlabel": {
          "namelength": 0
         },
         "hovertemplate": "Count=%{marker.color}<br>Name=%{x}<br>YEAR=%{y}",
         "legendgroup": "Count=1303",
         "marker": {
          "color": [
           1303
          ],
          "coloraxis": "coloraxis",
          "symbol": "cross"
         },
         "mode": "markers",
         "name": "Count=1303",
         "scene": "scene",
         "showlegend": true,
         "type": "scatter3d",
         "x": [
          "ELIZABETH"
         ],
         "y": [
          2009
         ],
         "z": [
          1303
         ]
        },
        {
         "hoverlabel": {
          "namelength": 0
         },
         "hovertemplate": "Count=%{marker.color}<br>Name=%{x}<br>YEAR=%{y}",
         "legendgroup": "Count=1302",
         "marker": {
          "color": [
           1302
          ],
          "coloraxis": "coloraxis",
          "symbol": "circle"
         },
         "mode": "markers",
         "name": "Count=1302",
         "scene": "scene",
         "showlegend": true,
         "type": "scatter3d",
         "x": [
          "CHLOE"
         ],
         "y": [
          2009
         ],
         "z": [
          1302
         ]
        },
        {
         "hoverlabel": {
          "namelength": 0
         },
         "hovertemplate": "Count=%{marker.color}<br>Name=%{x}<br>YEAR=%{y}",
         "legendgroup": "Count=1235",
         "marker": {
          "color": [
           1235
          ],
          "coloraxis": "coloraxis",
          "symbol": "diamond"
         },
         "mode": "markers",
         "name": "Count=1235",
         "scene": "scene",
         "showlegend": true,
         "type": "scatter3d",
         "x": [
          "VALERIA"
         ],
         "y": [
          2009
         ],
         "z": [
          1235
         ]
        },
        {
         "hoverlabel": {
          "namelength": 0
         },
         "hovertemplate": "Count=%{marker.color}<br>Name=%{x}<br>YEAR=%{y}",
         "legendgroup": "Count=1222",
         "marker": {
          "color": [
           1222
          ],
          "coloraxis": "coloraxis",
          "symbol": "square"
         },
         "mode": "markers",
         "name": "Count=1222",
         "scene": "scene",
         "showlegend": true,
         "type": "scatter3d",
         "x": [
          "SOFIA"
         ],
         "y": [
          2009
         ],
         "z": [
          1222
         ]
        },
        {
         "hoverlabel": {
          "namelength": 0
         },
         "hovertemplate": "Count=%{marker.color}<br>Name=%{x}<br>YEAR=%{y}",
         "legendgroup": "Count=1211",
         "marker": {
          "color": [
           1211
          ],
          "coloraxis": "coloraxis",
          "symbol": "x"
         },
         "mode": "markers",
         "name": "Count=1211",
         "scene": "scene",
         "showlegend": true,
         "type": "scatter3d",
         "x": [
          "MADISON"
         ],
         "y": [
          2009
         ],
         "z": [
          1211
         ]
        },
        {
         "hoverlabel": {
          "namelength": 0
         },
         "hovertemplate": "Count=%{marker.color}<br>Name=%{x}<br>YEAR=%{y}",
         "legendgroup": "Count=1186",
         "marker": {
          "color": [
           1186
          ],
          "coloraxis": "coloraxis",
          "symbol": "cross"
         },
         "mode": "markers",
         "name": "Count=1186",
         "scene": "scene",
         "showlegend": true,
         "type": "scatter3d",
         "x": [
          "BRIANNA"
         ],
         "y": [
          2009
         ],
         "z": [
          1186
         ]
        },
        {
         "hoverlabel": {
          "namelength": 0
         },
         "hovertemplate": "Count=%{marker.color}<br>Name=%{x}<br>YEAR=%{y}",
         "legendgroup": "Count=1119",
         "marker": {
          "color": [
           1119
          ],
          "coloraxis": "coloraxis",
          "symbol": "circle"
         },
         "mode": "markers",
         "name": "Count=1119",
         "scene": "scene",
         "showlegend": true,
         "type": "scatter3d",
         "x": [
          "KIMBERLY"
         ],
         "y": [
          2009
         ],
         "z": [
          1119
         ]
        },
        {
         "hoverlabel": {
          "namelength": 0
         },
         "hovertemplate": "Count=%{marker.color}<br>Name=%{x}<br>YEAR=%{y}",
         "legendgroup": "Count=1044",
         "marker": {
          "color": [
           1044
          ],
          "coloraxis": "coloraxis",
          "symbol": "diamond"
         },
         "mode": "markers",
         "name": "Count=1044",
         "scene": "scene",
         "showlegend": true,
         "type": "scatter3d",
         "x": [
          "ANDREA"
         ],
         "y": [
          2009
         ],
         "z": [
          1044
         ]
        },
        {
         "hoverlabel": {
          "namelength": 0
         },
         "hovertemplate": "Count=%{marker.color}<br>Name=%{x}<br>YEAR=%{y}",
         "legendgroup": "Count=1035",
         "marker": {
          "color": [
           1035
          ],
          "coloraxis": "coloraxis",
          "symbol": "square"
         },
         "mode": "markers",
         "name": "Count=1035",
         "scene": "scene",
         "showlegend": true,
         "type": "scatter3d",
         "x": [
          "CAMILA"
         ],
         "y": [
          2009
         ],
         "z": [
          1035
         ]
        },
        {
         "hoverlabel": {
          "namelength": 0
         },
         "hovertemplate": "Count=%{marker.color}<br>Name=%{x}<br>YEAR=%{y}",
         "legendgroup": "Count=1020",
         "marker": {
          "color": [
           1020
          ],
          "coloraxis": "coloraxis",
          "symbol": "x"
         },
         "mode": "markers",
         "name": "Count=1020",
         "scene": "scene",
         "showlegend": true,
         "type": "scatter3d",
         "x": [
          "ALEXA"
         ],
         "y": [
          2009
         ],
         "z": [
          1020
         ]
        },
        {
         "hoverlabel": {
          "namelength": 0
         },
         "hovertemplate": "Count=%{marker.color}<br>Name=%{x}<br>YEAR=%{y}",
         "legendgroup": "Count=995",
         "marker": {
          "color": [
           995
          ],
          "coloraxis": "coloraxis",
          "symbol": "cross"
         },
         "mode": "markers",
         "name": "Count=995",
         "scene": "scene",
         "showlegend": true,
         "type": "scatter3d",
         "x": [
          "VICTORIA"
         ],
         "y": [
          2009
         ],
         "z": [
          995
         ]
        },
        {
         "hoverlabel": {
          "namelength": 0
         },
         "hovertemplate": "Count=%{marker.color}<br>Name=%{x}<br>YEAR=%{y}",
         "legendgroup": "Count=977",
         "marker": {
          "color": [
           977,
           977
          ],
          "coloraxis": "coloraxis",
          "symbol": "circle"
         },
         "mode": "markers",
         "name": "Count=977",
         "scene": "scene",
         "showlegend": true,
         "type": "scatter3d",
         "x": [
          "ALEXIS",
          "CHLOE"
         ],
         "y": [
          2009,
          2016
         ],
         "z": [
          977,
          977
         ]
        },
        {
         "hoverlabel": {
          "namelength": 0
         },
         "hovertemplate": "Count=%{marker.color}<br>Name=%{x}<br>YEAR=%{y}",
         "legendgroup": "Count=976",
         "marker": {
          "color": [
           976,
           976
          ],
          "coloraxis": "coloraxis",
          "symbol": "diamond"
         },
         "mode": "markers",
         "name": "Count=976",
         "scene": "scene",
         "showlegend": true,
         "type": "scatter3d",
         "x": [
          "EVELYN",
          "EVELYN"
         ],
         "y": [
          2009,
          2010
         ],
         "z": [
          976,
          976
         ]
        },
        {
         "hoverlabel": {
          "namelength": 0
         },
         "hovertemplate": "Count=%{marker.color}<br>Name=%{x}<br>YEAR=%{y}",
         "legendgroup": "Count=3379",
         "marker": {
          "color": [
           3379
          ],
          "coloraxis": "coloraxis",
          "symbol": "square"
         },
         "mode": "markers",
         "name": "Count=3379",
         "scene": "scene",
         "showlegend": true,
         "type": "scatter3d",
         "x": [
          "DANIEL"
         ],
         "y": [
          2009
         ],
         "z": [
          3379
         ]
        },
        {
         "hoverlabel": {
          "namelength": 0
         },
         "hovertemplate": "Count=%{marker.color}<br>Name=%{x}<br>YEAR=%{y}",
         "legendgroup": "Count=3073",
         "marker": {
          "color": [
           3073,
           3073
          ],
          "coloraxis": "coloraxis",
          "symbol": "x"
         },
         "mode": "markers",
         "name": "Count=3073",
         "scene": "scene",
         "showlegend": true,
         "type": "scatter3d",
         "x": [
          "ANTHONY",
          "ISABELLA"
         ],
         "y": [
          2009,
          2012
         ],
         "z": [
          3073,
          3073
         ]
        },
        {
         "hoverlabel": {
          "namelength": 0
         },
         "hovertemplate": "Count=%{marker.color}<br>Name=%{x}<br>YEAR=%{y}",
         "legendgroup": "Count=3021",
         "marker": {
          "color": [
           3021
          ],
          "coloraxis": "coloraxis",
          "symbol": "cross"
         },
         "mode": "markers",
         "name": "Count=3021",
         "scene": "scene",
         "showlegend": true,
         "type": "scatter3d",
         "x": [
          "ANGEL"
         ],
         "y": [
          2009
         ],
         "z": [
          3021
         ]
        },
        {
         "hoverlabel": {
          "namelength": 0
         },
         "hovertemplate": "Count=%{marker.color}<br>Name=%{x}<br>YEAR=%{y}",
         "legendgroup": "Count=2951",
         "marker": {
          "color": [
           2951
          ],
          "coloraxis": "coloraxis",
          "symbol": "circle"
         },
         "mode": "markers",
         "name": "Count=2951",
         "scene": "scene",
         "showlegend": true,
         "type": "scatter3d",
         "x": [
          "JACOB"
         ],
         "y": [
          2009
         ],
         "z": [
          2951
         ]
        },
        {
         "hoverlabel": {
          "namelength": 0
         },
         "hovertemplate": "Count=%{marker.color}<br>Name=%{x}<br>YEAR=%{y}",
         "legendgroup": "Count=2863",
         "marker": {
          "color": [
           2863
          ],
          "coloraxis": "coloraxis",
          "symbol": "diamond"
         },
         "mode": "markers",
         "name": "Count=2863",
         "scene": "scene",
         "showlegend": true,
         "type": "scatter3d",
         "x": [
          "ALEXANDER"
         ],
         "y": [
          2009
         ],
         "z": [
          2863
         ]
        },
        {
         "hoverlabel": {
          "namelength": 0
         },
         "hovertemplate": "Count=%{marker.color}<br>Name=%{x}<br>YEAR=%{y}",
         "legendgroup": "Count=2663",
         "marker": {
          "color": [
           2663
          ],
          "coloraxis": "coloraxis",
          "symbol": "square"
         },
         "mode": "markers",
         "name": "Count=2663",
         "scene": "scene",
         "showlegend": true,
         "type": "scatter3d",
         "x": [
          "ETHAN"
         ],
         "y": [
          2009
         ],
         "z": [
          2663
         ]
        },
        {
         "hoverlabel": {
          "namelength": 0
         },
         "hovertemplate": "Count=%{marker.color}<br>Name=%{x}<br>YEAR=%{y}",
         "legendgroup": "Count=2616",
         "marker": {
          "color": [
           2616
          ],
          "coloraxis": "coloraxis",
          "symbol": "x"
         },
         "mode": "markers",
         "name": "Count=2616",
         "scene": "scene",
         "showlegend": true,
         "type": "scatter3d",
         "x": [
          "DAVID"
         ],
         "y": [
          2009
         ],
         "z": [
          2616
         ]
        },
        {
         "hoverlabel": {
          "namelength": 0
         },
         "hovertemplate": "Count=%{marker.color}<br>Name=%{x}<br>YEAR=%{y}",
         "legendgroup": "Count=2575",
         "marker": {
          "color": [
           2575
          ],
          "coloraxis": "coloraxis",
          "symbol": "cross"
         },
         "mode": "markers",
         "name": "Count=2575",
         "scene": "scene",
         "showlegend": true,
         "type": "scatter3d",
         "x": [
          "ANDREW"
         ],
         "y": [
          2009
         ],
         "z": [
          2575
         ]
        },
        {
         "hoverlabel": {
          "namelength": 0
         },
         "hovertemplate": "Count=%{marker.color}<br>Name=%{x}<br>YEAR=%{y}",
         "legendgroup": "Count=2415",
         "marker": {
          "color": [
           2415
          ],
          "coloraxis": "coloraxis",
          "symbol": "circle"
         },
         "mode": "markers",
         "name": "Count=2415",
         "scene": "scene",
         "showlegend": true,
         "type": "scatter3d",
         "x": [
          "MATTHEW"
         ],
         "y": [
          2009
         ],
         "z": [
          2415
         ]
        },
        {
         "hoverlabel": {
          "namelength": 0
         },
         "hovertemplate": "Count=%{marker.color}<br>Name=%{x}<br>YEAR=%{y}",
         "legendgroup": "Count=2401",
         "marker": {
          "color": [
           2401
          ],
          "coloraxis": "coloraxis",
          "symbol": "diamond"
         },
         "mode": "markers",
         "name": "Count=2401",
         "scene": "scene",
         "showlegend": true,
         "type": "scatter3d",
         "x": [
          "JOSHUA"
         ],
         "y": [
          2009
         ],
         "z": [
          2401
         ]
        },
        {
         "hoverlabel": {
          "namelength": 0
         },
         "hovertemplate": "Count=%{marker.color}<br>Name=%{x}<br>YEAR=%{y}",
         "legendgroup": "Count=2384",
         "marker": {
          "color": [
           2384,
           2384
          ],
          "coloraxis": "coloraxis",
          "symbol": "square"
         },
         "mode": "markers",
         "name": "Count=2384",
         "scene": "scene",
         "showlegend": true,
         "type": "scatter3d",
         "x": [
          "CHRISTOPHER",
          "ISABELLA"
         ],
         "y": [
          2009,
          2015
         ],
         "z": [
          2384,
          2384
         ]
        },
        {
         "hoverlabel": {
          "namelength": 0
         },
         "hovertemplate": "Count=%{marker.color}<br>Name=%{x}<br>YEAR=%{y}",
         "legendgroup": "Count=2336",
         "marker": {
          "color": [
           2336
          ],
          "coloraxis": "coloraxis",
          "symbol": "x"
         },
         "mode": "markers",
         "name": "Count=2336",
         "scene": "scene",
         "showlegend": true,
         "type": "scatter3d",
         "x": [
          "MICHAEL"
         ],
         "y": [
          2009
         ],
         "z": [
          2336
         ]
        },
        {
         "hoverlabel": {
          "namelength": 0
         },
         "hovertemplate": "Count=%{marker.color}<br>Name=%{x}<br>YEAR=%{y}",
         "legendgroup": "Count=2332",
         "marker": {
          "color": [
           2332
          ],
          "coloraxis": "coloraxis",
          "symbol": "cross"
         },
         "mode": "markers",
         "name": "Count=2332",
         "scene": "scene",
         "showlegend": true,
         "type": "scatter3d",
         "x": [
          "NATHAN"
         ],
         "y": [
          2009
         ],
         "z": [
          2332
         ]
        },
        {
         "hoverlabel": {
          "namelength": 0
         },
         "hovertemplate": "Count=%{marker.color}<br>Name=%{x}<br>YEAR=%{y}",
         "legendgroup": "Count=2258",
         "marker": {
          "color": [
           2258
          ],
          "coloraxis": "coloraxis",
          "symbol": "circle"
         },
         "mode": "markers",
         "name": "Count=2258",
         "scene": "scene",
         "showlegend": true,
         "type": "scatter3d",
         "x": [
          "JAYDEN"
         ],
         "y": [
          2009
         ],
         "z": [
          2258
         ]
        },
        {
         "hoverlabel": {
          "namelength": 0
         },
         "hovertemplate": "Count=%{marker.color}<br>Name=%{x}<br>YEAR=%{y}",
         "legendgroup": "Count=2166",
         "marker": {
          "color": [
           2166
          ],
          "coloraxis": "coloraxis",
          "symbol": "diamond"
         },
         "mode": "markers",
         "name": "Count=2166",
         "scene": "scene",
         "showlegend": true,
         "type": "scatter3d",
         "x": [
          "JOSE"
         ],
         "y": [
          2009
         ],
         "z": [
          2166
         ]
        },
        {
         "hoverlabel": {
          "namelength": 0
         },
         "hovertemplate": "Count=%{marker.color}<br>Name=%{x}<br>YEAR=%{y}",
         "legendgroup": "Count=2093",
         "marker": {
          "color": [
           2093
          ],
          "coloraxis": "coloraxis",
          "symbol": "square"
         },
         "mode": "markers",
         "name": "Count=2093",
         "scene": "scene",
         "showlegend": true,
         "type": "scatter3d",
         "x": [
          "ADRIAN"
         ],
         "y": [
          2009
         ],
         "z": [
          2093
         ]
        },
        {
         "hoverlabel": {
          "namelength": 0
         },
         "hovertemplate": "Count=%{marker.color}<br>Name=%{x}<br>YEAR=%{y}",
         "legendgroup": "Count=2086",
         "marker": {
          "color": [
           2086
          ],
          "coloraxis": "coloraxis",
          "symbol": "x"
         },
         "mode": "markers",
         "name": "Count=2086",
         "scene": "scene",
         "showlegend": true,
         "type": "scatter3d",
         "x": [
          "JOSEPH"
         ],
         "y": [
          2009
         ],
         "z": [
          2086
         ]
        },
        {
         "hoverlabel": {
          "namelength": 0
         },
         "hovertemplate": "Count=%{marker.color}<br>Name=%{x}<br>YEAR=%{y}",
         "legendgroup": "Count=2053",
         "marker": {
          "color": [
           2053
          ],
          "coloraxis": "coloraxis",
          "symbol": "cross"
         },
         "mode": "markers",
         "name": "Count=2053",
         "scene": "scene",
         "showlegend": true,
         "type": "scatter3d",
         "x": [
          "JONATHAN"
         ],
         "y": [
          2009
         ],
         "z": [
          2053
         ]
        },
        {
         "hoverlabel": {
          "namelength": 0
         },
         "hovertemplate": "Count=%{marker.color}<br>Name=%{x}<br>YEAR=%{y}",
         "legendgroup": "Count=1846",
         "marker": {
          "color": [
           1846
          ],
          "coloraxis": "coloraxis",
          "symbol": "circle"
         },
         "mode": "markers",
         "name": "Count=1846",
         "scene": "scene",
         "showlegend": true,
         "type": "scatter3d",
         "x": [
          "ISAAC"
         ],
         "y": [
          2009
         ],
         "z": [
          1846
         ]
        },
        {
         "hoverlabel": {
          "namelength": 0
         },
         "hovertemplate": "Count=%{marker.color}<br>Name=%{x}<br>YEAR=%{y}",
         "legendgroup": "Count=1797",
         "marker": {
          "color": [
           1797
          ],
          "coloraxis": "coloraxis",
          "symbol": "diamond"
         },
         "mode": "markers",
         "name": "Count=1797",
         "scene": "scene",
         "showlegend": true,
         "type": "scatter3d",
         "x": [
          "AIDEN"
         ],
         "y": [
          2009
         ],
         "z": [
          1797
         ]
        },
        {
         "hoverlabel": {
          "namelength": 0
         },
         "hovertemplate": "Count=%{marker.color}<br>Name=%{x}<br>YEAR=%{y}",
         "legendgroup": "Count=1757",
         "marker": {
          "color": [
           1757,
           1757
          ],
          "coloraxis": "coloraxis",
          "symbol": "square"
         },
         "mode": "markers",
         "name": "Count=1757",
         "scene": "scene",
         "showlegend": true,
         "type": "scatter3d",
         "x": [
          "CHRISTIAN",
          "JOSEPH"
         ],
         "y": [
          2009,
          2011
         ],
         "z": [
          1757,
          1757
         ]
        },
        {
         "hoverlabel": {
          "namelength": 0
         },
         "hovertemplate": "Count=%{marker.color}<br>Name=%{x}<br>YEAR=%{y}",
         "legendgroup": "Count=1755",
         "marker": {
          "color": [
           1755,
           1755
          ],
          "coloraxis": "coloraxis",
          "symbol": "x"
         },
         "mode": "markers",
         "name": "Count=1755",
         "scene": "scene",
         "showlegend": true,
         "type": "scatter3d",
         "x": [
          "JULIAN",
          "ISAAC"
         ],
         "y": [
          2009,
          2013
         ],
         "z": [
          1755,
          1755
         ]
        },
        {
         "hoverlabel": {
          "namelength": 0
         },
         "hovertemplate": "Count=%{marker.color}<br>Name=%{x}<br>YEAR=%{y}",
         "legendgroup": "Count=1727",
         "marker": {
          "color": [
           1727
          ],
          "coloraxis": "coloraxis",
          "symbol": "cross"
         },
         "mode": "markers",
         "name": "Count=1727",
         "scene": "scene",
         "showlegend": true,
         "type": "scatter3d",
         "x": [
          "DIEGO"
         ],
         "y": [
          2009
         ],
         "z": [
          1727
         ]
        },
        {
         "hoverlabel": {
          "namelength": 0
         },
         "hovertemplate": "Count=%{marker.color}<br>Name=%{x}<br>YEAR=%{y}",
         "legendgroup": "Count=1718",
         "marker": {
          "color": [
           1718
          ],
          "coloraxis": "coloraxis",
          "symbol": "circle"
         },
         "mode": "markers",
         "name": "Count=1718",
         "scene": "scene",
         "showlegend": true,
         "type": "scatter3d",
         "x": [
          "BRANDON"
         ],
         "y": [
          2009
         ],
         "z": [
          1718
         ]
        },
        {
         "hoverlabel": {
          "namelength": 0
         },
         "hovertemplate": "Count=%{marker.color}<br>Name=%{x}<br>YEAR=%{y}",
         "legendgroup": "Count=3341",
         "marker": {
          "color": [
           3341
          ],
          "coloraxis": "coloraxis",
          "symbol": "diamond"
         },
         "mode": "markers",
         "name": "Count=3341",
         "scene": "scene",
         "showlegend": true,
         "type": "scatter3d",
         "x": [
          "ISABELLA"
         ],
         "y": [
          2010
         ],
         "z": [
          3341
         ]
        },
        {
         "hoverlabel": {
          "namelength": 0
         },
         "hovertemplate": "Count=%{marker.color}<br>Name=%{x}<br>YEAR=%{y}",
         "legendgroup": "Count=3339",
         "marker": {
          "color": [
           3339
          ],
          "coloraxis": "coloraxis",
          "symbol": "square"
         },
         "mode": "markers",
         "name": "Count=3339",
         "scene": "scene",
         "showlegend": true,
         "type": "scatter3d",
         "x": [
          "SOPHIA"
         ],
         "y": [
          2010
         ],
         "z": [
          3339
         ]
        },
        {
         "hoverlabel": {
          "namelength": 0
         },
         "hovertemplate": "Count=%{marker.color}<br>Name=%{x}<br>YEAR=%{y}",
         "legendgroup": "Count=2381",
         "marker": {
          "color": [
           2381
          ],
          "coloraxis": "coloraxis",
          "symbol": "x"
         },
         "mode": "markers",
         "name": "Count=2381",
         "scene": "scene",
         "showlegend": true,
         "type": "scatter3d",
         "x": [
          "EMILY"
         ],
         "y": [
          2010
         ],
         "z": [
          2381
         ]
        },
        {
         "hoverlabel": {
          "namelength": 0
         },
         "hovertemplate": "Count=%{marker.color}<br>Name=%{x}<br>YEAR=%{y}",
         "legendgroup": "Count=1999",
         "marker": {
          "color": [
           1999
          ],
          "coloraxis": "coloraxis",
          "symbol": "cross"
         },
         "mode": "markers",
         "name": "Count=1999",
         "scene": "scene",
         "showlegend": true,
         "type": "scatter3d",
         "x": [
          "MIA"
         ],
         "y": [
          2010
         ],
         "z": [
          1999
         ]
        },
        {
         "hoverlabel": {
          "namelength": 0
         },
         "hovertemplate": "Count=%{marker.color}<br>Name=%{x}<br>YEAR=%{y}",
         "legendgroup": "Count=1768",
         "marker": {
          "color": [
           1768,
           1768
          ],
          "coloraxis": "coloraxis",
          "symbol": "circle"
         },
         "mode": "markers",
         "name": "Count=1768",
         "scene": "scene",
         "showlegend": true,
         "type": "scatter3d",
         "x": [
          "EMMA",
          "CHRISTOPHER"
         ],
         "y": [
          2010,
          2011
         ],
         "z": [
          1768,
          1768
         ]
        },
        {
         "hoverlabel": {
          "namelength": 0
         },
         "hovertemplate": "Count=%{marker.color}<br>Name=%{x}<br>YEAR=%{y}",
         "legendgroup": "Count=1666",
         "marker": {
          "color": [
           1666
          ],
          "coloraxis": "coloraxis",
          "symbol": "diamond"
         },
         "mode": "markers",
         "name": "Count=1666",
         "scene": "scene",
         "showlegend": true,
         "type": "scatter3d",
         "x": [
          "SAMANTHA"
         ],
         "y": [
          2010
         ],
         "z": [
          1666
         ]
        },
        {
         "hoverlabel": {
          "namelength": 0
         },
         "hovertemplate": "Count=%{marker.color}<br>Name=%{x}<br>YEAR=%{y}",
         "legendgroup": "Count=1624",
         "marker": {
          "color": [
           1624
          ],
          "coloraxis": "coloraxis",
          "symbol": "square"
         },
         "mode": "markers",
         "name": "Count=1624",
         "scene": "scene",
         "showlegend": true,
         "type": "scatter3d",
         "x": [
          "OLIVIA"
         ],
         "y": [
          2010
         ],
         "z": [
          1624
         ]
        },
        {
         "hoverlabel": {
          "namelength": 0
         },
         "hovertemplate": "Count=%{marker.color}<br>Name=%{x}<br>YEAR=%{y}",
         "legendgroup": "Count=1610",
         "marker": {
          "color": [
           1610
          ],
          "coloraxis": "coloraxis",
          "symbol": "x"
         },
         "mode": "markers",
         "name": "Count=1610",
         "scene": "scene",
         "showlegend": true,
         "type": "scatter3d",
         "x": [
          "ABIGAIL"
         ],
         "y": [
          2010
         ],
         "z": [
          1610
         ]
        },
        {
         "hoverlabel": {
          "namelength": 0
         },
         "hovertemplate": "Count=%{marker.color}<br>Name=%{x}<br>YEAR=%{y}",
         "legendgroup": "Count=1463",
         "marker": {
          "color": [
           1463
          ],
          "coloraxis": "coloraxis",
          "symbol": "cross"
         },
         "mode": "markers",
         "name": "Count=1463",
         "scene": "scene",
         "showlegend": true,
         "type": "scatter3d",
         "x": [
          "NATALIE"
         ],
         "y": [
          2010
         ],
         "z": [
          1463
         ]
        },
        {
         "hoverlabel": {
          "namelength": 0
         },
         "hovertemplate": "Count=%{marker.color}<br>Name=%{x}<br>YEAR=%{y}",
         "legendgroup": "Count=1402",
         "marker": {
          "color": [
           1402
          ],
          "coloraxis": "coloraxis",
          "symbol": "circle"
         },
         "mode": "markers",
         "name": "Count=1402",
         "scene": "scene",
         "showlegend": true,
         "type": "scatter3d",
         "x": [
          "AVA"
         ],
         "y": [
          2010
         ],
         "z": [
          1402
         ]
        },
        {
         "hoverlabel": {
          "namelength": 0
         },
         "hovertemplate": "Count=%{marker.color}<br>Name=%{x}<br>YEAR=%{y}",
         "legendgroup": "Count=1388",
         "marker": {
          "color": [
           1388
          ],
          "coloraxis": "coloraxis",
          "symbol": "diamond"
         },
         "mode": "markers",
         "name": "Count=1388",
         "scene": "scene",
         "showlegend": true,
         "type": "scatter3d",
         "x": [
          "SOFIA"
         ],
         "y": [
          2010
         ],
         "z": [
          1388
         ]
        },
        {
         "hoverlabel": {
          "namelength": 0
         },
         "hovertemplate": "Count=%{marker.color}<br>Name=%{x}<br>YEAR=%{y}",
         "legendgroup": "Count=1363",
         "marker": {
          "color": [
           1363
          ],
          "coloraxis": "coloraxis",
          "symbol": "square"
         },
         "mode": "markers",
         "name": "Count=1363",
         "scene": "scene",
         "showlegend": true,
         "type": "scatter3d",
         "x": [
          "CHLOE"
         ],
         "y": [
          2010
         ],
         "z": [
          1363
         ]
        },
        {
         "hoverlabel": {
          "namelength": 0
         },
         "hovertemplate": "Count=%{marker.color}<br>Name=%{x}<br>YEAR=%{y}",
         "legendgroup": "Count=1307",
         "marker": {
          "color": [
           1307
          ],
          "coloraxis": "coloraxis",
          "symbol": "x"
         },
         "mode": "markers",
         "name": "Count=1307",
         "scene": "scene",
         "showlegend": true,
         "type": "scatter3d",
         "x": [
          "ASHLEY"
         ],
         "y": [
          2010
         ],
         "z": [
          1307
         ]
        },
        {
         "hoverlabel": {
          "namelength": 0
         },
         "hovertemplate": "Count=%{marker.color}<br>Name=%{x}<br>YEAR=%{y}",
         "legendgroup": "Count=1206",
         "marker": {
          "color": [
           1206
          ],
          "coloraxis": "coloraxis",
          "symbol": "cross"
         },
         "mode": "markers",
         "name": "Count=1206",
         "scene": "scene",
         "showlegend": true,
         "type": "scatter3d",
         "x": [
          "CAMILA"
         ],
         "y": [
          2010
         ],
         "z": [
          1206
         ]
        },
        {
         "hoverlabel": {
          "namelength": 0
         },
         "hovertemplate": "Count=%{marker.color}<br>Name=%{x}<br>YEAR=%{y}",
         "legendgroup": "Count=1115",
         "marker": {
          "color": [
           1115
          ],
          "coloraxis": "coloraxis",
          "symbol": "circle"
         },
         "mode": "markers",
         "name": "Count=1115",
         "scene": "scene",
         "showlegend": true,
         "type": "scatter3d",
         "x": [
          "ELIZABETH"
         ],
         "y": [
          2010
         ],
         "z": [
          1115
         ]
        },
        {
         "hoverlabel": {
          "namelength": 0
         },
         "hovertemplate": "Count=%{marker.color}<br>Name=%{x}<br>YEAR=%{y}",
         "legendgroup": "Count=1064",
         "marker": {
          "color": [
           1064,
           1064,
           1064
          ],
          "coloraxis": "coloraxis",
          "symbol": "diamond"
         },
         "mode": "markers",
         "name": "Count=1064",
         "scene": "scene",
         "showlegend": true,
         "type": "scatter3d",
         "x": [
          "ALYSSA",
          "NATALIE",
          "ARIA"
         ],
         "y": [
          2010,
          2014,
          2017
         ],
         "z": [
          1064,
          1064,
          1064
         ]
        },
        {
         "hoverlabel": {
          "namelength": 0
         },
         "hovertemplate": "Count=%{marker.color}<br>Name=%{x}<br>YEAR=%{y}",
         "legendgroup": "Count=1062",
         "marker": {
          "color": [
           1062
          ],
          "coloraxis": "coloraxis",
          "symbol": "square"
         },
         "mode": "markers",
         "name": "Count=1062",
         "scene": "scene",
         "showlegend": true,
         "type": "scatter3d",
         "x": [
          "VICTORIA"
         ],
         "y": [
          2010
         ],
         "z": [
          1062
         ]
        },
        {
         "hoverlabel": {
          "namelength": 0
         },
         "hovertemplate": "Count=%{marker.color}<br>Name=%{x}<br>YEAR=%{y}",
         "legendgroup": "Count=1046",
         "marker": {
          "color": [
           1046
          ],
          "coloraxis": "coloraxis",
          "symbol": "x"
         },
         "mode": "markers",
         "name": "Count=1046",
         "scene": "scene",
         "showlegend": true,
         "type": "scatter3d",
         "x": [
          "BRIANNA"
         ],
         "y": [
          2010
         ],
         "z": [
          1046
         ]
        },
        {
         "hoverlabel": {
          "namelength": 0
         },
         "hovertemplate": "Count=%{marker.color}<br>Name=%{x}<br>YEAR=%{y}",
         "legendgroup": "Count=1032",
         "marker": {
          "color": [
           1032
          ],
          "coloraxis": "coloraxis",
          "symbol": "cross"
         },
         "mode": "markers",
         "name": "Count=1032",
         "scene": "scene",
         "showlegend": true,
         "type": "scatter3d",
         "x": [
          "MADISON"
         ],
         "y": [
          2010
         ],
         "z": [
          1032
         ]
        },
        {
         "hoverlabel": {
          "namelength": 0
         },
         "hovertemplate": "Count=%{marker.color}<br>Name=%{x}<br>YEAR=%{y}",
         "legendgroup": "Count=1001",
         "marker": {
          "color": [
           1001
          ],
          "coloraxis": "coloraxis",
          "symbol": "circle"
         },
         "mode": "markers",
         "name": "Count=1001",
         "scene": "scene",
         "showlegend": true,
         "type": "scatter3d",
         "x": [
          "KIMBERLY"
         ],
         "y": [
          2010
         ],
         "z": [
          1001
         ]
        },
        {
         "hoverlabel": {
          "namelength": 0
         },
         "hovertemplate": "Count=%{marker.color}<br>Name=%{x}<br>YEAR=%{y}",
         "legendgroup": "Count=975",
         "marker": {
          "color": [
           975
          ],
          "coloraxis": "coloraxis",
          "symbol": "diamond"
         },
         "mode": "markers",
         "name": "Count=975",
         "scene": "scene",
         "showlegend": true,
         "type": "scatter3d",
         "x": [
          "ALEXA"
         ],
         "y": [
          2010
         ],
         "z": [
          975
         ]
        },
        {
         "hoverlabel": {
          "namelength": 0
         },
         "hovertemplate": "Count=%{marker.color}<br>Name=%{x}<br>YEAR=%{y}",
         "legendgroup": "Count=971",
         "marker": {
          "color": [
           971
          ],
          "coloraxis": "coloraxis",
          "symbol": "square"
         },
         "mode": "markers",
         "name": "Count=971",
         "scene": "scene",
         "showlegend": true,
         "type": "scatter3d",
         "x": [
          "VALERIA"
         ],
         "y": [
          2010
         ],
         "z": [
          971
         ]
        },
        {
         "hoverlabel": {
          "namelength": 0
         },
         "hovertemplate": "Count=%{marker.color}<br>Name=%{x}<br>YEAR=%{y}",
         "legendgroup": "Count=912",
         "marker": {
          "color": [
           912
          ],
          "coloraxis": "coloraxis",
          "symbol": "x"
         },
         "mode": "markers",
         "name": "Count=912",
         "scene": "scene",
         "showlegend": true,
         "type": "scatter3d",
         "x": [
          "HAILEY"
         ],
         "y": [
          2010
         ],
         "z": [
          912
         ]
        },
        {
         "hoverlabel": {
          "namelength": 0
         },
         "hovertemplate": "Count=%{marker.color}<br>Name=%{x}<br>YEAR=%{y}",
         "legendgroup": "Count=901",
         "marker": {
          "color": [
           901
          ],
          "coloraxis": "coloraxis",
          "symbol": "cross"
         },
         "mode": "markers",
         "name": "Count=901",
         "scene": "scene",
         "showlegend": true,
         "type": "scatter3d",
         "x": [
          "BELLA"
         ],
         "y": [
          2010
         ],
         "z": [
          901
         ]
        },
        {
         "hoverlabel": {
          "namelength": 0
         },
         "hovertemplate": "Count=%{marker.color}<br>Name=%{x}<br>YEAR=%{y}",
         "legendgroup": "Count=3327",
         "marker": {
          "color": [
           3327
          ],
          "coloraxis": "coloraxis",
          "symbol": "circle"
         },
         "mode": "markers",
         "name": "Count=3327",
         "scene": "scene",
         "showlegend": true,
         "type": "scatter3d",
         "x": [
          "JACOB"
         ],
         "y": [
          2010
         ],
         "z": [
          3327
         ]
        },
        {
         "hoverlabel": {
          "namelength": 0
         },
         "hovertemplate": "Count=%{marker.color}<br>Name=%{x}<br>YEAR=%{y}",
         "legendgroup": "Count=3120",
         "marker": {
          "color": [
           3120
          ],
          "coloraxis": "coloraxis",
          "symbol": "diamond"
         },
         "mode": "markers",
         "name": "Count=3120",
         "scene": "scene",
         "showlegend": true,
         "type": "scatter3d",
         "x": [
          "DANIEL"
         ],
         "y": [
          2010
         ],
         "z": [
          3120
         ]
        },
        {
         "hoverlabel": {
          "namelength": 0
         },
         "hovertemplate": "Count=%{marker.color}<br>Name=%{x}<br>YEAR=%{y}",
         "legendgroup": "Count=2845",
         "marker": {
          "color": [
           2845
          ],
          "coloraxis": "coloraxis",
          "symbol": "square"
         },
         "mode": "markers",
         "name": "Count=2845",
         "scene": "scene",
         "showlegend": true,
         "type": "scatter3d",
         "x": [
          "ANTHONY"
         ],
         "y": [
          2010
         ],
         "z": [
          2845
         ]
        },
        {
         "hoverlabel": {
          "namelength": 0
         },
         "hovertemplate": "Count=%{marker.color}<br>Name=%{x}<br>YEAR=%{y}",
         "legendgroup": "Count=2586",
         "marker": {
          "color": [
           2586
          ],
          "coloraxis": "coloraxis",
          "symbol": "x"
         },
         "mode": "markers",
         "name": "Count=2586",
         "scene": "scene",
         "showlegend": true,
         "type": "scatter3d",
         "x": [
          "ALEXANDER"
         ],
         "y": [
          2010
         ],
         "z": [
          2586
         ]
        },
        {
         "hoverlabel": {
          "namelength": 0
         },
         "hovertemplate": "Count=%{marker.color}<br>Name=%{x}<br>YEAR=%{y}",
         "legendgroup": "Count=2543",
         "marker": {
          "color": [
           2543
          ],
          "coloraxis": "coloraxis",
          "symbol": "cross"
         },
         "mode": "markers",
         "name": "Count=2543",
         "scene": "scene",
         "showlegend": true,
         "type": "scatter3d",
         "x": [
          "ANGEL"
         ],
         "y": [
          2010
         ],
         "z": [
          2543
         ]
        },
        {
         "hoverlabel": {
          "namelength": 0
         },
         "hovertemplate": "Count=%{marker.color}<br>Name=%{x}<br>YEAR=%{y}",
         "legendgroup": "Count=2455",
         "marker": {
          "color": [
           2455
          ],
          "coloraxis": "coloraxis",
          "symbol": "circle"
         },
         "mode": "markers",
         "name": "Count=2455",
         "scene": "scene",
         "showlegend": true,
         "type": "scatter3d",
         "x": [
          "ETHAN"
         ],
         "y": [
          2010
         ],
         "z": [
          2455
         ]
        },
        {
         "hoverlabel": {
          "namelength": 0
         },
         "hovertemplate": "Count=%{marker.color}<br>Name=%{x}<br>YEAR=%{y}",
         "legendgroup": "Count=2428",
         "marker": {
          "color": [
           2428
          ],
          "coloraxis": "coloraxis",
          "symbol": "diamond"
         },
         "mode": "markers",
         "name": "Count=2428",
         "scene": "scene",
         "showlegend": true,
         "type": "scatter3d",
         "x": [
          "JAYDEN"
         ],
         "y": [
          2010
         ],
         "z": [
          2428
         ]
        },
        {
         "hoverlabel": {
          "namelength": 0
         },
         "hovertemplate": "Count=%{marker.color}<br>Name=%{x}<br>YEAR=%{y}",
         "legendgroup": "Count=2406",
         "marker": {
          "color": [
           2406,
           2406
          ],
          "coloraxis": "coloraxis",
          "symbol": "square"
         },
         "mode": "markers",
         "name": "Count=2406",
         "scene": "scene",
         "showlegend": true,
         "type": "scatter3d",
         "x": [
          "DAVID",
          "MATTHEW"
         ],
         "y": [
          2010,
          2016
         ],
         "z": [
          2406,
          2406
         ]
        },
        {
         "hoverlabel": {
          "namelength": 0
         },
         "hovertemplate": "Count=%{marker.color}<br>Name=%{x}<br>YEAR=%{y}",
         "legendgroup": "Count=2371",
         "marker": {
          "color": [
           2371
          ],
          "coloraxis": "coloraxis",
          "symbol": "x"
         },
         "mode": "markers",
         "name": "Count=2371",
         "scene": "scene",
         "showlegend": true,
         "type": "scatter3d",
         "x": [
          "ANDREW"
         ],
         "y": [
          2010
         ],
         "z": [
          2371
         ]
        },
        {
         "hoverlabel": {
          "namelength": 0
         },
         "hovertemplate": "Count=%{marker.color}<br>Name=%{x}<br>YEAR=%{y}",
         "legendgroup": "Count=2259",
         "marker": {
          "color": [
           2259,
           2259
          ],
          "coloraxis": "coloraxis",
          "symbol": "cross"
         },
         "mode": "markers",
         "name": "Count=2259",
         "scene": "scene",
         "showlegend": true,
         "type": "scatter3d",
         "x": [
          "NATHAN",
          "JACOB"
         ],
         "y": [
          2010,
          2016
         ],
         "z": [
          2259,
          2259
         ]
        },
        {
         "hoverlabel": {
          "namelength": 0
         },
         "hovertemplate": "Count=%{marker.color}<br>Name=%{x}<br>YEAR=%{y}",
         "legendgroup": "Count=2215",
         "marker": {
          "color": [
           2215
          ],
          "coloraxis": "coloraxis",
          "symbol": "circle"
         },
         "mode": "markers",
         "name": "Count=2215",
         "scene": "scene",
         "showlegend": true,
         "type": "scatter3d",
         "x": [
          "MATTHEW"
         ],
         "y": [
          2010
         ],
         "z": [
          2215
         ]
        },
        {
         "hoverlabel": {
          "namelength": 0
         },
         "hovertemplate": "Count=%{marker.color}<br>Name=%{x}<br>YEAR=%{y}",
         "legendgroup": "Count=2116",
         "marker": {
          "color": [
           2116
          ],
          "coloraxis": "coloraxis",
          "symbol": "diamond"
         },
         "mode": "markers",
         "name": "Count=2116",
         "scene": "scene",
         "showlegend": true,
         "type": "scatter3d",
         "x": [
          "JOSHUA"
         ],
         "y": [
          2010
         ],
         "z": [
          2116
         ]
        },
        {
         "hoverlabel": {
          "namelength": 0
         },
         "hovertemplate": "Count=%{marker.color}<br>Name=%{x}<br>YEAR=%{y}",
         "legendgroup": "Count=2111",
         "marker": {
          "color": [
           2111
          ],
          "coloraxis": "coloraxis",
          "symbol": "square"
         },
         "mode": "markers",
         "name": "Count=2111",
         "scene": "scene",
         "showlegend": true,
         "type": "scatter3d",
         "x": [
          "NOAH"
         ],
         "y": [
          2010
         ],
         "z": [
          2111
         ]
        },
        {
         "hoverlabel": {
          "namelength": 0
         },
         "hovertemplate": "Count=%{marker.color}<br>Name=%{x}<br>YEAR=%{y}",
         "legendgroup": "Count=2021",
         "marker": {
          "color": [
           2021
          ],
          "coloraxis": "coloraxis",
          "symbol": "x"
         },
         "mode": "markers",
         "name": "Count=2021",
         "scene": "scene",
         "showlegend": true,
         "type": "scatter3d",
         "x": [
          "CHRISTOPHER"
         ],
         "y": [
          2010
         ],
         "z": [
          2021
         ]
        },
        {
         "hoverlabel": {
          "namelength": 0
         },
         "hovertemplate": "Count=%{marker.color}<br>Name=%{x}<br>YEAR=%{y}",
         "legendgroup": "Count=1980",
         "marker": {
          "color": [
           1980
          ],
          "coloraxis": "coloraxis",
          "symbol": "cross"
         },
         "mode": "markers",
         "name": "Count=1980",
         "scene": "scene",
         "showlegend": true,
         "type": "scatter3d",
         "x": [
          "JONATHAN"
         ],
         "y": [
          2010
         ],
         "z": [
          1980
         ]
        },
        {
         "hoverlabel": {
          "namelength": 0
         },
         "hovertemplate": "Count=%{marker.color}<br>Name=%{x}<br>YEAR=%{y}",
         "legendgroup": "Count=1957",
         "marker": {
          "color": [
           1957
          ],
          "coloraxis": "coloraxis",
          "symbol": "circle"
         },
         "mode": "markers",
         "name": "Count=1957",
         "scene": "scene",
         "showlegend": true,
         "type": "scatter3d",
         "x": [
          "ADRIAN"
         ],
         "y": [
          2010
         ],
         "z": [
          1957
         ]
        },
        {
         "hoverlabel": {
          "namelength": 0
         },
         "hovertemplate": "Count=%{marker.color}<br>Name=%{x}<br>YEAR=%{y}",
         "legendgroup": "Count=1931",
         "marker": {
          "color": [
           1931
          ],
          "coloraxis": "coloraxis",
          "symbol": "diamond"
         },
         "mode": "markers",
         "name": "Count=1931",
         "scene": "scene",
         "showlegend": true,
         "type": "scatter3d",
         "x": [
          "AIDEN"
         ],
         "y": [
          2010
         ],
         "z": [
          1931
         ]
        },
        {
         "hoverlabel": {
          "namelength": 0
         },
         "hovertemplate": "Count=%{marker.color}<br>Name=%{x}<br>YEAR=%{y}",
         "legendgroup": "Count=1921",
         "marker": {
          "color": [
           1921
          ],
          "coloraxis": "coloraxis",
          "symbol": "square"
         },
         "mode": "markers",
         "name": "Count=1921",
         "scene": "scene",
         "showlegend": true,
         "type": "scatter3d",
         "x": [
          "JOSE"
         ],
         "y": [
          2010
         ],
         "z": [
          1921
         ]
        },
        {
         "hoverlabel": {
          "namelength": 0
         },
         "hovertemplate": "Count=%{marker.color}<br>Name=%{x}<br>YEAR=%{y}",
         "legendgroup": "Count=1902",
         "marker": {
          "color": [
           1902
          ],
          "coloraxis": "coloraxis",
          "symbol": "x"
         },
         "mode": "markers",
         "name": "Count=1902",
         "scene": "scene",
         "showlegend": true,
         "type": "scatter3d",
         "x": [
          "JULIAN"
         ],
         "y": [
          2010
         ],
         "z": [
          1902
         ]
        },
        {
         "hoverlabel": {
          "namelength": 0
         },
         "hovertemplate": "Count=%{marker.color}<br>Name=%{x}<br>YEAR=%{y}",
         "legendgroup": "Count=1848",
         "marker": {
          "color": [
           1848
          ],
          "coloraxis": "coloraxis",
          "symbol": "cross"
         },
         "mode": "markers",
         "name": "Count=1848",
         "scene": "scene",
         "showlegend": true,
         "type": "scatter3d",
         "x": [
          "JOSEPH"
         ],
         "y": [
          2010
         ],
         "z": [
          1848
         ]
        },
        {
         "hoverlabel": {
          "namelength": 0
         },
         "hovertemplate": "Count=%{marker.color}<br>Name=%{x}<br>YEAR=%{y}",
         "legendgroup": "Count=1763",
         "marker": {
          "color": [
           1763
          ],
          "coloraxis": "coloraxis",
          "symbol": "circle"
         },
         "mode": "markers",
         "name": "Count=1763",
         "scene": "scene",
         "showlegend": true,
         "type": "scatter3d",
         "x": [
          "ISAAC"
         ],
         "y": [
          2010
         ],
         "z": [
          1763
         ]
        },
        {
         "hoverlabel": {
          "namelength": 0
         },
         "hovertemplate": "Count=%{marker.color}<br>Name=%{x}<br>YEAR=%{y}",
         "legendgroup": "Count=1628",
         "marker": {
          "color": [
           1628,
           1628
          ],
          "coloraxis": "coloraxis",
          "symbol": "diamond"
         },
         "mode": "markers",
         "name": "Count=1628",
         "scene": "scene",
         "showlegend": true,
         "type": "scatter3d",
         "x": [
          "GABRIEL",
          "LUCAS"
         ],
         "y": [
          2010,
          2016
         ],
         "z": [
          1628,
          1628
         ]
        },
        {
         "hoverlabel": {
          "namelength": 0
         },
         "hovertemplate": "Count=%{marker.color}<br>Name=%{x}<br>YEAR=%{y}",
         "legendgroup": "Count=1592",
         "marker": {
          "color": [
           1592
          ],
          "coloraxis": "coloraxis",
          "symbol": "square"
         },
         "mode": "markers",
         "name": "Count=1592",
         "scene": "scene",
         "showlegend": true,
         "type": "scatter3d",
         "x": [
          "CHRISTIAN"
         ],
         "y": [
          2010
         ],
         "z": [
          1592
         ]
        },
        {
         "hoverlabel": {
          "namelength": 0
         },
         "hovertemplate": "Count=%{marker.color}<br>Name=%{x}<br>YEAR=%{y}",
         "legendgroup": "Count=1560",
         "marker": {
          "color": [
           1560
          ],
          "coloraxis": "coloraxis",
          "symbol": "x"
         },
         "mode": "markers",
         "name": "Count=1560",
         "scene": "scene",
         "showlegend": true,
         "type": "scatter3d",
         "x": [
          "BRANDON"
         ],
         "y": [
          2010
         ],
         "z": [
          1560
         ]
        },
        {
         "hoverlabel": {
          "namelength": 0
         },
         "hovertemplate": "Count=%{marker.color}<br>Name=%{x}<br>YEAR=%{y}",
         "legendgroup": "Count=3540",
         "marker": {
          "color": [
           3540
          ],
          "coloraxis": "coloraxis",
          "symbol": "cross"
         },
         "mode": "markers",
         "name": "Count=3540",
         "scene": "scene",
         "showlegend": true,
         "type": "scatter3d",
         "x": [
          "SOPHIA"
         ],
         "y": [
          2011
         ],
         "z": [
          3540
         ]
        },
        {
         "hoverlabel": {
          "namelength": 0
         },
         "hovertemplate": "Count=%{marker.color}<br>Name=%{x}<br>YEAR=%{y}",
         "legendgroup": "Count=3032",
         "marker": {
          "color": [
           3032
          ],
          "coloraxis": "coloraxis",
          "symbol": "circle"
         },
         "mode": "markers",
         "name": "Count=3032",
         "scene": "scene",
         "showlegend": true,
         "type": "scatter3d",
         "x": [
          "ISABELLA"
         ],
         "y": [
          2011
         ],
         "z": [
          3032
         ]
        },
        {
         "hoverlabel": {
          "namelength": 0
         },
         "hovertemplate": "Count=%{marker.color}<br>Name=%{x}<br>YEAR=%{y}",
         "legendgroup": "Count=2387",
         "marker": {
          "color": [
           2387
          ],
          "coloraxis": "coloraxis",
          "symbol": "diamond"
         },
         "mode": "markers",
         "name": "Count=2387",
         "scene": "scene",
         "showlegend": true,
         "type": "scatter3d",
         "x": [
          "EMILY"
         ],
         "y": [
          2011
         ],
         "z": [
          2387
         ]
        },
        {
         "hoverlabel": {
          "namelength": 0
         },
         "hovertemplate": "Count=%{marker.color}<br>Name=%{x}<br>YEAR=%{y}",
         "legendgroup": "Count=2291",
         "marker": {
          "color": [
           2291
          ],
          "coloraxis": "coloraxis",
          "symbol": "square"
         },
         "mode": "markers",
         "name": "Count=2291",
         "scene": "scene",
         "showlegend": true,
         "type": "scatter3d",
         "x": [
          "MIA"
         ],
         "y": [
          2011
         ],
         "z": [
          2291
         ]
        },
        {
         "hoverlabel": {
          "namelength": 0
         },
         "hovertemplate": "Count=%{marker.color}<br>Name=%{x}<br>YEAR=%{y}",
         "legendgroup": "Count=2107",
         "marker": {
          "color": [
           2107
          ],
          "coloraxis": "coloraxis",
          "symbol": "x"
         },
         "mode": "markers",
         "name": "Count=2107",
         "scene": "scene",
         "showlegend": true,
         "type": "scatter3d",
         "x": [
          "EMMA"
         ],
         "y": [
          2011
         ],
         "z": [
          2107
         ]
        },
        {
         "hoverlabel": {
          "namelength": 0
         },
         "hovertemplate": "Count=%{marker.color}<br>Name=%{x}<br>YEAR=%{y}",
         "legendgroup": "Count=1780",
         "marker": {
          "color": [
           1780
          ],
          "coloraxis": "coloraxis",
          "symbol": "cross"
         },
         "mode": "markers",
         "name": "Count=1780",
         "scene": "scene",
         "showlegend": true,
         "type": "scatter3d",
         "x": [
          "OLIVIA"
         ],
         "y": [
          2011
         ],
         "z": [
          1780
         ]
        },
        {
         "hoverlabel": {
          "namelength": 0
         },
         "hovertemplate": "Count=%{marker.color}<br>Name=%{x}<br>YEAR=%{y}",
         "legendgroup": "Count=1555",
         "marker": {
          "color": [
           1555
          ],
          "coloraxis": "coloraxis",
          "symbol": "circle"
         },
         "mode": "markers",
         "name": "Count=1555",
         "scene": "scene",
         "showlegend": true,
         "type": "scatter3d",
         "x": [
          "SOFIA"
         ],
         "y": [
          2011
         ],
         "z": [
          1555
         ]
        },
        {
         "hoverlabel": {
          "namelength": 0
         },
         "hovertemplate": "Count=%{marker.color}<br>Name=%{x}<br>YEAR=%{y}",
         "legendgroup": "Count=1553",
         "marker": {
          "color": [
           1553,
           1553
          ],
          "coloraxis": "coloraxis",
          "symbol": "diamond"
         },
         "mode": "markers",
         "name": "Count=1553",
         "scene": "scene",
         "showlegend": true,
         "type": "scatter3d",
         "x": [
          "ABIGAIL",
          "DAVID"
         ],
         "y": [
          2011,
          2017
         ],
         "z": [
          1553,
          1553
         ]
        },
        {
         "hoverlabel": {
          "namelength": 0
         },
         "hovertemplate": "Count=%{marker.color}<br>Name=%{x}<br>YEAR=%{y}",
         "legendgroup": "Count=1539",
         "marker": {
          "color": [
           1539
          ],
          "coloraxis": "coloraxis",
          "symbol": "square"
         },
         "mode": "markers",
         "name": "Count=1539",
         "scene": "scene",
         "showlegend": true,
         "type": "scatter3d",
         "x": [
          "SAMANTHA"
         ],
         "y": [
          2011
         ],
         "z": [
          1539
         ]
        },
        {
         "hoverlabel": {
          "namelength": 0
         },
         "hovertemplate": "Count=%{marker.color}<br>Name=%{x}<br>YEAR=%{y}",
         "legendgroup": "Count=1484",
         "marker": {
          "color": [
           1484
          ],
          "coloraxis": "coloraxis",
          "symbol": "x"
         },
         "mode": "markers",
         "name": "Count=1484",
         "scene": "scene",
         "showlegend": true,
         "type": "scatter3d",
         "x": [
          "NATALIE"
         ],
         "y": [
          2011
         ],
         "z": [
          1484
         ]
        },
        {
         "hoverlabel": {
          "namelength": 0
         },
         "hovertemplate": "Count=%{marker.color}<br>Name=%{x}<br>YEAR=%{y}",
         "legendgroup": "Count=1438",
         "marker": {
          "color": [
           1438
          ],
          "coloraxis": "coloraxis",
          "symbol": "cross"
         },
         "mode": "markers",
         "name": "Count=1438",
         "scene": "scene",
         "showlegend": true,
         "type": "scatter3d",
         "x": [
          "CAMILA"
         ],
         "y": [
          2011
         ],
         "z": [
          1438
         ]
        },
        {
         "hoverlabel": {
          "namelength": 0
         },
         "hovertemplate": "Count=%{marker.color}<br>Name=%{x}<br>YEAR=%{y}",
         "legendgroup": "Count=1370",
         "marker": {
          "color": [
           1370,
           1370
          ],
          "coloraxis": "coloraxis",
          "symbol": "circle"
         },
         "mode": "markers",
         "name": "Count=1370",
         "scene": "scene",
         "showlegend": true,
         "type": "scatter3d",
         "x": [
          "AVA",
          "VICTORIA"
         ],
         "y": [
          2011,
          2013
         ],
         "z": [
          1370,
          1370
         ]
        },
        {
         "hoverlabel": {
          "namelength": 0
         },
         "hovertemplate": "Count=%{marker.color}<br>Name=%{x}<br>YEAR=%{y}",
         "legendgroup": "Count=1270",
         "marker": {
          "color": [
           1270
          ],
          "coloraxis": "coloraxis",
          "symbol": "diamond"
         },
         "mode": "markers",
         "name": "Count=1270",
         "scene": "scene",
         "showlegend": true,
         "type": "scatter3d",
         "x": [
          "CHLOE"
         ],
         "y": [
          2011
         ],
         "z": [
          1270
         ]
        },
        {
         "hoverlabel": {
          "namelength": 0
         },
         "hovertemplate": "Count=%{marker.color}<br>Name=%{x}<br>YEAR=%{y}",
         "legendgroup": "Count=1268",
         "marker": {
          "color": [
           1268
          ],
          "coloraxis": "coloraxis",
          "symbol": "square"
         },
         "mode": "markers",
         "name": "Count=1268",
         "scene": "scene",
         "showlegend": true,
         "type": "scatter3d",
         "x": [
          "VICTORIA"
         ],
         "y": [
          2011
         ],
         "z": [
          1268
         ]
        },
        {
         "hoverlabel": {
          "namelength": 0
         },
         "hovertemplate": "Count=%{marker.color}<br>Name=%{x}<br>YEAR=%{y}",
         "legendgroup": "Count=1196",
         "marker": {
          "color": [
           1196
          ],
          "coloraxis": "coloraxis",
          "symbol": "x"
         },
         "mode": "markers",
         "name": "Count=1196",
         "scene": "scene",
         "showlegend": true,
         "type": "scatter3d",
         "x": [
          "ELIZABETH"
         ],
         "y": [
          2011
         ],
         "z": [
          1196
         ]
        },
        {
         "hoverlabel": {
          "namelength": 0
         },
         "hovertemplate": "Count=%{marker.color}<br>Name=%{x}<br>YEAR=%{y}",
         "legendgroup": "Count=1147",
         "marker": {
          "color": [
           1147
          ],
          "coloraxis": "coloraxis",
          "symbol": "cross"
         },
         "mode": "markers",
         "name": "Count=1147",
         "scene": "scene",
         "showlegend": true,
         "type": "scatter3d",
         "x": [
          "ASHLEY"
         ],
         "y": [
          2011
         ],
         "z": [
          1147
         ]
        },
        {
         "hoverlabel": {
          "namelength": 0
         },
         "hovertemplate": "Count=%{marker.color}<br>Name=%{x}<br>YEAR=%{y}",
         "legendgroup": "Count=1100",
         "marker": {
          "color": [
           1100
          ],
          "coloraxis": "coloraxis",
          "symbol": "circle"
         },
         "mode": "markers",
         "name": "Count=1100",
         "scene": "scene",
         "showlegend": true,
         "type": "scatter3d",
         "x": [
          "MADISON"
         ],
         "y": [
          2011
         ],
         "z": [
          1100
         ]
        },
        {
         "hoverlabel": {
          "namelength": 0
         },
         "hovertemplate": "Count=%{marker.color}<br>Name=%{x}<br>YEAR=%{y}",
         "legendgroup": "Count=1054",
         "marker": {
          "color": [
           1054
          ],
          "coloraxis": "coloraxis",
          "symbol": "diamond"
         },
         "mode": "markers",
         "name": "Count=1054",
         "scene": "scene",
         "showlegend": true,
         "type": "scatter3d",
         "x": [
          "EVELYN"
         ],
         "y": [
          2011
         ],
         "z": [
          1054
         ]
        },
        {
         "hoverlabel": {
          "namelength": 0
         },
         "hovertemplate": "Count=%{marker.color}<br>Name=%{x}<br>YEAR=%{y}",
         "legendgroup": "Count=988",
         "marker": {
          "color": [
           988
          ],
          "coloraxis": "coloraxis",
          "symbol": "square"
         },
         "mode": "markers",
         "name": "Count=988",
         "scene": "scene",
         "showlegend": true,
         "type": "scatter3d",
         "x": [
          "KIMBERLY"
         ],
         "y": [
          2011
         ],
         "z": [
          988
         ]
        },
        {
         "hoverlabel": {
          "namelength": 0
         },
         "hovertemplate": "Count=%{marker.color}<br>Name=%{x}<br>YEAR=%{y}",
         "legendgroup": "Count=931",
         "marker": {
          "color": [
           931
          ],
          "coloraxis": "coloraxis",
          "symbol": "x"
         },
         "mode": "markers",
         "name": "Count=931",
         "scene": "scene",
         "showlegend": true,
         "type": "scatter3d",
         "x": [
          "ALYSSA"
         ],
         "y": [
          2011
         ],
         "z": [
          931
         ]
        },
        {
         "hoverlabel": {
          "namelength": 0
         },
         "hovertemplate": "Count=%{marker.color}<br>Name=%{x}<br>YEAR=%{y}",
         "legendgroup": "Count=928",
         "marker": {
          "color": [
           928
          ],
          "coloraxis": "coloraxis",
          "symbol": "cross"
         },
         "mode": "markers",
         "name": "Count=928",
         "scene": "scene",
         "showlegend": true,
         "type": "scatter3d",
         "x": [
          "HAILEY"
         ],
         "y": [
          2011
         ],
         "z": [
          928
         ]
        },
        {
         "hoverlabel": {
          "namelength": 0
         },
         "hovertemplate": "Count=%{marker.color}<br>Name=%{x}<br>YEAR=%{y}",
         "legendgroup": "Count=924",
         "marker": {
          "color": [
           924
          ],
          "coloraxis": "coloraxis",
          "symbol": "circle"
         },
         "mode": "markers",
         "name": "Count=924",
         "scene": "scene",
         "showlegend": true,
         "type": "scatter3d",
         "x": [
          "ANDREA"
         ],
         "y": [
          2011
         ],
         "z": [
          924
         ]
        },
        {
         "hoverlabel": {
          "namelength": 0
         },
         "hovertemplate": "Count=%{marker.color}<br>Name=%{x}<br>YEAR=%{y}",
         "legendgroup": "Count=908",
         "marker": {
          "color": [
           908,
           908
          ],
          "coloraxis": "coloraxis",
          "symbol": "diamond"
         },
         "mode": "markers",
         "name": "Count=908",
         "scene": "scene",
         "showlegend": true,
         "type": "scatter3d",
         "x": [
          "ELLA",
          "CHARLOTTE"
         ],
         "y": [
          2011,
          2012
         ],
         "z": [
          908,
          908
         ]
        },
        {
         "hoverlabel": {
          "namelength": 0
         },
         "hovertemplate": "Count=%{marker.color}<br>Name=%{x}<br>YEAR=%{y}",
         "legendgroup": "Count=898",
         "marker": {
          "color": [
           898
          ],
          "coloraxis": "coloraxis",
          "symbol": "square"
         },
         "mode": "markers",
         "name": "Count=898",
         "scene": "scene",
         "showlegend": true,
         "type": "scatter3d",
         "x": [
          "ALEXA"
         ],
         "y": [
          2011
         ],
         "z": [
          898
         ]
        },
        {
         "hoverlabel": {
          "namelength": 0
         },
         "hovertemplate": "Count=%{marker.color}<br>Name=%{x}<br>YEAR=%{y}",
         "legendgroup": "Count=896",
         "marker": {
          "color": [
           896
          ],
          "coloraxis": "coloraxis",
          "symbol": "x"
         },
         "mode": "markers",
         "name": "Count=896",
         "scene": "scene",
         "showlegend": true,
         "type": "scatter3d",
         "x": [
          "ZOE"
         ],
         "y": [
          2011
         ],
         "z": [
          896
         ]
        },
        {
         "hoverlabel": {
          "namelength": 0
         },
         "hovertemplate": "Count=%{marker.color}<br>Name=%{x}<br>YEAR=%{y}",
         "legendgroup": "Count=3148",
         "marker": {
          "color": [
           3148
          ],
          "coloraxis": "coloraxis",
          "symbol": "cross"
         },
         "mode": "markers",
         "name": "Count=3148",
         "scene": "scene",
         "showlegend": true,
         "type": "scatter3d",
         "x": [
          "JACOB"
         ],
         "y": [
          2011
         ],
         "z": [
          3148
         ]
        },
        {
         "hoverlabel": {
          "namelength": 0
         },
         "hovertemplate": "Count=%{marker.color}<br>Name=%{x}<br>YEAR=%{y}",
         "legendgroup": "Count=2872",
         "marker": {
          "color": [
           2872
          ],
          "coloraxis": "coloraxis",
          "symbol": "circle"
         },
         "mode": "markers",
         "name": "Count=2872",
         "scene": "scene",
         "showlegend": true,
         "type": "scatter3d",
         "x": [
          "DANIEL"
         ],
         "y": [
          2011
         ],
         "z": [
          2872
         ]
        },
        {
         "hoverlabel": {
          "namelength": 0
         },
         "hovertemplate": "Count=%{marker.color}<br>Name=%{x}<br>YEAR=%{y}",
         "legendgroup": "Count=2741",
         "marker": {
          "color": [
           2741
          ],
          "coloraxis": "coloraxis",
          "symbol": "diamond"
         },
         "mode": "markers",
         "name": "Count=2741",
         "scene": "scene",
         "showlegend": true,
         "type": "scatter3d",
         "x": [
          "JAYDEN"
         ],
         "y": [
          2011
         ],
         "z": [
          2741
         ]
        },
        {
         "hoverlabel": {
          "namelength": 0
         },
         "hovertemplate": "Count=%{marker.color}<br>Name=%{x}<br>YEAR=%{y}",
         "legendgroup": "Count=2676",
         "marker": {
          "color": [
           2676
          ],
          "coloraxis": "coloraxis",
          "symbol": "square"
         },
         "mode": "markers",
         "name": "Count=2676",
         "scene": "scene",
         "showlegend": true,
         "type": "scatter3d",
         "x": [
          "ANTHONY"
         ],
         "y": [
          2011
         ],
         "z": [
          2676
         ]
        },
        {
         "hoverlabel": {
          "namelength": 0
         },
         "hovertemplate": "Count=%{marker.color}<br>Name=%{x}<br>YEAR=%{y}",
         "legendgroup": "Count=2456",
         "marker": {
          "color": [
           2456
          ],
          "coloraxis": "coloraxis",
          "symbol": "x"
         },
         "mode": "markers",
         "name": "Count=2456",
         "scene": "scene",
         "showlegend": true,
         "type": "scatter3d",
         "x": [
          "MATTHEW"
         ],
         "y": [
          2011
         ],
         "z": [
          2456
         ]
        },
        {
         "hoverlabel": {
          "namelength": 0
         },
         "hovertemplate": "Count=%{marker.color}<br>Name=%{x}<br>YEAR=%{y}",
         "legendgroup": "Count=2449",
         "marker": {
          "color": [
           2449
          ],
          "coloraxis": "coloraxis",
          "symbol": "cross"
         },
         "mode": "markers",
         "name": "Count=2449",
         "scene": "scene",
         "showlegend": true,
         "type": "scatter3d",
         "x": [
          "ALEXANDER"
         ],
         "y": [
          2011
         ],
         "z": [
          2449
         ]
        },
        {
         "hoverlabel": {
          "namelength": 0
         },
         "hovertemplate": "Count=%{marker.color}<br>Name=%{x}<br>YEAR=%{y}",
         "legendgroup": "Count=2288",
         "marker": {
          "color": [
           2288
          ],
          "coloraxis": "coloraxis",
          "symbol": "circle"
         },
         "mode": "markers",
         "name": "Count=2288",
         "scene": "scene",
         "showlegend": true,
         "type": "scatter3d",
         "x": [
          "DAVID"
         ],
         "y": [
          2011
         ],
         "z": [
          2288
         ]
        },
        {
         "hoverlabel": {
          "namelength": 0
         },
         "hovertemplate": "Count=%{marker.color}<br>Name=%{x}<br>YEAR=%{y}",
         "legendgroup": "Count=2276",
         "marker": {
          "color": [
           2276
          ],
          "coloraxis": "coloraxis",
          "symbol": "diamond"
         },
         "mode": "markers",
         "name": "Count=2276",
         "scene": "scene",
         "showlegend": true,
         "type": "scatter3d",
         "x": [
          "ANDREW"
         ],
         "y": [
          2011
         ],
         "z": [
          2276
         ]
        },
        {
         "hoverlabel": {
          "namelength": 0
         },
         "hovertemplate": "Count=%{marker.color}<br>Name=%{x}<br>YEAR=%{y}",
         "legendgroup": "Count=2241",
         "marker": {
          "color": [
           2241
          ],
          "coloraxis": "coloraxis",
          "symbol": "square"
         },
         "mode": "markers",
         "name": "Count=2241",
         "scene": "scene",
         "showlegend": true,
         "type": "scatter3d",
         "x": [
          "NATHAN"
         ],
         "y": [
          2011
         ],
         "z": [
          2241
         ]
        },
        {
         "hoverlabel": {
          "namelength": 0
         },
         "hovertemplate": "Count=%{marker.color}<br>Name=%{x}<br>YEAR=%{y}",
         "legendgroup": "Count=2214",
         "marker": {
          "color": [
           2214
          ],
          "coloraxis": "coloraxis",
          "symbol": "x"
         },
         "mode": "markers",
         "name": "Count=2214",
         "scene": "scene",
         "showlegend": true,
         "type": "scatter3d",
         "x": [
          "NOAH"
         ],
         "y": [
          2011
         ],
         "z": [
          2214
         ]
        },
        {
         "hoverlabel": {
          "namelength": 0
         },
         "hovertemplate": "Count=%{marker.color}<br>Name=%{x}<br>YEAR=%{y}",
         "legendgroup": "Count=2152",
         "marker": {
          "color": [
           2152
          ],
          "coloraxis": "coloraxis",
          "symbol": "cross"
         },
         "mode": "markers",
         "name": "Count=2152",
         "scene": "scene",
         "showlegend": true,
         "type": "scatter3d",
         "x": [
          "ANGEL"
         ],
         "y": [
          2011
         ],
         "z": [
          2152
         ]
        },
        {
         "hoverlabel": {
          "namelength": 0
         },
         "hovertemplate": "Count=%{marker.color}<br>Name=%{x}<br>YEAR=%{y}",
         "legendgroup": "Count=2090",
         "marker": {
          "color": [
           2090
          ],
          "coloraxis": "coloraxis",
          "symbol": "circle"
         },
         "mode": "markers",
         "name": "Count=2090",
         "scene": "scene",
         "showlegend": true,
         "type": "scatter3d",
         "x": [
          "MICHAEL"
         ],
         "y": [
          2011
         ],
         "z": [
          2090
         ]
        },
        {
         "hoverlabel": {
          "namelength": 0
         },
         "hovertemplate": "Count=%{marker.color}<br>Name=%{x}<br>YEAR=%{y}",
         "legendgroup": "Count=1899",
         "marker": {
          "color": [
           1899,
           1899
          ],
          "coloraxis": "coloraxis",
          "symbol": "diamond"
         },
         "mode": "markers",
         "name": "Count=1899",
         "scene": "scene",
         "showlegend": true,
         "type": "scatter3d",
         "x": [
          "AIDEN",
          "JOSHUA"
         ],
         "y": [
          2011,
          2011
         ],
         "z": [
          1899,
          1899
         ]
        },
        {
         "hoverlabel": {
          "namelength": 0
         },
         "hovertemplate": "Count=%{marker.color}<br>Name=%{x}<br>YEAR=%{y}",
         "legendgroup": "Count=1867",
         "marker": {
          "color": [
           1867
          ],
          "coloraxis": "coloraxis",
          "symbol": "square"
         },
         "mode": "markers",
         "name": "Count=1867",
         "scene": "scene",
         "showlegend": true,
         "type": "scatter3d",
         "x": [
          "JONATHAN"
         ],
         "y": [
          2011
         ],
         "z": [
          1867
         ]
        },
        {
         "hoverlabel": {
          "namelength": 0
         },
         "hovertemplate": "Count=%{marker.color}<br>Name=%{x}<br>YEAR=%{y}",
         "legendgroup": "Count=1861",
         "marker": {
          "color": [
           1861
          ],
          "coloraxis": "coloraxis",
          "symbol": "x"
         },
         "mode": "markers",
         "name": "Count=1861",
         "scene": "scene",
         "showlegend": true,
         "type": "scatter3d",
         "x": [
          "ISAAC"
         ],
         "y": [
          2011
         ],
         "z": [
          1861
         ]
        },
        {
         "hoverlabel": {
          "namelength": 0
         },
         "hovertemplate": "Count=%{marker.color}<br>Name=%{x}<br>YEAR=%{y}",
         "legendgroup": "Count=1823",
         "marker": {
          "color": [
           1823,
           1823
          ],
          "coloraxis": "coloraxis",
          "symbol": "cross"
         },
         "mode": "markers",
         "name": "Count=1823",
         "scene": "scene",
         "showlegend": true,
         "type": "scatter3d",
         "x": [
          "MASON",
          "MASON"
         ],
         "y": [
          2011,
          2012
         ],
         "z": [
          1823,
          1823
         ]
        },
        {
         "hoverlabel": {
          "namelength": 0
         },
         "hovertemplate": "Count=%{marker.color}<br>Name=%{x}<br>YEAR=%{y}",
         "legendgroup": "Count=1804",
         "marker": {
          "color": [
           1804
          ],
          "coloraxis": "coloraxis",
          "symbol": "circle"
         },
         "mode": "markers",
         "name": "Count=1804",
         "scene": "scene",
         "showlegend": true,
         "type": "scatter3d",
         "x": [
          "ADRIAN"
         ],
         "y": [
          2011
         ],
         "z": [
          1804
         ]
        },
        {
         "hoverlabel": {
          "namelength": 0
         },
         "hovertemplate": "Count=%{marker.color}<br>Name=%{x}<br>YEAR=%{y}",
         "legendgroup": "Count=1663",
         "marker": {
          "color": [
           1663,
           1663
          ],
          "coloraxis": "coloraxis",
          "symbol": "diamond"
         },
         "mode": "markers",
         "name": "Count=1663",
         "scene": "scene",
         "showlegend": true,
         "type": "scatter3d",
         "x": [
          "JOSE",
          "BENJAMIN"
         ],
         "y": [
          2011,
          2012
         ],
         "z": [
          1663,
          1663
         ]
        },
        {
         "hoverlabel": {
          "namelength": 0
         },
         "hovertemplate": "Count=%{marker.color}<br>Name=%{x}<br>YEAR=%{y}",
         "legendgroup": "Count=1582",
         "marker": {
          "color": [
           1582
          ],
          "coloraxis": "coloraxis",
          "symbol": "square"
         },
         "mode": "markers",
         "name": "Count=1582",
         "scene": "scene",
         "showlegend": true,
         "type": "scatter3d",
         "x": [
          "BENJAMIN"
         ],
         "y": [
          2011
         ],
         "z": [
          1582
         ]
        },
        {
         "hoverlabel": {
          "namelength": 0
         },
         "hovertemplate": "Count=%{marker.color}<br>Name=%{x}<br>YEAR=%{y}",
         "legendgroup": "Count=1525",
         "marker": {
          "color": [
           1525,
           1525
          ],
          "coloraxis": "coloraxis",
          "symbol": "x"
         },
         "mode": "markers",
         "name": "Count=1525",
         "scene": "scene",
         "showlegend": true,
         "type": "scatter3d",
         "x": [
          "AARON",
          "ANGEL"
         ],
         "y": [
          2011,
          2015
         ],
         "z": [
          1525,
          1525
         ]
        },
        {
         "hoverlabel": {
          "namelength": 0
         },
         "hovertemplate": "Count=%{marker.color}<br>Name=%{x}<br>YEAR=%{y}",
         "legendgroup": "Count=3610",
         "marker": {
          "color": [
           3610
          ],
          "coloraxis": "coloraxis",
          "symbol": "cross"
         },
         "mode": "markers",
         "name": "Count=3610",
         "scene": "scene",
         "showlegend": true,
         "type": "scatter3d",
         "x": [
          "SOPHIA"
         ],
         "y": [
          2012
         ],
         "z": [
          3610
         ]
        },
        {
         "hoverlabel": {
          "namelength": 0
         },
         "hovertemplate": "Count=%{marker.color}<br>Name=%{x}<br>YEAR=%{y}",
         "legendgroup": "Count=2423",
         "marker": {
          "color": [
           2423
          ],
          "coloraxis": "coloraxis",
          "symbol": "circle"
         },
         "mode": "markers",
         "name": "Count=2423",
         "scene": "scene",
         "showlegend": true,
         "type": "scatter3d",
         "x": [
          "EMMA"
         ],
         "y": [
          2012
         ],
         "z": [
          2423
         ]
        },
        {
         "hoverlabel": {
          "namelength": 0
         },
         "hovertemplate": "Count=%{marker.color}<br>Name=%{x}<br>YEAR=%{y}",
         "legendgroup": "Count=2416",
         "marker": {
          "color": [
           2416
          ],
          "coloraxis": "coloraxis",
          "symbol": "diamond"
         },
         "mode": "markers",
         "name": "Count=2416",
         "scene": "scene",
         "showlegend": true,
         "type": "scatter3d",
         "x": [
          "EMILY"
         ],
         "y": [
          2012
         ],
         "z": [
          2416
         ]
        },
        {
         "hoverlabel": {
          "namelength": 0
         },
         "hovertemplate": "Count=%{marker.color}<br>Name=%{x}<br>YEAR=%{y}",
         "legendgroup": "Count=2307",
         "marker": {
          "color": [
           2307
          ],
          "coloraxis": "coloraxis",
          "symbol": "square"
         },
         "mode": "markers",
         "name": "Count=2307",
         "scene": "scene",
         "showlegend": true,
         "type": "scatter3d",
         "x": [
          "MIA"
         ],
         "y": [
          2012
         ],
         "z": [
          2307
         ]
        },
        {
         "hoverlabel": {
          "namelength": 0
         },
         "hovertemplate": "Count=%{marker.color}<br>Name=%{x}<br>YEAR=%{y}",
         "legendgroup": "Count=1894",
         "marker": {
          "color": [
           1894
          ],
          "coloraxis": "coloraxis",
          "symbol": "x"
         },
         "mode": "markers",
         "name": "Count=1894",
         "scene": "scene",
         "showlegend": true,
         "type": "scatter3d",
         "x": [
          "OLIVIA"
         ],
         "y": [
          2012
         ],
         "z": [
          1894
         ]
        },
        {
         "hoverlabel": {
          "namelength": 0
         },
         "hovertemplate": "Count=%{marker.color}<br>Name=%{x}<br>YEAR=%{y}",
         "legendgroup": "Count=1669",
         "marker": {
          "color": [
           1669
          ],
          "coloraxis": "coloraxis",
          "symbol": "cross"
         },
         "mode": "markers",
         "name": "Count=1669",
         "scene": "scene",
         "showlegend": true,
         "type": "scatter3d",
         "x": [
          "SOFIA"
         ],
         "y": [
          2012
         ],
         "z": [
          1669
         ]
        },
        {
         "hoverlabel": {
          "namelength": 0
         },
         "hovertemplate": "Count=%{marker.color}<br>Name=%{x}<br>YEAR=%{y}",
         "legendgroup": "Count=1638",
         "marker": {
          "color": [
           1638
          ],
          "coloraxis": "coloraxis",
          "symbol": "circle"
         },
         "mode": "markers",
         "name": "Count=1638",
         "scene": "scene",
         "showlegend": true,
         "type": "scatter3d",
         "x": [
          "ABIGAIL"
         ],
         "y": [
          2012
         ],
         "z": [
          1638
         ]
        },
        {
         "hoverlabel": {
          "namelength": 0
         },
         "hovertemplate": "Count=%{marker.color}<br>Name=%{x}<br>YEAR=%{y}",
         "legendgroup": "Count=1440",
         "marker": {
          "color": [
           1440
          ],
          "coloraxis": "coloraxis",
          "symbol": "diamond"
         },
         "mode": "markers",
         "name": "Count=1440",
         "scene": "scene",
         "showlegend": true,
         "type": "scatter3d",
         "x": [
          "SAMANTHA"
         ],
         "y": [
          2012
         ],
         "z": [
          1440
         ]
        },
        {
         "hoverlabel": {
          "namelength": 0
         },
         "hovertemplate": "Count=%{marker.color}<br>Name=%{x}<br>YEAR=%{y}",
         "legendgroup": "Count=1394",
         "marker": {
          "color": [
           1394
          ],
          "coloraxis": "coloraxis",
          "symbol": "square"
         },
         "mode": "markers",
         "name": "Count=1394",
         "scene": "scene",
         "showlegend": true,
         "type": "scatter3d",
         "x": [
          "CAMILA"
         ],
         "y": [
          2012
         ],
         "z": [
          1394
         ]
        },
        {
         "hoverlabel": {
          "namelength": 0
         },
         "hovertemplate": "Count=%{marker.color}<br>Name=%{x}<br>YEAR=%{y}",
         "legendgroup": "Count=1289",
         "marker": {
          "color": [
           1289
          ],
          "coloraxis": "coloraxis",
          "symbol": "x"
         },
         "mode": "markers",
         "name": "Count=1289",
         "scene": "scene",
         "showlegend": true,
         "type": "scatter3d",
         "x": [
          "VICTORIA"
         ],
         "y": [
          2012
         ],
         "z": [
          1289
         ]
        },
        {
         "hoverlabel": {
          "namelength": 0
         },
         "hovertemplate": "Count=%{marker.color}<br>Name=%{x}<br>YEAR=%{y}",
         "legendgroup": "Count=1288",
         "marker": {
          "color": [
           1288
          ],
          "coloraxis": "coloraxis",
          "symbol": "cross"
         },
         "mode": "markers",
         "name": "Count=1288",
         "scene": "scene",
         "showlegend": true,
         "type": "scatter3d",
         "x": [
          "NATALIE"
         ],
         "y": [
          2012
         ],
         "z": [
          1288
         ]
        },
        {
         "hoverlabel": {
          "namelength": 0
         },
         "hovertemplate": "Count=%{marker.color}<br>Name=%{x}<br>YEAR=%{y}",
         "legendgroup": "Count=1094",
         "marker": {
          "color": [
           1094
          ],
          "coloraxis": "coloraxis",
          "symbol": "circle"
         },
         "mode": "markers",
         "name": "Count=1094",
         "scene": "scene",
         "showlegend": true,
         "type": "scatter3d",
         "x": [
          "ELIZABETH"
         ],
         "y": [
          2012
         ],
         "z": [
          1094
         ]
        },
        {
         "hoverlabel": {
          "namelength": 0
         },
         "hovertemplate": "Count=%{marker.color}<br>Name=%{x}<br>YEAR=%{y}",
         "legendgroup": "Count=1091",
         "marker": {
          "color": [
           1091
          ],
          "coloraxis": "coloraxis",
          "symbol": "diamond"
         },
         "mode": "markers",
         "name": "Count=1091",
         "scene": "scene",
         "showlegend": true,
         "type": "scatter3d",
         "x": [
          "CHLOE"
         ],
         "y": [
          2012
         ],
         "z": [
          1091
         ]
        },
        {
         "hoverlabel": {
          "namelength": 0
         },
         "hovertemplate": "Count=%{marker.color}<br>Name=%{x}<br>YEAR=%{y}",
         "legendgroup": "Count=1037",
         "marker": {
          "color": [
           1037
          ],
          "coloraxis": "coloraxis",
          "symbol": "square"
         },
         "mode": "markers",
         "name": "Count=1037",
         "scene": "scene",
         "showlegend": true,
         "type": "scatter3d",
         "x": [
          "EVELYN"
         ],
         "y": [
          2012
         ],
         "z": [
          1037
         ]
        },
        {
         "hoverlabel": {
          "namelength": 0
         },
         "hovertemplate": "Count=%{marker.color}<br>Name=%{x}<br>YEAR=%{y}",
         "legendgroup": "Count=1029",
         "marker": {
          "color": [
           1029,
           1029
          ],
          "coloraxis": "coloraxis",
          "symbol": "x"
         },
         "mode": "markers",
         "name": "Count=1029",
         "scene": "scene",
         "showlegend": true,
         "type": "scatter3d",
         "x": [
          "GENESIS",
          "MADISON"
         ],
         "y": [
          2012,
          2015
         ],
         "z": [
          1029,
          1029
         ]
        },
        {
         "hoverlabel": {
          "namelength": 0
         },
         "hovertemplate": "Count=%{marker.color}<br>Name=%{x}<br>YEAR=%{y}",
         "legendgroup": "Count=997",
         "marker": {
          "color": [
           997
          ],
          "coloraxis": "coloraxis",
          "symbol": "cross"
         },
         "mode": "markers",
         "name": "Count=997",
         "scene": "scene",
         "showlegend": true,
         "type": "scatter3d",
         "x": [
          "ASHLEY"
         ],
         "y": [
          2012
         ],
         "z": [
          997
         ]
        },
        {
         "hoverlabel": {
          "namelength": 0
         },
         "hovertemplate": "Count=%{marker.color}<br>Name=%{x}<br>YEAR=%{y}",
         "legendgroup": "Count=985",
         "marker": {
          "color": [
           985,
           985
          ],
          "coloraxis": "coloraxis",
          "symbol": "circle"
         },
         "mode": "markers",
         "name": "Count=985",
         "scene": "scene",
         "showlegend": true,
         "type": "scatter3d",
         "x": [
          "MADISON",
          "MADISON"
         ],
         "y": [
          2012,
          2014
         ],
         "z": [
          985,
          985
         ]
        },
        {
         "hoverlabel": {
          "namelength": 0
         },
         "hovertemplate": "Count=%{marker.color}<br>Name=%{x}<br>YEAR=%{y}",
         "legendgroup": "Count=980",
         "marker": {
          "color": [
           980
          ],
          "coloraxis": "coloraxis",
          "symbol": "diamond"
         },
         "mode": "markers",
         "name": "Count=980",
         "scene": "scene",
         "showlegend": true,
         "type": "scatter3d",
         "x": [
          "ZOE"
         ],
         "y": [
          2012
         ],
         "z": [
          980
         ]
        },
        {
         "hoverlabel": {
          "namelength": 0
         },
         "hovertemplate": "Count=%{marker.color}<br>Name=%{x}<br>YEAR=%{y}",
         "legendgroup": "Count=897",
         "marker": {
          "color": [
           897,
           897
          ],
          "coloraxis": "coloraxis",
          "symbol": "square"
         },
         "mode": "markers",
         "name": "Count=897",
         "scene": "scene",
         "showlegend": true,
         "type": "scatter3d",
         "x": [
          "HAILEY",
          "ALLISON"
         ],
         "y": [
          2012,
          2015
         ],
         "z": [
          897,
          897
         ]
        },
        {
         "hoverlabel": {
          "namelength": 0
         },
         "hovertemplate": "Count=%{marker.color}<br>Name=%{x}<br>YEAR=%{y}",
         "legendgroup": "Count=885",
         "marker": {
          "color": [
           885
          ],
          "coloraxis": "coloraxis",
          "symbol": "x"
         },
         "mode": "markers",
         "name": "Count=885",
         "scene": "scene",
         "showlegend": true,
         "type": "scatter3d",
         "x": [
          "MELANIE"
         ],
         "y": [
          2012
         ],
         "z": [
          885
         ]
        },
        {
         "hoverlabel": {
          "namelength": 0
         },
         "hovertemplate": "Count=%{marker.color}<br>Name=%{x}<br>YEAR=%{y}",
         "legendgroup": "Count=854",
         "marker": {
          "color": [
           854
          ],
          "coloraxis": "coloraxis",
          "symbol": "cross"
         },
         "mode": "markers",
         "name": "Count=854",
         "scene": "scene",
         "showlegend": true,
         "type": "scatter3d",
         "x": [
          "AUDREY"
         ],
         "y": [
          2012
         ],
         "z": [
          854
         ]
        },
        {
         "hoverlabel": {
          "namelength": 0
         },
         "hovertemplate": "Count=%{marker.color}<br>Name=%{x}<br>YEAR=%{y}",
         "legendgroup": "Count=847",
         "marker": {
          "color": [
           847
          ],
          "coloraxis": "coloraxis",
          "symbol": "circle"
         },
         "mode": "markers",
         "name": "Count=847",
         "scene": "scene",
         "showlegend": true,
         "type": "scatter3d",
         "x": [
          "KIMBERLY"
         ],
         "y": [
          2012
         ],
         "z": [
          847
         ]
        },
        {
         "hoverlabel": {
          "namelength": 0
         },
         "hovertemplate": "Count=%{marker.color}<br>Name=%{x}<br>YEAR=%{y}",
         "legendgroup": "Count=2955",
         "marker": {
          "color": [
           2955
          ],
          "coloraxis": "coloraxis",
          "symbol": "diamond"
         },
         "mode": "markers",
         "name": "Count=2955",
         "scene": "scene",
         "showlegend": true,
         "type": "scatter3d",
         "x": [
          "JACOB"
         ],
         "y": [
          2012
         ],
         "z": [
          2955
         ]
        },
        {
         "hoverlabel": {
          "namelength": 0
         },
         "hovertemplate": "Count=%{marker.color}<br>Name=%{x}<br>YEAR=%{y}",
         "legendgroup": "Count=2848",
         "marker": {
          "color": [
           2848
          ],
          "coloraxis": "coloraxis",
          "symbol": "square"
         },
         "mode": "markers",
         "name": "Count=2848",
         "scene": "scene",
         "showlegend": true,
         "type": "scatter3d",
         "x": [
          "JAYDEN"
         ],
         "y": [
          2012
         ],
         "z": [
          2848
         ]
        },
        {
         "hoverlabel": {
          "namelength": 0
         },
         "hovertemplate": "Count=%{marker.color}<br>Name=%{x}<br>YEAR=%{y}",
         "legendgroup": "Count=2659",
         "marker": {
          "color": [
           2659
          ],
          "coloraxis": "coloraxis",
          "symbol": "x"
         },
         "mode": "markers",
         "name": "Count=2659",
         "scene": "scene",
         "showlegend": true,
         "type": "scatter3d",
         "x": [
          "ETHAN"
         ],
         "y": [
          2012
         ],
         "z": [
          2659
         ]
        },
        {
         "hoverlabel": {
          "namelength": 0
         },
         "hovertemplate": "Count=%{marker.color}<br>Name=%{x}<br>YEAR=%{y}",
         "legendgroup": "Count=2654",
         "marker": {
          "color": [
           2654
          ],
          "coloraxis": "coloraxis",
          "symbol": "cross"
         },
         "mode": "markers",
         "name": "Count=2654",
         "scene": "scene",
         "showlegend": true,
         "type": "scatter3d",
         "x": [
          "DANIEL"
         ],
         "y": [
          2012
         ],
         "z": [
          2654
         ]
        },
        {
         "hoverlabel": {
          "namelength": 0
         },
         "hovertemplate": "Count=%{marker.color}<br>Name=%{x}<br>YEAR=%{y}",
         "legendgroup": "Count=2623",
         "marker": {
          "color": [
           2623
          ],
          "coloraxis": "coloraxis",
          "symbol": "circle"
         },
         "mode": "markers",
         "name": "Count=2623",
         "scene": "scene",
         "showlegend": true,
         "type": "scatter3d",
         "x": [
          "MATTHEW"
         ],
         "y": [
          2012
         ],
         "z": [
          2623
         ]
        },
        {
         "hoverlabel": {
          "namelength": 0
         },
         "hovertemplate": "Count=%{marker.color}<br>Name=%{x}<br>YEAR=%{y}",
         "legendgroup": "Count=2491",
         "marker": {
          "color": [
           2491
          ],
          "coloraxis": "coloraxis",
          "symbol": "diamond"
         },
         "mode": "markers",
         "name": "Count=2491",
         "scene": "scene",
         "showlegend": true,
         "type": "scatter3d",
         "x": [
          "NOAH"
         ],
         "y": [
          2012
         ],
         "z": [
          2491
         ]
        },
        {
         "hoverlabel": {
          "namelength": 0
         },
         "hovertemplate": "Count=%{marker.color}<br>Name=%{x}<br>YEAR=%{y}",
         "legendgroup": "Count=2412",
         "marker": {
          "color": [
           2412
          ],
          "coloraxis": "coloraxis",
          "symbol": "square"
         },
         "mode": "markers",
         "name": "Count=2412",
         "scene": "scene",
         "showlegend": true,
         "type": "scatter3d",
         "x": [
          "ALEXANDER"
         ],
         "y": [
          2012
         ],
         "z": [
          2412
         ]
        },
        {
         "hoverlabel": {
          "namelength": 0
         },
         "hovertemplate": "Count=%{marker.color}<br>Name=%{x}<br>YEAR=%{y}",
         "legendgroup": "Count=2408",
         "marker": {
          "color": [
           2408
          ],
          "coloraxis": "coloraxis",
          "symbol": "x"
         },
         "mode": "markers",
         "name": "Count=2408",
         "scene": "scene",
         "showlegend": true,
         "type": "scatter3d",
         "x": [
          "ANTHONY"
         ],
         "y": [
          2012
         ],
         "z": [
          2408
         ]
        },
        {
         "hoverlabel": {
          "namelength": 0
         },
         "hovertemplate": "Count=%{marker.color}<br>Name=%{x}<br>YEAR=%{y}",
         "legendgroup": "Count=2230",
         "marker": {
          "color": [
           2230
          ],
          "coloraxis": "coloraxis",
          "symbol": "cross"
         },
         "mode": "markers",
         "name": "Count=2230",
         "scene": "scene",
         "showlegend": true,
         "type": "scatter3d",
         "x": [
          "NATHAN"
         ],
         "y": [
          2012
         ],
         "z": [
          2230
         ]
        },
        {
         "hoverlabel": {
          "namelength": 0
         },
         "hovertemplate": "Count=%{marker.color}<br>Name=%{x}<br>YEAR=%{y}",
         "legendgroup": "Count=1985",
         "marker": {
          "color": [
           1985,
           1985
          ],
          "coloraxis": "coloraxis",
          "symbol": "circle"
         },
         "mode": "markers",
         "name": "Count=1985",
         "scene": "scene",
         "showlegend": true,
         "type": "scatter3d",
         "x": [
          "MICHAEL",
          "MICHAEL"
         ],
         "y": [
          2012,
          2014
         ],
         "z": [
          1985,
          1985
         ]
        },
        {
         "hoverlabel": {
          "namelength": 0
         },
         "hovertemplate": "Count=%{marker.color}<br>Name=%{x}<br>YEAR=%{y}",
         "legendgroup": "Count=1979",
         "marker": {
          "color": [
           1979
          ],
          "coloraxis": "coloraxis",
          "symbol": "diamond"
         },
         "mode": "markers",
         "name": "Count=1979",
         "scene": "scene",
         "showlegend": true,
         "type": "scatter3d",
         "x": [
          "AIDEN"
         ],
         "y": [
          2012
         ],
         "z": [
          1979
         ]
        },
        {
         "hoverlabel": {
          "namelength": 0
         },
         "hovertemplate": "Count=%{marker.color}<br>Name=%{x}<br>YEAR=%{y}",
         "legendgroup": "Count=1940",
         "marker": {
          "color": [
           1940,
           1940
          ],
          "coloraxis": "coloraxis",
          "symbol": "square"
         },
         "mode": "markers",
         "name": "Count=1940",
         "scene": "scene",
         "showlegend": true,
         "type": "scatter3d",
         "x": [
          "ANGEL",
          "JULIAN"
         ],
         "y": [
          2012,
          2017
         ],
         "z": [
          1940,
          1940
         ]
        },
        {
         "hoverlabel": {
          "namelength": 0
         },
         "hovertemplate": "Count=%{marker.color}<br>Name=%{x}<br>YEAR=%{y}",
         "legendgroup": "Count=1857",
         "marker": {
          "color": [
           1857
          ],
          "coloraxis": "coloraxis",
          "symbol": "x"
         },
         "mode": "markers",
         "name": "Count=1857",
         "scene": "scene",
         "showlegend": true,
         "type": "scatter3d",
         "x": [
          "ISAAC"
         ],
         "y": [
          2012
         ],
         "z": [
          1857
         ]
        },
        {
         "hoverlabel": {
          "namelength": 0
         },
         "hovertemplate": "Count=%{marker.color}<br>Name=%{x}<br>YEAR=%{y}",
         "legendgroup": "Count=1840",
         "marker": {
          "color": [
           1840
          ],
          "coloraxis": "coloraxis",
          "symbol": "cross"
         },
         "mode": "markers",
         "name": "Count=1840",
         "scene": "scene",
         "showlegend": true,
         "type": "scatter3d",
         "x": [
          "JULIAN"
         ],
         "y": [
          2012
         ],
         "z": [
          1840
         ]
        },
        {
         "hoverlabel": {
          "namelength": 0
         },
         "hovertemplate": "Count=%{marker.color}<br>Name=%{x}<br>YEAR=%{y}",
         "legendgroup": "Count=1782",
         "marker": {
          "color": [
           1782,
           1782
          ],
          "coloraxis": "coloraxis",
          "symbol": "circle"
         },
         "mode": "markers",
         "name": "Count=1782",
         "scene": "scene",
         "showlegend": true,
         "type": "scatter3d",
         "x": [
          "ADRIAN",
          "CAMILA"
         ],
         "y": [
          2012,
          2017
         ],
         "z": [
          1782,
          1782
         ]
        },
        {
         "hoverlabel": {
          "namelength": 0
         },
         "hovertemplate": "Count=%{marker.color}<br>Name=%{x}<br>YEAR=%{y}",
         "legendgroup": "Count=1722",
         "marker": {
          "color": [
           1722
          ],
          "coloraxis": "coloraxis",
          "symbol": "diamond"
         },
         "mode": "markers",
         "name": "Count=1722",
         "scene": "scene",
         "showlegend": true,
         "type": "scatter3d",
         "x": [
          "JONATHAN"
         ],
         "y": [
          2012
         ],
         "z": [
          1722
         ]
        },
        {
         "hoverlabel": {
          "namelength": 0
         },
         "hovertemplate": "Count=%{marker.color}<br>Name=%{x}<br>YEAR=%{y}",
         "legendgroup": "Count=1714",
         "marker": {
          "color": [
           1714
          ],
          "coloraxis": "coloraxis",
          "symbol": "square"
         },
         "mode": "markers",
         "name": "Count=1714",
         "scene": "scene",
         "showlegend": true,
         "type": "scatter3d",
         "x": [
          "JOSHUA"
         ],
         "y": [
          2012
         ],
         "z": [
          1714
         ]
        },
        {
         "hoverlabel": {
          "namelength": 0
         },
         "hovertemplate": "Count=%{marker.color}<br>Name=%{x}<br>YEAR=%{y}",
         "legendgroup": "Count=1713",
         "marker": {
          "color": [
           1713
          ],
          "coloraxis": "coloraxis",
          "symbol": "x"
         },
         "mode": "markers",
         "name": "Count=1713",
         "scene": "scene",
         "showlegend": true,
         "type": "scatter3d",
         "x": [
          "CHRISTOPHER"
         ],
         "y": [
          2012
         ],
         "z": [
          1713
         ]
        },
        {
         "hoverlabel": {
          "namelength": 0
         },
         "hovertemplate": "Count=%{marker.color}<br>Name=%{x}<br>YEAR=%{y}",
         "legendgroup": "Count=1633",
         "marker": {
          "color": [
           1633,
           1633
          ],
          "coloraxis": "coloraxis",
          "symbol": "cross"
         },
         "mode": "markers",
         "name": "Count=1633",
         "scene": "scene",
         "showlegend": true,
         "type": "scatter3d",
         "x": [
          "JOSEPH",
          "LUCAS"
         ],
         "y": [
          2012,
          2017
         ],
         "z": [
          1633,
          1633
         ]
        },
        {
         "hoverlabel": {
          "namelength": 0
         },
         "hovertemplate": "Count=%{marker.color}<br>Name=%{x}<br>YEAR=%{y}",
         "legendgroup": "Count=1602",
         "marker": {
          "color": [
           1602,
           1602
          ],
          "coloraxis": "coloraxis",
          "symbol": "circle"
         },
         "mode": "markers",
         "name": "Count=1602",
         "scene": "scene",
         "showlegend": true,
         "type": "scatter3d",
         "x": [
          "LIAM",
          "ANDREW"
         ],
         "y": [
          2012,
          2015
         ],
         "z": [
          1602,
          1602
         ]
        },
        {
         "hoverlabel": {
          "namelength": 0
         },
         "hovertemplate": "Count=%{marker.color}<br>Name=%{x}<br>YEAR=%{y}",
         "legendgroup": "Count=1565",
         "marker": {
          "color": [
           1565,
           1565
          ],
          "coloraxis": "coloraxis",
          "symbol": "diamond"
         },
         "mode": "markers",
         "name": "Count=1565",
         "scene": "scene",
         "showlegend": true,
         "type": "scatter3d",
         "x": [
          "DYLAN",
          "ELIJAH"
         ],
         "y": [
          2012,
          2016
         ],
         "z": [
          1565,
          1565
         ]
        },
        {
         "hoverlabel": {
          "namelength": 0
         },
         "hovertemplate": "Count=%{marker.color}<br>Name=%{x}<br>YEAR=%{y}",
         "legendgroup": "Count=3442",
         "marker": {
          "color": [
           3442
          ],
          "coloraxis": "coloraxis",
          "symbol": "square"
         },
         "mode": "markers",
         "name": "Count=3442",
         "scene": "scene",
         "showlegend": true,
         "type": "scatter3d",
         "x": [
          "SOPHIA"
         ],
         "y": [
          2013
         ],
         "z": [
          3442
         ]
        },
        {
         "hoverlabel": {
          "namelength": 0
         },
         "hovertemplate": "Count=%{marker.color}<br>Name=%{x}<br>YEAR=%{y}",
         "legendgroup": "Count=2759",
         "marker": {
          "color": [
           2759
          ],
          "coloraxis": "coloraxis",
          "symbol": "x"
         },
         "mode": "markers",
         "name": "Count=2759",
         "scene": "scene",
         "showlegend": true,
         "type": "scatter3d",
         "x": [
          "ISABELLA"
         ],
         "y": [
          2013
         ],
         "z": [
          2759
         ]
        },
        {
         "hoverlabel": {
          "namelength": 0
         },
         "hovertemplate": "Count=%{marker.color}<br>Name=%{x}<br>YEAR=%{y}",
         "legendgroup": "Count=2579",
         "marker": {
          "color": [
           2579
          ],
          "coloraxis": "coloraxis",
          "symbol": "cross"
         },
         "mode": "markers",
         "name": "Count=2579",
         "scene": "scene",
         "showlegend": true,
         "type": "scatter3d",
         "x": [
          "MIA"
         ],
         "y": [
          2013
         ],
         "z": [
          2579
         ]
        },
        {
         "hoverlabel": {
          "namelength": 0
         },
         "hovertemplate": "Count=%{marker.color}<br>Name=%{x}<br>YEAR=%{y}",
         "legendgroup": "Count=2466",
         "marker": {
          "color": [
           2466
          ],
          "coloraxis": "coloraxis",
          "symbol": "circle"
         },
         "mode": "markers",
         "name": "Count=2466",
         "scene": "scene",
         "showlegend": true,
         "type": "scatter3d",
         "x": [
          "EMMA"
         ],
         "y": [
          2013
         ],
         "z": [
          2466
         ]
        },
        {
         "hoverlabel": {
          "namelength": 0
         },
         "hovertemplate": "Count=%{marker.color}<br>Name=%{x}<br>YEAR=%{y}",
         "legendgroup": "Count=2151",
         "marker": {
          "color": [
           2151
          ],
          "coloraxis": "coloraxis",
          "symbol": "diamond"
         },
         "mode": "markers",
         "name": "Count=2151",
         "scene": "scene",
         "showlegend": true,
         "type": "scatter3d",
         "x": [
          "OLIVIA"
         ],
         "y": [
          2013
         ],
         "z": [
          2151
         ]
        },
        {
         "hoverlabel": {
          "namelength": 0
         },
         "hovertemplate": "Count=%{marker.color}<br>Name=%{x}<br>YEAR=%{y}",
         "legendgroup": "Count=1486",
         "marker": {
          "color": [
           1486,
           1486
          ],
          "coloraxis": "coloraxis",
          "symbol": "square"
         },
         "mode": "markers",
         "name": "Count=1486",
         "scene": "scene",
         "showlegend": true,
         "type": "scatter3d",
         "x": [
          "ABIGAIL",
          "ELIJAH"
         ],
         "y": [
          2013,
          2017
         ],
         "z": [
          1486,
          1486
         ]
        },
        {
         "hoverlabel": {
          "namelength": 0
         },
         "hovertemplate": "Count=%{marker.color}<br>Name=%{x}<br>YEAR=%{y}",
         "legendgroup": "Count=1473",
         "marker": {
          "color": [
           1473
          ],
          "coloraxis": "coloraxis",
          "symbol": "x"
         },
         "mode": "markers",
         "name": "Count=1473",
         "scene": "scene",
         "showlegend": true,
         "type": "scatter3d",
         "x": [
          "CAMILA"
         ],
         "y": [
          2013
         ],
         "z": [
          1473
         ]
        },
        {
         "hoverlabel": {
          "namelength": 0
         },
         "hovertemplate": "Count=%{marker.color}<br>Name=%{x}<br>YEAR=%{y}",
         "legendgroup": "Count=1399",
         "marker": {
          "color": [
           1399,
           1399
          ],
          "coloraxis": "coloraxis",
          "symbol": "cross"
         },
         "mode": "markers",
         "name": "Count=1399",
         "scene": "scene",
         "showlegend": true,
         "type": "scatter3d",
         "x": [
          "SAMANTHA",
          "CAMILA"
         ],
         "y": [
          2013,
          2015
         ],
         "z": [
          1399,
          1399
         ]
        },
        {
         "hoverlabel": {
          "namelength": 0
         },
         "hovertemplate": "Count=%{marker.color}<br>Name=%{x}<br>YEAR=%{y}",
         "legendgroup": "Count=1137",
         "marker": {
          "color": [
           1137
          ],
          "coloraxis": "coloraxis",
          "symbol": "circle"
         },
         "mode": "markers",
         "name": "Count=1137",
         "scene": "scene",
         "showlegend": true,
         "type": "scatter3d",
         "x": [
          "NATALIE"
         ],
         "y": [
          2013
         ],
         "z": [
          1137
         ]
        },
        {
         "hoverlabel": {
          "namelength": 0
         },
         "hovertemplate": "Count=%{marker.color}<br>Name=%{x}<br>YEAR=%{y}",
         "legendgroup": "Count=1056",
         "marker": {
          "color": [
           1056
          ],
          "coloraxis": "coloraxis",
          "symbol": "diamond"
         },
         "mode": "markers",
         "name": "Count=1056",
         "scene": "scene",
         "showlegend": true,
         "type": "scatter3d",
         "x": [
          "ELIZABETH"
         ],
         "y": [
          2013
         ],
         "z": [
          1056
         ]
        },
        {
         "hoverlabel": {
          "namelength": 0
         },
         "hovertemplate": "Count=%{marker.color}<br>Name=%{x}<br>YEAR=%{y}",
         "legendgroup": "Count=1052",
         "marker": {
          "color": [
           1052,
           1052
          ],
          "coloraxis": "coloraxis",
          "symbol": "square"
         },
         "mode": "markers",
         "name": "Count=1052",
         "scene": "scene",
         "showlegend": true,
         "type": "scatter3d",
         "x": [
          "CHARLOTTE",
          "MILA"
         ],
         "y": [
          2013,
          2017
         ],
         "z": [
          1052,
          1052
         ]
        },
        {
         "hoverlabel": {
          "namelength": 0
         },
         "hovertemplate": "Count=%{marker.color}<br>Name=%{x}<br>YEAR=%{y}",
         "legendgroup": "Count=1043",
         "marker": {
          "color": [
           1043
          ],
          "coloraxis": "coloraxis",
          "symbol": "x"
         },
         "mode": "markers",
         "name": "Count=1043",
         "scene": "scene",
         "showlegend": true,
         "type": "scatter3d",
         "x": [
          "CHLOE"
         ],
         "y": [
          2013
         ],
         "z": [
          1043
         ]
        },
        {
         "hoverlabel": {
          "namelength": 0
         },
         "hovertemplate": "Count=%{marker.color}<br>Name=%{x}<br>YEAR=%{y}",
         "legendgroup": "Count=1004",
         "marker": {
          "color": [
           1004
          ],
          "coloraxis": "coloraxis",
          "symbol": "cross"
         },
         "mode": "markers",
         "name": "Count=1004",
         "scene": "scene",
         "showlegend": true,
         "type": "scatter3d",
         "x": [
          "GENESIS"
         ],
         "y": [
          2013
         ],
         "z": [
          1004
         ]
        },
        {
         "hoverlabel": {
          "namelength": 0
         },
         "hovertemplate": "Count=%{marker.color}<br>Name=%{x}<br>YEAR=%{y}",
         "legendgroup": "Count=991",
         "marker": {
          "color": [
           991
          ],
          "coloraxis": "coloraxis",
          "symbol": "circle"
         },
         "mode": "markers",
         "name": "Count=991",
         "scene": "scene",
         "showlegend": true,
         "type": "scatter3d",
         "x": [
          "AUDREY"
         ],
         "y": [
          2013
         ],
         "z": [
          991
         ]
        },
        {
         "hoverlabel": {
          "namelength": 0
         },
         "hovertemplate": "Count=%{marker.color}<br>Name=%{x}<br>YEAR=%{y}",
         "legendgroup": "Count=969",
         "marker": {
          "color": [
           969
          ],
          "coloraxis": "coloraxis",
          "symbol": "diamond"
         },
         "mode": "markers",
         "name": "Count=969",
         "scene": "scene",
         "showlegend": true,
         "type": "scatter3d",
         "x": [
          "MADISON"
         ],
         "y": [
          2013
         ],
         "z": [
          969
         ]
        },
        {
         "hoverlabel": {
          "namelength": 0
         },
         "hovertemplate": "Count=%{marker.color}<br>Name=%{x}<br>YEAR=%{y}",
         "legendgroup": "Count=956",
         "marker": {
          "color": [
           956
          ],
          "coloraxis": "coloraxis",
          "symbol": "square"
         },
         "mode": "markers",
         "name": "Count=956",
         "scene": "scene",
         "showlegend": true,
         "type": "scatter3d",
         "x": [
          "EVELYN"
         ],
         "y": [
          2013
         ],
         "z": [
          956
         ]
        },
        {
         "hoverlabel": {
          "namelength": 0
         },
         "hovertemplate": "Count=%{marker.color}<br>Name=%{x}<br>YEAR=%{y}",
         "legendgroup": "Count=891",
         "marker": {
          "color": [
           891
          ],
          "coloraxis": "coloraxis",
          "symbol": "x"
         },
         "mode": "markers",
         "name": "Count=891",
         "scene": "scene",
         "showlegend": true,
         "type": "scatter3d",
         "x": [
          "ZOE"
         ],
         "y": [
          2013
         ],
         "z": [
          891
         ]
        },
        {
         "hoverlabel": {
          "namelength": 0
         },
         "hovertemplate": "Count=%{marker.color}<br>Name=%{x}<br>YEAR=%{y}",
         "legendgroup": "Count=875",
         "marker": {
          "color": [
           875
          ],
          "coloraxis": "coloraxis",
          "symbol": "cross"
         },
         "mode": "markers",
         "name": "Count=875",
         "scene": "scene",
         "showlegend": true,
         "type": "scatter3d",
         "x": [
          "MELANIE"
         ],
         "y": [
          2013
         ],
         "z": [
          875
         ]
        },
        {
         "hoverlabel": {
          "namelength": 0
         },
         "hovertemplate": "Count=%{marker.color}<br>Name=%{x}<br>YEAR=%{y}",
         "legendgroup": "Count=869",
         "marker": {
          "color": [
           869
          ],
          "coloraxis": "coloraxis",
          "symbol": "circle"
         },
         "mode": "markers",
         "name": "Count=869",
         "scene": "scene",
         "showlegend": true,
         "type": "scatter3d",
         "x": [
          "GRACE"
         ],
         "y": [
          2013
         ],
         "z": [
          869
         ]
        },
        {
         "hoverlabel": {
          "namelength": 0
         },
         "hovertemplate": "Count=%{marker.color}<br>Name=%{x}<br>YEAR=%{y}",
         "legendgroup": "Count=820",
         "marker": {
          "color": [
           820
          ],
          "coloraxis": "coloraxis",
          "symbol": "diamond"
         },
         "mode": "markers",
         "name": "Count=820",
         "scene": "scene",
         "showlegend": true,
         "type": "scatter3d",
         "x": [
          "ALEXA"
         ],
         "y": [
          2013
         ],
         "z": [
          820
         ]
        },
        {
         "hoverlabel": {
          "namelength": 0
         },
         "hovertemplate": "Count=%{marker.color}<br>Name=%{x}<br>YEAR=%{y}",
         "legendgroup": "Count=818",
         "marker": {
          "color": [
           818
          ],
          "coloraxis": "coloraxis",
          "symbol": "square"
         },
         "mode": "markers",
         "name": "Count=818",
         "scene": "scene",
         "showlegend": true,
         "type": "scatter3d",
         "x": [
          "SCARLETT"
         ],
         "y": [
          2013
         ],
         "z": [
          818
         ]
        },
        {
         "hoverlabel": {
          "namelength": 0
         },
         "hovertemplate": "Count=%{marker.color}<br>Name=%{x}<br>YEAR=%{y}",
         "legendgroup": "Count=2874",
         "marker": {
          "color": [
           2874
          ],
          "coloraxis": "coloraxis",
          "symbol": "x"
         },
         "mode": "markers",
         "name": "Count=2874",
         "scene": "scene",
         "showlegend": true,
         "type": "scatter3d",
         "x": [
          "JACOB"
         ],
         "y": [
          2013
         ],
         "z": [
          2874
         ]
        },
        {
         "hoverlabel": {
          "namelength": 0
         },
         "hovertemplate": "Count=%{marker.color}<br>Name=%{x}<br>YEAR=%{y}",
         "legendgroup": "Count=2648",
         "marker": {
          "color": [
           2648
          ],
          "coloraxis": "coloraxis",
          "symbol": "cross"
         },
         "mode": "markers",
         "name": "Count=2648",
         "scene": "scene",
         "showlegend": true,
         "type": "scatter3d",
         "x": [
          "ETHAN"
         ],
         "y": [
          2013
         ],
         "z": [
          2648
         ]
        },
        {
         "hoverlabel": {
          "namelength": 0
         },
         "hovertemplate": "Count=%{marker.color}<br>Name=%{x}<br>YEAR=%{y}",
         "legendgroup": "Count=2572",
         "marker": {
          "color": [
           2572
          ],
          "coloraxis": "coloraxis",
          "symbol": "circle"
         },
         "mode": "markers",
         "name": "Count=2572",
         "scene": "scene",
         "showlegend": true,
         "type": "scatter3d",
         "x": [
          "JAYDEN"
         ],
         "y": [
          2013
         ],
         "z": [
          2572
         ]
        },
        {
         "hoverlabel": {
          "namelength": 0
         },
         "hovertemplate": "Count=%{marker.color}<br>Name=%{x}<br>YEAR=%{y}",
         "legendgroup": "Count=2548",
         "marker": {
          "color": [
           2548
          ],
          "coloraxis": "coloraxis",
          "symbol": "diamond"
         },
         "mode": "markers",
         "name": "Count=2548",
         "scene": "scene",
         "showlegend": true,
         "type": "scatter3d",
         "x": [
          "MATTHEW"
         ],
         "y": [
          2013
         ],
         "z": [
          2548
         ]
        },
        {
         "hoverlabel": {
          "namelength": 0
         },
         "hovertemplate": "Count=%{marker.color}<br>Name=%{x}<br>YEAR=%{y}",
         "legendgroup": "Count=2540",
         "marker": {
          "color": [
           2540
          ],
          "coloraxis": "coloraxis",
          "symbol": "square"
         },
         "mode": "markers",
         "name": "Count=2540",
         "scene": "scene",
         "showlegend": true,
         "type": "scatter3d",
         "x": [
          "NOAH"
         ],
         "y": [
          2013
         ],
         "z": [
          2540
         ]
        },
        {
         "hoverlabel": {
          "namelength": 0
         },
         "hovertemplate": "Count=%{marker.color}<br>Name=%{x}<br>YEAR=%{y}",
         "legendgroup": "Count=2367",
         "marker": {
          "color": [
           2367
          ],
          "coloraxis": "coloraxis",
          "symbol": "x"
         },
         "mode": "markers",
         "name": "Count=2367",
         "scene": "scene",
         "showlegend": true,
         "type": "scatter3d",
         "x": [
          "ALEXANDER"
         ],
         "y": [
          2013
         ],
         "z": [
          2367
         ]
        },
        {
         "hoverlabel": {
          "namelength": 0
         },
         "hovertemplate": "Count=%{marker.color}<br>Name=%{x}<br>YEAR=%{y}",
         "legendgroup": "Count=2220",
         "marker": {
          "color": [
           2220
          ],
          "coloraxis": "coloraxis",
          "symbol": "cross"
         },
         "mode": "markers",
         "name": "Count=2220",
         "scene": "scene",
         "showlegend": true,
         "type": "scatter3d",
         "x": [
          "ANTHONY"
         ],
         "y": [
          2013
         ],
         "z": [
          2220
         ]
        },
        {
         "hoverlabel": {
          "namelength": 0
         },
         "hovertemplate": "Count=%{marker.color}<br>Name=%{x}<br>YEAR=%{y}",
         "legendgroup": "Count=2072",
         "marker": {
          "color": [
           2072
          ],
          "coloraxis": "coloraxis",
          "symbol": "circle"
         },
         "mode": "markers",
         "name": "Count=2072",
         "scene": "scene",
         "showlegend": true,
         "type": "scatter3d",
         "x": [
          "NATHAN"
         ],
         "y": [
          2013
         ],
         "z": [
          2072
         ]
        },
        {
         "hoverlabel": {
          "namelength": 0
         },
         "hovertemplate": "Count=%{marker.color}<br>Name=%{x}<br>YEAR=%{y}",
         "legendgroup": "Count=2030",
         "marker": {
          "color": [
           2030
          ],
          "coloraxis": "coloraxis",
          "symbol": "diamond"
         },
         "mode": "markers",
         "name": "Count=2030",
         "scene": "scene",
         "showlegend": true,
         "type": "scatter3d",
         "x": [
          "DAVID"
         ],
         "y": [
          2013
         ],
         "z": [
          2030
         ]
        },
        {
         "hoverlabel": {
          "namelength": 0
         },
         "hovertemplate": "Count=%{marker.color}<br>Name=%{x}<br>YEAR=%{y}",
         "legendgroup": "Count=1963",
         "marker": {
          "color": [
           1963
          ],
          "coloraxis": "coloraxis",
          "symbol": "square"
         },
         "mode": "markers",
         "name": "Count=1963",
         "scene": "scene",
         "showlegend": true,
         "type": "scatter3d",
         "x": [
          "MICHAEL"
         ],
         "y": [
          2013
         ],
         "z": [
          1963
         ]
        },
        {
         "hoverlabel": {
          "namelength": 0
         },
         "hovertemplate": "Count=%{marker.color}<br>Name=%{x}<br>YEAR=%{y}",
         "legendgroup": "Count=1917",
         "marker": {
          "color": [
           1917
          ],
          "coloraxis": "coloraxis",
          "symbol": "x"
         },
         "mode": "markers",
         "name": "Count=1917",
         "scene": "scene",
         "showlegend": true,
         "type": "scatter3d",
         "x": [
          "ANDREW"
         ],
         "y": [
          2013
         ],
         "z": [
          1917
         ]
        },
        {
         "hoverlabel": {
          "namelength": 0
         },
         "hovertemplate": "Count=%{marker.color}<br>Name=%{x}<br>YEAR=%{y}",
         "legendgroup": "Count=1855",
         "marker": {
          "color": [
           1855
          ],
          "coloraxis": "coloraxis",
          "symbol": "cross"
         },
         "mode": "markers",
         "name": "Count=1855",
         "scene": "scene",
         "showlegend": true,
         "type": "scatter3d",
         "x": [
          "JULIAN"
         ],
         "y": [
          2013
         ],
         "z": [
          1855
         ]
        },
        {
         "hoverlabel": {
          "namelength": 0
         },
         "hovertemplate": "Count=%{marker.color}<br>Name=%{x}<br>YEAR=%{y}",
         "legendgroup": "Count=1841",
         "marker": {
          "color": [
           1841
          ],
          "coloraxis": "coloraxis",
          "symbol": "circle"
         },
         "mode": "markers",
         "name": "Count=1841",
         "scene": "scene",
         "showlegend": true,
         "type": "scatter3d",
         "x": [
          "BENJAMIN"
         ],
         "y": [
          2013
         ],
         "z": [
          1841
         ]
        },
        {
         "hoverlabel": {
          "namelength": 0
         },
         "hovertemplate": "Count=%{marker.color}<br>Name=%{x}<br>YEAR=%{y}",
         "legendgroup": "Count=1761",
         "marker": {
          "color": [
           1761
          ],
          "coloraxis": "coloraxis",
          "symbol": "diamond"
         },
         "mode": "markers",
         "name": "Count=1761",
         "scene": "scene",
         "showlegend": true,
         "type": "scatter3d",
         "x": [
          "AIDEN"
         ],
         "y": [
          2013
         ],
         "z": [
          1761
         ]
        },
        {
         "hoverlabel": {
          "namelength": 0
         },
         "hovertemplate": "Count=%{marker.color}<br>Name=%{x}<br>YEAR=%{y}",
         "legendgroup": "Count=1753",
         "marker": {
          "color": [
           1753
          ],
          "coloraxis": "coloraxis",
          "symbol": "square"
         },
         "mode": "markers",
         "name": "Count=1753",
         "scene": "scene",
         "showlegend": true,
         "type": "scatter3d",
         "x": [
          "ANGEL"
         ],
         "y": [
          2013
         ],
         "z": [
          1753
         ]
        },
        {
         "hoverlabel": {
          "namelength": 0
         },
         "hovertemplate": "Count=%{marker.color}<br>Name=%{x}<br>YEAR=%{y}",
         "legendgroup": "Count=1736",
         "marker": {
          "color": [
           1736
          ],
          "coloraxis": "coloraxis",
          "symbol": "x"
         },
         "mode": "markers",
         "name": "Count=1736",
         "scene": "scene",
         "showlegend": true,
         "type": "scatter3d",
         "x": [
          "MASON"
         ],
         "y": [
          2013
         ],
         "z": [
          1736
         ]
        },
        {
         "hoverlabel": {
          "namelength": 0
         },
         "hovertemplate": "Count=%{marker.color}<br>Name=%{x}<br>YEAR=%{y}",
         "legendgroup": "Count=1682",
         "marker": {
          "color": [
           1682
          ],
          "coloraxis": "coloraxis",
          "symbol": "cross"
         },
         "mode": "markers",
         "name": "Count=1682",
         "scene": "scene",
         "showlegend": true,
         "type": "scatter3d",
         "x": [
          "LIAM"
         ],
         "y": [
          2013
         ],
         "z": [
          1682
         ]
        },
        {
         "hoverlabel": {
          "namelength": 0
         },
         "hovertemplate": "Count=%{marker.color}<br>Name=%{x}<br>YEAR=%{y}",
         "legendgroup": "Count=1673",
         "marker": {
          "color": [
           1673
          ],
          "coloraxis": "coloraxis",
          "symbol": "circle"
         },
         "mode": "markers",
         "name": "Count=1673",
         "scene": "scene",
         "showlegend": true,
         "type": "scatter3d",
         "x": [
          "ADRIAN"
         ],
         "y": [
          2013
         ],
         "z": [
          1673
         ]
        },
        {
         "hoverlabel": {
          "namelength": 0
         },
         "hovertemplate": "Count=%{marker.color}<br>Name=%{x}<br>YEAR=%{y}",
         "legendgroup": "Count=1650",
         "marker": {
          "color": [
           1650
          ],
          "coloraxis": "coloraxis",
          "symbol": "diamond"
         },
         "mode": "markers",
         "name": "Count=1650",
         "scene": "scene",
         "showlegend": true,
         "type": "scatter3d",
         "x": [
          "SEBASTIAN"
         ],
         "y": [
          2013
         ],
         "z": [
          1650
         ]
        },
        {
         "hoverlabel": {
          "namelength": 0
         },
         "hovertemplate": "Count=%{marker.color}<br>Name=%{x}<br>YEAR=%{y}",
         "legendgroup": "Count=1613",
         "marker": {
          "color": [
           1613
          ],
          "coloraxis": "coloraxis",
          "symbol": "square"
         },
         "mode": "markers",
         "name": "Count=1613",
         "scene": "scene",
         "showlegend": true,
         "type": "scatter3d",
         "x": [
          "JOSHUA"
         ],
         "y": [
          2013
         ],
         "z": [
          1613
         ]
        },
        {
         "hoverlabel": {
          "namelength": 0
         },
         "hovertemplate": "Count=%{marker.color}<br>Name=%{x}<br>YEAR=%{y}",
         "legendgroup": "Count=1532",
         "marker": {
          "color": [
           1532,
           1532
          ],
          "coloraxis": "coloraxis",
          "symbol": "x"
         },
         "mode": "markers",
         "name": "Count=1532",
         "scene": "scene",
         "showlegend": true,
         "type": "scatter3d",
         "x": [
          "JOSEPH",
          "VICTORIA"
         ],
         "y": [
          2013,
          2016
         ],
         "z": [
          1532,
          1532
         ]
        },
        {
         "hoverlabel": {
          "namelength": 0
         },
         "hovertemplate": "Count=%{marker.color}<br>Name=%{x}<br>YEAR=%{y}",
         "legendgroup": "Count=1518",
         "marker": {
          "color": [
           1518,
           1518,
           1518
          ],
          "coloraxis": "coloraxis",
          "symbol": "cross"
         },
         "mode": "markers",
         "name": "Count=1518",
         "scene": "scene",
         "showlegend": true,
         "type": "scatter3d",
         "x": [
          "AARON",
          "MASON",
          "NATHAN"
         ],
         "y": [
          2013,
          2016,
          2017
         ],
         "z": [
          1518,
          1518,
          1518
         ]
        },
        {
         "hoverlabel": {
          "namelength": 0
         },
         "hovertemplate": "Count=%{marker.color}<br>Name=%{x}<br>YEAR=%{y}",
         "legendgroup": "Count=3160",
         "marker": {
          "color": [
           3160
          ],
          "coloraxis": "coloraxis",
          "symbol": "circle"
         },
         "mode": "markers",
         "name": "Count=3160",
         "scene": "scene",
         "showlegend": true,
         "type": "scatter3d",
         "x": [
          "SOPHIA"
         ],
         "y": [
          2014
         ],
         "z": [
          3160
         ]
        },
        {
         "hoverlabel": {
          "namelength": 0
         },
         "hovertemplate": "Count=%{marker.color}<br>Name=%{x}<br>YEAR=%{y}",
         "legendgroup": "Count=2702",
         "marker": {
          "color": [
           2702
          ],
          "coloraxis": "coloraxis",
          "symbol": "diamond"
         },
         "mode": "markers",
         "name": "Count=2702",
         "scene": "scene",
         "showlegend": true,
         "type": "scatter3d",
         "x": [
          "ISABELLA"
         ],
         "y": [
          2014
         ],
         "z": [
          2702
         ]
        },
        {
         "hoverlabel": {
          "namelength": 0
         },
         "hovertemplate": "Count=%{marker.color}<br>Name=%{x}<br>YEAR=%{y}",
         "legendgroup": "Count=2666",
         "marker": {
          "color": [
           2666
          ],
          "coloraxis": "coloraxis",
          "symbol": "square"
         },
         "mode": "markers",
         "name": "Count=2666",
         "scene": "scene",
         "showlegend": true,
         "type": "scatter3d",
         "x": [
          "EMMA"
         ],
         "y": [
          2014
         ],
         "z": [
          2666
         ]
        },
        {
         "hoverlabel": {
          "namelength": 0
         },
         "hovertemplate": "Count=%{marker.color}<br>Name=%{x}<br>YEAR=%{y}",
         "legendgroup": "Count=2608",
         "marker": {
          "color": [
           2608
          ],
          "coloraxis": "coloraxis",
          "symbol": "x"
         },
         "mode": "markers",
         "name": "Count=2608",
         "scene": "scene",
         "showlegend": true,
         "type": "scatter3d",
         "x": [
          "MIA"
         ],
         "y": [
          2014
         ],
         "z": [
          2608
         ]
        },
        {
         "hoverlabel": {
          "namelength": 0
         },
         "hovertemplate": "Count=%{marker.color}<br>Name=%{x}<br>YEAR=%{y}",
         "legendgroup": "Count=2403",
         "marker": {
          "color": [
           2403
          ],
          "coloraxis": "coloraxis",
          "symbol": "cross"
         },
         "mode": "markers",
         "name": "Count=2403",
         "scene": "scene",
         "showlegend": true,
         "type": "scatter3d",
         "x": [
          "OLIVIA"
         ],
         "y": [
          2014
         ],
         "z": [
          2403
         ]
        },
        {
         "hoverlabel": {
          "namelength": 0
         },
         "hovertemplate": "Count=%{marker.color}<br>Name=%{x}<br>YEAR=%{y}",
         "legendgroup": "Count=2264",
         "marker": {
          "color": [
           2264
          ],
          "coloraxis": "coloraxis",
          "symbol": "circle"
         },
         "mode": "markers",
         "name": "Count=2264",
         "scene": "scene",
         "showlegend": true,
         "type": "scatter3d",
         "x": [
          "EMILY"
         ],
         "y": [
          2014
         ],
         "z": [
          2264
         ]
        },
        {
         "hoverlabel": {
          "namelength": 0
         },
         "hovertemplate": "Count=%{marker.color}<br>Name=%{x}<br>YEAR=%{y}",
         "legendgroup": "Count=2082",
         "marker": {
          "color": [
           2082
          ],
          "coloraxis": "coloraxis",
          "symbol": "diamond"
         },
         "mode": "markers",
         "name": "Count=2082",
         "scene": "scene",
         "showlegend": true,
         "type": "scatter3d",
         "x": [
          "SOFIA"
         ],
         "y": [
          2014
         ],
         "z": [
          2082
         ]
        },
        {
         "hoverlabel": {
          "namelength": 0
         },
         "hovertemplate": "Count=%{marker.color}<br>Name=%{x}<br>YEAR=%{y}",
         "legendgroup": "Count=1685",
         "marker": {
          "color": [
           1685
          ],
          "coloraxis": "coloraxis",
          "symbol": "square"
         },
         "mode": "markers",
         "name": "Count=1685",
         "scene": "scene",
         "showlegend": true,
         "type": "scatter3d",
         "x": [
          "VICTORIA"
         ],
         "y": [
          2014
         ],
         "z": [
          1685
         ]
        },
        {
         "hoverlabel": {
          "namelength": 0
         },
         "hovertemplate": "Count=%{marker.color}<br>Name=%{x}<br>YEAR=%{y}",
         "legendgroup": "Count=1521",
         "marker": {
          "color": [
           1521
          ],
          "coloraxis": "coloraxis",
          "symbol": "x"
         },
         "mode": "markers",
         "name": "Count=1521",
         "scene": "scene",
         "showlegend": true,
         "type": "scatter3d",
         "x": [
          "ABIGAIL"
         ],
         "y": [
          2014
         ],
         "z": [
          1521
         ]
        },
        {
         "hoverlabel": {
          "namelength": 0
         },
         "hovertemplate": "Count=%{marker.color}<br>Name=%{x}<br>YEAR=%{y}",
         "legendgroup": "Count=1470",
         "marker": {
          "color": [
           1470
          ],
          "coloraxis": "coloraxis",
          "symbol": "cross"
         },
         "mode": "markers",
         "name": "Count=1470",
         "scene": "scene",
         "showlegend": true,
         "type": "scatter3d",
         "x": [
          "CAMILA"
         ],
         "y": [
          2014
         ],
         "z": [
          1470
         ]
        },
        {
         "hoverlabel": {
          "namelength": 0
         },
         "hovertemplate": "Count=%{marker.color}<br>Name=%{x}<br>YEAR=%{y}",
         "legendgroup": "Count=1427",
         "marker": {
          "color": [
           1427
          ],
          "coloraxis": "coloraxis",
          "symbol": "circle"
         },
         "mode": "markers",
         "name": "Count=1427",
         "scene": "scene",
         "showlegend": true,
         "type": "scatter3d",
         "x": [
          "AVA"
         ],
         "y": [
          2014
         ],
         "z": [
          1427
         ]
        },
        {
         "hoverlabel": {
          "namelength": 0
         },
         "hovertemplate": "Count=%{marker.color}<br>Name=%{x}<br>YEAR=%{y}",
         "legendgroup": "Count=1192",
         "marker": {
          "color": [
           1192
          ],
          "coloraxis": "coloraxis",
          "symbol": "diamond"
         },
         "mode": "markers",
         "name": "Count=1192",
         "scene": "scene",
         "showlegend": true,
         "type": "scatter3d",
         "x": [
          "SAMANTHA"
         ],
         "y": [
          2014
         ],
         "z": [
          1192
         ]
        },
        {
         "hoverlabel": {
          "namelength": 0
         },
         "hovertemplate": "Count=%{marker.color}<br>Name=%{x}<br>YEAR=%{y}",
         "legendgroup": "Count=1121",
         "marker": {
          "color": [
           1121
          ],
          "coloraxis": "coloraxis",
          "symbol": "square"
         },
         "mode": "markers",
         "name": "Count=1121",
         "scene": "scene",
         "showlegend": true,
         "type": "scatter3d",
         "x": [
          "CHARLOTTE"
         ],
         "y": [
          2014
         ],
         "z": [
          1121
         ]
        },
        {
         "hoverlabel": {
          "namelength": 0
         },
         "hovertemplate": "Count=%{marker.color}<br>Name=%{x}<br>YEAR=%{y}",
         "legendgroup": "Count=1105",
         "marker": {
          "color": [
           1105,
           1105
          ],
          "coloraxis": "coloraxis",
          "symbol": "x"
         },
         "mode": "markers",
         "name": "Count=1105",
         "scene": "scene",
         "showlegend": true,
         "type": "scatter3d",
         "x": [
          "EVELYN",
          "SAMANTHA"
         ],
         "y": [
          2014,
          2015
         ],
         "z": [
          1105,
          1105
         ]
        },
        {
         "hoverlabel": {
          "namelength": 0
         },
         "hovertemplate": "Count=%{marker.color}<br>Name=%{x}<br>YEAR=%{y}",
         "legendgroup": "Count=1078",
         "marker": {
          "color": [
           1078
          ],
          "coloraxis": "coloraxis",
          "symbol": "cross"
         },
         "mode": "markers",
         "name": "Count=1078",
         "scene": "scene",
         "showlegend": true,
         "type": "scatter3d",
         "x": [
          "ELIZABETH"
         ],
         "y": [
          2014
         ],
         "z": [
          1078
         ]
        },
        {
         "hoverlabel": {
          "namelength": 0
         },
         "hovertemplate": "Count=%{marker.color}<br>Name=%{x}<br>YEAR=%{y}",
         "legendgroup": "Count=1048",
         "marker": {
          "color": [
           1048
          ],
          "coloraxis": "coloraxis",
          "symbol": "circle"
         },
         "mode": "markers",
         "name": "Count=1048",
         "scene": "scene",
         "showlegend": true,
         "type": "scatter3d",
         "x": [
          "CHLOE"
         ],
         "y": [
          2014
         ],
         "z": [
          1048
         ]
        },
        {
         "hoverlabel": {
          "namelength": 0
         },
         "hovertemplate": "Count=%{marker.color}<br>Name=%{x}<br>YEAR=%{y}",
         "legendgroup": "Count=970",
         "marker": {
          "color": [
           970
          ],
          "coloraxis": "coloraxis",
          "symbol": "diamond"
         },
         "mode": "markers",
         "name": "Count=970",
         "scene": "scene",
         "showlegend": true,
         "type": "scatter3d",
         "x": [
          "GENESIS"
         ],
         "y": [
          2014
         ],
         "z": [
          970
         ]
        },
        {
         "hoverlabel": {
          "namelength": 0
         },
         "hovertemplate": "Count=%{marker.color}<br>Name=%{x}<br>YEAR=%{y}",
         "legendgroup": "Count=966",
         "marker": {
          "color": [
           966
          ],
          "coloraxis": "coloraxis",
          "symbol": "square"
         },
         "mode": "markers",
         "name": "Count=966",
         "scene": "scene",
         "showlegend": true,
         "type": "scatter3d",
         "x": [
          "SCARLETT"
         ],
         "y": [
          2014
         ],
         "z": [
          966
         ]
        },
        {
         "hoverlabel": {
          "namelength": 0
         },
         "hovertemplate": "Count=%{marker.color}<br>Name=%{x}<br>YEAR=%{y}",
         "legendgroup": "Count=948",
         "marker": {
          "color": [
           948
          ],
          "coloraxis": "coloraxis",
          "symbol": "x"
         },
         "mode": "markers",
         "name": "Count=948",
         "scene": "scene",
         "showlegend": true,
         "type": "scatter3d",
         "x": [
          "GRACE"
         ],
         "y": [
          2014
         ],
         "z": [
          948
         ]
        },
        {
         "hoverlabel": {
          "namelength": 0
         },
         "hovertemplate": "Count=%{marker.color}<br>Name=%{x}<br>YEAR=%{y}",
         "legendgroup": "Count=920",
         "marker": {
          "color": [
           920
          ],
          "coloraxis": "coloraxis",
          "symbol": "cross"
         },
         "mode": "markers",
         "name": "Count=920",
         "scene": "scene",
         "showlegend": true,
         "type": "scatter3d",
         "x": [
          "ZOE"
         ],
         "y": [
          2014
         ],
         "z": [
          920
         ]
        },
        {
         "hoverlabel": {
          "namelength": 0
         },
         "hovertemplate": "Count=%{marker.color}<br>Name=%{x}<br>YEAR=%{y}",
         "legendgroup": "Count=918",
         "marker": {
          "color": [
           918
          ],
          "coloraxis": "coloraxis",
          "symbol": "circle"
         },
         "mode": "markers",
         "name": "Count=918",
         "scene": "scene",
         "showlegend": true,
         "type": "scatter3d",
         "x": [
          "MELANIE"
         ],
         "y": [
          2014
         ],
         "z": [
          918
         ]
        },
        {
         "hoverlabel": {
          "namelength": 0
         },
         "hovertemplate": "Count=%{marker.color}<br>Name=%{x}<br>YEAR=%{y}",
         "legendgroup": "Count=903",
         "marker": {
          "color": [
           903
          ],
          "coloraxis": "coloraxis",
          "symbol": "diamond"
         },
         "mode": "markers",
         "name": "Count=903",
         "scene": "scene",
         "showlegend": true,
         "type": "scatter3d",
         "x": [
          "ALLISON"
         ],
         "y": [
          2014
         ],
         "z": [
          903
         ]
        },
        {
         "hoverlabel": {
          "namelength": 0
         },
         "hovertemplate": "Count=%{marker.color}<br>Name=%{x}<br>YEAR=%{y}",
         "legendgroup": "Count=899",
         "marker": {
          "color": [
           899
          ],
          "coloraxis": "coloraxis",
          "symbol": "square"
         },
         "mode": "markers",
         "name": "Count=899",
         "scene": "scene",
         "showlegend": true,
         "type": "scatter3d",
         "x": [
          "AUDREY"
         ],
         "y": [
          2014
         ],
         "z": [
          899
         ]
        },
        {
         "hoverlabel": {
          "namelength": 0
         },
         "hovertemplate": "Count=%{marker.color}<br>Name=%{x}<br>YEAR=%{y}",
         "legendgroup": "Count=2757",
         "marker": {
          "color": [
           2757
          ],
          "coloraxis": "coloraxis",
          "symbol": "x"
         },
         "mode": "markers",
         "name": "Count=2757",
         "scene": "scene",
         "showlegend": true,
         "type": "scatter3d",
         "x": [
          "NOAH"
         ],
         "y": [
          2014
         ],
         "z": [
          2757
         ]
        },
        {
         "hoverlabel": {
          "namelength": 0
         },
         "hovertemplate": "Count=%{marker.color}<br>Name=%{x}<br>YEAR=%{y}",
         "legendgroup": "Count=2690",
         "marker": {
          "color": [
           2690
          ],
          "coloraxis": "coloraxis",
          "symbol": "cross"
         },
         "mode": "markers",
         "name": "Count=2690",
         "scene": "scene",
         "showlegend": true,
         "type": "scatter3d",
         "x": [
          "JACOB"
         ],
         "y": [
          2014
         ],
         "z": [
          2690
         ]
        },
        {
         "hoverlabel": {
          "namelength": 0
         },
         "hovertemplate": "Count=%{marker.color}<br>Name=%{x}<br>YEAR=%{y}",
         "legendgroup": "Count=2553",
         "marker": {
          "color": [
           2553
          ],
          "coloraxis": "coloraxis",
          "symbol": "circle"
         },
         "mode": "markers",
         "name": "Count=2553",
         "scene": "scene",
         "showlegend": true,
         "type": "scatter3d",
         "x": [
          "ETHAN"
         ],
         "y": [
          2014
         ],
         "z": [
          2553
         ]
        },
        {
         "hoverlabel": {
          "namelength": 0
         },
         "hovertemplate": "Count=%{marker.color}<br>Name=%{x}<br>YEAR=%{y}",
         "legendgroup": "Count=2542",
         "marker": {
          "color": [
           2542
          ],
          "coloraxis": "coloraxis",
          "symbol": "diamond"
         },
         "mode": "markers",
         "name": "Count=2542",
         "scene": "scene",
         "showlegend": true,
         "type": "scatter3d",
         "x": [
          "DANIEL"
         ],
         "y": [
          2014
         ],
         "z": [
          2542
         ]
        },
        {
         "hoverlabel": {
          "namelength": 0
         },
         "hovertemplate": "Count=%{marker.color}<br>Name=%{x}<br>YEAR=%{y}",
         "legendgroup": "Count=2478",
         "marker": {
          "color": [
           2478
          ],
          "coloraxis": "coloraxis",
          "symbol": "square"
         },
         "mode": "markers",
         "name": "Count=2478",
         "scene": "scene",
         "showlegend": true,
         "type": "scatter3d",
         "x": [
          "ALEXANDER"
         ],
         "y": [
          2014
         ],
         "z": [
          2478
         ]
        },
        {
         "hoverlabel": {
          "namelength": 0
         },
         "hovertemplate": "Count=%{marker.color}<br>Name=%{x}<br>YEAR=%{y}",
         "legendgroup": "Count=2463",
         "marker": {
          "color": [
           2463
          ],
          "coloraxis": "coloraxis",
          "symbol": "x"
         },
         "mode": "markers",
         "name": "Count=2463",
         "scene": "scene",
         "showlegend": true,
         "type": "scatter3d",
         "x": [
          "MATTHEW"
         ],
         "y": [
          2014
         ],
         "z": [
          2463
         ]
        },
        {
         "hoverlabel": {
          "namelength": 0
         },
         "hovertemplate": "Count=%{marker.color}<br>Name=%{x}<br>YEAR=%{y}",
         "legendgroup": "Count=2361",
         "marker": {
          "color": [
           2361
          ],
          "coloraxis": "coloraxis",
          "symbol": "cross"
         },
         "mode": "markers",
         "name": "Count=2361",
         "scene": "scene",
         "showlegend": true,
         "type": "scatter3d",
         "x": [
          "JAYDEN"
         ],
         "y": [
          2014
         ],
         "z": [
          2361
         ]
        },
        {
         "hoverlabel": {
          "namelength": 0
         },
         "hovertemplate": "Count=%{marker.color}<br>Name=%{x}<br>YEAR=%{y}",
         "legendgroup": "Count=2071",
         "marker": {
          "color": [
           2071
          ],
          "coloraxis": "coloraxis",
          "symbol": "circle"
         },
         "mode": "markers",
         "name": "Count=2071",
         "scene": "scene",
         "showlegend": true,
         "type": "scatter3d",
         "x": [
          "ANTHONY"
         ],
         "y": [
          2014
         ],
         "z": [
          2071
         ]
        },
        {
         "hoverlabel": {
          "namelength": 0
         },
         "hovertemplate": "Count=%{marker.color}<br>Name=%{x}<br>YEAR=%{y}",
         "legendgroup": "Count=2015",
         "marker": {
          "color": [
           2015
          ],
          "coloraxis": "coloraxis",
          "symbol": "diamond"
         },
         "mode": "markers",
         "name": "Count=2015",
         "scene": "scene",
         "showlegend": true,
         "type": "scatter3d",
         "x": [
          "SEBASTIAN"
         ],
         "y": [
          2014
         ],
         "z": [
          2015
         ]
        },
        {
         "hoverlabel": {
          "namelength": 0
         },
         "hovertemplate": "Count=%{marker.color}<br>Name=%{x}<br>YEAR=%{y}",
         "legendgroup": "Count=1995",
         "marker": {
          "color": [
           1995
          ],
          "coloraxis": "coloraxis",
          "symbol": "square"
         },
         "mode": "markers",
         "name": "Count=1995",
         "scene": "scene",
         "showlegend": true,
         "type": "scatter3d",
         "x": [
          "DAVID"
         ],
         "y": [
          2014
         ],
         "z": [
          1995
         ]
        },
        {
         "hoverlabel": {
          "namelength": 0
         },
         "hovertemplate": "Count=%{marker.color}<br>Name=%{x}<br>YEAR=%{y}",
         "legendgroup": "Count=1901",
         "marker": {
          "color": [
           1901
          ],
          "coloraxis": "coloraxis",
          "symbol": "x"
         },
         "mode": "markers",
         "name": "Count=1901",
         "scene": "scene",
         "showlegend": true,
         "type": "scatter3d",
         "x": [
          "ANDREW"
         ],
         "y": [
          2014
         ],
         "z": [
          1901
         ]
        },
        {
         "hoverlabel": {
          "namelength": 0
         },
         "hovertemplate": "Count=%{marker.color}<br>Name=%{x}<br>YEAR=%{y}",
         "legendgroup": "Count=1900",
         "marker": {
          "color": [
           1900
          ],
          "coloraxis": "coloraxis",
          "symbol": "cross"
         },
         "mode": "markers",
         "name": "Count=1900",
         "scene": "scene",
         "showlegend": true,
         "type": "scatter3d",
         "x": [
          "JULIAN"
         ],
         "y": [
          2014
         ],
         "z": [
          1900
         ]
        },
        {
         "hoverlabel": {
          "namelength": 0
         },
         "hovertemplate": "Count=%{marker.color}<br>Name=%{x}<br>YEAR=%{y}",
         "legendgroup": "Count=1869",
         "marker": {
          "color": [
           1869
          ],
          "coloraxis": "coloraxis",
          "symbol": "circle"
         },
         "mode": "markers",
         "name": "Count=1869",
         "scene": "scene",
         "showlegend": true,
         "type": "scatter3d",
         "x": [
          "BENJAMIN"
         ],
         "y": [
          2014
         ],
         "z": [
          1869
         ]
        },
        {
         "hoverlabel": {
          "namelength": 0
         },
         "hovertemplate": "Count=%{marker.color}<br>Name=%{x}<br>YEAR=%{y}",
         "legendgroup": "Count=1864",
         "marker": {
          "color": [
           1864
          ],
          "coloraxis": "coloraxis",
          "symbol": "diamond"
         },
         "mode": "markers",
         "name": "Count=1864",
         "scene": "scene",
         "showlegend": true,
         "type": "scatter3d",
         "x": [
          "AIDEN"
         ],
         "y": [
          2014
         ],
         "z": [
          1864
         ]
        },
        {
         "hoverlabel": {
          "namelength": 0
         },
         "hovertemplate": "Count=%{marker.color}<br>Name=%{x}<br>YEAR=%{y}",
         "legendgroup": "Count=1862",
         "marker": {
          "color": [
           1862
          ],
          "coloraxis": "coloraxis",
          "symbol": "square"
         },
         "mode": "markers",
         "name": "Count=1862",
         "scene": "scene",
         "showlegend": true,
         "type": "scatter3d",
         "x": [
          "NATHAN"
         ],
         "y": [
          2014
         ],
         "z": [
          1862
         ]
        },
        {
         "hoverlabel": {
          "namelength": 0
         },
         "hovertemplate": "Count=%{marker.color}<br>Name=%{x}<br>YEAR=%{y}",
         "legendgroup": "Count=1854",
         "marker": {
          "color": [
           1854
          ],
          "coloraxis": "coloraxis",
          "symbol": "x"
         },
         "mode": "markers",
         "name": "Count=1854",
         "scene": "scene",
         "showlegend": true,
         "type": "scatter3d",
         "x": [
          "LIAM"
         ],
         "y": [
          2014
         ],
         "z": [
          1854
         ]
        },
        {
         "hoverlabel": {
          "namelength": 0
         },
         "hovertemplate": "Count=%{marker.color}<br>Name=%{x}<br>YEAR=%{y}",
         "legendgroup": "Count=1816",
         "marker": {
          "color": [
           1816
          ],
          "coloraxis": "coloraxis",
          "symbol": "cross"
         },
         "mode": "markers",
         "name": "Count=1816",
         "scene": "scene",
         "showlegend": true,
         "type": "scatter3d",
         "x": [
          "MASON"
         ],
         "y": [
          2014
         ],
         "z": [
          1816
         ]
        },
        {
         "hoverlabel": {
          "namelength": 0
         },
         "hovertemplate": "Count=%{marker.color}<br>Name=%{x}<br>YEAR=%{y}",
         "legendgroup": "Count=1790",
         "marker": {
          "color": [
           1790
          ],
          "coloraxis": "coloraxis",
          "symbol": "circle"
         },
         "mode": "markers",
         "name": "Count=1790",
         "scene": "scene",
         "showlegend": true,
         "type": "scatter3d",
         "x": [
          "ISAAC"
         ],
         "y": [
          2014
         ],
         "z": [
          1790
         ]
        },
        {
         "hoverlabel": {
          "namelength": 0
         },
         "hovertemplate": "Count=%{marker.color}<br>Name=%{x}<br>YEAR=%{y}",
         "legendgroup": "Count=1645",
         "marker": {
          "color": [
           1645
          ],
          "coloraxis": "coloraxis",
          "symbol": "diamond"
         },
         "mode": "markers",
         "name": "Count=1645",
         "scene": "scene",
         "showlegend": true,
         "type": "scatter3d",
         "x": [
          "AARON"
         ],
         "y": [
          2014
         ],
         "z": [
          1645
         ]
        },
        {
         "hoverlabel": {
          "namelength": 0
         },
         "hovertemplate": "Count=%{marker.color}<br>Name=%{x}<br>YEAR=%{y}",
         "legendgroup": "Count=1642",
         "marker": {
          "color": [
           1642
          ],
          "coloraxis": "coloraxis",
          "symbol": "square"
         },
         "mode": "markers",
         "name": "Count=1642",
         "scene": "scene",
         "showlegend": true,
         "type": "scatter3d",
         "x": [
          "ANGEL"
         ],
         "y": [
          2014
         ],
         "z": [
          1642
         ]
        },
        {
         "hoverlabel": {
          "namelength": 0
         },
         "hovertemplate": "Count=%{marker.color}<br>Name=%{x}<br>YEAR=%{y}",
         "legendgroup": "Count=1641",
         "marker": {
          "color": [
           1641
          ],
          "coloraxis": "coloraxis",
          "symbol": "x"
         },
         "mode": "markers",
         "name": "Count=1641",
         "scene": "scene",
         "showlegend": true,
         "type": "scatter3d",
         "x": [
          "DYLAN"
         ],
         "y": [
          2014
         ],
         "z": [
          1641
         ]
        },
        {
         "hoverlabel": {
          "namelength": 0
         },
         "hovertemplate": "Count=%{marker.color}<br>Name=%{x}<br>YEAR=%{y}",
         "legendgroup": "Count=1575",
         "marker": {
          "color": [
           1575
          ],
          "coloraxis": "coloraxis",
          "symbol": "cross"
         },
         "mode": "markers",
         "name": "Count=1575",
         "scene": "scene",
         "showlegend": true,
         "type": "scatter3d",
         "x": [
          "JAMES"
         ],
         "y": [
          2014
         ],
         "z": [
          1575
         ]
        },
        {
         "hoverlabel": {
          "namelength": 0
         },
         "hovertemplate": "Count=%{marker.color}<br>Name=%{x}<br>YEAR=%{y}",
         "legendgroup": "Count=1572",
         "marker": {
          "color": [
           1572
          ],
          "coloraxis": "coloraxis",
          "symbol": "circle"
         },
         "mode": "markers",
         "name": "Count=1572",
         "scene": "scene",
         "showlegend": true,
         "type": "scatter3d",
         "x": [
          "ADRIAN"
         ],
         "y": [
          2014
         ],
         "z": [
          1572
         ]
        },
        {
         "hoverlabel": {
          "namelength": 0
         },
         "hovertemplate": "Count=%{marker.color}<br>Name=%{x}<br>YEAR=%{y}",
         "legendgroup": "Count=1543",
         "marker": {
          "color": [
           1543,
           1543
          ],
          "coloraxis": "coloraxis",
          "symbol": "diamond"
         },
         "mode": "markers",
         "name": "Count=1543",
         "scene": "scene",
         "showlegend": true,
         "type": "scatter3d",
         "x": [
          "LOGAN",
          "OLIVER"
         ],
         "y": [
          2014,
          2016
         ],
         "z": [
          1543,
          1543
         ]
        },
        {
         "hoverlabel": {
          "namelength": 0
         },
         "hovertemplate": "Count=%{marker.color}<br>Name=%{x}<br>YEAR=%{y}",
         "legendgroup": "Count=2936",
         "marker": {
          "color": [
           2936
          ],
          "coloraxis": "coloraxis",
          "symbol": "square"
         },
         "mode": "markers",
         "name": "Count=2936",
         "scene": "scene",
         "showlegend": true,
         "type": "scatter3d",
         "x": [
          "SOPHIA"
         ],
         "y": [
          2015
         ],
         "z": [
          2936
         ]
        },
        {
         "hoverlabel": {
          "namelength": 0
         },
         "hovertemplate": "Count=%{marker.color}<br>Name=%{x}<br>YEAR=%{y}",
         "legendgroup": "Count=2846",
         "marker": {
          "color": [
           2846
          ],
          "coloraxis": "coloraxis",
          "symbol": "x"
         },
         "mode": "markers",
         "name": "Count=2846",
         "scene": "scene",
         "showlegend": true,
         "type": "scatter3d",
         "x": [
          "MIA"
         ],
         "y": [
          2015
         ],
         "z": [
          2846
         ]
        },
        {
         "hoverlabel": {
          "namelength": 0
         },
         "hovertemplate": "Count=%{marker.color}<br>Name=%{x}<br>YEAR=%{y}",
         "legendgroup": "Count=2694",
         "marker": {
          "color": [
           2694
          ],
          "coloraxis": "coloraxis",
          "symbol": "cross"
         },
         "mode": "markers",
         "name": "Count=2694",
         "scene": "scene",
         "showlegend": true,
         "type": "scatter3d",
         "x": [
          "EMMA"
         ],
         "y": [
          2015
         ],
         "z": [
          2694
         ]
        },
        {
         "hoverlabel": {
          "namelength": 0
         },
         "hovertemplate": "Count=%{marker.color}<br>Name=%{x}<br>YEAR=%{y}",
         "legendgroup": "Count=2506",
         "marker": {
          "color": [
           2506
          ],
          "coloraxis": "coloraxis",
          "symbol": "circle"
         },
         "mode": "markers",
         "name": "Count=2506",
         "scene": "scene",
         "showlegend": true,
         "type": "scatter3d",
         "x": [
          "OLIVIA"
         ],
         "y": [
          2015
         ],
         "z": [
          2506
         ]
        },
        {
         "hoverlabel": {
          "namelength": 0
         },
         "hovertemplate": "Count=%{marker.color}<br>Name=%{x}<br>YEAR=%{y}",
         "legendgroup": "Count=2138",
         "marker": {
          "color": [
           2138
          ],
          "coloraxis": "coloraxis",
          "symbol": "diamond"
         },
         "mode": "markers",
         "name": "Count=2138",
         "scene": "scene",
         "showlegend": true,
         "type": "scatter3d",
         "x": [
          "EMILY"
         ],
         "y": [
          2015
         ],
         "z": [
          2138
         ]
        },
        {
         "hoverlabel": {
          "namelength": 0
         },
         "hovertemplate": "Count=%{marker.color}<br>Name=%{x}<br>YEAR=%{y}",
         "legendgroup": "Count=1762",
         "marker": {
          "color": [
           1762
          ],
          "coloraxis": "coloraxis",
          "symbol": "square"
         },
         "mode": "markers",
         "name": "Count=1762",
         "scene": "scene",
         "showlegend": true,
         "type": "scatter3d",
         "x": [
          "ABIGAIL"
         ],
         "y": [
          2015
         ],
         "z": [
          1762
         ]
        },
        {
         "hoverlabel": {
          "namelength": 0
         },
         "hovertemplate": "Count=%{marker.color}<br>Name=%{x}<br>YEAR=%{y}",
         "legendgroup": "Count=1551",
         "marker": {
          "color": [
           1551
          ],
          "coloraxis": "coloraxis",
          "symbol": "x"
         },
         "mode": "markers",
         "name": "Count=1551",
         "scene": "scene",
         "showlegend": true,
         "type": "scatter3d",
         "x": [
          "VICTORIA"
         ],
         "y": [
          2015
         ],
         "z": [
          1551
         ]
        },
        {
         "hoverlabel": {
          "namelength": 0
         },
         "hovertemplate": "Count=%{marker.color}<br>Name=%{x}<br>YEAR=%{y}",
         "legendgroup": "Count=1533",
         "marker": {
          "color": [
           1533
          ],
          "coloraxis": "coloraxis",
          "symbol": "cross"
         },
         "mode": "markers",
         "name": "Count=1533",
         "scene": "scene",
         "showlegend": true,
         "type": "scatter3d",
         "x": [
          "AVA"
         ],
         "y": [
          2015
         ],
         "z": [
          1533
         ]
        },
        {
         "hoverlabel": {
          "namelength": 0
         },
         "hovertemplate": "Count=%{marker.color}<br>Name=%{x}<br>YEAR=%{y}",
         "legendgroup": "Count=1422",
         "marker": {
          "color": [
           1422
          ],
          "coloraxis": "coloraxis",
          "symbol": "circle"
         },
         "mode": "markers",
         "name": "Count=1422",
         "scene": "scene",
         "showlegend": true,
         "type": "scatter3d",
         "x": [
          "ALEXA"
         ],
         "y": [
          2015
         ],
         "z": [
          1422
         ]
        },
        {
         "hoverlabel": {
          "namelength": 0
         },
         "hovertemplate": "Count=%{marker.color}<br>Name=%{x}<br>YEAR=%{y}",
         "legendgroup": "Count=1336",
         "marker": {
          "color": [
           1336
          ],
          "coloraxis": "coloraxis",
          "symbol": "diamond"
         },
         "mode": "markers",
         "name": "Count=1336",
         "scene": "scene",
         "showlegend": true,
         "type": "scatter3d",
         "x": [
          "CHARLOTTE"
         ],
         "y": [
          2015
         ],
         "z": [
          1336
         ]
        },
        {
         "hoverlabel": {
          "namelength": 0
         },
         "hovertemplate": "Count=%{marker.color}<br>Name=%{x}<br>YEAR=%{y}",
         "legendgroup": "Count=1058",
         "marker": {
          "color": [
           1058
          ],
          "coloraxis": "coloraxis",
          "symbol": "square"
         },
         "mode": "markers",
         "name": "Count=1058",
         "scene": "scene",
         "showlegend": true,
         "type": "scatter3d",
         "x": [
          "EVELYN"
         ],
         "y": [
          2015
         ],
         "z": [
          1058
         ]
        },
        {
         "hoverlabel": {
          "namelength": 0
         },
         "hovertemplate": "Count=%{marker.color}<br>Name=%{x}<br>YEAR=%{y}",
         "legendgroup": "Count=1049",
         "marker": {
          "color": [
           1049
          ],
          "coloraxis": "coloraxis",
          "symbol": "x"
         },
         "mode": "markers",
         "name": "Count=1049",
         "scene": "scene",
         "showlegend": true,
         "type": "scatter3d",
         "x": [
          "SCARLETT"
         ],
         "y": [
          2015
         ],
         "z": [
          1049
         ]
        },
        {
         "hoverlabel": {
          "namelength": 0
         },
         "hovertemplate": "Count=%{marker.color}<br>Name=%{x}<br>YEAR=%{y}",
         "legendgroup": "Count=990",
         "marker": {
          "color": [
           990
          ],
          "coloraxis": "coloraxis",
          "symbol": "cross"
         },
         "mode": "markers",
         "name": "Count=990",
         "scene": "scene",
         "showlegend": true,
         "type": "scatter3d",
         "x": [
          "ELIZABETH"
         ],
         "y": [
          2015
         ],
         "z": [
          990
         ]
        },
        {
         "hoverlabel": {
          "namelength": 0
         },
         "hovertemplate": "Count=%{marker.color}<br>Name=%{x}<br>YEAR=%{y}",
         "legendgroup": "Count=989",
         "marker": {
          "color": [
           989
          ],
          "coloraxis": "coloraxis",
          "symbol": "circle"
         },
         "mode": "markers",
         "name": "Count=989",
         "scene": "scene",
         "showlegend": true,
         "type": "scatter3d",
         "x": [
          "PENELOPE"
         ],
         "y": [
          2015
         ],
         "z": [
          989
         ]
        },
        {
         "hoverlabel": {
          "namelength": 0
         },
         "hovertemplate": "Count=%{marker.color}<br>Name=%{x}<br>YEAR=%{y}",
         "legendgroup": "Count=955",
         "marker": {
          "color": [
           955
          ],
          "coloraxis": "coloraxis",
          "symbol": "diamond"
         },
         "mode": "markers",
         "name": "Count=955",
         "scene": "scene",
         "showlegend": true,
         "type": "scatter3d",
         "x": [
          "ZOE"
         ],
         "y": [
          2015
         ],
         "z": [
          955
         ]
        },
        {
         "hoverlabel": {
          "namelength": 0
         },
         "hovertemplate": "Count=%{marker.color}<br>Name=%{x}<br>YEAR=%{y}",
         "legendgroup": "Count=946",
         "marker": {
          "color": [
           946
          ],
          "coloraxis": "coloraxis",
          "symbol": "square"
         },
         "mode": "markers",
         "name": "Count=946",
         "scene": "scene",
         "showlegend": true,
         "type": "scatter3d",
         "x": [
          "CHLOE"
         ],
         "y": [
          2015
         ],
         "z": [
          946
         ]
        },
        {
         "hoverlabel": {
          "namelength": 0
         },
         "hovertemplate": "Count=%{marker.color}<br>Name=%{x}<br>YEAR=%{y}",
         "legendgroup": "Count=937",
         "marker": {
          "color": [
           937
          ],
          "coloraxis": "coloraxis",
          "symbol": "x"
         },
         "mode": "markers",
         "name": "Count=937",
         "scene": "scene",
         "showlegend": true,
         "type": "scatter3d",
         "x": [
          "NATALIE"
         ],
         "y": [
          2015
         ],
         "z": [
          937
         ]
        },
        {
         "hoverlabel": {
          "namelength": 0
         },
         "hovertemplate": "Count=%{marker.color}<br>Name=%{x}<br>YEAR=%{y}",
         "legendgroup": "Count=919",
         "marker": {
          "color": [
           919
          ],
          "coloraxis": "coloraxis",
          "symbol": "cross"
         },
         "mode": "markers",
         "name": "Count=919",
         "scene": "scene",
         "showlegend": true,
         "type": "scatter3d",
         "x": [
          "AVERY"
         ],
         "y": [
          2015
         ],
         "z": [
          919
         ]
        },
        {
         "hoverlabel": {
          "namelength": 0
         },
         "hovertemplate": "Count=%{marker.color}<br>Name=%{x}<br>YEAR=%{y}",
         "legendgroup": "Count=895",
         "marker": {
          "color": [
           895,
           895,
           895
          ],
          "coloraxis": "coloraxis",
          "symbol": "circle"
         },
         "mode": "markers",
         "name": "Count=895",
         "scene": "scene",
         "showlegend": true,
         "type": "scatter3d",
         "x": [
          "ARIA",
          "GRACE",
          "GENESIS"
         ],
         "y": [
          2015,
          2015,
          2016
         ],
         "z": [
          895,
          895,
          895
         ]
        },
        {
         "hoverlabel": {
          "namelength": 0
         },
         "hovertemplate": "Count=%{marker.color}<br>Name=%{x}<br>YEAR=%{y}",
         "legendgroup": "Count=2750",
         "marker": {
          "color": [
           2750
          ],
          "coloraxis": "coloraxis",
          "symbol": "diamond"
         },
         "mode": "markers",
         "name": "Count=2750",
         "scene": "scene",
         "showlegend": true,
         "type": "scatter3d",
         "x": [
          "NOAH"
         ],
         "y": [
          2015
         ],
         "z": [
          2750
         ]
        },
        {
         "hoverlabel": {
          "namelength": 0
         },
         "hovertemplate": "Count=%{marker.color}<br>Name=%{x}<br>YEAR=%{y}",
         "legendgroup": "Count=2546",
         "marker": {
          "color": [
           2546
          ],
          "coloraxis": "coloraxis",
          "symbol": "square"
         },
         "mode": "markers",
         "name": "Count=2546",
         "scene": "scene",
         "showlegend": true,
         "type": "scatter3d",
         "x": [
          "JACOB"
         ],
         "y": [
          2015
         ],
         "z": [
          2546
         ]
        },
        {
         "hoverlabel": {
          "namelength": 0
         },
         "hovertemplate": "Count=%{marker.color}<br>Name=%{x}<br>YEAR=%{y}",
         "legendgroup": "Count=2461",
         "marker": {
          "color": [
           2461
          ],
          "coloraxis": "coloraxis",
          "symbol": "x"
         },
         "mode": "markers",
         "name": "Count=2461",
         "scene": "scene",
         "showlegend": true,
         "type": "scatter3d",
         "x": [
          "ETHAN"
         ],
         "y": [
          2015
         ],
         "z": [
          2461
         ]
        },
        {
         "hoverlabel": {
          "namelength": 0
         },
         "hovertemplate": "Count=%{marker.color}<br>Name=%{x}<br>YEAR=%{y}",
         "legendgroup": "Count=2457",
         "marker": {
          "color": [
           2457
          ],
          "coloraxis": "coloraxis",
          "symbol": "cross"
         },
         "mode": "markers",
         "name": "Count=2457",
         "scene": "scene",
         "showlegend": true,
         "type": "scatter3d",
         "x": [
          "DANIEL"
         ],
         "y": [
          2015
         ],
         "z": [
          2457
         ]
        },
        {
         "hoverlabel": {
          "namelength": 0
         },
         "hovertemplate": "Count=%{marker.color}<br>Name=%{x}<br>YEAR=%{y}",
         "legendgroup": "Count=2419",
         "marker": {
          "color": [
           2419
          ],
          "coloraxis": "coloraxis",
          "symbol": "circle"
         },
         "mode": "markers",
         "name": "Count=2419",
         "scene": "scene",
         "showlegend": true,
         "type": "scatter3d",
         "x": [
          "MATTHEW"
         ],
         "y": [
          2015
         ],
         "z": [
          2419
         ]
        },
        {
         "hoverlabel": {
          "namelength": 0
         },
         "hovertemplate": "Count=%{marker.color}<br>Name=%{x}<br>YEAR=%{y}",
         "legendgroup": "Count=2300",
         "marker": {
          "color": [
           2300
          ],
          "coloraxis": "coloraxis",
          "symbol": "diamond"
         },
         "mode": "markers",
         "name": "Count=2300",
         "scene": "scene",
         "showlegend": true,
         "type": "scatter3d",
         "x": [
          "ALEXANDER"
         ],
         "y": [
          2015
         ],
         "z": [
          2300
         ]
        },
        {
         "hoverlabel": {
          "namelength": 0
         },
         "hovertemplate": "Count=%{marker.color}<br>Name=%{x}<br>YEAR=%{y}",
         "legendgroup": "Count=2131",
         "marker": {
          "color": [
           2131
          ],
          "coloraxis": "coloraxis",
          "symbol": "square"
         },
         "mode": "markers",
         "name": "Count=2131",
         "scene": "scene",
         "showlegend": true,
         "type": "scatter3d",
         "x": [
          "JAYDEN"
         ],
         "y": [
          2015
         ],
         "z": [
          2131
         ]
        },
        {
         "hoverlabel": {
          "namelength": 0
         },
         "hovertemplate": "Count=%{marker.color}<br>Name=%{x}<br>YEAR=%{y}",
         "legendgroup": "Count=2017",
         "marker": {
          "color": [
           2017,
           2017
          ],
          "coloraxis": "coloraxis",
          "symbol": "x"
         },
         "mode": "markers",
         "name": "Count=2017",
         "scene": "scene",
         "showlegend": true,
         "type": "scatter3d",
         "x": [
          "LIAM",
          "LIAM"
         ],
         "y": [
          2015,
          2016
         ],
         "z": [
          2017,
          2017
         ]
        },
        {
         "hoverlabel": {
          "namelength": 0
         },
         "hovertemplate": "Count=%{marker.color}<br>Name=%{x}<br>YEAR=%{y}",
         "legendgroup": "Count=1918",
         "marker": {
          "color": [
           1918
          ],
          "coloraxis": "coloraxis",
          "symbol": "cross"
         },
         "mode": "markers",
         "name": "Count=1918",
         "scene": "scene",
         "showlegend": true,
         "type": "scatter3d",
         "x": [
          "DAVID"
         ],
         "y": [
          2015
         ],
         "z": [
          1918
         ]
        },
        {
         "hoverlabel": {
          "namelength": 0
         },
         "hovertemplate": "Count=%{marker.color}<br>Name=%{x}<br>YEAR=%{y}",
         "legendgroup": "Count=1896",
         "marker": {
          "color": [
           1896
          ],
          "coloraxis": "coloraxis",
          "symbol": "circle"
         },
         "mode": "markers",
         "name": "Count=1896",
         "scene": "scene",
         "showlegend": true,
         "type": "scatter3d",
         "x": [
          "JULIAN"
         ],
         "y": [
          2015
         ],
         "z": [
          1896
         ]
        },
        {
         "hoverlabel": {
          "namelength": 0
         },
         "hovertemplate": "Count=%{marker.color}<br>Name=%{x}<br>YEAR=%{y}",
         "legendgroup": "Count=1895",
         "marker": {
          "color": [
           1895
          ],
          "coloraxis": "coloraxis",
          "symbol": "diamond"
         },
         "mode": "markers",
         "name": "Count=1895",
         "scene": "scene",
         "showlegend": true,
         "type": "scatter3d",
         "x": [
          "AIDEN"
         ],
         "y": [
          2015
         ],
         "z": [
          1895
         ]
        },
        {
         "hoverlabel": {
          "namelength": 0
         },
         "hovertemplate": "Count=%{marker.color}<br>Name=%{x}<br>YEAR=%{y}",
         "legendgroup": "Count=1852",
         "marker": {
          "color": [
           1852
          ],
          "coloraxis": "coloraxis",
          "symbol": "square"
         },
         "mode": "markers",
         "name": "Count=1852",
         "scene": "scene",
         "showlegend": true,
         "type": "scatter3d",
         "x": [
          "MICHAEL"
         ],
         "y": [
          2015
         ],
         "z": [
          1852
         ]
        },
        {
         "hoverlabel": {
          "namelength": 0
         },
         "hovertemplate": "Count=%{marker.color}<br>Name=%{x}<br>YEAR=%{y}",
         "legendgroup": "Count=1850",
         "marker": {
          "color": [
           1850,
           1850
          ],
          "coloraxis": "coloraxis",
          "symbol": "x"
         },
         "mode": "markers",
         "name": "Count=1850",
         "scene": "scene",
         "showlegend": true,
         "type": "scatter3d",
         "x": [
          "NATHAN",
          "BENJAMIN"
         ],
         "y": [
          2015,
          2017
         ],
         "z": [
          1850,
          1850
         ]
        },
        {
         "hoverlabel": {
          "namelength": 0
         },
         "hovertemplate": "Count=%{marker.color}<br>Name=%{x}<br>YEAR=%{y}",
         "legendgroup": "Count=1813",
         "marker": {
          "color": [
           1813
          ],
          "coloraxis": "coloraxis",
          "symbol": "cross"
         },
         "mode": "markers",
         "name": "Count=1813",
         "scene": "scene",
         "showlegend": true,
         "type": "scatter3d",
         "x": [
          "BENJAMIN"
         ],
         "y": [
          2015
         ],
         "z": [
          1813
         ]
        },
        {
         "hoverlabel": {
          "namelength": 0
         },
         "hovertemplate": "Count=%{marker.color}<br>Name=%{x}<br>YEAR=%{y}",
         "legendgroup": "Count=1765",
         "marker": {
          "color": [
           1765
          ],
          "coloraxis": "coloraxis",
          "symbol": "circle"
         },
         "mode": "markers",
         "name": "Count=1765",
         "scene": "scene",
         "showlegend": true,
         "type": "scatter3d",
         "x": [
          "ANTHONY"
         ],
         "y": [
          2015
         ],
         "z": [
          1765
         ]
        },
        {
         "hoverlabel": {
          "namelength": 0
         },
         "hovertemplate": "Count=%{marker.color}<br>Name=%{x}<br>YEAR=%{y}",
         "legendgroup": "Count=1704",
         "marker": {
          "color": [
           1704
          ],
          "coloraxis": "coloraxis",
          "symbol": "diamond"
         },
         "mode": "markers",
         "name": "Count=1704",
         "scene": "scene",
         "showlegend": true,
         "type": "scatter3d",
         "x": [
          "ISAAC"
         ],
         "y": [
          2015
         ],
         "z": [
          1704
         ]
        },
        {
         "hoverlabel": {
          "namelength": 0
         },
         "hovertemplate": "Count=%{marker.color}<br>Name=%{x}<br>YEAR=%{y}",
         "legendgroup": "Count=1692",
         "marker": {
          "color": [
           1692
          ],
          "coloraxis": "coloraxis",
          "symbol": "square"
         },
         "mode": "markers",
         "name": "Count=1692",
         "scene": "scene",
         "showlegend": true,
         "type": "scatter3d",
         "x": [
          "MASON"
         ],
         "y": [
          2015
         ],
         "z": [
          1692
         ]
        },
        {
         "hoverlabel": {
          "namelength": 0
         },
         "hovertemplate": "Count=%{marker.color}<br>Name=%{x}<br>YEAR=%{y}",
         "legendgroup": "Count=1679",
         "marker": {
          "color": [
           1679
          ],
          "coloraxis": "coloraxis",
          "symbol": "x"
         },
         "mode": "markers",
         "name": "Count=1679",
         "scene": "scene",
         "showlegend": true,
         "type": "scatter3d",
         "x": [
          "DYLAN"
         ],
         "y": [
          2015
         ],
         "z": [
          1679
         ]
        },
        {
         "hoverlabel": {
          "namelength": 0
         },
         "hovertemplate": "Count=%{marker.color}<br>Name=%{x}<br>YEAR=%{y}",
         "legendgroup": "Count=1530",
         "marker": {
          "color": [
           1530
          ],
          "coloraxis": "coloraxis",
          "symbol": "cross"
         },
         "mode": "markers",
         "name": "Count=1530",
         "scene": "scene",
         "showlegend": true,
         "type": "scatter3d",
         "x": [
          "JAMES"
         ],
         "y": [
          2015
         ],
         "z": [
          1530
         ]
        },
        {
         "hoverlabel": {
          "namelength": 0
         },
         "hovertemplate": "Count=%{marker.color}<br>Name=%{x}<br>YEAR=%{y}",
         "legendgroup": "Count=1514",
         "marker": {
          "color": [
           1514
          ],
          "coloraxis": "coloraxis",
          "symbol": "circle"
         },
         "mode": "markers",
         "name": "Count=1514",
         "scene": "scene",
         "showlegend": true,
         "type": "scatter3d",
         "x": [
          "ADRIAN"
         ],
         "y": [
          2015
         ],
         "z": [
          1514
         ]
        },
        {
         "hoverlabel": {
          "namelength": 0
         },
         "hovertemplate": "Count=%{marker.color}<br>Name=%{x}<br>YEAR=%{y}",
         "legendgroup": "Count=1511",
         "marker": {
          "color": [
           1511
          ],
          "coloraxis": "coloraxis",
          "symbol": "diamond"
         },
         "mode": "markers",
         "name": "Count=1511",
         "scene": "scene",
         "showlegend": true,
         "type": "scatter3d",
         "x": [
          "JOSEPH"
         ],
         "y": [
          2015
         ],
         "z": [
          1511
         ]
        },
        {
         "hoverlabel": {
          "namelength": 0
         },
         "hovertemplate": "Count=%{marker.color}<br>Name=%{x}<br>YEAR=%{y}",
         "legendgroup": "Count=1504",
         "marker": {
          "color": [
           1504
          ],
          "coloraxis": "coloraxis",
          "symbol": "square"
         },
         "mode": "markers",
         "name": "Count=1504",
         "scene": "scene",
         "showlegend": true,
         "type": "scatter3d",
         "x": [
          "ELIJAH"
         ],
         "y": [
          2015
         ],
         "z": [
          1504
         ]
        },
        {
         "hoverlabel": {
          "namelength": 0
         },
         "hovertemplate": "Count=%{marker.color}<br>Name=%{x}<br>YEAR=%{y}",
         "legendgroup": "Count=2788",
         "marker": {
          "color": [
           2788
          ],
          "coloraxis": "coloraxis",
          "symbol": "x"
         },
         "mode": "markers",
         "name": "Count=2788",
         "scene": "scene",
         "showlegend": true,
         "type": "scatter3d",
         "x": [
          "MIA"
         ],
         "y": [
          2016
         ],
         "z": [
          2788
         ]
        },
        {
         "hoverlabel": {
          "namelength": 0
         },
         "hovertemplate": "Count=%{marker.color}<br>Name=%{x}<br>YEAR=%{y}",
         "legendgroup": "Count=2740",
         "marker": {
          "color": [
           2740
          ],
          "coloraxis": "coloraxis",
          "symbol": "cross"
         },
         "mode": "markers",
         "name": "Count=2740",
         "scene": "scene",
         "showlegend": true,
         "type": "scatter3d",
         "x": [
          "SOPHIA"
         ],
         "y": [
          2016
         ],
         "z": [
          2740
         ]
        },
        {
         "hoverlabel": {
          "namelength": 0
         },
         "hovertemplate": "Count=%{marker.color}<br>Name=%{x}<br>YEAR=%{y}",
         "legendgroup": "Count=1944",
         "marker": {
          "color": [
           1944
          ],
          "coloraxis": "coloraxis",
          "symbol": "circle"
         },
         "mode": "markers",
         "name": "Count=1944",
         "scene": "scene",
         "showlegend": true,
         "type": "scatter3d",
         "x": [
          "EMILY"
         ],
         "y": [
          2016
         ],
         "z": [
          1944
         ]
        },
        {
         "hoverlabel": {
          "namelength": 0
         },
         "hovertemplate": "Count=%{marker.color}<br>Name=%{x}<br>YEAR=%{y}",
         "legendgroup": "Count=1885",
         "marker": {
          "color": [
           1885
          ],
          "coloraxis": "coloraxis",
          "symbol": "diamond"
         },
         "mode": "markers",
         "name": "Count=1885",
         "scene": "scene",
         "showlegend": true,
         "type": "scatter3d",
         "x": [
          "SOFIA"
         ],
         "y": [
          2016
         ],
         "z": [
          1885
         ]
        },
        {
         "hoverlabel": {
          "namelength": 0
         },
         "hovertemplate": "Count=%{marker.color}<br>Name=%{x}<br>YEAR=%{y}",
         "legendgroup": "Count=1636",
         "marker": {
          "color": [
           1636
          ],
          "coloraxis": "coloraxis",
          "symbol": "square"
         },
         "mode": "markers",
         "name": "Count=1636",
         "scene": "scene",
         "showlegend": true,
         "type": "scatter3d",
         "x": [
          "CAMILA"
         ],
         "y": [
          2016
         ],
         "z": [
          1636
         ]
        },
        {
         "hoverlabel": {
          "namelength": 0
         },
         "hovertemplate": "Count=%{marker.color}<br>Name=%{x}<br>YEAR=%{y}",
         "legendgroup": "Count=1606",
         "marker": {
          "color": [
           1606
          ],
          "coloraxis": "coloraxis",
          "symbol": "x"
         },
         "mode": "markers",
         "name": "Count=1606",
         "scene": "scene",
         "showlegend": true,
         "type": "scatter3d",
         "x": [
          "AVA"
         ],
         "y": [
          2016
         ],
         "z": [
          1606
         ]
        },
        {
         "hoverlabel": {
          "namelength": 0
         },
         "hovertemplate": "Count=%{marker.color}<br>Name=%{x}<br>YEAR=%{y}",
         "legendgroup": "Count=1583",
         "marker": {
          "color": [
           1583
          ],
          "coloraxis": "coloraxis",
          "symbol": "cross"
         },
         "mode": "markers",
         "name": "Count=1583",
         "scene": "scene",
         "showlegend": true,
         "type": "scatter3d",
         "x": [
          "ABIGAIL"
         ],
         "y": [
          2016
         ],
         "z": [
          1583
         ]
        },
        {
         "hoverlabel": {
          "namelength": 0
         },
         "hovertemplate": "Count=%{marker.color}<br>Name=%{x}<br>YEAR=%{y}",
         "legendgroup": "Count=1182",
         "marker": {
          "color": [
           1182
          ],
          "coloraxis": "coloraxis",
          "symbol": "circle"
         },
         "mode": "markers",
         "name": "Count=1182",
         "scene": "scene",
         "showlegend": true,
         "type": "scatter3d",
         "x": [
          "EVELYN"
         ],
         "y": [
          2016
         ],
         "z": [
          1182
         ]
        },
        {
         "hoverlabel": {
          "namelength": 0
         },
         "hovertemplate": "Count=%{marker.color}<br>Name=%{x}<br>YEAR=%{y}",
         "legendgroup": "Count=1112",
         "marker": {
          "color": [
           1112
          ],
          "coloraxis": "coloraxis",
          "symbol": "diamond"
         },
         "mode": "markers",
         "name": "Count=1112",
         "scene": "scene",
         "showlegend": true,
         "type": "scatter3d",
         "x": [
          "SCARLETT"
         ],
         "y": [
          2016
         ],
         "z": [
          1112
         ]
        },
        {
         "hoverlabel": {
          "namelength": 0
         },
         "hovertemplate": "Count=%{marker.color}<br>Name=%{x}<br>YEAR=%{y}",
         "legendgroup": "Count=1055",
         "marker": {
          "color": [
           1055
          ],
          "coloraxis": "coloraxis",
          "symbol": "square"
         },
         "mode": "markers",
         "name": "Count=1055",
         "scene": "scene",
         "showlegend": true,
         "type": "scatter3d",
         "x": [
          "PENELOPE"
         ],
         "y": [
          2016
         ],
         "z": [
          1055
         ]
        },
        {
         "hoverlabel": {
          "namelength": 0
         },
         "hovertemplate": "Count=%{marker.color}<br>Name=%{x}<br>YEAR=%{y}",
         "legendgroup": "Count=1050",
         "marker": {
          "color": [
           1050
          ],
          "coloraxis": "coloraxis",
          "symbol": "x"
         },
         "mode": "markers",
         "name": "Count=1050",
         "scene": "scene",
         "showlegend": true,
         "type": "scatter3d",
         "x": [
          "AMELIA"
         ],
         "y": [
          2016
         ],
         "z": [
          1050
         ]
        },
        {
         "hoverlabel": {
          "namelength": 0
         },
         "hovertemplate": "Count=%{marker.color}<br>Name=%{x}<br>YEAR=%{y}",
         "legendgroup": "Count=1016",
         "marker": {
          "color": [
           1016,
           1016
          ],
          "coloraxis": "coloraxis",
          "symbol": "cross"
         },
         "mode": "markers",
         "name": "Count=1016",
         "scene": "scene",
         "showlegend": true,
         "type": "scatter3d",
         "x": [
          "ALEXA",
          "ELIZABETH"
         ],
         "y": [
          2016,
          2016
         ],
         "z": [
          1016,
          1016
         ]
        },
        {
         "hoverlabel": {
          "namelength": 0
         },
         "hovertemplate": "Count=%{marker.color}<br>Name=%{x}<br>YEAR=%{y}",
         "legendgroup": "Count=1008",
         "marker": {
          "color": [
           1008
          ],
          "coloraxis": "coloraxis",
          "symbol": "circle"
         },
         "mode": "markers",
         "name": "Count=1008",
         "scene": "scene",
         "showlegend": true,
         "type": "scatter3d",
         "x": [
          "SAMANTHA"
         ],
         "y": [
          2016
         ],
         "z": [
          1008
         ]
        },
        {
         "hoverlabel": {
          "namelength": 0
         },
         "hovertemplate": "Count=%{marker.color}<br>Name=%{x}<br>YEAR=%{y}",
         "legendgroup": "Count=1002",
         "marker": {
          "color": [
           1002
          ],
          "coloraxis": "coloraxis",
          "symbol": "diamond"
         },
         "mode": "markers",
         "name": "Count=1002",
         "scene": "scene",
         "showlegend": true,
         "type": "scatter3d",
         "x": [
          "ARIA"
         ],
         "y": [
          2016
         ],
         "z": [
          1002
         ]
        },
        {
         "hoverlabel": {
          "namelength": 0
         },
         "hovertemplate": "Count=%{marker.color}<br>Name=%{x}<br>YEAR=%{y}",
         "legendgroup": "Count=959",
         "marker": {
          "color": [
           959
          ],
          "coloraxis": "coloraxis",
          "symbol": "square"
         },
         "mode": "markers",
         "name": "Count=959",
         "scene": "scene",
         "showlegend": true,
         "type": "scatter3d",
         "x": [
          "AVERY"
         ],
         "y": [
          2016
         ],
         "z": [
          959
         ]
        },
        {
         "hoverlabel": {
          "namelength": 0
         },
         "hovertemplate": "Count=%{marker.color}<br>Name=%{x}<br>YEAR=%{y}",
         "legendgroup": "Count=914",
         "marker": {
          "color": [
           914
          ],
          "coloraxis": "coloraxis",
          "symbol": "x"
         },
         "mode": "markers",
         "name": "Count=914",
         "scene": "scene",
         "showlegend": true,
         "type": "scatter3d",
         "x": [
          "MADISON"
         ],
         "y": [
          2016
         ],
         "z": [
          914
         ]
        },
        {
         "hoverlabel": {
          "namelength": 0
         },
         "hovertemplate": "Count=%{marker.color}<br>Name=%{x}<br>YEAR=%{y}",
         "legendgroup": "Count=906",
         "marker": {
          "color": [
           906
          ],
          "coloraxis": "coloraxis",
          "symbol": "cross"
         },
         "mode": "markers",
         "name": "Count=906",
         "scene": "scene",
         "showlegend": true,
         "type": "scatter3d",
         "x": [
          "ZOE"
         ],
         "y": [
          2016
         ],
         "z": [
          906
         ]
        },
        {
         "hoverlabel": {
          "namelength": 0
         },
         "hovertemplate": "Count=%{marker.color}<br>Name=%{x}<br>YEAR=%{y}",
         "legendgroup": "Count=2681",
         "marker": {
          "color": [
           2681
          ],
          "coloraxis": "coloraxis",
          "symbol": "circle"
         },
         "mode": "markers",
         "name": "Count=2681",
         "scene": "scene",
         "showlegend": true,
         "type": "scatter3d",
         "x": [
          "NOAH"
         ],
         "y": [
          2016
         ],
         "z": [
          2681
         ]
        },
        {
         "hoverlabel": {
          "namelength": 0
         },
         "hovertemplate": "Count=%{marker.color}<br>Name=%{x}<br>YEAR=%{y}",
         "legendgroup": "Count=2322",
         "marker": {
          "color": [
           2322
          ],
          "coloraxis": "coloraxis",
          "symbol": "diamond"
         },
         "mode": "markers",
         "name": "Count=2322",
         "scene": "scene",
         "showlegend": true,
         "type": "scatter3d",
         "x": [
          "ETHAN"
         ],
         "y": [
          2016
         ],
         "z": [
          2322
         ]
        },
        {
         "hoverlabel": {
          "namelength": 0
         },
         "hovertemplate": "Count=%{marker.color}<br>Name=%{x}<br>YEAR=%{y}",
         "legendgroup": "Count=2284",
         "marker": {
          "color": [
           2284
          ],
          "coloraxis": "coloraxis",
          "symbol": "square"
         },
         "mode": "markers",
         "name": "Count=2284",
         "scene": "scene",
         "showlegend": true,
         "type": "scatter3d",
         "x": [
          "DANIEL"
         ],
         "y": [
          2016
         ],
         "z": [
          2284
         ]
        },
        {
         "hoverlabel": {
          "namelength": 0
         },
         "hovertemplate": "Count=%{marker.color}<br>Name=%{x}<br>YEAR=%{y}",
         "legendgroup": "Count=2254",
         "marker": {
          "color": [
           2254
          ],
          "coloraxis": "coloraxis",
          "symbol": "x"
         },
         "mode": "markers",
         "name": "Count=2254",
         "scene": "scene",
         "showlegend": true,
         "type": "scatter3d",
         "x": [
          "SEBASTIAN"
         ],
         "y": [
          2016
         ],
         "z": [
          2254
         ]
        },
        {
         "hoverlabel": {
          "namelength": 0
         },
         "hovertemplate": "Count=%{marker.color}<br>Name=%{x}<br>YEAR=%{y}",
         "legendgroup": "Count=2213",
         "marker": {
          "color": [
           2213
          ],
          "coloraxis": "coloraxis",
          "symbol": "cross"
         },
         "mode": "markers",
         "name": "Count=2213",
         "scene": "scene",
         "showlegend": true,
         "type": "scatter3d",
         "x": [
          "ALEXANDER"
         ],
         "y": [
          2016
         ],
         "z": [
          2213
         ]
        },
        {
         "hoverlabel": {
          "namelength": 0
         },
         "hovertemplate": "Count=%{marker.color}<br>Name=%{x}<br>YEAR=%{y}",
         "legendgroup": "Count=2034",
         "marker": {
          "color": [
           2034
          ],
          "coloraxis": "coloraxis",
          "symbol": "circle"
         },
         "mode": "markers",
         "name": "Count=2034",
         "scene": "scene",
         "showlegend": true,
         "type": "scatter3d",
         "x": [
          "JULIAN"
         ],
         "y": [
          2016
         ],
         "z": [
          2034
         ]
        },
        {
         "hoverlabel": {
          "namelength": 0
         },
         "hovertemplate": "Count=%{marker.color}<br>Name=%{x}<br>YEAR=%{y}",
         "legendgroup": "Count=1910",
         "marker": {
          "color": [
           1910
          ],
          "coloraxis": "coloraxis",
          "symbol": "diamond"
         },
         "mode": "markers",
         "name": "Count=1910",
         "scene": "scene",
         "showlegend": true,
         "type": "scatter3d",
         "x": [
          "BENJAMIN"
         ],
         "y": [
          2016
         ],
         "z": [
          1910
         ]
        },
        {
         "hoverlabel": {
          "namelength": 0
         },
         "hovertemplate": "Count=%{marker.color}<br>Name=%{x}<br>YEAR=%{y}",
         "legendgroup": "Count=1844",
         "marker": {
          "color": [
           1844
          ],
          "coloraxis": "coloraxis",
          "symbol": "square"
         },
         "mode": "markers",
         "name": "Count=1844",
         "scene": "scene",
         "showlegend": true,
         "type": "scatter3d",
         "x": [
          "JAYDEN"
         ],
         "y": [
          2016
         ],
         "z": [
          1844
         ]
        },
        {
         "hoverlabel": {
          "namelength": 0
         },
         "hovertemplate": "Count=%{marker.color}<br>Name=%{x}<br>YEAR=%{y}",
         "legendgroup": "Count=1827",
         "marker": {
          "color": [
           1827
          ],
          "coloraxis": "coloraxis",
          "symbol": "x"
         },
         "mode": "markers",
         "name": "Count=1827",
         "scene": "scene",
         "showlegend": true,
         "type": "scatter3d",
         "x": [
          "MATEO"
         ],
         "y": [
          2016
         ],
         "z": [
          1827
         ]
        },
        {
         "hoverlabel": {
          "namelength": 0
         },
         "hovertemplate": "Count=%{marker.color}<br>Name=%{x}<br>YEAR=%{y}",
         "legendgroup": "Count=1759",
         "marker": {
          "color": [
           1759
          ],
          "coloraxis": "coloraxis",
          "symbol": "cross"
         },
         "mode": "markers",
         "name": "Count=1759",
         "scene": "scene",
         "showlegend": true,
         "type": "scatter3d",
         "x": [
          "MICHAEL"
         ],
         "y": [
          2016
         ],
         "z": [
          1759
         ]
        },
        {
         "hoverlabel": {
          "namelength": 0
         },
         "hovertemplate": "Count=%{marker.color}<br>Name=%{x}<br>YEAR=%{y}",
         "legendgroup": "Count=1744",
         "marker": {
          "color": [
           1744
          ],
          "coloraxis": "coloraxis",
          "symbol": "circle"
         },
         "mode": "markers",
         "name": "Count=1744",
         "scene": "scene",
         "showlegend": true,
         "type": "scatter3d",
         "x": [
          "AIDEN"
         ],
         "y": [
          2016
         ],
         "z": [
          1744
         ]
        },
        {
         "hoverlabel": {
          "namelength": 0
         },
         "hovertemplate": "Count=%{marker.color}<br>Name=%{x}<br>YEAR=%{y}",
         "legendgroup": "Count=1706",
         "marker": {
          "color": [
           1706
          ],
          "coloraxis": "coloraxis",
          "symbol": "diamond"
         },
         "mode": "markers",
         "name": "Count=1706",
         "scene": "scene",
         "showlegend": true,
         "type": "scatter3d",
         "x": [
          "DAVID"
         ],
         "y": [
          2016
         ],
         "z": [
          1706
         ]
        },
        {
         "hoverlabel": {
          "namelength": 0
         },
         "hovertemplate": "Count=%{marker.color}<br>Name=%{x}<br>YEAR=%{y}",
         "legendgroup": "Count=1691",
         "marker": {
          "color": [
           1691
          ],
          "coloraxis": "coloraxis",
          "symbol": "square"
         },
         "mode": "markers",
         "name": "Count=1691",
         "scene": "scene",
         "showlegend": true,
         "type": "scatter3d",
         "x": [
          "NATHAN"
         ],
         "y": [
          2016
         ],
         "z": [
          1691
         ]
        },
        {
         "hoverlabel": {
          "namelength": 0
         },
         "hovertemplate": "Count=%{marker.color}<br>Name=%{x}<br>YEAR=%{y}",
         "legendgroup": "Count=1651",
         "marker": {
          "color": [
           1651
          ],
          "coloraxis": "coloraxis",
          "symbol": "x"
         },
         "mode": "markers",
         "name": "Count=1651",
         "scene": "scene",
         "showlegend": true,
         "type": "scatter3d",
         "x": [
          "ANTHONY"
         ],
         "y": [
          2016
         ],
         "z": [
          1651
         ]
        },
        {
         "hoverlabel": {
          "namelength": 0
         },
         "hovertemplate": "Count=%{marker.color}<br>Name=%{x}<br>YEAR=%{y}",
         "legendgroup": "Count=1561",
         "marker": {
          "color": [
           1561,
           1561
          ],
          "coloraxis": "coloraxis",
          "symbol": "cross"
         },
         "mode": "markers",
         "name": "Count=1561",
         "scene": "scene",
         "showlegend": true,
         "type": "scatter3d",
         "x": [
          "ISAAC",
          "OLIVER"
         ],
         "y": [
          2016,
          2017
         ],
         "z": [
          1561,
          1561
         ]
        },
        {
         "hoverlabel": {
          "namelength": 0
         },
         "hovertemplate": "Count=%{marker.color}<br>Name=%{x}<br>YEAR=%{y}",
         "legendgroup": "Count=1550",
         "marker": {
          "color": [
           1550
          ],
          "coloraxis": "coloraxis",
          "symbol": "circle"
         },
         "mode": "markers",
         "name": "Count=1550",
         "scene": "scene",
         "showlegend": true,
         "type": "scatter3d",
         "x": [
          "AARON"
         ],
         "y": [
          2016
         ],
         "z": [
          1550
         ]
        },
        {
         "hoverlabel": {
          "namelength": 0
         },
         "hovertemplate": "Count=%{marker.color}<br>Name=%{x}<br>YEAR=%{y}",
         "legendgroup": "Count=1528",
         "marker": {
          "color": [
           1528,
           1528
          ],
          "coloraxis": "coloraxis",
          "symbol": "diamond"
         },
         "mode": "markers",
         "name": "Count=1528",
         "scene": "scene",
         "showlegend": true,
         "type": "scatter3d",
         "x": [
          "DYLAN",
          "AARON"
         ],
         "y": [
          2016,
          2017
         ],
         "z": [
          1528,
          1528
         ]
        },
        {
         "hoverlabel": {
          "namelength": 0
         },
         "hovertemplate": "Count=%{marker.color}<br>Name=%{x}<br>YEAR=%{y}",
         "legendgroup": "Count=2479",
         "marker": {
          "color": [
           2479
          ],
          "coloraxis": "coloraxis",
          "symbol": "square"
         },
         "mode": "markers",
         "name": "Count=2479",
         "scene": "scene",
         "showlegend": true,
         "type": "scatter3d",
         "x": [
          "OLIVIA"
         ],
         "y": [
          2017
         ],
         "z": [
          2479
         ]
        },
        {
         "hoverlabel": {
          "namelength": 0
         },
         "hovertemplate": "Count=%{marker.color}<br>Name=%{x}<br>YEAR=%{y}",
         "legendgroup": "Count=2342",
         "marker": {
          "color": [
           2342
          ],
          "coloraxis": "coloraxis",
          "symbol": "x"
         },
         "mode": "markers",
         "name": "Count=2342",
         "scene": "scene",
         "showlegend": true,
         "type": "scatter3d",
         "x": [
          "ISABELLA"
         ],
         "y": [
          2017
         ],
         "z": [
          2342
         ]
        },
        {
         "hoverlabel": {
          "namelength": 0
         },
         "hovertemplate": "Count=%{marker.color}<br>Name=%{x}<br>YEAR=%{y}",
         "legendgroup": "Count=1805",
         "marker": {
          "color": [
           1805
          ],
          "coloraxis": "coloraxis",
          "symbol": "cross"
         },
         "mode": "markers",
         "name": "Count=1805",
         "scene": "scene",
         "showlegend": true,
         "type": "scatter3d",
         "x": [
          "EMILY"
         ],
         "y": [
          2017
         ],
         "z": [
          1805
         ]
        },
        {
         "hoverlabel": {
          "namelength": 0
         },
         "hovertemplate": "Count=%{marker.color}<br>Name=%{x}<br>YEAR=%{y}",
         "legendgroup": "Count=1677",
         "marker": {
          "color": [
           1677
          ],
          "coloraxis": "coloraxis",
          "symbol": "circle"
         },
         "mode": "markers",
         "name": "Count=1677",
         "scene": "scene",
         "showlegend": true,
         "type": "scatter3d",
         "x": [
          "SOFIA"
         ],
         "y": [
          2017
         ],
         "z": [
          1677
         ]
        },
        {
         "hoverlabel": {
          "namelength": 0
         },
         "hovertemplate": "Count=%{marker.color}<br>Name=%{x}<br>YEAR=%{y}",
         "legendgroup": "Count=1524",
         "marker": {
          "color": [
           1524
          ],
          "coloraxis": "coloraxis",
          "symbol": "diamond"
         },
         "mode": "markers",
         "name": "Count=1524",
         "scene": "scene",
         "showlegend": true,
         "type": "scatter3d",
         "x": [
          "AVA"
         ],
         "y": [
          2017
         ],
         "z": [
          1524
         ]
        },
        {
         "hoverlabel": {
          "namelength": 0
         },
         "hovertemplate": "Count=%{marker.color}<br>Name=%{x}<br>YEAR=%{y}",
         "legendgroup": "Count=1487",
         "marker": {
          "color": [
           1487
          ],
          "coloraxis": "coloraxis",
          "symbol": "square"
         },
         "mode": "markers",
         "name": "Count=1487",
         "scene": "scene",
         "showlegend": true,
         "type": "scatter3d",
         "x": [
          "VICTORIA"
         ],
         "y": [
          2017
         ],
         "z": [
          1487
         ]
        },
        {
         "hoverlabel": {
          "namelength": 0
         },
         "hovertemplate": "Count=%{marker.color}<br>Name=%{x}<br>YEAR=%{y}",
         "legendgroup": "Count=1387",
         "marker": {
          "color": [
           1387
          ],
          "coloraxis": "coloraxis",
          "symbol": "x"
         },
         "mode": "markers",
         "name": "Count=1387",
         "scene": "scene",
         "showlegend": true,
         "type": "scatter3d",
         "x": [
          "CHARLOTTE"
         ],
         "y": [
          2017
         ],
         "z": [
          1387
         ]
        },
        {
         "hoverlabel": {
          "namelength": 0
         },
         "hovertemplate": "Count=%{marker.color}<br>Name=%{x}<br>YEAR=%{y}",
         "legendgroup": "Count=1171",
         "marker": {
          "color": [
           1171
          ],
          "coloraxis": "coloraxis",
          "symbol": "cross"
         },
         "mode": "markers",
         "name": "Count=1171",
         "scene": "scene",
         "showlegend": true,
         "type": "scatter3d",
         "x": [
          "EVELYN"
         ],
         "y": [
          2017
         ],
         "z": [
          1171
         ]
        },
        {
         "hoverlabel": {
          "namelength": 0
         },
         "hovertemplate": "Count=%{marker.color}<br>Name=%{x}<br>YEAR=%{y}",
         "legendgroup": "Count=1150",
         "marker": {
          "color": [
           1150
          ],
          "coloraxis": "coloraxis",
          "symbol": "circle"
         },
         "mode": "markers",
         "name": "Count=1150",
         "scene": "scene",
         "showlegend": true,
         "type": "scatter3d",
         "x": [
          "LUNA"
         ],
         "y": [
          2017
         ],
         "z": [
          1150
         ]
        },
        {
         "hoverlabel": {
          "namelength": 0
         },
         "hovertemplate": "Count=%{marker.color}<br>Name=%{x}<br>YEAR=%{y}",
         "legendgroup": "Count=1104",
         "marker": {
          "color": [
           1104
          ],
          "coloraxis": "coloraxis",
          "symbol": "diamond"
         },
         "mode": "markers",
         "name": "Count=1104",
         "scene": "scene",
         "showlegend": true,
         "type": "scatter3d",
         "x": [
          "SCARLETT"
         ],
         "y": [
          2017
         ],
         "z": [
          1104
         ]
        },
        {
         "hoverlabel": {
          "namelength": 0
         },
         "hovertemplate": "Count=%{marker.color}<br>Name=%{x}<br>YEAR=%{y}",
         "legendgroup": "Count=1086",
         "marker": {
          "color": [
           1086
          ],
          "coloraxis": "coloraxis",
          "symbol": "square"
         },
         "mode": "markers",
         "name": "Count=1086",
         "scene": "scene",
         "showlegend": true,
         "type": "scatter3d",
         "x": [
          "PENELOPE"
         ],
         "y": [
          2017
         ],
         "z": [
          1086
         ]
        },
        {
         "hoverlabel": {
          "namelength": 0
         },
         "hovertemplate": "Count=%{marker.color}<br>Name=%{x}<br>YEAR=%{y}",
         "legendgroup": "Count=1072",
         "marker": {
          "color": [
           1072
          ],
          "coloraxis": "coloraxis",
          "symbol": "x"
         },
         "mode": "markers",
         "name": "Count=1072",
         "scene": "scene",
         "showlegend": true,
         "type": "scatter3d",
         "x": [
          "AMELIA"
         ],
         "y": [
          2017
         ],
         "z": [
          1072
         ]
        },
        {
         "hoverlabel": {
          "namelength": 0
         },
         "hovertemplate": "Count=%{marker.color}<br>Name=%{x}<br>YEAR=%{y}",
         "legendgroup": "Count=967",
         "marker": {
          "color": [
           967
          ],
          "coloraxis": "coloraxis",
          "symbol": "cross"
         },
         "mode": "markers",
         "name": "Count=967",
         "scene": "scene",
         "showlegend": true,
         "type": "scatter3d",
         "x": [
          "ELIZABETH"
         ],
         "y": [
          2017
         ],
         "z": [
          967
         ]
        },
        {
         "hoverlabel": {
          "namelength": 0
         },
         "hovertemplate": "Count=%{marker.color}<br>Name=%{x}<br>YEAR=%{y}",
         "legendgroup": "Count=949",
         "marker": {
          "color": [
           949
          ],
          "coloraxis": "coloraxis",
          "symbol": "circle"
         },
         "mode": "markers",
         "name": "Count=949",
         "scene": "scene",
         "showlegend": true,
         "type": "scatter3d",
         "x": [
          "CHLOE"
         ],
         "y": [
          2017
         ],
         "z": [
          949
         ]
        },
        {
         "hoverlabel": {
          "namelength": 0
         },
         "hovertemplate": "Count=%{marker.color}<br>Name=%{x}<br>YEAR=%{y}",
         "legendgroup": "Count=886",
         "marker": {
          "color": [
           886
          ],
          "coloraxis": "coloraxis",
          "symbol": "diamond"
         },
         "mode": "markers",
         "name": "Count=886",
         "scene": "scene",
         "showlegend": true,
         "type": "scatter3d",
         "x": [
          "ZOE"
         ],
         "y": [
          2017
         ],
         "z": [
          886
         ]
        },
        {
         "hoverlabel": {
          "namelength": 0
         },
         "hovertemplate": "Count=%{marker.color}<br>Name=%{x}<br>YEAR=%{y}",
         "legendgroup": "Count=882",
         "marker": {
          "color": [
           882
          ],
          "coloraxis": "coloraxis",
          "symbol": "square"
         },
         "mode": "markers",
         "name": "Count=882",
         "scene": "scene",
         "showlegend": true,
         "type": "scatter3d",
         "x": [
          "GRACE"
         ],
         "y": [
          2017
         ],
         "z": [
          882
         ]
        },
        {
         "hoverlabel": {
          "namelength": 0
         },
         "hovertemplate": "Count=%{marker.color}<br>Name=%{x}<br>YEAR=%{y}",
         "legendgroup": "Count=871",
         "marker": {
          "color": [
           871
          ],
          "coloraxis": "coloraxis",
          "symbol": "x"
         },
         "mode": "markers",
         "name": "Count=871",
         "scene": "scene",
         "showlegend": true,
         "type": "scatter3d",
         "x": [
          "SAMANTHA"
         ],
         "y": [
          2017
         ],
         "z": [
          871
         ]
        },
        {
         "hoverlabel": {
          "namelength": 0
         },
         "hovertemplate": "Count=%{marker.color}<br>Name=%{x}<br>YEAR=%{y}",
         "legendgroup": "Count=853",
         "marker": {
          "color": [
           853
          ],
          "coloraxis": "coloraxis",
          "symbol": "cross"
         },
         "mode": "markers",
         "name": "Count=853",
         "scene": "scene",
         "showlegend": true,
         "type": "scatter3d",
         "x": [
          "GENESIS"
         ],
         "y": [
          2017
         ],
         "z": [
          853
         ]
        },
        {
         "hoverlabel": {
          "namelength": 0
         },
         "hovertemplate": "Count=%{marker.color}<br>Name=%{x}<br>YEAR=%{y}",
         "legendgroup": "Count=2267",
         "marker": {
          "color": [
           2267
          ],
          "coloraxis": "coloraxis",
          "symbol": "circle"
         },
         "mode": "markers",
         "name": "Count=2267",
         "scene": "scene",
         "showlegend": true,
         "type": "scatter3d",
         "x": [
          "SEBASTIAN"
         ],
         "y": [
          2017
         ],
         "z": [
          2267
         ]
        },
        {
         "hoverlabel": {
          "namelength": 0
         },
         "hovertemplate": "Count=%{marker.color}<br>Name=%{x}<br>YEAR=%{y}",
         "legendgroup": "Count=2187",
         "marker": {
          "color": [
           2187
          ],
          "coloraxis": "coloraxis",
          "symbol": "diamond"
         },
         "mode": "markers",
         "name": "Count=2187",
         "scene": "scene",
         "showlegend": true,
         "type": "scatter3d",
         "x": [
          "LIAM"
         ],
         "y": [
          2017
         ],
         "z": [
          2187
         ]
        },
        {
         "hoverlabel": {
          "namelength": 0
         },
         "hovertemplate": "Count=%{marker.color}<br>Name=%{x}<br>YEAR=%{y}",
         "legendgroup": "Count=2147",
         "marker": {
          "color": [
           2147
          ],
          "coloraxis": "coloraxis",
          "symbol": "square"
         },
         "mode": "markers",
         "name": "Count=2147",
         "scene": "scene",
         "showlegend": true,
         "type": "scatter3d",
         "x": [
          "ETHAN"
         ],
         "y": [
          2017
         ],
         "z": [
          2147
         ]
        },
        {
         "hoverlabel": {
          "namelength": 0
         },
         "hovertemplate": "Count=%{marker.color}<br>Name=%{x}<br>YEAR=%{y}",
         "legendgroup": "Count=2132",
         "marker": {
          "color": [
           2132
          ],
          "coloraxis": "coloraxis",
          "symbol": "x"
         },
         "mode": "markers",
         "name": "Count=2132",
         "scene": "scene",
         "showlegend": true,
         "type": "scatter3d",
         "x": [
          "MATTHEW"
         ],
         "y": [
          2017
         ],
         "z": [
          2132
         ]
        },
        {
         "hoverlabel": {
          "namelength": 0
         },
         "hovertemplate": "Count=%{marker.color}<br>Name=%{x}<br>YEAR=%{y}",
         "legendgroup": "Count=2088",
         "marker": {
          "color": [
           2088
          ],
          "coloraxis": "coloraxis",
          "symbol": "cross"
         },
         "mode": "markers",
         "name": "Count=2088",
         "scene": "scene",
         "showlegend": true,
         "type": "scatter3d",
         "x": [
          "DANIEL"
         ],
         "y": [
          2017
         ],
         "z": [
          2088
         ]
        },
        {
         "hoverlabel": {
          "namelength": 0
         },
         "hovertemplate": "Count=%{marker.color}<br>Name=%{x}<br>YEAR=%{y}",
         "legendgroup": "Count=2007",
         "marker": {
          "color": [
           2007
          ],
          "coloraxis": "coloraxis",
          "symbol": "circle"
         },
         "mode": "markers",
         "name": "Count=2007",
         "scene": "scene",
         "showlegend": true,
         "type": "scatter3d",
         "x": [
          "MATEO"
         ],
         "y": [
          2017
         ],
         "z": [
          2007
         ]
        },
        {
         "hoverlabel": {
          "namelength": 0
         },
         "hovertemplate": "Count=%{marker.color}<br>Name=%{x}<br>YEAR=%{y}",
         "legendgroup": "Count=1774",
         "marker": {
          "color": [
           1774
          ],
          "coloraxis": "coloraxis",
          "symbol": "diamond"
         },
         "mode": "markers",
         "name": "Count=1774",
         "scene": "scene",
         "showlegend": true,
         "type": "scatter3d",
         "x": [
          "LOGAN"
         ],
         "y": [
          2017
         ],
         "z": [
          1774
         ]
        },
        {
         "hoverlabel": {
          "namelength": 0
         },
         "hovertemplate": "Count=%{marker.color}<br>Name=%{x}<br>YEAR=%{y}",
         "legendgroup": "Count=1688",
         "marker": {
          "color": [
           1688
          ],
          "coloraxis": "coloraxis",
          "symbol": "square"
         },
         "mode": "markers",
         "name": "Count=1688",
         "scene": "scene",
         "showlegend": true,
         "type": "scatter3d",
         "x": [
          "JAYDEN"
         ],
         "y": [
          2017
         ],
         "z": [
          1688
         ]
        },
        {
         "hoverlabel": {
          "namelength": 0
         },
         "hovertemplate": "Count=%{marker.color}<br>Name=%{x}<br>YEAR=%{y}",
         "legendgroup": "Count=1632",
         "marker": {
          "color": [
           1632
          ],
          "coloraxis": "coloraxis",
          "symbol": "x"
         },
         "mode": "markers",
         "name": "Count=1632",
         "scene": "scene",
         "showlegend": true,
         "type": "scatter3d",
         "x": [
          "AIDEN"
         ],
         "y": [
          2017
         ],
         "z": [
          1632
         ]
        },
        {
         "hoverlabel": {
          "namelength": 0
         },
         "hovertemplate": "Count=%{marker.color}<br>Name=%{x}<br>YEAR=%{y}",
         "legendgroup": "Count=1513",
         "marker": {
          "color": [
           1513
          ],
          "coloraxis": "coloraxis",
          "symbol": "cross"
         },
         "mode": "markers",
         "name": "Count=1513",
         "scene": "scene",
         "showlegend": true,
         "type": "scatter3d",
         "x": [
          "DYLAN"
         ],
         "y": [
          2017
         ],
         "z": [
          1513
         ]
        },
        {
         "hoverlabel": {
          "namelength": 0
         },
         "hovertemplate": "Count=%{marker.color}<br>Name=%{x}<br>YEAR=%{y}",
         "legendgroup": "Count=1508",
         "marker": {
          "color": [
           1508
          ],
          "coloraxis": "coloraxis",
          "symbol": "circle"
         },
         "mode": "markers",
         "name": "Count=1508",
         "scene": "scene",
         "showlegend": true,
         "type": "scatter3d",
         "x": [
          "JAMES"
         ],
         "y": [
          2017
         ],
         "z": [
          1508
         ]
        },
        {
         "hoverlabel": {
          "namelength": 0
         },
         "hovertemplate": "Count=%{marker.color}<br>Name=%{x}<br>YEAR=%{y}",
         "legendgroup": "Count=1507",
         "marker": {
          "color": [
           1507
          ],
          "coloraxis": "coloraxis",
          "symbol": "diamond"
         },
         "mode": "markers",
         "name": "Count=1507",
         "scene": "scene",
         "showlegend": true,
         "type": "scatter3d",
         "x": [
          "MICHAEL"
         ],
         "y": [
          2017
         ],
         "z": [
          1507
         ]
        },
        {
         "hoverlabel": {
          "namelength": 0
         },
         "hovertemplate": "Count=%{marker.color}<br>Name=%{x}<br>YEAR=%{y}",
         "legendgroup": "Count=1439",
         "marker": {
          "color": [
           1439
          ],
          "coloraxis": "coloraxis",
          "symbol": "square"
         },
         "mode": "markers",
         "name": "Count=1439",
         "scene": "scene",
         "showlegend": true,
         "type": "scatter3d",
         "x": [
          "ANTHONY"
         ],
         "y": [
          2017
         ],
         "z": [
          1439
         ]
        },
        {
         "hoverlabel": {
          "namelength": 0
         },
         "hovertemplate": "Count=%{marker.color}<br>Name=%{x}<br>YEAR=%{y}",
         "legendgroup": "Count=1423",
         "marker": {
          "color": [
           1423
          ],
          "coloraxis": "coloraxis",
          "symbol": "x"
         },
         "mode": "markers",
         "name": "Count=1423",
         "scene": "scene",
         "showlegend": true,
         "type": "scatter3d",
         "x": [
          "ISAAC"
         ],
         "y": [
          2017
         ],
         "z": [
          1423
         ]
        }
       ],
       "layout": {
        "coloraxis": {
         "colorbar": {
          "title": {
           "text": "Count"
          }
         },
         "colorscale": [
          [
           0,
           "#0d0887"
          ],
          [
           0.1111111111111111,
           "#46039f"
          ],
          [
           0.2222222222222222,
           "#7201a8"
          ],
          [
           0.3333333333333333,
           "#9c179e"
          ],
          [
           0.4444444444444444,
           "#bd3786"
          ],
          [
           0.5555555555555556,
           "#d8576b"
          ],
          [
           0.6666666666666666,
           "#ed7953"
          ],
          [
           0.7777777777777778,
           "#fb9f3a"
          ],
          [
           0.8888888888888888,
           "#fdca26"
          ],
          [
           1,
           "#f0f921"
          ]
         ]
        },
        "height": 600,
        "legend": {
         "tracegroupgap": 0
        },
        "margin": {
         "t": 60
        },
        "scene": {
         "domain": {
          "x": [
           0,
           1
          ],
          "y": [
           0,
           1
          ]
         },
         "xaxis": {
          "title": {
           "text": "Name"
          }
         },
         "yaxis": {
          "title": {
           "text": "YEAR"
          }
         },
         "zaxis": {
          "categoryarray": [
           3268,
           2770,
           2483,
           2333,
           2172,
           2035,
           1876,
           1626,
           1612,
           1523,
           1519,
           1479,
           1406,
           1397,
           1368,
           1347,
           1291,
           1223,
           1217,
           1208,
           1201,
           1197,
           1175,
           1152,
           1151,
           3889,
           3714,
           3538,
           3243,
           3203,
           3187,
           3136,
           3095,
           2841,
           2730,
           2631,
           2581,
           2526,
           2436,
           2399,
           2354,
           2323,
           2279,
           2207,
           2188,
           2112,
           2006,
           1987,
           1959,
           1941,
           3085,
           2771,
           2596,
           2425,
           2331,
           2218,
           1958,
           1540,
           1474,
           1467,
           1433,
           1416,
           1392,
           1390,
           1380,
           1308,
           1257,
           1233,
           1202,
           1198,
           1187,
           1156,
           1143,
           3797,
           3762,
           3706,
           3184,
           3125,
           3114,
           3089,
           3003,
           2864,
           2732,
           2717,
           2711,
           2617,
           2477,
           2440,
           2379,
           2349,
           2104,
           2074,
           2064,
           2058,
           2043,
           1938,
           2952,
           2903,
           2582,
           2507,
           2360,
           2054,
           1907,
           1620,
           1552,
           1512,
           1502,
           1476,
           1432,
           1408,
           1341,
           1333,
           1328,
           1305,
           1298,
           1261,
           1204,
           1167,
           1164,
           1149,
           1132,
           3838,
           3766,
           3520,
           3101,
           3100,
           3013,
           2972,
           2867,
           2832,
           2590,
           2588,
           2573,
           2544,
           2503,
           2489,
           2447,
           2283,
           2144,
           2139,
           2080,
           2056,
           1998,
           1968,
           1966,
           1933,
           2767,
           2764,
           2561,
           2249,
           1870,
           1834,
           1734,
           1564,
           1462,
           1415,
           1404,
           1360,
           1353,
           1346,
           1315,
           1310,
           1230,
           1139,
           1101,
           1088,
           1084,
           1039,
           1027,
           3722,
           3623,
           3189,
           3014,
           2895,
           2854,
           2825,
           2734,
           2603,
           2564,
           2530,
           2514,
           2513,
           2495,
           2302,
           2201,
           2134,
           2128,
           2046,
           2008,
           1961,
           1928,
           1912,
           1879,
           1828,
           3139,
           2647,
           2529,
           2098,
           1829,
           1726,
           1701,
           1546,
           1544,
           1337,
           1303,
           1302,
           1235,
           1222,
           1211,
           1186,
           1119,
           1044,
           1035,
           1020,
           995,
           977,
           976,
           3379,
           3073,
           3021,
           2951,
           2863,
           2663,
           2616,
           2575,
           2415,
           2401,
           2384,
           2336,
           2332,
           2258,
           2166,
           2093,
           2086,
           2053,
           1846,
           1797,
           1757,
           1755,
           1727,
           1718,
           3341,
           3339,
           2381,
           1999,
           1768,
           1666,
           1624,
           1610,
           1463,
           1402,
           1388,
           1363,
           1307,
           1206,
           1115,
           1064,
           1062,
           1046,
           1032,
           1001,
           975,
           971,
           912,
           901,
           3327,
           3120,
           2845,
           2586,
           2543,
           2455,
           2428,
           2406,
           2371,
           2259,
           2215,
           2116,
           2111,
           2021,
           1980,
           1957,
           1931,
           1921,
           1902,
           1848,
           1763,
           1628,
           1592,
           1560,
           3540,
           3032,
           2387,
           2291,
           2107,
           1780,
           1555,
           1553,
           1539,
           1484,
           1438,
           1370,
           1270,
           1268,
           1196,
           1147,
           1100,
           1054,
           988,
           931,
           928,
           924,
           908,
           898,
           896,
           3148,
           2872,
           2741,
           2676,
           2456,
           2449,
           2288,
           2276,
           2241,
           2214,
           2152,
           2090,
           1899,
           1867,
           1861,
           1823,
           1804,
           1663,
           1582,
           1525,
           3610,
           2423,
           2416,
           2307,
           1894,
           1669,
           1638,
           1440,
           1394,
           1289,
           1288,
           1094,
           1091,
           1037,
           1029,
           997,
           985,
           980,
           897,
           885,
           854,
           847,
           2955,
           2848,
           2659,
           2654,
           2623,
           2491,
           2412,
           2408,
           2230,
           1985,
           1979,
           1940,
           1857,
           1840,
           1782,
           1722,
           1714,
           1713,
           1633,
           1602,
           1565,
           3442,
           2759,
           2579,
           2466,
           2151,
           1486,
           1473,
           1399,
           1137,
           1056,
           1052,
           1043,
           1004,
           991,
           969,
           956,
           891,
           875,
           869,
           820,
           818,
           2874,
           2648,
           2572,
           2548,
           2540,
           2367,
           2220,
           2072,
           2030,
           1963,
           1917,
           1855,
           1841,
           1761,
           1753,
           1736,
           1682,
           1673,
           1650,
           1613,
           1532,
           1518,
           3160,
           2702,
           2666,
           2608,
           2403,
           2264,
           2082,
           1685,
           1521,
           1470,
           1427,
           1192,
           1121,
           1105,
           1078,
           1048,
           970,
           966,
           948,
           920,
           918,
           903,
           899,
           2757,
           2690,
           2553,
           2542,
           2478,
           2463,
           2361,
           2071,
           2015,
           1995,
           1901,
           1900,
           1869,
           1864,
           1862,
           1854,
           1816,
           1790,
           1645,
           1642,
           1641,
           1575,
           1572,
           1543,
           2936,
           2846,
           2694,
           2506,
           2138,
           1762,
           1551,
           1533,
           1422,
           1336,
           1058,
           1049,
           990,
           989,
           955,
           946,
           937,
           919,
           895,
           2750,
           2546,
           2461,
           2457,
           2419,
           2300,
           2131,
           2017,
           1918,
           1896,
           1895,
           1852,
           1850,
           1813,
           1765,
           1704,
           1692,
           1679,
           1530,
           1514,
           1511,
           1504,
           2788,
           2740,
           1944,
           1885,
           1636,
           1606,
           1583,
           1182,
           1112,
           1055,
           1050,
           1016,
           1008,
           1002,
           959,
           914,
           906,
           2681,
           2322,
           2284,
           2254,
           2213,
           2034,
           1910,
           1844,
           1827,
           1759,
           1744,
           1706,
           1691,
           1651,
           1561,
           1550,
           1528,
           2479,
           2342,
           1805,
           1677,
           1524,
           1487,
           1387,
           1171,
           1150,
           1104,
           1086,
           1072,
           967,
           949,
           886,
           882,
           871,
           853,
           2267,
           2187,
           2147,
           2132,
           2088,
           2007,
           1774,
           1688,
           1632,
           1513,
           1508,
           1507,
           1439,
           1423
          ],
          "categoryorder": "array",
          "title": {
           "text": "Count"
          }
         }
        },
        "template": {
         "data": {
          "bar": [
           {
            "error_x": {
             "color": "#2a3f5f"
            },
            "error_y": {
             "color": "#2a3f5f"
            },
            "marker": {
             "line": {
              "color": "#E5ECF6",
              "width": 0.5
             }
            },
            "type": "bar"
           }
          ],
          "barpolar": [
           {
            "marker": {
             "line": {
              "color": "#E5ECF6",
              "width": 0.5
             }
            },
            "type": "barpolar"
           }
          ],
          "carpet": [
           {
            "aaxis": {
             "endlinecolor": "#2a3f5f",
             "gridcolor": "white",
             "linecolor": "white",
             "minorgridcolor": "white",
             "startlinecolor": "#2a3f5f"
            },
            "baxis": {
             "endlinecolor": "#2a3f5f",
             "gridcolor": "white",
             "linecolor": "white",
             "minorgridcolor": "white",
             "startlinecolor": "#2a3f5f"
            },
            "type": "carpet"
           }
          ],
          "choropleth": [
           {
            "colorbar": {
             "outlinewidth": 0,
             "ticks": ""
            },
            "type": "choropleth"
           }
          ],
          "contour": [
           {
            "colorbar": {
             "outlinewidth": 0,
             "ticks": ""
            },
            "colorscale": [
             [
              0,
              "#0d0887"
             ],
             [
              0.1111111111111111,
              "#46039f"
             ],
             [
              0.2222222222222222,
              "#7201a8"
             ],
             [
              0.3333333333333333,
              "#9c179e"
             ],
             [
              0.4444444444444444,
              "#bd3786"
             ],
             [
              0.5555555555555556,
              "#d8576b"
             ],
             [
              0.6666666666666666,
              "#ed7953"
             ],
             [
              0.7777777777777778,
              "#fb9f3a"
             ],
             [
              0.8888888888888888,
              "#fdca26"
             ],
             [
              1,
              "#f0f921"
             ]
            ],
            "type": "contour"
           }
          ],
          "contourcarpet": [
           {
            "colorbar": {
             "outlinewidth": 0,
             "ticks": ""
            },
            "type": "contourcarpet"
           }
          ],
          "heatmap": [
           {
            "colorbar": {
             "outlinewidth": 0,
             "ticks": ""
            },
            "colorscale": [
             [
              0,
              "#0d0887"
             ],
             [
              0.1111111111111111,
              "#46039f"
             ],
             [
              0.2222222222222222,
              "#7201a8"
             ],
             [
              0.3333333333333333,
              "#9c179e"
             ],
             [
              0.4444444444444444,
              "#bd3786"
             ],
             [
              0.5555555555555556,
              "#d8576b"
             ],
             [
              0.6666666666666666,
              "#ed7953"
             ],
             [
              0.7777777777777778,
              "#fb9f3a"
             ],
             [
              0.8888888888888888,
              "#fdca26"
             ],
             [
              1,
              "#f0f921"
             ]
            ],
            "type": "heatmap"
           }
          ],
          "heatmapgl": [
           {
            "colorbar": {
             "outlinewidth": 0,
             "ticks": ""
            },
            "colorscale": [
             [
              0,
              "#0d0887"
             ],
             [
              0.1111111111111111,
              "#46039f"
             ],
             [
              0.2222222222222222,
              "#7201a8"
             ],
             [
              0.3333333333333333,
              "#9c179e"
             ],
             [
              0.4444444444444444,
              "#bd3786"
             ],
             [
              0.5555555555555556,
              "#d8576b"
             ],
             [
              0.6666666666666666,
              "#ed7953"
             ],
             [
              0.7777777777777778,
              "#fb9f3a"
             ],
             [
              0.8888888888888888,
              "#fdca26"
             ],
             [
              1,
              "#f0f921"
             ]
            ],
            "type": "heatmapgl"
           }
          ],
          "histogram": [
           {
            "marker": {
             "colorbar": {
              "outlinewidth": 0,
              "ticks": ""
             }
            },
            "type": "histogram"
           }
          ],
          "histogram2d": [
           {
            "colorbar": {
             "outlinewidth": 0,
             "ticks": ""
            },
            "colorscale": [
             [
              0,
              "#0d0887"
             ],
             [
              0.1111111111111111,
              "#46039f"
             ],
             [
              0.2222222222222222,
              "#7201a8"
             ],
             [
              0.3333333333333333,
              "#9c179e"
             ],
             [
              0.4444444444444444,
              "#bd3786"
             ],
             [
              0.5555555555555556,
              "#d8576b"
             ],
             [
              0.6666666666666666,
              "#ed7953"
             ],
             [
              0.7777777777777778,
              "#fb9f3a"
             ],
             [
              0.8888888888888888,
              "#fdca26"
             ],
             [
              1,
              "#f0f921"
             ]
            ],
            "type": "histogram2d"
           }
          ],
          "histogram2dcontour": [
           {
            "colorbar": {
             "outlinewidth": 0,
             "ticks": ""
            },
            "colorscale": [
             [
              0,
              "#0d0887"
             ],
             [
              0.1111111111111111,
              "#46039f"
             ],
             [
              0.2222222222222222,
              "#7201a8"
             ],
             [
              0.3333333333333333,
              "#9c179e"
             ],
             [
              0.4444444444444444,
              "#bd3786"
             ],
             [
              0.5555555555555556,
              "#d8576b"
             ],
             [
              0.6666666666666666,
              "#ed7953"
             ],
             [
              0.7777777777777778,
              "#fb9f3a"
             ],
             [
              0.8888888888888888,
              "#fdca26"
             ],
             [
              1,
              "#f0f921"
             ]
            ],
            "type": "histogram2dcontour"
           }
          ],
          "mesh3d": [
           {
            "colorbar": {
             "outlinewidth": 0,
             "ticks": ""
            },
            "type": "mesh3d"
           }
          ],
          "parcoords": [
           {
            "line": {
             "colorbar": {
              "outlinewidth": 0,
              "ticks": ""
             }
            },
            "type": "parcoords"
           }
          ],
          "pie": [
           {
            "automargin": true,
            "type": "pie"
           }
          ],
          "scatter": [
           {
            "marker": {
             "colorbar": {
              "outlinewidth": 0,
              "ticks": ""
             }
            },
            "type": "scatter"
           }
          ],
          "scatter3d": [
           {
            "line": {
             "colorbar": {
              "outlinewidth": 0,
              "ticks": ""
             }
            },
            "marker": {
             "colorbar": {
              "outlinewidth": 0,
              "ticks": ""
             }
            },
            "type": "scatter3d"
           }
          ],
          "scattercarpet": [
           {
            "marker": {
             "colorbar": {
              "outlinewidth": 0,
              "ticks": ""
             }
            },
            "type": "scattercarpet"
           }
          ],
          "scattergeo": [
           {
            "marker": {
             "colorbar": {
              "outlinewidth": 0,
              "ticks": ""
             }
            },
            "type": "scattergeo"
           }
          ],
          "scattergl": [
           {
            "marker": {
             "colorbar": {
              "outlinewidth": 0,
              "ticks": ""
             }
            },
            "type": "scattergl"
           }
          ],
          "scattermapbox": [
           {
            "marker": {
             "colorbar": {
              "outlinewidth": 0,
              "ticks": ""
             }
            },
            "type": "scattermapbox"
           }
          ],
          "scatterpolar": [
           {
            "marker": {
             "colorbar": {
              "outlinewidth": 0,
              "ticks": ""
             }
            },
            "type": "scatterpolar"
           }
          ],
          "scatterpolargl": [
           {
            "marker": {
             "colorbar": {
              "outlinewidth": 0,
              "ticks": ""
             }
            },
            "type": "scatterpolargl"
           }
          ],
          "scatterternary": [
           {
            "marker": {
             "colorbar": {
              "outlinewidth": 0,
              "ticks": ""
             }
            },
            "type": "scatterternary"
           }
          ],
          "surface": [
           {
            "colorbar": {
             "outlinewidth": 0,
             "ticks": ""
            },
            "colorscale": [
             [
              0,
              "#0d0887"
             ],
             [
              0.1111111111111111,
              "#46039f"
             ],
             [
              0.2222222222222222,
              "#7201a8"
             ],
             [
              0.3333333333333333,
              "#9c179e"
             ],
             [
              0.4444444444444444,
              "#bd3786"
             ],
             [
              0.5555555555555556,
              "#d8576b"
             ],
             [
              0.6666666666666666,
              "#ed7953"
             ],
             [
              0.7777777777777778,
              "#fb9f3a"
             ],
             [
              0.8888888888888888,
              "#fdca26"
             ],
             [
              1,
              "#f0f921"
             ]
            ],
            "type": "surface"
           }
          ],
          "table": [
           {
            "cells": {
             "fill": {
              "color": "#EBF0F8"
             },
             "line": {
              "color": "white"
             }
            },
            "header": {
             "fill": {
              "color": "#C8D4E3"
             },
             "line": {
              "color": "white"
             }
            },
            "type": "table"
           }
          ]
         },
         "layout": {
          "annotationdefaults": {
           "arrowcolor": "#2a3f5f",
           "arrowhead": 0,
           "arrowwidth": 1
          },
          "coloraxis": {
           "colorbar": {
            "outlinewidth": 0,
            "ticks": ""
           }
          },
          "colorscale": {
           "diverging": [
            [
             0,
             "#8e0152"
            ],
            [
             0.1,
             "#c51b7d"
            ],
            [
             0.2,
             "#de77ae"
            ],
            [
             0.3,
             "#f1b6da"
            ],
            [
             0.4,
             "#fde0ef"
            ],
            [
             0.5,
             "#f7f7f7"
            ],
            [
             0.6,
             "#e6f5d0"
            ],
            [
             0.7,
             "#b8e186"
            ],
            [
             0.8,
             "#7fbc41"
            ],
            [
             0.9,
             "#4d9221"
            ],
            [
             1,
             "#276419"
            ]
           ],
           "sequential": [
            [
             0,
             "#0d0887"
            ],
            [
             0.1111111111111111,
             "#46039f"
            ],
            [
             0.2222222222222222,
             "#7201a8"
            ],
            [
             0.3333333333333333,
             "#9c179e"
            ],
            [
             0.4444444444444444,
             "#bd3786"
            ],
            [
             0.5555555555555556,
             "#d8576b"
            ],
            [
             0.6666666666666666,
             "#ed7953"
            ],
            [
             0.7777777777777778,
             "#fb9f3a"
            ],
            [
             0.8888888888888888,
             "#fdca26"
            ],
            [
             1,
             "#f0f921"
            ]
           ],
           "sequentialminus": [
            [
             0,
             "#0d0887"
            ],
            [
             0.1111111111111111,
             "#46039f"
            ],
            [
             0.2222222222222222,
             "#7201a8"
            ],
            [
             0.3333333333333333,
             "#9c179e"
            ],
            [
             0.4444444444444444,
             "#bd3786"
            ],
            [
             0.5555555555555556,
             "#d8576b"
            ],
            [
             0.6666666666666666,
             "#ed7953"
            ],
            [
             0.7777777777777778,
             "#fb9f3a"
            ],
            [
             0.8888888888888888,
             "#fdca26"
            ],
            [
             1,
             "#f0f921"
            ]
           ]
          },
          "colorway": [
           "#636efa",
           "#EF553B",
           "#00cc96",
           "#ab63fa",
           "#FFA15A",
           "#19d3f3",
           "#FF6692",
           "#B6E880",
           "#FF97FF",
           "#FECB52"
          ],
          "font": {
           "color": "#2a3f5f"
          },
          "geo": {
           "bgcolor": "white",
           "lakecolor": "white",
           "landcolor": "#E5ECF6",
           "showlakes": true,
           "showland": true,
           "subunitcolor": "white"
          },
          "hoverlabel": {
           "align": "left"
          },
          "hovermode": "closest",
          "mapbox": {
           "style": "light"
          },
          "paper_bgcolor": "white",
          "plot_bgcolor": "#E5ECF6",
          "polar": {
           "angularaxis": {
            "gridcolor": "white",
            "linecolor": "white",
            "ticks": ""
           },
           "bgcolor": "#E5ECF6",
           "radialaxis": {
            "gridcolor": "white",
            "linecolor": "white",
            "ticks": ""
           }
          },
          "scene": {
           "xaxis": {
            "backgroundcolor": "#E5ECF6",
            "gridcolor": "white",
            "gridwidth": 2,
            "linecolor": "white",
            "showbackground": true,
            "ticks": "",
            "zerolinecolor": "white"
           },
           "yaxis": {
            "backgroundcolor": "#E5ECF6",
            "gridcolor": "white",
            "gridwidth": 2,
            "linecolor": "white",
            "showbackground": true,
            "ticks": "",
            "zerolinecolor": "white"
           },
           "zaxis": {
            "backgroundcolor": "#E5ECF6",
            "gridcolor": "white",
            "gridwidth": 2,
            "linecolor": "white",
            "showbackground": true,
            "ticks": "",
            "zerolinecolor": "white"
           }
          },
          "shapedefaults": {
           "line": {
            "color": "#2a3f5f"
           }
          },
          "ternary": {
           "aaxis": {
            "gridcolor": "white",
            "linecolor": "white",
            "ticks": ""
           },
           "baxis": {
            "gridcolor": "white",
            "linecolor": "white",
            "ticks": ""
           },
           "bgcolor": "#E5ECF6",
           "caxis": {
            "gridcolor": "white",
            "linecolor": "white",
            "ticks": ""
           }
          },
          "title": {
           "x": 0.05
          },
          "xaxis": {
           "automargin": true,
           "gridcolor": "white",
           "linecolor": "white",
           "ticks": "",
           "title": {
            "standoff": 15
           },
           "zerolinecolor": "white",
           "zerolinewidth": 2
          },
          "yaxis": {
           "automargin": true,
           "gridcolor": "white",
           "linecolor": "white",
           "ticks": "",
           "title": {
            "standoff": 15
           },
           "zerolinecolor": "white",
           "zerolinewidth": 2
          }
         }
        }
       }
      },
      "text/html": [
       "<div>\n",
       "        \n",
       "        \n",
       "            <div id=\"3969b9c5-2647-4711-becc-cc5bfccbc014\" class=\"plotly-graph-div\" style=\"height:600px; width:100%;\"></div>\n",
       "            <script type=\"text/javascript\">\n",
       "                require([\"plotly\"], function(Plotly) {\n",
       "                    window.PLOTLYENV=window.PLOTLYENV || {};\n",
       "                    \n",
       "                if (document.getElementById(\"3969b9c5-2647-4711-becc-cc5bfccbc014\")) {\n",
       "                    Plotly.newPlot(\n",
       "                        '3969b9c5-2647-4711-becc-cc5bfccbc014',\n",
       "                        [{\"hoverlabel\": {\"namelength\": 0}, \"hovertemplate\": \"Count=%{marker.color}<br>Name=%{x}<br>YEAR=%{y}\", \"legendgroup\": \"Count=3268\", \"marker\": {\"color\": [3268], \"coloraxis\": \"coloraxis\", \"symbol\": \"circle\"}, \"mode\": \"markers\", \"name\": \"Count=3268\", \"scene\": \"scene\", \"showlegend\": true, \"type\": \"scatter3d\", \"x\": [\"EMILY\"], \"y\": [2005], \"z\": [3268]}, {\"hoverlabel\": {\"namelength\": 0}, \"hovertemplate\": \"Count=%{marker.color}<br>Name=%{x}<br>YEAR=%{y}\", \"legendgroup\": \"Count=2770\", \"marker\": {\"color\": [2770], \"coloraxis\": \"coloraxis\", \"symbol\": \"diamond\"}, \"mode\": \"markers\", \"name\": \"Count=2770\", \"scene\": \"scene\", \"showlegend\": true, \"type\": \"scatter3d\", \"x\": [\"ASHLEY\"], \"y\": [2005], \"z\": [2770]}, {\"hoverlabel\": {\"namelength\": 0}, \"hovertemplate\": \"Count=%{marker.color}<br>Name=%{x}<br>YEAR=%{y}\", \"legendgroup\": \"Count=2483\", \"marker\": {\"color\": [2483], \"coloraxis\": \"coloraxis\", \"symbol\": \"square\"}, \"mode\": \"markers\", \"name\": \"Count=2483\", \"scene\": \"scene\", \"showlegend\": true, \"type\": \"scatter3d\", \"x\": [\"SAMANTHA\"], \"y\": [2005], \"z\": [2483]}, {\"hoverlabel\": {\"namelength\": 0}, \"hovertemplate\": \"Count=%{marker.color}<br>Name=%{x}<br>YEAR=%{y}\", \"legendgroup\": \"Count=2333\", \"marker\": {\"color\": [2333], \"coloraxis\": \"coloraxis\", \"symbol\": \"x\"}, \"mode\": \"markers\", \"name\": \"Count=2333\", \"scene\": \"scene\", \"showlegend\": true, \"type\": \"scatter3d\", \"x\": [\"ISABELLA\"], \"y\": [2005], \"z\": [2333]}, {\"hoverlabel\": {\"namelength\": 0}, \"hovertemplate\": \"Count=%{marker.color}<br>Name=%{x}<br>YEAR=%{y}\", \"legendgroup\": \"Count=2172\", \"marker\": {\"color\": [2172], \"coloraxis\": \"coloraxis\", \"symbol\": \"cross\"}, \"mode\": \"markers\", \"name\": \"Count=2172\", \"scene\": \"scene\", \"showlegend\": true, \"type\": \"scatter3d\", \"x\": [\"MIA\"], \"y\": [2005], \"z\": [2172]}, {\"hoverlabel\": {\"namelength\": 0}, \"hovertemplate\": \"Count=%{marker.color}<br>Name=%{x}<br>YEAR=%{y}\", \"legendgroup\": \"Count=2035\", \"marker\": {\"color\": [2035, 2035], \"coloraxis\": \"coloraxis\", \"symbol\": \"circle\"}, \"mode\": \"markers\", \"name\": \"Count=2035\", \"scene\": \"scene\", \"showlegend\": true, \"type\": \"scatter3d\", \"x\": [\"NATALIE\", \"ASHLEY\"], \"y\": [2005, 2008], \"z\": [2035, 2035]}, {\"hoverlabel\": {\"namelength\": 0}, \"hovertemplate\": \"Count=%{marker.color}<br>Name=%{x}<br>YEAR=%{y}\", \"legendgroup\": \"Count=1876\", \"marker\": {\"color\": [1876], \"coloraxis\": \"coloraxis\", \"symbol\": \"diamond\"}, \"mode\": \"markers\", \"name\": \"Count=1876\", \"scene\": \"scene\", \"showlegend\": true, \"type\": \"scatter3d\", \"x\": [\"SOPHIA\"], \"y\": [2005], \"z\": [1876]}, {\"hoverlabel\": {\"namelength\": 0}, \"hovertemplate\": \"Count=%{marker.color}<br>Name=%{x}<br>YEAR=%{y}\", \"legendgroup\": \"Count=1626\", \"marker\": {\"color\": [1626], \"coloraxis\": \"coloraxis\", \"symbol\": \"square\"}, \"mode\": \"markers\", \"name\": \"Count=1626\", \"scene\": \"scene\", \"showlegend\": true, \"type\": \"scatter3d\", \"x\": [\"EMMA\"], \"y\": [2005], \"z\": [1626]}, {\"hoverlabel\": {\"namelength\": 0}, \"hovertemplate\": \"Count=%{marker.color}<br>Name=%{x}<br>YEAR=%{y}\", \"legendgroup\": \"Count=1612\", \"marker\": {\"color\": [1612, 1612], \"coloraxis\": \"coloraxis\", \"symbol\": \"x\"}, \"mode\": \"markers\", \"name\": \"Count=1612\", \"scene\": \"scene\", \"showlegend\": true, \"type\": \"scatter3d\", \"x\": [\"ALYSSA\", \"ASHLEY\"], \"y\": [2005, 2009], \"z\": [1612, 1612]}, {\"hoverlabel\": {\"namelength\": 0}, \"hovertemplate\": \"Count=%{marker.color}<br>Name=%{x}<br>YEAR=%{y}\", \"legendgroup\": \"Count=1523\", \"marker\": {\"color\": [1523], \"coloraxis\": \"coloraxis\", \"symbol\": \"cross\"}, \"mode\": \"markers\", \"name\": \"Count=1523\", \"scene\": \"scene\", \"showlegend\": true, \"type\": \"scatter3d\", \"x\": [\"MADISON\"], \"y\": [2005], \"z\": [1523]}, {\"hoverlabel\": {\"namelength\": 0}, \"hovertemplate\": \"Count=%{marker.color}<br>Name=%{x}<br>YEAR=%{y}\", \"legendgroup\": \"Count=1519\", \"marker\": {\"color\": [1519], \"coloraxis\": \"coloraxis\", \"symbol\": \"circle\"}, \"mode\": \"markers\", \"name\": \"Count=1519\", \"scene\": \"scene\", \"showlegend\": true, \"type\": \"scatter3d\", \"x\": [\"JASMINE\"], \"y\": [2005], \"z\": [1519]}, {\"hoverlabel\": {\"namelength\": 0}, \"hovertemplate\": \"Count=%{marker.color}<br>Name=%{x}<br>YEAR=%{y}\", \"legendgroup\": \"Count=1479\", \"marker\": {\"color\": [1479], \"coloraxis\": \"coloraxis\", \"symbol\": \"diamond\"}, \"mode\": \"markers\", \"name\": \"Count=1479\", \"scene\": \"scene\", \"showlegend\": true, \"type\": \"scatter3d\", \"x\": [\"ELIZABETH\"], \"y\": [2005], \"z\": [1479]}, {\"hoverlabel\": {\"namelength\": 0}, \"hovertemplate\": \"Count=%{marker.color}<br>Name=%{x}<br>YEAR=%{y}\", \"legendgroup\": \"Count=1406\", \"marker\": {\"color\": [1406, 1406], \"coloraxis\": \"coloraxis\", \"symbol\": \"square\"}, \"mode\": \"markers\", \"name\": \"Count=1406\", \"scene\": \"scene\", \"showlegend\": true, \"type\": \"scatter3d\", \"x\": [\"JESSICA\", \"ELIZABETH\"], \"y\": [2005, 2008], \"z\": [1406, 1406]}, {\"hoverlabel\": {\"namelength\": 0}, \"hovertemplate\": \"Count=%{marker.color}<br>Name=%{x}<br>YEAR=%{y}\", \"legendgroup\": \"Count=1397\", \"marker\": {\"color\": [1397], \"coloraxis\": \"coloraxis\", \"symbol\": \"x\"}, \"mode\": \"markers\", \"name\": \"Count=1397\", \"scene\": \"scene\", \"showlegend\": true, \"type\": \"scatter3d\", \"x\": [\"KIMBERLY\"], \"y\": [2005], \"z\": [1397]}, {\"hoverlabel\": {\"namelength\": 0}, \"hovertemplate\": \"Count=%{marker.color}<br>Name=%{x}<br>YEAR=%{y}\", \"legendgroup\": \"Count=1368\", \"marker\": {\"color\": [1368, 1368], \"coloraxis\": \"coloraxis\", \"symbol\": \"cross\"}, \"mode\": \"markers\", \"name\": \"Count=1368\", \"scene\": \"scene\", \"showlegend\": true, \"type\": \"scatter3d\", \"x\": [\"ABIGAIL\", \"CHARLOTTE\"], \"y\": [2005, 2016], \"z\": [1368, 1368]}, {\"hoverlabel\": {\"namelength\": 0}, \"hovertemplate\": \"Count=%{marker.color}<br>Name=%{x}<br>YEAR=%{y}\", \"legendgroup\": \"Count=1347\", \"marker\": {\"color\": [1347], \"coloraxis\": \"coloraxis\", \"symbol\": \"circle\"}, \"mode\": \"markers\", \"name\": \"Count=1347\", \"scene\": \"scene\", \"showlegend\": true, \"type\": \"scatter3d\", \"x\": [\"BRIANNA\"], \"y\": [2005], \"z\": [1347]}, {\"hoverlabel\": {\"namelength\": 0}, \"hovertemplate\": \"Count=%{marker.color}<br>Name=%{x}<br>YEAR=%{y}\", \"legendgroup\": \"Count=1291\", \"marker\": {\"color\": [1291], \"coloraxis\": \"coloraxis\", \"symbol\": \"diamond\"}, \"mode\": \"markers\", \"name\": \"Count=1291\", \"scene\": \"scene\", \"showlegend\": true, \"type\": \"scatter3d\", \"x\": [\"JENNIFER\"], \"y\": [2005], \"z\": [1291]}, {\"hoverlabel\": {\"namelength\": 0}, \"hovertemplate\": \"Count=%{marker.color}<br>Name=%{x}<br>YEAR=%{y}\", \"legendgroup\": \"Count=1223\", \"marker\": {\"color\": [1223], \"coloraxis\": \"coloraxis\", \"symbol\": \"square\"}, \"mode\": \"markers\", \"name\": \"Count=1223\", \"scene\": \"scene\", \"showlegend\": true, \"type\": \"scatter3d\", \"x\": [\"AVA\"], \"y\": [2005], \"z\": [1223]}, {\"hoverlabel\": {\"namelength\": 0}, \"hovertemplate\": \"Count=%{marker.color}<br>Name=%{x}<br>YEAR=%{y}\", \"legendgroup\": \"Count=1217\", \"marker\": {\"color\": [1217], \"coloraxis\": \"coloraxis\", \"symbol\": \"x\"}, \"mode\": \"markers\", \"name\": \"Count=1217\", \"scene\": \"scene\", \"showlegend\": true, \"type\": \"scatter3d\", \"x\": [\"HANNAH\"], \"y\": [2005], \"z\": [1217]}, {\"hoverlabel\": {\"namelength\": 0}, \"hovertemplate\": \"Count=%{marker.color}<br>Name=%{x}<br>YEAR=%{y}\", \"legendgroup\": \"Count=1208\", \"marker\": {\"color\": [1208], \"coloraxis\": \"coloraxis\", \"symbol\": \"cross\"}, \"mode\": \"markers\", \"name\": \"Count=1208\", \"scene\": \"scene\", \"showlegend\": true, \"type\": \"scatter3d\", \"x\": [\"SARAH\"], \"y\": [2005], \"z\": [1208]}, {\"hoverlabel\": {\"namelength\": 0}, \"hovertemplate\": \"Count=%{marker.color}<br>Name=%{x}<br>YEAR=%{y}\", \"legendgroup\": \"Count=1201\", \"marker\": {\"color\": [1201], \"coloraxis\": \"coloraxis\", \"symbol\": \"circle\"}, \"mode\": \"markers\", \"name\": \"Count=1201\", \"scene\": \"scene\", \"showlegend\": true, \"type\": \"scatter3d\", \"x\": [\"ALEXIS\"], \"y\": [2005], \"z\": [1201]}, {\"hoverlabel\": {\"namelength\": 0}, \"hovertemplate\": \"Count=%{marker.color}<br>Name=%{x}<br>YEAR=%{y}\", \"legendgroup\": \"Count=1197\", \"marker\": {\"color\": [1197], \"coloraxis\": \"coloraxis\", \"symbol\": \"diamond\"}, \"mode\": \"markers\", \"name\": \"Count=1197\", \"scene\": \"scene\", \"showlegend\": true, \"type\": \"scatter3d\", \"x\": [\"ANDREA\"], \"y\": [2005], \"z\": [1197]}, {\"hoverlabel\": {\"namelength\": 0}, \"hovertemplate\": \"Count=%{marker.color}<br>Name=%{x}<br>YEAR=%{y}\", \"legendgroup\": \"Count=1175\", \"marker\": {\"color\": [1175], \"coloraxis\": \"coloraxis\", \"symbol\": \"square\"}, \"mode\": \"markers\", \"name\": \"Count=1175\", \"scene\": \"scene\", \"showlegend\": true, \"type\": \"scatter3d\", \"x\": [\"ANGELINA\"], \"y\": [2005], \"z\": [1175]}, {\"hoverlabel\": {\"namelength\": 0}, \"hovertemplate\": \"Count=%{marker.color}<br>Name=%{x}<br>YEAR=%{y}\", \"legendgroup\": \"Count=1152\", \"marker\": {\"color\": [1152, 1152], \"coloraxis\": \"coloraxis\", \"symbol\": \"x\"}, \"mode\": \"markers\", \"name\": \"Count=1152\", \"scene\": \"scene\", \"showlegend\": true, \"type\": \"scatter3d\", \"x\": [\"STEPHANIE\", \"SARAH\"], \"y\": [2005, 2006], \"z\": [1152, 1152]}, {\"hoverlabel\": {\"namelength\": 0}, \"hovertemplate\": \"Count=%{marker.color}<br>Name=%{x}<br>YEAR=%{y}\", \"legendgroup\": \"Count=1151\", \"marker\": {\"color\": [1151], \"coloraxis\": \"coloraxis\", \"symbol\": \"cross\"}, \"mode\": \"markers\", \"name\": \"Count=1151\", \"scene\": \"scene\", \"showlegend\": true, \"type\": \"scatter3d\", \"x\": [\"VANESSA\"], \"y\": [2005], \"z\": [1151]}, {\"hoverlabel\": {\"namelength\": 0}, \"hovertemplate\": \"Count=%{marker.color}<br>Name=%{x}<br>YEAR=%{y}\", \"legendgroup\": \"Count=3889\", \"marker\": {\"color\": [3889], \"coloraxis\": \"coloraxis\", \"symbol\": \"circle\"}, \"mode\": \"markers\", \"name\": \"Count=3889\", \"scene\": \"scene\", \"showlegend\": true, \"type\": \"scatter3d\", \"x\": [\"DANIEL\"], \"y\": [2005], \"z\": [3889]}, {\"hoverlabel\": {\"namelength\": 0}, \"hovertemplate\": \"Count=%{marker.color}<br>Name=%{x}<br>YEAR=%{y}\", \"legendgroup\": \"Count=3714\", \"marker\": {\"color\": [3714], \"coloraxis\": \"coloraxis\", \"symbol\": \"diamond\"}, \"mode\": \"markers\", \"name\": \"Count=3714\", \"scene\": \"scene\", \"showlegend\": true, \"type\": \"scatter3d\", \"x\": [\"ANTHONY\"], \"y\": [2005], \"z\": [3714]}, {\"hoverlabel\": {\"namelength\": 0}, \"hovertemplate\": \"Count=%{marker.color}<br>Name=%{x}<br>YEAR=%{y}\", \"legendgroup\": \"Count=3538\", \"marker\": {\"color\": [3538], \"coloraxis\": \"coloraxis\", \"symbol\": \"square\"}, \"mode\": \"markers\", \"name\": \"Count=3538\", \"scene\": \"scene\", \"showlegend\": true, \"type\": \"scatter3d\", \"x\": [\"ANGEL\"], \"y\": [2005], \"z\": [3538]}, {\"hoverlabel\": {\"namelength\": 0}, \"hovertemplate\": \"Count=%{marker.color}<br>Name=%{x}<br>YEAR=%{y}\", \"legendgroup\": \"Count=3243\", \"marker\": {\"color\": [3243], \"coloraxis\": \"coloraxis\", \"symbol\": \"x\"}, \"mode\": \"markers\", \"name\": \"Count=3243\", \"scene\": \"scene\", \"showlegend\": true, \"type\": \"scatter3d\", \"x\": [\"DAVID\"], \"y\": [2005], \"z\": [3243]}, {\"hoverlabel\": {\"namelength\": 0}, \"hovertemplate\": \"Count=%{marker.color}<br>Name=%{x}<br>YEAR=%{y}\", \"legendgroup\": \"Count=3203\", \"marker\": {\"color\": [3203], \"coloraxis\": \"coloraxis\", \"symbol\": \"cross\"}, \"mode\": \"markers\", \"name\": \"Count=3203\", \"scene\": \"scene\", \"showlegend\": true, \"type\": \"scatter3d\", \"x\": [\"JOSHUA\"], \"y\": [2005], \"z\": [3203]}, {\"hoverlabel\": {\"namelength\": 0}, \"hovertemplate\": \"Count=%{marker.color}<br>Name=%{x}<br>YEAR=%{y}\", \"legendgroup\": \"Count=3187\", \"marker\": {\"color\": [3187], \"coloraxis\": \"coloraxis\", \"symbol\": \"circle\"}, \"mode\": \"markers\", \"name\": \"Count=3187\", \"scene\": \"scene\", \"showlegend\": true, \"type\": \"scatter3d\", \"x\": [\"JOSE\"], \"y\": [2005], \"z\": [3187]}, {\"hoverlabel\": {\"namelength\": 0}, \"hovertemplate\": \"Count=%{marker.color}<br>Name=%{x}<br>YEAR=%{y}\", \"legendgroup\": \"Count=3136\", \"marker\": {\"color\": [3136], \"coloraxis\": \"coloraxis\", \"symbol\": \"diamond\"}, \"mode\": \"markers\", \"name\": \"Count=3136\", \"scene\": \"scene\", \"showlegend\": true, \"type\": \"scatter3d\", \"x\": [\"ANDREW\"], \"y\": [2005], \"z\": [3136]}, {\"hoverlabel\": {\"namelength\": 0}, \"hovertemplate\": \"Count=%{marker.color}<br>Name=%{x}<br>YEAR=%{y}\", \"legendgroup\": \"Count=3095\", \"marker\": {\"color\": [3095], \"coloraxis\": \"coloraxis\", \"symbol\": \"square\"}, \"mode\": \"markers\", \"name\": \"Count=3095\", \"scene\": \"scene\", \"showlegend\": true, \"type\": \"scatter3d\", \"x\": [\"JACOB\"], \"y\": [2005], \"z\": [3095]}, {\"hoverlabel\": {\"namelength\": 0}, \"hovertemplate\": \"Count=%{marker.color}<br>Name=%{x}<br>YEAR=%{y}\", \"legendgroup\": \"Count=2841\", \"marker\": {\"color\": [2841], \"coloraxis\": \"coloraxis\", \"symbol\": \"x\"}, \"mode\": \"markers\", \"name\": \"Count=2841\", \"scene\": \"scene\", \"showlegend\": true, \"type\": \"scatter3d\", \"x\": [\"MATTHEW\"], \"y\": [2005], \"z\": [2841]}, {\"hoverlabel\": {\"namelength\": 0}, \"hovertemplate\": \"Count=%{marker.color}<br>Name=%{x}<br>YEAR=%{y}\", \"legendgroup\": \"Count=2730\", \"marker\": {\"color\": [2730], \"coloraxis\": \"coloraxis\", \"symbol\": \"cross\"}, \"mode\": \"markers\", \"name\": \"Count=2730\", \"scene\": \"scene\", \"showlegend\": true, \"type\": \"scatter3d\", \"x\": [\"MICHAEL\"], \"y\": [2005], \"z\": [2730]}, {\"hoverlabel\": {\"namelength\": 0}, \"hovertemplate\": \"Count=%{marker.color}<br>Name=%{x}<br>YEAR=%{y}\", \"legendgroup\": \"Count=2631\", \"marker\": {\"color\": [2631], \"coloraxis\": \"coloraxis\", \"symbol\": \"circle\"}, \"mode\": \"markers\", \"name\": \"Count=2631\", \"scene\": \"scene\", \"showlegend\": true, \"type\": \"scatter3d\", \"x\": [\"JONATHAN\"], \"y\": [2005], \"z\": [2631]}, {\"hoverlabel\": {\"namelength\": 0}, \"hovertemplate\": \"Count=%{marker.color}<br>Name=%{x}<br>YEAR=%{y}\", \"legendgroup\": \"Count=2581\", \"marker\": {\"color\": [2581, 2581, 2581], \"coloraxis\": \"coloraxis\", \"symbol\": \"diamond\"}, \"mode\": \"markers\", \"name\": \"Count=2581\", \"scene\": \"scene\", \"showlegend\": true, \"type\": \"scatter3d\", \"x\": [\"CHRISTOPHER\", \"EMMA\", \"MIA\"], \"y\": [2005, 2016, 2017], \"z\": [2581, 2581, 2581]}, {\"hoverlabel\": {\"namelength\": 0}, \"hovertemplate\": \"Count=%{marker.color}<br>Name=%{x}<br>YEAR=%{y}\", \"legendgroup\": \"Count=2526\", \"marker\": {\"color\": [2526], \"coloraxis\": \"coloraxis\", \"symbol\": \"square\"}, \"mode\": \"markers\", \"name\": \"Count=2526\", \"scene\": \"scene\", \"showlegend\": true, \"type\": \"scatter3d\", \"x\": [\"JOSEPH\"], \"y\": [2005], \"z\": [2526]}, {\"hoverlabel\": {\"namelength\": 0}, \"hovertemplate\": \"Count=%{marker.color}<br>Name=%{x}<br>YEAR=%{y}\", \"legendgroup\": \"Count=2436\", \"marker\": {\"color\": [2436, 2436], \"coloraxis\": \"coloraxis\", \"symbol\": \"x\"}, \"mode\": \"markers\", \"name\": \"Count=2436\", \"scene\": \"scene\", \"showlegend\": true, \"type\": \"scatter3d\", \"x\": [\"ALEXANDER\", \"SOPHIA\"], \"y\": [2005, 2017], \"z\": [2436, 2436]}, {\"hoverlabel\": {\"namelength\": 0}, \"hovertemplate\": \"Count=%{marker.color}<br>Name=%{x}<br>YEAR=%{y}\", \"legendgroup\": \"Count=2399\", \"marker\": {\"color\": [2399], \"coloraxis\": \"coloraxis\", \"symbol\": \"cross\"}, \"mode\": \"markers\", \"name\": \"Count=2399\", \"scene\": \"scene\", \"showlegend\": true, \"type\": \"scatter3d\", \"x\": [\"NATHAN\"], \"y\": [2005], \"z\": [2399]}, {\"hoverlabel\": {\"namelength\": 0}, \"hovertemplate\": \"Count=%{marker.color}<br>Name=%{x}<br>YEAR=%{y}\", \"legendgroup\": \"Count=2354\", \"marker\": {\"color\": [2354], \"coloraxis\": \"coloraxis\", \"symbol\": \"circle\"}, \"mode\": \"markers\", \"name\": \"Count=2354\", \"scene\": \"scene\", \"showlegend\": true, \"type\": \"scatter3d\", \"x\": [\"ETHAN\"], \"y\": [2005], \"z\": [2354]}, {\"hoverlabel\": {\"namelength\": 0}, \"hovertemplate\": \"Count=%{marker.color}<br>Name=%{x}<br>YEAR=%{y}\", \"legendgroup\": \"Count=2323\", \"marker\": {\"color\": [2323], \"coloraxis\": \"coloraxis\", \"symbol\": \"diamond\"}, \"mode\": \"markers\", \"name\": \"Count=2323\", \"scene\": \"scene\", \"showlegend\": true, \"type\": \"scatter3d\", \"x\": [\"RYAN\"], \"y\": [2005], \"z\": [2323]}, {\"hoverlabel\": {\"namelength\": 0}, \"hovertemplate\": \"Count=%{marker.color}<br>Name=%{x}<br>YEAR=%{y}\", \"legendgroup\": \"Count=2279\", \"marker\": {\"color\": [2279, 2279], \"coloraxis\": \"coloraxis\", \"symbol\": \"square\"}, \"mode\": \"markers\", \"name\": \"Count=2279\", \"scene\": \"scene\", \"showlegend\": true, \"type\": \"scatter3d\", \"x\": [\"DIEGO\", \"EMILY\"], \"y\": [2005, 2013], \"z\": [2279, 2279]}, {\"hoverlabel\": {\"namelength\": 0}, \"hovertemplate\": \"Count=%{marker.color}<br>Name=%{x}<br>YEAR=%{y}\", \"legendgroup\": \"Count=2207\", \"marker\": {\"color\": [2207], \"coloraxis\": \"coloraxis\", \"symbol\": \"x\"}, \"mode\": \"markers\", \"name\": \"Count=2207\", \"scene\": \"scene\", \"showlegend\": true, \"type\": \"scatter3d\", \"x\": [\"JUAN\"], \"y\": [2005], \"z\": [2207]}, {\"hoverlabel\": {\"namelength\": 0}, \"hovertemplate\": \"Count=%{marker.color}<br>Name=%{x}<br>YEAR=%{y}\", \"legendgroup\": \"Count=2188\", \"marker\": {\"color\": [2188, 2188], \"coloraxis\": \"coloraxis\", \"symbol\": \"cross\"}, \"mode\": \"markers\", \"name\": \"Count=2188\", \"scene\": \"scene\", \"showlegend\": true, \"type\": \"scatter3d\", \"x\": [\"KEVIN\", \"CHRISTIAN\"], \"y\": [2005, 2006], \"z\": [2188, 2188]}, {\"hoverlabel\": {\"namelength\": 0}, \"hovertemplate\": \"Count=%{marker.color}<br>Name=%{x}<br>YEAR=%{y}\", \"legendgroup\": \"Count=2112\", \"marker\": {\"color\": [2112], \"coloraxis\": \"coloraxis\", \"symbol\": \"circle\"}, \"mode\": \"markers\", \"name\": \"Count=2112\", \"scene\": \"scene\", \"showlegend\": true, \"type\": \"scatter3d\", \"x\": [\"BRANDON\"], \"y\": [2005], \"z\": [2112]}, {\"hoverlabel\": {\"namelength\": 0}, \"hovertemplate\": \"Count=%{marker.color}<br>Name=%{x}<br>YEAR=%{y}\", \"legendgroup\": \"Count=2006\", \"marker\": {\"color\": [2006], \"coloraxis\": \"coloraxis\", \"symbol\": \"diamond\"}, \"mode\": \"markers\", \"name\": \"Count=2006\", \"scene\": \"scene\", \"showlegend\": true, \"type\": \"scatter3d\", \"x\": [\"CHRISTIAN\"], \"y\": [2005], \"z\": [2006]}, {\"hoverlabel\": {\"namelength\": 0}, \"hovertemplate\": \"Count=%{marker.color}<br>Name=%{x}<br>YEAR=%{y}\", \"legendgroup\": \"Count=1987\", \"marker\": {\"color\": [1987], \"coloraxis\": \"coloraxis\", \"symbol\": \"square\"}, \"mode\": \"markers\", \"name\": \"Count=1987\", \"scene\": \"scene\", \"showlegend\": true, \"type\": \"scatter3d\", \"x\": [\"LUIS\"], \"y\": [2005], \"z\": [1987]}, {\"hoverlabel\": {\"namelength\": 0}, \"hovertemplate\": \"Count=%{marker.color}<br>Name=%{x}<br>YEAR=%{y}\", \"legendgroup\": \"Count=1959\", \"marker\": {\"color\": [1959], \"coloraxis\": \"coloraxis\", \"symbol\": \"x\"}, \"mode\": \"markers\", \"name\": \"Count=1959\", \"scene\": \"scene\", \"showlegend\": true, \"type\": \"scatter3d\", \"x\": [\"JESUS\"], \"y\": [2005], \"z\": [1959]}, {\"hoverlabel\": {\"namelength\": 0}, \"hovertemplate\": \"Count=%{marker.color}<br>Name=%{x}<br>YEAR=%{y}\", \"legendgroup\": \"Count=1941\", \"marker\": {\"color\": [1941], \"coloraxis\": \"coloraxis\", \"symbol\": \"cross\"}, \"mode\": \"markers\", \"name\": \"Count=1941\", \"scene\": \"scene\", \"showlegend\": true, \"type\": \"scatter3d\", \"x\": [\"GABRIEL\"], \"y\": [2005], \"z\": [1941]}, {\"hoverlabel\": {\"namelength\": 0}, \"hovertemplate\": \"Count=%{marker.color}<br>Name=%{x}<br>YEAR=%{y}\", \"legendgroup\": \"Count=3085\", \"marker\": {\"color\": [3085], \"coloraxis\": \"coloraxis\", \"symbol\": \"circle\"}, \"mode\": \"markers\", \"name\": \"Count=3085\", \"scene\": \"scene\", \"showlegend\": true, \"type\": \"scatter3d\", \"x\": [\"EMILY\"], \"y\": [2006], \"z\": [3085]}, {\"hoverlabel\": {\"namelength\": 0}, \"hovertemplate\": \"Count=%{marker.color}<br>Name=%{x}<br>YEAR=%{y}\", \"legendgroup\": \"Count=2771\", \"marker\": {\"color\": [2771], \"coloraxis\": \"coloraxis\", \"symbol\": \"diamond\"}, \"mode\": \"markers\", \"name\": \"Count=2771\", \"scene\": \"scene\", \"showlegend\": true, \"type\": \"scatter3d\", \"x\": [\"ISABELLA\"], \"y\": [2006], \"z\": [2771]}, {\"hoverlabel\": {\"namelength\": 0}, \"hovertemplate\": \"Count=%{marker.color}<br>Name=%{x}<br>YEAR=%{y}\", \"legendgroup\": \"Count=2596\", \"marker\": {\"color\": [2596], \"coloraxis\": \"coloraxis\", \"symbol\": \"square\"}, \"mode\": \"markers\", \"name\": \"Count=2596\", \"scene\": \"scene\", \"showlegend\": true, \"type\": \"scatter3d\", \"x\": [\"ASHLEY\"], \"y\": [2006], \"z\": [2596]}, {\"hoverlabel\": {\"namelength\": 0}, \"hovertemplate\": \"Count=%{marker.color}<br>Name=%{x}<br>YEAR=%{y}\", \"legendgroup\": \"Count=2425\", \"marker\": {\"color\": [2425], \"coloraxis\": \"coloraxis\", \"symbol\": \"x\"}, \"mode\": \"markers\", \"name\": \"Count=2425\", \"scene\": \"scene\", \"showlegend\": true, \"type\": \"scatter3d\", \"x\": [\"MIA\"], \"y\": [2006], \"z\": [2425]}, {\"hoverlabel\": {\"namelength\": 0}, \"hovertemplate\": \"Count=%{marker.color}<br>Name=%{x}<br>YEAR=%{y}\", \"legendgroup\": \"Count=2331\", \"marker\": {\"color\": [2331, 2331], \"coloraxis\": \"coloraxis\", \"symbol\": \"cross\"}, \"mode\": \"markers\", \"name\": \"Count=2331\", \"scene\": \"scene\", \"showlegend\": true, \"type\": \"scatter3d\", \"x\": [\"SAMANTHA\", \"ISABELLA\"], \"y\": [2006, 2016], \"z\": [2331, 2331]}, {\"hoverlabel\": {\"namelength\": 0}, \"hovertemplate\": \"Count=%{marker.color}<br>Name=%{x}<br>YEAR=%{y}\", \"legendgroup\": \"Count=2218\", \"marker\": {\"color\": [2218], \"coloraxis\": \"coloraxis\", \"symbol\": \"circle\"}, \"mode\": \"markers\", \"name\": \"Count=2218\", \"scene\": \"scene\", \"showlegend\": true, \"type\": \"scatter3d\", \"x\": [\"NATALIE\"], \"y\": [2006], \"z\": [2218]}, {\"hoverlabel\": {\"namelength\": 0}, \"hovertemplate\": \"Count=%{marker.color}<br>Name=%{x}<br>YEAR=%{y}\", \"legendgroup\": \"Count=1958\", \"marker\": {\"color\": [1958], \"coloraxis\": \"coloraxis\", \"symbol\": \"diamond\"}, \"mode\": \"markers\", \"name\": \"Count=1958\", \"scene\": \"scene\", \"showlegend\": true, \"type\": \"scatter3d\", \"x\": [\"SOPHIA\"], \"y\": [2006], \"z\": [1958]}, {\"hoverlabel\": {\"namelength\": 0}, \"hovertemplate\": \"Count=%{marker.color}<br>Name=%{x}<br>YEAR=%{y}\", \"legendgroup\": \"Count=1540\", \"marker\": {\"color\": [1540], \"coloraxis\": \"coloraxis\", \"symbol\": \"square\"}, \"mode\": \"markers\", \"name\": \"Count=1540\", \"scene\": \"scene\", \"showlegend\": true, \"type\": \"scatter3d\", \"x\": [\"EMMA\"], \"y\": [2006], \"z\": [1540]}, {\"hoverlabel\": {\"namelength\": 0}, \"hovertemplate\": \"Count=%{marker.color}<br>Name=%{x}<br>YEAR=%{y}\", \"legendgroup\": \"Count=1474\", \"marker\": {\"color\": [1474], \"coloraxis\": \"coloraxis\", \"symbol\": \"x\"}, \"mode\": \"markers\", \"name\": \"Count=1474\", \"scene\": \"scene\", \"showlegend\": true, \"type\": \"scatter3d\", \"x\": [\"ABIGAIL\"], \"y\": [2006], \"z\": [1474]}, {\"hoverlabel\": {\"namelength\": 0}, \"hovertemplate\": \"Count=%{marker.color}<br>Name=%{x}<br>YEAR=%{y}\", \"legendgroup\": \"Count=1467\", \"marker\": {\"color\": [1467], \"coloraxis\": \"coloraxis\", \"symbol\": \"cross\"}, \"mode\": \"markers\", \"name\": \"Count=1467\", \"scene\": \"scene\", \"showlegend\": true, \"type\": \"scatter3d\", \"x\": [\"AVA\"], \"y\": [2006], \"z\": [1467]}, {\"hoverlabel\": {\"namelength\": 0}, \"hovertemplate\": \"Count=%{marker.color}<br>Name=%{x}<br>YEAR=%{y}\", \"legendgroup\": \"Count=1433\", \"marker\": {\"color\": [1433], \"coloraxis\": \"coloraxis\", \"symbol\": \"circle\"}, \"mode\": \"markers\", \"name\": \"Count=1433\", \"scene\": \"scene\", \"showlegend\": true, \"type\": \"scatter3d\", \"x\": [\"MADISON\"], \"y\": [2006], \"z\": [1433]}, {\"hoverlabel\": {\"namelength\": 0}, \"hovertemplate\": \"Count=%{marker.color}<br>Name=%{x}<br>YEAR=%{y}\", \"legendgroup\": \"Count=1416\", \"marker\": {\"color\": [1416], \"coloraxis\": \"coloraxis\", \"symbol\": \"diamond\"}, \"mode\": \"markers\", \"name\": \"Count=1416\", \"scene\": \"scene\", \"showlegend\": true, \"type\": \"scatter3d\", \"x\": [\"ELIZABETH\"], \"y\": [2006], \"z\": [1416]}, {\"hoverlabel\": {\"namelength\": 0}, \"hovertemplate\": \"Count=%{marker.color}<br>Name=%{x}<br>YEAR=%{y}\", \"legendgroup\": \"Count=1392\", \"marker\": {\"color\": [1392, 1392], \"coloraxis\": \"coloraxis\", \"symbol\": \"square\"}, \"mode\": \"markers\", \"name\": \"Count=1392\", \"scene\": \"scene\", \"showlegend\": true, \"type\": \"scatter3d\", \"x\": [\"ALYSSA\", \"BRIANNA\"], \"y\": [2006, 2006], \"z\": [1392, 1392]}, {\"hoverlabel\": {\"namelength\": 0}, \"hovertemplate\": \"Count=%{marker.color}<br>Name=%{x}<br>YEAR=%{y}\", \"legendgroup\": \"Count=1390\", \"marker\": {\"color\": [1390], \"coloraxis\": \"coloraxis\", \"symbol\": \"x\"}, \"mode\": \"markers\", \"name\": \"Count=1390\", \"scene\": \"scene\", \"showlegend\": true, \"type\": \"scatter3d\", \"x\": [\"KIMBERLY\"], \"y\": [2006], \"z\": [1390]}, {\"hoverlabel\": {\"namelength\": 0}, \"hovertemplate\": \"Count=%{marker.color}<br>Name=%{x}<br>YEAR=%{y}\", \"legendgroup\": \"Count=1380\", \"marker\": {\"color\": [1380], \"coloraxis\": \"coloraxis\", \"symbol\": \"cross\"}, \"mode\": \"markers\", \"name\": \"Count=1380\", \"scene\": \"scene\", \"showlegend\": true, \"type\": \"scatter3d\", \"x\": [\"JASMINE\"], \"y\": [2006], \"z\": [1380]}, {\"hoverlabel\": {\"namelength\": 0}, \"hovertemplate\": \"Count=%{marker.color}<br>Name=%{x}<br>YEAR=%{y}\", \"legendgroup\": \"Count=1308\", \"marker\": {\"color\": [1308], \"coloraxis\": \"coloraxis\", \"symbol\": \"circle\"}, \"mode\": \"markers\", \"name\": \"Count=1308\", \"scene\": \"scene\", \"showlegend\": true, \"type\": \"scatter3d\", \"x\": [\"ANDREA\"], \"y\": [2006], \"z\": [1308]}, {\"hoverlabel\": {\"namelength\": 0}, \"hovertemplate\": \"Count=%{marker.color}<br>Name=%{x}<br>YEAR=%{y}\", \"legendgroup\": \"Count=1257\", \"marker\": {\"color\": [1257], \"coloraxis\": \"coloraxis\", \"symbol\": \"diamond\"}, \"mode\": \"markers\", \"name\": \"Count=1257\", \"scene\": \"scene\", \"showlegend\": true, \"type\": \"scatter3d\", \"x\": [\"JESSICA\"], \"y\": [2006], \"z\": [1257]}, {\"hoverlabel\": {\"namelength\": 0}, \"hovertemplate\": \"Count=%{marker.color}<br>Name=%{x}<br>YEAR=%{y}\", \"legendgroup\": \"Count=1233\", \"marker\": {\"color\": [1233], \"coloraxis\": \"coloraxis\", \"symbol\": \"square\"}, \"mode\": \"markers\", \"name\": \"Count=1233\", \"scene\": \"scene\", \"showlegend\": true, \"type\": \"scatter3d\", \"x\": [\"ALEXA\"], \"y\": [2006], \"z\": [1233]}, {\"hoverlabel\": {\"namelength\": 0}, \"hovertemplate\": \"Count=%{marker.color}<br>Name=%{x}<br>YEAR=%{y}\", \"legendgroup\": \"Count=1202\", \"marker\": {\"color\": [1202, 1202], \"coloraxis\": \"coloraxis\", \"symbol\": \"x\"}, \"mode\": \"markers\", \"name\": \"Count=1202\", \"scene\": \"scene\", \"showlegend\": true, \"type\": \"scatter3d\", \"x\": [\"OLIVIA\", \"ALYSSA\"], \"y\": [2006, 2009], \"z\": [1202, 1202]}, {\"hoverlabel\": {\"namelength\": 0}, \"hovertemplate\": \"Count=%{marker.color}<br>Name=%{x}<br>YEAR=%{y}\", \"legendgroup\": \"Count=1198\", \"marker\": {\"color\": [1198], \"coloraxis\": \"coloraxis\", \"symbol\": \"cross\"}, \"mode\": \"markers\", \"name\": \"Count=1198\", \"scene\": \"scene\", \"showlegend\": true, \"type\": \"scatter3d\", \"x\": [\"HANNAH\"], \"y\": [2006], \"z\": [1198]}, {\"hoverlabel\": {\"namelength\": 0}, \"hovertemplate\": \"Count=%{marker.color}<br>Name=%{x}<br>YEAR=%{y}\", \"legendgroup\": \"Count=1187\", \"marker\": {\"color\": [1187], \"coloraxis\": \"coloraxis\", \"symbol\": \"circle\"}, \"mode\": \"markers\", \"name\": \"Count=1187\", \"scene\": \"scene\", \"showlegend\": true, \"type\": \"scatter3d\", \"x\": [\"VALERIA\"], \"y\": [2006], \"z\": [1187]}, {\"hoverlabel\": {\"namelength\": 0}, \"hovertemplate\": \"Count=%{marker.color}<br>Name=%{x}<br>YEAR=%{y}\", \"legendgroup\": \"Count=1156\", \"marker\": {\"color\": [1156], \"coloraxis\": \"coloraxis\", \"symbol\": \"diamond\"}, \"mode\": \"markers\", \"name\": \"Count=1156\", \"scene\": \"scene\", \"showlegend\": true, \"type\": \"scatter3d\", \"x\": [\"ANGELINA\"], \"y\": [2006], \"z\": [1156]}, {\"hoverlabel\": {\"namelength\": 0}, \"hovertemplate\": \"Count=%{marker.color}<br>Name=%{x}<br>YEAR=%{y}\", \"legendgroup\": \"Count=1143\", \"marker\": {\"color\": [1143], \"coloraxis\": \"coloraxis\", \"symbol\": \"square\"}, \"mode\": \"markers\", \"name\": \"Count=1143\", \"scene\": \"scene\", \"showlegend\": true, \"type\": \"scatter3d\", \"x\": [\"JOCELYN\"], \"y\": [2006], \"z\": [1143]}, {\"hoverlabel\": {\"namelength\": 0}, \"hovertemplate\": \"Count=%{marker.color}<br>Name=%{x}<br>YEAR=%{y}\", \"legendgroup\": \"Count=3797\", \"marker\": {\"color\": [3797], \"coloraxis\": \"coloraxis\", \"symbol\": \"x\"}, \"mode\": \"markers\", \"name\": \"Count=3797\", \"scene\": \"scene\", \"showlegend\": true, \"type\": \"scatter3d\", \"x\": [\"DANIEL\"], \"y\": [2006], \"z\": [3797]}, {\"hoverlabel\": {\"namelength\": 0}, \"hovertemplate\": \"Count=%{marker.color}<br>Name=%{x}<br>YEAR=%{y}\", \"legendgroup\": \"Count=3762\", \"marker\": {\"color\": [3762], \"coloraxis\": \"coloraxis\", \"symbol\": \"cross\"}, \"mode\": \"markers\", \"name\": \"Count=3762\", \"scene\": \"scene\", \"showlegend\": true, \"type\": \"scatter3d\", \"x\": [\"ANTHONY\"], \"y\": [2006], \"z\": [3762]}, {\"hoverlabel\": {\"namelength\": 0}, \"hovertemplate\": \"Count=%{marker.color}<br>Name=%{x}<br>YEAR=%{y}\", \"legendgroup\": \"Count=3706\", \"marker\": {\"color\": [3706], \"coloraxis\": \"coloraxis\", \"symbol\": \"circle\"}, \"mode\": \"markers\", \"name\": \"Count=3706\", \"scene\": \"scene\", \"showlegend\": true, \"type\": \"scatter3d\", \"x\": [\"ANGEL\"], \"y\": [2006], \"z\": [3706]}, {\"hoverlabel\": {\"namelength\": 0}, \"hovertemplate\": \"Count=%{marker.color}<br>Name=%{x}<br>YEAR=%{y}\", \"legendgroup\": \"Count=3184\", \"marker\": {\"color\": [3184], \"coloraxis\": \"coloraxis\", \"symbol\": \"diamond\"}, \"mode\": \"markers\", \"name\": \"Count=3184\", \"scene\": \"scene\", \"showlegend\": true, \"type\": \"scatter3d\", \"x\": [\"JACOB\"], \"y\": [2006], \"z\": [3184]}, {\"hoverlabel\": {\"namelength\": 0}, \"hovertemplate\": \"Count=%{marker.color}<br>Name=%{x}<br>YEAR=%{y}\", \"legendgroup\": \"Count=3125\", \"marker\": {\"color\": [3125], \"coloraxis\": \"coloraxis\", \"symbol\": \"square\"}, \"mode\": \"markers\", \"name\": \"Count=3125\", \"scene\": \"scene\", \"showlegend\": true, \"type\": \"scatter3d\", \"x\": [\"DAVID\"], \"y\": [2006], \"z\": [3125]}, {\"hoverlabel\": {\"namelength\": 0}, \"hovertemplate\": \"Count=%{marker.color}<br>Name=%{x}<br>YEAR=%{y}\", \"legendgroup\": \"Count=3114\", \"marker\": {\"color\": [3114], \"coloraxis\": \"coloraxis\", \"symbol\": \"x\"}, \"mode\": \"markers\", \"name\": \"Count=3114\", \"scene\": \"scene\", \"showlegend\": true, \"type\": \"scatter3d\", \"x\": [\"ANDREW\"], \"y\": [2006], \"z\": [3114]}, {\"hoverlabel\": {\"namelength\": 0}, \"hovertemplate\": \"Count=%{marker.color}<br>Name=%{x}<br>YEAR=%{y}\", \"legendgroup\": \"Count=3089\", \"marker\": {\"color\": [3089], \"coloraxis\": \"coloraxis\", \"symbol\": \"cross\"}, \"mode\": \"markers\", \"name\": \"Count=3089\", \"scene\": \"scene\", \"showlegend\": true, \"type\": \"scatter3d\", \"x\": [\"JOSE\"], \"y\": [2006], \"z\": [3089]}, {\"hoverlabel\": {\"namelength\": 0}, \"hovertemplate\": \"Count=%{marker.color}<br>Name=%{x}<br>YEAR=%{y}\", \"legendgroup\": \"Count=3003\", \"marker\": {\"color\": [3003], \"coloraxis\": \"coloraxis\", \"symbol\": \"circle\"}, \"mode\": \"markers\", \"name\": \"Count=3003\", \"scene\": \"scene\", \"showlegend\": true, \"type\": \"scatter3d\", \"x\": [\"JOSHUA\"], \"y\": [2006], \"z\": [3003]}, {\"hoverlabel\": {\"namelength\": 0}, \"hovertemplate\": \"Count=%{marker.color}<br>Name=%{x}<br>YEAR=%{y}\", \"legendgroup\": \"Count=2864\", \"marker\": {\"color\": [2864], \"coloraxis\": \"coloraxis\", \"symbol\": \"diamond\"}, \"mode\": \"markers\", \"name\": \"Count=2864\", \"scene\": \"scene\", \"showlegend\": true, \"type\": \"scatter3d\", \"x\": [\"CHRISTOPHER\"], \"y\": [2006], \"z\": [2864]}, {\"hoverlabel\": {\"namelength\": 0}, \"hovertemplate\": \"Count=%{marker.color}<br>Name=%{x}<br>YEAR=%{y}\", \"legendgroup\": \"Count=2732\", \"marker\": {\"color\": [2732], \"coloraxis\": \"coloraxis\", \"symbol\": \"square\"}, \"mode\": \"markers\", \"name\": \"Count=2732\", \"scene\": \"scene\", \"showlegend\": true, \"type\": \"scatter3d\", \"x\": [\"MATTHEW\"], \"y\": [2006], \"z\": [2732]}, {\"hoverlabel\": {\"namelength\": 0}, \"hovertemplate\": \"Count=%{marker.color}<br>Name=%{x}<br>YEAR=%{y}\", \"legendgroup\": \"Count=2717\", \"marker\": {\"color\": [2717], \"coloraxis\": \"coloraxis\", \"symbol\": \"x\"}, \"mode\": \"markers\", \"name\": \"Count=2717\", \"scene\": \"scene\", \"showlegend\": true, \"type\": \"scatter3d\", \"x\": [\"DIEGO\"], \"y\": [2006], \"z\": [2717]}, {\"hoverlabel\": {\"namelength\": 0}, \"hovertemplate\": \"Count=%{marker.color}<br>Name=%{x}<br>YEAR=%{y}\", \"legendgroup\": \"Count=2711\", \"marker\": {\"color\": [2711], \"coloraxis\": \"coloraxis\", \"symbol\": \"cross\"}, \"mode\": \"markers\", \"name\": \"Count=2711\", \"scene\": \"scene\", \"showlegend\": true, \"type\": \"scatter3d\", \"x\": [\"MICHAEL\"], \"y\": [2006], \"z\": [2711]}, {\"hoverlabel\": {\"namelength\": 0}, \"hovertemplate\": \"Count=%{marker.color}<br>Name=%{x}<br>YEAR=%{y}\", \"legendgroup\": \"Count=2617\", \"marker\": {\"color\": [2617], \"coloraxis\": \"coloraxis\", \"symbol\": \"circle\"}, \"mode\": \"markers\", \"name\": \"Count=2617\", \"scene\": \"scene\", \"showlegend\": true, \"type\": \"scatter3d\", \"x\": [\"JONATHAN\"], \"y\": [2006], \"z\": [2617]}, {\"hoverlabel\": {\"namelength\": 0}, \"hovertemplate\": \"Count=%{marker.color}<br>Name=%{x}<br>YEAR=%{y}\", \"legendgroup\": \"Count=2477\", \"marker\": {\"color\": [2477], \"coloraxis\": \"coloraxis\", \"symbol\": \"diamond\"}, \"mode\": \"markers\", \"name\": \"Count=2477\", \"scene\": \"scene\", \"showlegend\": true, \"type\": \"scatter3d\", \"x\": [\"ALEXANDER\"], \"y\": [2006], \"z\": [2477]}, {\"hoverlabel\": {\"namelength\": 0}, \"hovertemplate\": \"Count=%{marker.color}<br>Name=%{x}<br>YEAR=%{y}\", \"legendgroup\": \"Count=2440\", \"marker\": {\"color\": [2440], \"coloraxis\": \"coloraxis\", \"symbol\": \"square\"}, \"mode\": \"markers\", \"name\": \"Count=2440\", \"scene\": \"scene\", \"showlegend\": true, \"type\": \"scatter3d\", \"x\": [\"NATHAN\"], \"y\": [2006], \"z\": [2440]}, {\"hoverlabel\": {\"namelength\": 0}, \"hovertemplate\": \"Count=%{marker.color}<br>Name=%{x}<br>YEAR=%{y}\", \"legendgroup\": \"Count=2379\", \"marker\": {\"color\": [2379, 2379], \"coloraxis\": \"coloraxis\", \"symbol\": \"x\"}, \"mode\": \"markers\", \"name\": \"Count=2379\", \"scene\": \"scene\", \"showlegend\": true, \"type\": \"scatter3d\", \"x\": [\"ETHAN\", \"ETHAN\"], \"y\": [2006, 2011], \"z\": [2379, 2379]}, {\"hoverlabel\": {\"namelength\": 0}, \"hovertemplate\": \"Count=%{marker.color}<br>Name=%{x}<br>YEAR=%{y}\", \"legendgroup\": \"Count=2349\", \"marker\": {\"color\": [2349], \"coloraxis\": \"coloraxis\", \"symbol\": \"cross\"}, \"mode\": \"markers\", \"name\": \"Count=2349\", \"scene\": \"scene\", \"showlegend\": true, \"type\": \"scatter3d\", \"x\": [\"JOSEPH\"], \"y\": [2006], \"z\": [2349]}, {\"hoverlabel\": {\"namelength\": 0}, \"hovertemplate\": \"Count=%{marker.color}<br>Name=%{x}<br>YEAR=%{y}\", \"legendgroup\": \"Count=2104\", \"marker\": {\"color\": [2104], \"coloraxis\": \"coloraxis\", \"symbol\": \"circle\"}, \"mode\": \"markers\", \"name\": \"Count=2104\", \"scene\": \"scene\", \"showlegend\": true, \"type\": \"scatter3d\", \"x\": [\"ADRIAN\"], \"y\": [2006], \"z\": [2104]}, {\"hoverlabel\": {\"namelength\": 0}, \"hovertemplate\": \"Count=%{marker.color}<br>Name=%{x}<br>YEAR=%{y}\", \"legendgroup\": \"Count=2074\", \"marker\": {\"color\": [2074], \"coloraxis\": \"coloraxis\", \"symbol\": \"diamond\"}, \"mode\": \"markers\", \"name\": \"Count=2074\", \"scene\": \"scene\", \"showlegend\": true, \"type\": \"scatter3d\", \"x\": [\"JUAN\"], \"y\": [2006], \"z\": [2074]}, {\"hoverlabel\": {\"namelength\": 0}, \"hovertemplate\": \"Count=%{marker.color}<br>Name=%{x}<br>YEAR=%{y}\", \"legendgroup\": \"Count=2064\", \"marker\": {\"color\": [2064, 2064], \"coloraxis\": \"coloraxis\", \"symbol\": \"square\"}, \"mode\": \"markers\", \"name\": \"Count=2064\", \"scene\": \"scene\", \"showlegend\": true, \"type\": \"scatter3d\", \"x\": [\"BRANDON\", \"SEBASTIAN\"], \"y\": [2006, 2015], \"z\": [2064, 2064]}, {\"hoverlabel\": {\"namelength\": 0}, \"hovertemplate\": \"Count=%{marker.color}<br>Name=%{x}<br>YEAR=%{y}\", \"legendgroup\": \"Count=2058\", \"marker\": {\"color\": [2058], \"coloraxis\": \"coloraxis\", \"symbol\": \"x\"}, \"mode\": \"markers\", \"name\": \"Count=2058\", \"scene\": \"scene\", \"showlegend\": true, \"type\": \"scatter3d\", \"x\": [\"LUIS\"], \"y\": [2006], \"z\": [2058]}, {\"hoverlabel\": {\"namelength\": 0}, \"hovertemplate\": \"Count=%{marker.color}<br>Name=%{x}<br>YEAR=%{y}\", \"legendgroup\": \"Count=2043\", \"marker\": {\"color\": [2043, 2043], \"coloraxis\": \"coloraxis\", \"symbol\": \"cross\"}, \"mode\": \"markers\", \"name\": \"Count=2043\", \"scene\": \"scene\", \"showlegend\": true, \"type\": \"scatter3d\", \"x\": [\"KEVIN\", \"RYAN\"], \"y\": [2006, 2006], \"z\": [2043, 2043]}, {\"hoverlabel\": {\"namelength\": 0}, \"hovertemplate\": \"Count=%{marker.color}<br>Name=%{x}<br>YEAR=%{y}\", \"legendgroup\": \"Count=1938\", \"marker\": {\"color\": [1938], \"coloraxis\": \"coloraxis\", \"symbol\": \"circle\"}, \"mode\": \"markers\", \"name\": \"Count=1938\", \"scene\": \"scene\", \"showlegend\": true, \"type\": \"scatter3d\", \"x\": [\"JESUS\"], \"y\": [2006], \"z\": [1938]}, {\"hoverlabel\": {\"namelength\": 0}, \"hovertemplate\": \"Count=%{marker.color}<br>Name=%{x}<br>YEAR=%{y}\", \"legendgroup\": \"Count=2952\", \"marker\": {\"color\": [2952], \"coloraxis\": \"coloraxis\", \"symbol\": \"diamond\"}, \"mode\": \"markers\", \"name\": \"Count=2952\", \"scene\": \"scene\", \"showlegend\": true, \"type\": \"scatter3d\", \"x\": [\"EMILY\"], \"y\": [2007], \"z\": [2952]}, {\"hoverlabel\": {\"namelength\": 0}, \"hovertemplate\": \"Count=%{marker.color}<br>Name=%{x}<br>YEAR=%{y}\", \"legendgroup\": \"Count=2903\", \"marker\": {\"color\": [2903], \"coloraxis\": \"coloraxis\", \"symbol\": \"square\"}, \"mode\": \"markers\", \"name\": \"Count=2903\", \"scene\": \"scene\", \"showlegend\": true, \"type\": \"scatter3d\", \"x\": [\"ISABELLA\"], \"y\": [2007], \"z\": [2903]}, {\"hoverlabel\": {\"namelength\": 0}, \"hovertemplate\": \"Count=%{marker.color}<br>Name=%{x}<br>YEAR=%{y}\", \"legendgroup\": \"Count=2582\", \"marker\": {\"color\": [2582], \"coloraxis\": \"coloraxis\", \"symbol\": \"x\"}, \"mode\": \"markers\", \"name\": \"Count=2582\", \"scene\": \"scene\", \"showlegend\": true, \"type\": \"scatter3d\", \"x\": [\"SOPHIA\"], \"y\": [2007], \"z\": [2582]}, {\"hoverlabel\": {\"namelength\": 0}, \"hovertemplate\": \"Count=%{marker.color}<br>Name=%{x}<br>YEAR=%{y}\", \"legendgroup\": \"Count=2507\", \"marker\": {\"color\": [2507], \"coloraxis\": \"coloraxis\", \"symbol\": \"cross\"}, \"mode\": \"markers\", \"name\": \"Count=2507\", \"scene\": \"scene\", \"showlegend\": true, \"type\": \"scatter3d\", \"x\": [\"ASHLEY\"], \"y\": [2007], \"z\": [2507]}, {\"hoverlabel\": {\"namelength\": 0}, \"hovertemplate\": \"Count=%{marker.color}<br>Name=%{x}<br>YEAR=%{y}\", \"legendgroup\": \"Count=2360\", \"marker\": {\"color\": [2360], \"coloraxis\": \"coloraxis\", \"symbol\": \"circle\"}, \"mode\": \"markers\", \"name\": \"Count=2360\", \"scene\": \"scene\", \"showlegend\": true, \"type\": \"scatter3d\", \"x\": [\"SAMANTHA\"], \"y\": [2007], \"z\": [2360]}, {\"hoverlabel\": {\"namelength\": 0}, \"hovertemplate\": \"Count=%{marker.color}<br>Name=%{x}<br>YEAR=%{y}\", \"legendgroup\": \"Count=2054\", \"marker\": {\"color\": [2054, 2054], \"coloraxis\": \"coloraxis\", \"symbol\": \"diamond\"}, \"mode\": \"markers\", \"name\": \"Count=2054\", \"scene\": \"scene\", \"showlegend\": true, \"type\": \"scatter3d\", \"x\": [\"MIA\", \"JACOB\"], \"y\": [2007, 2017], \"z\": [2054, 2054]}, {\"hoverlabel\": {\"namelength\": 0}, \"hovertemplate\": \"Count=%{marker.color}<br>Name=%{x}<br>YEAR=%{y}\", \"legendgroup\": \"Count=1907\", \"marker\": {\"color\": [1907], \"coloraxis\": \"coloraxis\", \"symbol\": \"square\"}, \"mode\": \"markers\", \"name\": \"Count=1907\", \"scene\": \"scene\", \"showlegend\": true, \"type\": \"scatter3d\", \"x\": [\"NATALIE\"], \"y\": [2007], \"z\": [1907]}, {\"hoverlabel\": {\"namelength\": 0}, \"hovertemplate\": \"Count=%{marker.color}<br>Name=%{x}<br>YEAR=%{y}\", \"legendgroup\": \"Count=1620\", \"marker\": {\"color\": [1620, 1620, 1620], \"coloraxis\": \"coloraxis\", \"symbol\": \"x\"}, \"mode\": \"markers\", \"name\": \"Count=1620\", \"scene\": \"scene\", \"showlegend\": true, \"type\": \"scatter3d\", \"x\": [\"EMMA\", \"DYLAN\", \"JAMES\"], \"y\": [2007, 2013, 2016], \"z\": [1620, 1620, 1620]}, {\"hoverlabel\": {\"namelength\": 0}, \"hovertemplate\": \"Count=%{marker.color}<br>Name=%{x}<br>YEAR=%{y}\", \"legendgroup\": \"Count=1552\", \"marker\": {\"color\": [1552], \"coloraxis\": \"coloraxis\", \"symbol\": \"cross\"}, \"mode\": \"markers\", \"name\": \"Count=1552\", \"scene\": \"scene\", \"showlegend\": true, \"type\": \"scatter3d\", \"x\": [\"ALYSSA\"], \"y\": [2007], \"z\": [1552]}, {\"hoverlabel\": {\"namelength\": 0}, \"hovertemplate\": \"Count=%{marker.color}<br>Name=%{x}<br>YEAR=%{y}\", \"legendgroup\": \"Count=1512\", \"marker\": {\"color\": [1512], \"coloraxis\": \"coloraxis\", \"symbol\": \"circle\"}, \"mode\": \"markers\", \"name\": \"Count=1512\", \"scene\": \"scene\", \"showlegend\": true, \"type\": \"scatter3d\", \"x\": [\"JOCELYN\"], \"y\": [2007], \"z\": [1512]}, {\"hoverlabel\": {\"namelength\": 0}, \"hovertemplate\": \"Count=%{marker.color}<br>Name=%{x}<br>YEAR=%{y}\", \"legendgroup\": \"Count=1502\", \"marker\": {\"color\": [1502], \"coloraxis\": \"coloraxis\", \"symbol\": \"diamond\"}, \"mode\": \"markers\", \"name\": \"Count=1502\", \"scene\": \"scene\", \"showlegend\": true, \"type\": \"scatter3d\", \"x\": [\"ELIZABETH\"], \"y\": [2007], \"z\": [1502]}, {\"hoverlabel\": {\"namelength\": 0}, \"hovertemplate\": \"Count=%{marker.color}<br>Name=%{x}<br>YEAR=%{y}\", \"legendgroup\": \"Count=1476\", \"marker\": {\"color\": [1476], \"coloraxis\": \"coloraxis\", \"symbol\": \"square\"}, \"mode\": \"markers\", \"name\": \"Count=1476\", \"scene\": \"scene\", \"showlegend\": true, \"type\": \"scatter3d\", \"x\": [\"AVA\"], \"y\": [2007], \"z\": [1476]}, {\"hoverlabel\": {\"namelength\": 0}, \"hovertemplate\": \"Count=%{marker.color}<br>Name=%{x}<br>YEAR=%{y}\", \"legendgroup\": \"Count=1432\", \"marker\": {\"color\": [1432], \"coloraxis\": \"coloraxis\", \"symbol\": \"x\"}, \"mode\": \"markers\", \"name\": \"Count=1432\", \"scene\": \"scene\", \"showlegend\": true, \"type\": \"scatter3d\", \"x\": [\"ABIGAIL\"], \"y\": [2007], \"z\": [1432]}, {\"hoverlabel\": {\"namelength\": 0}, \"hovertemplate\": \"Count=%{marker.color}<br>Name=%{x}<br>YEAR=%{y}\", \"legendgroup\": \"Count=1408\", \"marker\": {\"color\": [1408], \"coloraxis\": \"coloraxis\", \"symbol\": \"cross\"}, \"mode\": \"markers\", \"name\": \"Count=1408\", \"scene\": \"scene\", \"showlegend\": true, \"type\": \"scatter3d\", \"x\": [\"KIMBERLY\"], \"y\": [2007], \"z\": [1408]}, {\"hoverlabel\": {\"namelength\": 0}, \"hovertemplate\": \"Count=%{marker.color}<br>Name=%{x}<br>YEAR=%{y}\", \"legendgroup\": \"Count=1341\", \"marker\": {\"color\": [1341], \"coloraxis\": \"coloraxis\", \"symbol\": \"circle\"}, \"mode\": \"markers\", \"name\": \"Count=1341\", \"scene\": \"scene\", \"showlegend\": true, \"type\": \"scatter3d\", \"x\": [\"MADISON\"], \"y\": [2007], \"z\": [1341]}, {\"hoverlabel\": {\"namelength\": 0}, \"hovertemplate\": \"Count=%{marker.color}<br>Name=%{x}<br>YEAR=%{y}\", \"legendgroup\": \"Count=1333\", \"marker\": {\"color\": [1333], \"coloraxis\": \"coloraxis\", \"symbol\": \"diamond\"}, \"mode\": \"markers\", \"name\": \"Count=1333\", \"scene\": \"scene\", \"showlegend\": true, \"type\": \"scatter3d\", \"x\": [\"OLIVIA\"], \"y\": [2007], \"z\": [1333]}, {\"hoverlabel\": {\"namelength\": 0}, \"hovertemplate\": \"Count=%{marker.color}<br>Name=%{x}<br>YEAR=%{y}\", \"legendgroup\": \"Count=1328\", \"marker\": {\"color\": [1328], \"coloraxis\": \"coloraxis\", \"symbol\": \"square\"}, \"mode\": \"markers\", \"name\": \"Count=1328\", \"scene\": \"scene\", \"showlegend\": true, \"type\": \"scatter3d\", \"x\": [\"BRIANNA\"], \"y\": [2007], \"z\": [1328]}, {\"hoverlabel\": {\"namelength\": 0}, \"hovertemplate\": \"Count=%{marker.color}<br>Name=%{x}<br>YEAR=%{y}\", \"legendgroup\": \"Count=1305\", \"marker\": {\"color\": [1305], \"coloraxis\": \"coloraxis\", \"symbol\": \"x\"}, \"mode\": \"markers\", \"name\": \"Count=1305\", \"scene\": \"scene\", \"showlegend\": true, \"type\": \"scatter3d\", \"x\": [\"SOFIA\"], \"y\": [2007], \"z\": [1305]}, {\"hoverlabel\": {\"namelength\": 0}, \"hovertemplate\": \"Count=%{marker.color}<br>Name=%{x}<br>YEAR=%{y}\", \"legendgroup\": \"Count=1298\", \"marker\": {\"color\": [1298], \"coloraxis\": \"coloraxis\", \"symbol\": \"cross\"}, \"mode\": \"markers\", \"name\": \"Count=1298\", \"scene\": \"scene\", \"showlegend\": true, \"type\": \"scatter3d\", \"x\": [\"JASMINE\"], \"y\": [2007], \"z\": [1298]}, {\"hoverlabel\": {\"namelength\": 0}, \"hovertemplate\": \"Count=%{marker.color}<br>Name=%{x}<br>YEAR=%{y}\", \"legendgroup\": \"Count=1261\", \"marker\": {\"color\": [1261], \"coloraxis\": \"coloraxis\", \"symbol\": \"circle\"}, \"mode\": \"markers\", \"name\": \"Count=1261\", \"scene\": \"scene\", \"showlegend\": true, \"type\": \"scatter3d\", \"x\": [\"ANDREA\"], \"y\": [2007], \"z\": [1261]}, {\"hoverlabel\": {\"namelength\": 0}, \"hovertemplate\": \"Count=%{marker.color}<br>Name=%{x}<br>YEAR=%{y}\", \"legendgroup\": \"Count=1204\", \"marker\": {\"color\": [1204], \"coloraxis\": \"coloraxis\", \"symbol\": \"diamond\"}, \"mode\": \"markers\", \"name\": \"Count=1204\", \"scene\": \"scene\", \"showlegend\": true, \"type\": \"scatter3d\", \"x\": [\"VANESSA\"], \"y\": [2007], \"z\": [1204]}, {\"hoverlabel\": {\"namelength\": 0}, \"hovertemplate\": \"Count=%{marker.color}<br>Name=%{x}<br>YEAR=%{y}\", \"legendgroup\": \"Count=1167\", \"marker\": {\"color\": [1167], \"coloraxis\": \"coloraxis\", \"symbol\": \"square\"}, \"mode\": \"markers\", \"name\": \"Count=1167\", \"scene\": \"scene\", \"showlegend\": true, \"type\": \"scatter3d\", \"x\": [\"HANNAH\"], \"y\": [2007], \"z\": [1167]}, {\"hoverlabel\": {\"namelength\": 0}, \"hovertemplate\": \"Count=%{marker.color}<br>Name=%{x}<br>YEAR=%{y}\", \"legendgroup\": \"Count=1164\", \"marker\": {\"color\": [1164], \"coloraxis\": \"coloraxis\", \"symbol\": \"x\"}, \"mode\": \"markers\", \"name\": \"Count=1164\", \"scene\": \"scene\", \"showlegend\": true, \"type\": \"scatter3d\", \"x\": [\"CHLOE\"], \"y\": [2007], \"z\": [1164]}, {\"hoverlabel\": {\"namelength\": 0}, \"hovertemplate\": \"Count=%{marker.color}<br>Name=%{x}<br>YEAR=%{y}\", \"legendgroup\": \"Count=1149\", \"marker\": {\"color\": [1149], \"coloraxis\": \"coloraxis\", \"symbol\": \"cross\"}, \"mode\": \"markers\", \"name\": \"Count=1149\", \"scene\": \"scene\", \"showlegend\": true, \"type\": \"scatter3d\", \"x\": [\"ALEXA\"], \"y\": [2007], \"z\": [1149]}, {\"hoverlabel\": {\"namelength\": 0}, \"hovertemplate\": \"Count=%{marker.color}<br>Name=%{x}<br>YEAR=%{y}\", \"legendgroup\": \"Count=1132\", \"marker\": {\"color\": [1132], \"coloraxis\": \"coloraxis\", \"symbol\": \"circle\"}, \"mode\": \"markers\", \"name\": \"Count=1132\", \"scene\": \"scene\", \"showlegend\": true, \"type\": \"scatter3d\", \"x\": [\"VICTORIA\"], \"y\": [2007], \"z\": [1132]}, {\"hoverlabel\": {\"namelength\": 0}, \"hovertemplate\": \"Count=%{marker.color}<br>Name=%{x}<br>YEAR=%{y}\", \"legendgroup\": \"Count=3838\", \"marker\": {\"color\": [3838], \"coloraxis\": \"coloraxis\", \"symbol\": \"diamond\"}, \"mode\": \"markers\", \"name\": \"Count=3838\", \"scene\": \"scene\", \"showlegend\": true, \"type\": \"scatter3d\", \"x\": [\"DANIEL\"], \"y\": [2007], \"z\": [3838]}, {\"hoverlabel\": {\"namelength\": 0}, \"hovertemplate\": \"Count=%{marker.color}<br>Name=%{x}<br>YEAR=%{y}\", \"legendgroup\": \"Count=3766\", \"marker\": {\"color\": [3766], \"coloraxis\": \"coloraxis\", \"symbol\": \"square\"}, \"mode\": \"markers\", \"name\": \"Count=3766\", \"scene\": \"scene\", \"showlegend\": true, \"type\": \"scatter3d\", \"x\": [\"ANTHONY\"], \"y\": [2007], \"z\": [3766]}, {\"hoverlabel\": {\"namelength\": 0}, \"hovertemplate\": \"Count=%{marker.color}<br>Name=%{x}<br>YEAR=%{y}\", \"legendgroup\": \"Count=3520\", \"marker\": {\"color\": [3520], \"coloraxis\": \"coloraxis\", \"symbol\": \"x\"}, \"mode\": \"markers\", \"name\": \"Count=3520\", \"scene\": \"scene\", \"showlegend\": true, \"type\": \"scatter3d\", \"x\": [\"ANGEL\"], \"y\": [2007], \"z\": [3520]}, {\"hoverlabel\": {\"namelength\": 0}, \"hovertemplate\": \"Count=%{marker.color}<br>Name=%{x}<br>YEAR=%{y}\", \"legendgroup\": \"Count=3101\", \"marker\": {\"color\": [3101], \"coloraxis\": \"coloraxis\", \"symbol\": \"cross\"}, \"mode\": \"markers\", \"name\": \"Count=3101\", \"scene\": \"scene\", \"showlegend\": true, \"type\": \"scatter3d\", \"x\": [\"JACOB\"], \"y\": [2007], \"z\": [3101]}, {\"hoverlabel\": {\"namelength\": 0}, \"hovertemplate\": \"Count=%{marker.color}<br>Name=%{x}<br>YEAR=%{y}\", \"legendgroup\": \"Count=3100\", \"marker\": {\"color\": [3100], \"coloraxis\": \"coloraxis\", \"symbol\": \"circle\"}, \"mode\": \"markers\", \"name\": \"Count=3100\", \"scene\": \"scene\", \"showlegend\": true, \"type\": \"scatter3d\", \"x\": [\"DAVID\"], \"y\": [2007], \"z\": [3100]}, {\"hoverlabel\": {\"namelength\": 0}, \"hovertemplate\": \"Count=%{marker.color}<br>Name=%{x}<br>YEAR=%{y}\", \"legendgroup\": \"Count=3013\", \"marker\": {\"color\": [3013], \"coloraxis\": \"coloraxis\", \"symbol\": \"diamond\"}, \"mode\": \"markers\", \"name\": \"Count=3013\", \"scene\": \"scene\", \"showlegend\": true, \"type\": \"scatter3d\", \"x\": [\"ANDREW\"], \"y\": [2007], \"z\": [3013]}, {\"hoverlabel\": {\"namelength\": 0}, \"hovertemplate\": \"Count=%{marker.color}<br>Name=%{x}<br>YEAR=%{y}\", \"legendgroup\": \"Count=2972\", \"marker\": {\"color\": [2972], \"coloraxis\": \"coloraxis\", \"symbol\": \"square\"}, \"mode\": \"markers\", \"name\": \"Count=2972\", \"scene\": \"scene\", \"showlegend\": true, \"type\": \"scatter3d\", \"x\": [\"CHRISTOPHER\"], \"y\": [2007], \"z\": [2972]}, {\"hoverlabel\": {\"namelength\": 0}, \"hovertemplate\": \"Count=%{marker.color}<br>Name=%{x}<br>YEAR=%{y}\", \"legendgroup\": \"Count=2867\", \"marker\": {\"color\": [2867], \"coloraxis\": \"coloraxis\", \"symbol\": \"x\"}, \"mode\": \"markers\", \"name\": \"Count=2867\", \"scene\": \"scene\", \"showlegend\": true, \"type\": \"scatter3d\", \"x\": [\"JOSHUA\"], \"y\": [2007], \"z\": [2867]}, {\"hoverlabel\": {\"namelength\": 0}, \"hovertemplate\": \"Count=%{marker.color}<br>Name=%{x}<br>YEAR=%{y}\", \"legendgroup\": \"Count=2832\", \"marker\": {\"color\": [2832], \"coloraxis\": \"coloraxis\", \"symbol\": \"cross\"}, \"mode\": \"markers\", \"name\": \"Count=2832\", \"scene\": \"scene\", \"showlegend\": true, \"type\": \"scatter3d\", \"x\": [\"JOSE\"], \"y\": [2007], \"z\": [2832]}, {\"hoverlabel\": {\"namelength\": 0}, \"hovertemplate\": \"Count=%{marker.color}<br>Name=%{x}<br>YEAR=%{y}\", \"legendgroup\": \"Count=2590\", \"marker\": {\"color\": [2590], \"coloraxis\": \"coloraxis\", \"symbol\": \"circle\"}, \"mode\": \"markers\", \"name\": \"Count=2590\", \"scene\": \"scene\", \"showlegend\": true, \"type\": \"scatter3d\", \"x\": [\"ALEXANDER\"], \"y\": [2007], \"z\": [2590]}, {\"hoverlabel\": {\"namelength\": 0}, \"hovertemplate\": \"Count=%{marker.color}<br>Name=%{x}<br>YEAR=%{y}\", \"legendgroup\": \"Count=2588\", \"marker\": {\"color\": [2588, 2588], \"coloraxis\": \"coloraxis\", \"symbol\": \"diamond\"}, \"mode\": \"markers\", \"name\": \"Count=2588\", \"scene\": \"scene\", \"showlegend\": true, \"type\": \"scatter3d\", \"x\": [\"DIEGO\", \"DANIEL\"], \"y\": [2007, 2013], \"z\": [2588, 2588]}, {\"hoverlabel\": {\"namelength\": 0}, \"hovertemplate\": \"Count=%{marker.color}<br>Name=%{x}<br>YEAR=%{y}\", \"legendgroup\": \"Count=2573\", \"marker\": {\"color\": [2573], \"coloraxis\": \"coloraxis\", \"symbol\": \"square\"}, \"mode\": \"markers\", \"name\": \"Count=2573\", \"scene\": \"scene\", \"showlegend\": true, \"type\": \"scatter3d\", \"x\": [\"MATTHEW\"], \"y\": [2007], \"z\": [2573]}, {\"hoverlabel\": {\"namelength\": 0}, \"hovertemplate\": \"Count=%{marker.color}<br>Name=%{x}<br>YEAR=%{y}\", \"legendgroup\": \"Count=2544\", \"marker\": {\"color\": [2544], \"coloraxis\": \"coloraxis\", \"symbol\": \"x\"}, \"mode\": \"markers\", \"name\": \"Count=2544\", \"scene\": \"scene\", \"showlegend\": true, \"type\": \"scatter3d\", \"x\": [\"MICHAEL\"], \"y\": [2007], \"z\": [2544]}, {\"hoverlabel\": {\"namelength\": 0}, \"hovertemplate\": \"Count=%{marker.color}<br>Name=%{x}<br>YEAR=%{y}\", \"legendgroup\": \"Count=2503\", \"marker\": {\"color\": [2503], \"coloraxis\": \"coloraxis\", \"symbol\": \"cross\"}, \"mode\": \"markers\", \"name\": \"Count=2503\", \"scene\": \"scene\", \"showlegend\": true, \"type\": \"scatter3d\", \"x\": [\"ETHAN\"], \"y\": [2007], \"z\": [2503]}, {\"hoverlabel\": {\"namelength\": 0}, \"hovertemplate\": \"Count=%{marker.color}<br>Name=%{x}<br>YEAR=%{y}\", \"legendgroup\": \"Count=2489\", \"marker\": {\"color\": [2489], \"coloraxis\": \"coloraxis\", \"symbol\": \"circle\"}, \"mode\": \"markers\", \"name\": \"Count=2489\", \"scene\": \"scene\", \"showlegend\": true, \"type\": \"scatter3d\", \"x\": [\"JONATHAN\"], \"y\": [2007], \"z\": [2489]}, {\"hoverlabel\": {\"namelength\": 0}, \"hovertemplate\": \"Count=%{marker.color}<br>Name=%{x}<br>YEAR=%{y}\", \"legendgroup\": \"Count=2447\", \"marker\": {\"color\": [2447], \"coloraxis\": \"coloraxis\", \"symbol\": \"diamond\"}, \"mode\": \"markers\", \"name\": \"Count=2447\", \"scene\": \"scene\", \"showlegend\": true, \"type\": \"scatter3d\", \"x\": [\"NATHAN\"], \"y\": [2007], \"z\": [2447]}, {\"hoverlabel\": {\"namelength\": 0}, \"hovertemplate\": \"Count=%{marker.color}<br>Name=%{x}<br>YEAR=%{y}\", \"legendgroup\": \"Count=2283\", \"marker\": {\"color\": [2283], \"coloraxis\": \"coloraxis\", \"symbol\": \"square\"}, \"mode\": \"markers\", \"name\": \"Count=2283\", \"scene\": \"scene\", \"showlegend\": true, \"type\": \"scatter3d\", \"x\": [\"JOSEPH\"], \"y\": [2007], \"z\": [2283]}, {\"hoverlabel\": {\"namelength\": 0}, \"hovertemplate\": \"Count=%{marker.color}<br>Name=%{x}<br>YEAR=%{y}\", \"legendgroup\": \"Count=2144\", \"marker\": {\"color\": [2144], \"coloraxis\": \"coloraxis\", \"symbol\": \"x\"}, \"mode\": \"markers\", \"name\": \"Count=2144\", \"scene\": \"scene\", \"showlegend\": true, \"type\": \"scatter3d\", \"x\": [\"ADRIAN\"], \"y\": [2007], \"z\": [2144]}, {\"hoverlabel\": {\"namelength\": 0}, \"hovertemplate\": \"Count=%{marker.color}<br>Name=%{x}<br>YEAR=%{y}\", \"legendgroup\": \"Count=2139\", \"marker\": {\"color\": [2139], \"coloraxis\": \"coloraxis\", \"symbol\": \"cross\"}, \"mode\": \"markers\", \"name\": \"Count=2139\", \"scene\": \"scene\", \"showlegend\": true, \"type\": \"scatter3d\", \"x\": [\"BRANDON\"], \"y\": [2007], \"z\": [2139]}, {\"hoverlabel\": {\"namelength\": 0}, \"hovertemplate\": \"Count=%{marker.color}<br>Name=%{x}<br>YEAR=%{y}\", \"legendgroup\": \"Count=2080\", \"marker\": {\"color\": [2080, 2080], \"coloraxis\": \"coloraxis\", \"symbol\": \"circle\"}, \"mode\": \"markers\", \"name\": \"Count=2080\", \"scene\": \"scene\", \"showlegend\": true, \"type\": \"scatter3d\", \"x\": [\"KEVIN\", \"MICHAEL\"], \"y\": [2007, 2010], \"z\": [2080, 2080]}, {\"hoverlabel\": {\"namelength\": 0}, \"hovertemplate\": \"Count=%{marker.color}<br>Name=%{x}<br>YEAR=%{y}\", \"legendgroup\": \"Count=2056\", \"marker\": {\"color\": [2056], \"coloraxis\": \"coloraxis\", \"symbol\": \"diamond\"}, \"mode\": \"markers\", \"name\": \"Count=2056\", \"scene\": \"scene\", \"showlegend\": true, \"type\": \"scatter3d\", \"x\": [\"CHRISTIAN\"], \"y\": [2007], \"z\": [2056]}, {\"hoverlabel\": {\"namelength\": 0}, \"hovertemplate\": \"Count=%{marker.color}<br>Name=%{x}<br>YEAR=%{y}\", \"legendgroup\": \"Count=1998\", \"marker\": {\"color\": [1998, 1998, 1998], \"coloraxis\": \"coloraxis\", \"symbol\": \"square\"}, \"mode\": \"markers\", \"name\": \"Count=1998\", \"scene\": \"scene\", \"showlegend\": true, \"type\": \"scatter3d\", \"x\": [\"LUIS\", \"SOFIA\", \"ALEXANDER\"], \"y\": [2007, 2015, 2017], \"z\": [1998, 1998, 1998]}, {\"hoverlabel\": {\"namelength\": 0}, \"hovertemplate\": \"Count=%{marker.color}<br>Name=%{x}<br>YEAR=%{y}\", \"legendgroup\": \"Count=1968\", \"marker\": {\"color\": [1968], \"coloraxis\": \"coloraxis\", \"symbol\": \"x\"}, \"mode\": \"markers\", \"name\": \"Count=1968\", \"scene\": \"scene\", \"showlegend\": true, \"type\": \"scatter3d\", \"x\": [\"ISAAC\"], \"y\": [2007], \"z\": [1968]}, {\"hoverlabel\": {\"namelength\": 0}, \"hovertemplate\": \"Count=%{marker.color}<br>Name=%{x}<br>YEAR=%{y}\", \"legendgroup\": \"Count=1966\", \"marker\": {\"color\": [1966], \"coloraxis\": \"coloraxis\", \"symbol\": \"cross\"}, \"mode\": \"markers\", \"name\": \"Count=1966\", \"scene\": \"scene\", \"showlegend\": true, \"type\": \"scatter3d\", \"x\": [\"RYAN\"], \"y\": [2007], \"z\": [1966]}, {\"hoverlabel\": {\"namelength\": 0}, \"hovertemplate\": \"Count=%{marker.color}<br>Name=%{x}<br>YEAR=%{y}\", \"legendgroup\": \"Count=1933\", \"marker\": {\"color\": [1933], \"coloraxis\": \"coloraxis\", \"symbol\": \"circle\"}, \"mode\": \"markers\", \"name\": \"Count=1933\", \"scene\": \"scene\", \"showlegend\": true, \"type\": \"scatter3d\", \"x\": [\"NOAH\"], \"y\": [2007], \"z\": [1933]}, {\"hoverlabel\": {\"namelength\": 0}, \"hovertemplate\": \"Count=%{marker.color}<br>Name=%{x}<br>YEAR=%{y}\", \"legendgroup\": \"Count=2767\", \"marker\": {\"color\": [2767], \"coloraxis\": \"coloraxis\", \"symbol\": \"diamond\"}, \"mode\": \"markers\", \"name\": \"Count=2767\", \"scene\": \"scene\", \"showlegend\": true, \"type\": \"scatter3d\", \"x\": [\"EMILY\"], \"y\": [2008], \"z\": [2767]}, {\"hoverlabel\": {\"namelength\": 0}, \"hovertemplate\": \"Count=%{marker.color}<br>Name=%{x}<br>YEAR=%{y}\", \"legendgroup\": \"Count=2764\", \"marker\": {\"color\": [2764], \"coloraxis\": \"coloraxis\", \"symbol\": \"square\"}, \"mode\": \"markers\", \"name\": \"Count=2764\", \"scene\": \"scene\", \"showlegend\": true, \"type\": \"scatter3d\", \"x\": [\"ISABELLA\"], \"y\": [2008], \"z\": [2764]}, {\"hoverlabel\": {\"namelength\": 0}, \"hovertemplate\": \"Count=%{marker.color}<br>Name=%{x}<br>YEAR=%{y}\", \"legendgroup\": \"Count=2561\", \"marker\": {\"color\": [2561], \"coloraxis\": \"coloraxis\", \"symbol\": \"x\"}, \"mode\": \"markers\", \"name\": \"Count=2561\", \"scene\": \"scene\", \"showlegend\": true, \"type\": \"scatter3d\", \"x\": [\"SOPHIA\"], \"y\": [2008], \"z\": [2561]}, {\"hoverlabel\": {\"namelength\": 0}, \"hovertemplate\": \"Count=%{marker.color}<br>Name=%{x}<br>YEAR=%{y}\", \"legendgroup\": \"Count=2249\", \"marker\": {\"color\": [2249], \"coloraxis\": \"coloraxis\", \"symbol\": \"cross\"}, \"mode\": \"markers\", \"name\": \"Count=2249\", \"scene\": \"scene\", \"showlegend\": true, \"type\": \"scatter3d\", \"x\": [\"SAMANTHA\"], \"y\": [2008], \"z\": [2249]}, {\"hoverlabel\": {\"namelength\": 0}, \"hovertemplate\": \"Count=%{marker.color}<br>Name=%{x}<br>YEAR=%{y}\", \"legendgroup\": \"Count=1870\", \"marker\": {\"color\": [1870], \"coloraxis\": \"coloraxis\", \"symbol\": \"circle\"}, \"mode\": \"markers\", \"name\": \"Count=1870\", \"scene\": \"scene\", \"showlegend\": true, \"type\": \"scatter3d\", \"x\": [\"NATALIE\"], \"y\": [2008], \"z\": [1870]}, {\"hoverlabel\": {\"namelength\": 0}, \"hovertemplate\": \"Count=%{marker.color}<br>Name=%{x}<br>YEAR=%{y}\", \"legendgroup\": \"Count=1834\", \"marker\": {\"color\": [1834], \"coloraxis\": \"coloraxis\", \"symbol\": \"diamond\"}, \"mode\": \"markers\", \"name\": \"Count=1834\", \"scene\": \"scene\", \"showlegend\": true, \"type\": \"scatter3d\", \"x\": [\"MIA\"], \"y\": [2008], \"z\": [1834]}, {\"hoverlabel\": {\"namelength\": 0}, \"hovertemplate\": \"Count=%{marker.color}<br>Name=%{x}<br>YEAR=%{y}\", \"legendgroup\": \"Count=1734\", \"marker\": {\"color\": [1734], \"coloraxis\": \"coloraxis\", \"symbol\": \"square\"}, \"mode\": \"markers\", \"name\": \"Count=1734\", \"scene\": \"scene\", \"showlegend\": true, \"type\": \"scatter3d\", \"x\": [\"EMMA\"], \"y\": [2008], \"z\": [1734]}, {\"hoverlabel\": {\"namelength\": 0}, \"hovertemplate\": \"Count=%{marker.color}<br>Name=%{x}<br>YEAR=%{y}\", \"legendgroup\": \"Count=1564\", \"marker\": {\"color\": [1564], \"coloraxis\": \"coloraxis\", \"symbol\": \"x\"}, \"mode\": \"markers\", \"name\": \"Count=1564\", \"scene\": \"scene\", \"showlegend\": true, \"type\": \"scatter3d\", \"x\": [\"ABIGAIL\"], \"y\": [2008], \"z\": [1564]}, {\"hoverlabel\": {\"namelength\": 0}, \"hovertemplate\": \"Count=%{marker.color}<br>Name=%{x}<br>YEAR=%{y}\", \"legendgroup\": \"Count=1462\", \"marker\": {\"color\": [1462], \"coloraxis\": \"coloraxis\", \"symbol\": \"cross\"}, \"mode\": \"markers\", \"name\": \"Count=1462\", \"scene\": \"scene\", \"showlegend\": true, \"type\": \"scatter3d\", \"x\": [\"AVA\"], \"y\": [2008], \"z\": [1462]}, {\"hoverlabel\": {\"namelength\": 0}, \"hovertemplate\": \"Count=%{marker.color}<br>Name=%{x}<br>YEAR=%{y}\", \"legendgroup\": \"Count=1415\", \"marker\": {\"color\": [1415], \"coloraxis\": \"coloraxis\", \"symbol\": \"circle\"}, \"mode\": \"markers\", \"name\": \"Count=1415\", \"scene\": \"scene\", \"showlegend\": true, \"type\": \"scatter3d\", \"x\": [\"OLIVIA\"], \"y\": [2008], \"z\": [1415]}, {\"hoverlabel\": {\"namelength\": 0}, \"hovertemplate\": \"Count=%{marker.color}<br>Name=%{x}<br>YEAR=%{y}\", \"legendgroup\": \"Count=1404\", \"marker\": {\"color\": [1404, 1404], \"coloraxis\": \"coloraxis\", \"symbol\": \"diamond\"}, \"mode\": \"markers\", \"name\": \"Count=1404\", \"scene\": \"scene\", \"showlegend\": true, \"type\": \"scatter3d\", \"x\": [\"MADISON\", \"AVA\"], \"y\": [2008, 2012], \"z\": [1404, 1404]}, {\"hoverlabel\": {\"namelength\": 0}, \"hovertemplate\": \"Count=%{marker.color}<br>Name=%{x}<br>YEAR=%{y}\", \"legendgroup\": \"Count=1360\", \"marker\": {\"color\": [1360], \"coloraxis\": \"coloraxis\", \"symbol\": \"square\"}, \"mode\": \"markers\", \"name\": \"Count=1360\", \"scene\": \"scene\", \"showlegend\": true, \"type\": \"scatter3d\", \"x\": [\"VALERIA\"], \"y\": [2008], \"z\": [1360]}, {\"hoverlabel\": {\"namelength\": 0}, \"hovertemplate\": \"Count=%{marker.color}<br>Name=%{x}<br>YEAR=%{y}\", \"legendgroup\": \"Count=1353\", \"marker\": {\"color\": [1353], \"coloraxis\": \"coloraxis\", \"symbol\": \"x\"}, \"mode\": \"markers\", \"name\": \"Count=1353\", \"scene\": \"scene\", \"showlegend\": true, \"type\": \"scatter3d\", \"x\": [\"ALYSSA\"], \"y\": [2008], \"z\": [1353]}, {\"hoverlabel\": {\"namelength\": 0}, \"hovertemplate\": \"Count=%{marker.color}<br>Name=%{x}<br>YEAR=%{y}\", \"legendgroup\": \"Count=1346\", \"marker\": {\"color\": [1346], \"coloraxis\": \"coloraxis\", \"symbol\": \"cross\"}, \"mode\": \"markers\", \"name\": \"Count=1346\", \"scene\": \"scene\", \"showlegend\": true, \"type\": \"scatter3d\", \"x\": [\"CHLOE\"], \"y\": [2008], \"z\": [1346]}, {\"hoverlabel\": {\"namelength\": 0}, \"hovertemplate\": \"Count=%{marker.color}<br>Name=%{x}<br>YEAR=%{y}\", \"legendgroup\": \"Count=1315\", \"marker\": {\"color\": [1315], \"coloraxis\": \"coloraxis\", \"symbol\": \"circle\"}, \"mode\": \"markers\", \"name\": \"Count=1315\", \"scene\": \"scene\", \"showlegend\": true, \"type\": \"scatter3d\", \"x\": [\"KIMBERLY\"], \"y\": [2008], \"z\": [1315]}, {\"hoverlabel\": {\"namelength\": 0}, \"hovertemplate\": \"Count=%{marker.color}<br>Name=%{x}<br>YEAR=%{y}\", \"legendgroup\": \"Count=1310\", \"marker\": {\"color\": [1310], \"coloraxis\": \"coloraxis\", \"symbol\": \"diamond\"}, \"mode\": \"markers\", \"name\": \"Count=1310\", \"scene\": \"scene\", \"showlegend\": true, \"type\": \"scatter3d\", \"x\": [\"SOFIA\"], \"y\": [2008], \"z\": [1310]}, {\"hoverlabel\": {\"namelength\": 0}, \"hovertemplate\": \"Count=%{marker.color}<br>Name=%{x}<br>YEAR=%{y}\", \"legendgroup\": \"Count=1230\", \"marker\": {\"color\": [1230], \"coloraxis\": \"coloraxis\", \"symbol\": \"square\"}, \"mode\": \"markers\", \"name\": \"Count=1230\", \"scene\": \"scene\", \"showlegend\": true, \"type\": \"scatter3d\", \"x\": [\"BRIANNA\"], \"y\": [2008], \"z\": [1230]}, {\"hoverlabel\": {\"namelength\": 0}, \"hovertemplate\": \"Count=%{marker.color}<br>Name=%{x}<br>YEAR=%{y}\", \"legendgroup\": \"Count=1139\", \"marker\": {\"color\": [1139], \"coloraxis\": \"coloraxis\", \"symbol\": \"x\"}, \"mode\": \"markers\", \"name\": \"Count=1139\", \"scene\": \"scene\", \"showlegend\": true, \"type\": \"scatter3d\", \"x\": [\"VICTORIA\"], \"y\": [2008], \"z\": [1139]}, {\"hoverlabel\": {\"namelength\": 0}, \"hovertemplate\": \"Count=%{marker.color}<br>Name=%{x}<br>YEAR=%{y}\", \"legendgroup\": \"Count=1101\", \"marker\": {\"color\": [1101], \"coloraxis\": \"coloraxis\", \"symbol\": \"cross\"}, \"mode\": \"markers\", \"name\": \"Count=1101\", \"scene\": \"scene\", \"showlegend\": true, \"type\": \"scatter3d\", \"x\": [\"ANDREA\"], \"y\": [2008], \"z\": [1101]}, {\"hoverlabel\": {\"namelength\": 0}, \"hovertemplate\": \"Count=%{marker.color}<br>Name=%{x}<br>YEAR=%{y}\", \"legendgroup\": \"Count=1088\", \"marker\": {\"color\": [1088], \"coloraxis\": \"coloraxis\", \"symbol\": \"circle\"}, \"mode\": \"markers\", \"name\": \"Count=1088\", \"scene\": \"scene\", \"showlegend\": true, \"type\": \"scatter3d\", \"x\": [\"CAMILA\"], \"y\": [2008], \"z\": [1088]}, {\"hoverlabel\": {\"namelength\": 0}, \"hovertemplate\": \"Count=%{marker.color}<br>Name=%{x}<br>YEAR=%{y}\", \"legendgroup\": \"Count=1084\", \"marker\": {\"color\": [1084], \"coloraxis\": \"coloraxis\", \"symbol\": \"diamond\"}, \"mode\": \"markers\", \"name\": \"Count=1084\", \"scene\": \"scene\", \"showlegend\": true, \"type\": \"scatter3d\", \"x\": [\"JOCELYN\"], \"y\": [2008], \"z\": [1084]}, {\"hoverlabel\": {\"namelength\": 0}, \"hovertemplate\": \"Count=%{marker.color}<br>Name=%{x}<br>YEAR=%{y}\", \"legendgroup\": \"Count=1039\", \"marker\": {\"color\": [1039], \"coloraxis\": \"coloraxis\", \"symbol\": \"square\"}, \"mode\": \"markers\", \"name\": \"Count=1039\", \"scene\": \"scene\", \"showlegend\": true, \"type\": \"scatter3d\", \"x\": [\"JASMINE\"], \"y\": [2008], \"z\": [1039]}, {\"hoverlabel\": {\"namelength\": 0}, \"hovertemplate\": \"Count=%{marker.color}<br>Name=%{x}<br>YEAR=%{y}\", \"legendgroup\": \"Count=1027\", \"marker\": {\"color\": [1027], \"coloraxis\": \"coloraxis\", \"symbol\": \"x\"}, \"mode\": \"markers\", \"name\": \"Count=1027\", \"scene\": \"scene\", \"showlegend\": true, \"type\": \"scatter3d\", \"x\": [\"VANESSA\"], \"y\": [2008], \"z\": [1027]}, {\"hoverlabel\": {\"namelength\": 0}, \"hovertemplate\": \"Count=%{marker.color}<br>Name=%{x}<br>YEAR=%{y}\", \"legendgroup\": \"Count=3722\", \"marker\": {\"color\": [3722], \"coloraxis\": \"coloraxis\", \"symbol\": \"cross\"}, \"mode\": \"markers\", \"name\": \"Count=3722\", \"scene\": \"scene\", \"showlegend\": true, \"type\": \"scatter3d\", \"x\": [\"DANIEL\"], \"y\": [2008], \"z\": [3722]}, {\"hoverlabel\": {\"namelength\": 0}, \"hovertemplate\": \"Count=%{marker.color}<br>Name=%{x}<br>YEAR=%{y}\", \"legendgroup\": \"Count=3623\", \"marker\": {\"color\": [3623], \"coloraxis\": \"coloraxis\", \"symbol\": \"circle\"}, \"mode\": \"markers\", \"name\": \"Count=3623\", \"scene\": \"scene\", \"showlegend\": true, \"type\": \"scatter3d\", \"x\": [\"ANTHONY\"], \"y\": [2008], \"z\": [3623]}, {\"hoverlabel\": {\"namelength\": 0}, \"hovertemplate\": \"Count=%{marker.color}<br>Name=%{x}<br>YEAR=%{y}\", \"legendgroup\": \"Count=3189\", \"marker\": {\"color\": [3189], \"coloraxis\": \"coloraxis\", \"symbol\": \"diamond\"}, \"mode\": \"markers\", \"name\": \"Count=3189\", \"scene\": \"scene\", \"showlegend\": true, \"type\": \"scatter3d\", \"x\": [\"ANGEL\"], \"y\": [2008], \"z\": [3189]}, {\"hoverlabel\": {\"namelength\": 0}, \"hovertemplate\": \"Count=%{marker.color}<br>Name=%{x}<br>YEAR=%{y}\", \"legendgroup\": \"Count=3014\", \"marker\": {\"color\": [3014], \"coloraxis\": \"coloraxis\", \"symbol\": \"square\"}, \"mode\": \"markers\", \"name\": \"Count=3014\", \"scene\": \"scene\", \"showlegend\": true, \"type\": \"scatter3d\", \"x\": [\"JACOB\"], \"y\": [2008], \"z\": [3014]}, {\"hoverlabel\": {\"namelength\": 0}, \"hovertemplate\": \"Count=%{marker.color}<br>Name=%{x}<br>YEAR=%{y}\", \"legendgroup\": \"Count=2895\", \"marker\": {\"color\": [2895], \"coloraxis\": \"coloraxis\", \"symbol\": \"x\"}, \"mode\": \"markers\", \"name\": \"Count=2895\", \"scene\": \"scene\", \"showlegend\": true, \"type\": \"scatter3d\", \"x\": [\"DAVID\"], \"y\": [2008], \"z\": [2895]}, {\"hoverlabel\": {\"namelength\": 0}, \"hovertemplate\": \"Count=%{marker.color}<br>Name=%{x}<br>YEAR=%{y}\", \"legendgroup\": \"Count=2854\", \"marker\": {\"color\": [2854], \"coloraxis\": \"coloraxis\", \"symbol\": \"cross\"}, \"mode\": \"markers\", \"name\": \"Count=2854\", \"scene\": \"scene\", \"showlegend\": true, \"type\": \"scatter3d\", \"x\": [\"ALEXANDER\"], \"y\": [2008], \"z\": [2854]}, {\"hoverlabel\": {\"namelength\": 0}, \"hovertemplate\": \"Count=%{marker.color}<br>Name=%{x}<br>YEAR=%{y}\", \"legendgroup\": \"Count=2825\", \"marker\": {\"color\": [2825], \"coloraxis\": \"coloraxis\", \"symbol\": \"circle\"}, \"mode\": \"markers\", \"name\": \"Count=2825\", \"scene\": \"scene\", \"showlegend\": true, \"type\": \"scatter3d\", \"x\": [\"ANDREW\"], \"y\": [2008], \"z\": [2825]}, {\"hoverlabel\": {\"namelength\": 0}, \"hovertemplate\": \"Count=%{marker.color}<br>Name=%{x}<br>YEAR=%{y}\", \"legendgroup\": \"Count=2734\", \"marker\": {\"color\": [2734, 2734], \"coloraxis\": \"coloraxis\", \"symbol\": \"diamond\"}, \"mode\": \"markers\", \"name\": \"Count=2734\", \"scene\": \"scene\", \"showlegend\": true, \"type\": \"scatter3d\", \"x\": [\"JOSHUA\", \"EMMA\"], \"y\": [2008, 2017], \"z\": [2734, 2734]}, {\"hoverlabel\": {\"namelength\": 0}, \"hovertemplate\": \"Count=%{marker.color}<br>Name=%{x}<br>YEAR=%{y}\", \"legendgroup\": \"Count=2603\", \"marker\": {\"color\": [2603], \"coloraxis\": \"coloraxis\", \"symbol\": \"square\"}, \"mode\": \"markers\", \"name\": \"Count=2603\", \"scene\": \"scene\", \"showlegend\": true, \"type\": \"scatter3d\", \"x\": [\"CHRISTOPHER\"], \"y\": [2008], \"z\": [2603]}, {\"hoverlabel\": {\"namelength\": 0}, \"hovertemplate\": \"Count=%{marker.color}<br>Name=%{x}<br>YEAR=%{y}\", \"legendgroup\": \"Count=2564\", \"marker\": {\"color\": [2564], \"coloraxis\": \"coloraxis\", \"symbol\": \"x\"}, \"mode\": \"markers\", \"name\": \"Count=2564\", \"scene\": \"scene\", \"showlegend\": true, \"type\": \"scatter3d\", \"x\": [\"JOSE\"], \"y\": [2008], \"z\": [2564]}, {\"hoverlabel\": {\"namelength\": 0}, \"hovertemplate\": \"Count=%{marker.color}<br>Name=%{x}<br>YEAR=%{y}\", \"legendgroup\": \"Count=2530\", \"marker\": {\"color\": [2530], \"coloraxis\": \"coloraxis\", \"symbol\": \"cross\"}, \"mode\": \"markers\", \"name\": \"Count=2530\", \"scene\": \"scene\", \"showlegend\": true, \"type\": \"scatter3d\", \"x\": [\"MATTHEW\"], \"y\": [2008], \"z\": [2530]}, {\"hoverlabel\": {\"namelength\": 0}, \"hovertemplate\": \"Count=%{marker.color}<br>Name=%{x}<br>YEAR=%{y}\", \"legendgroup\": \"Count=2514\", \"marker\": {\"color\": [2514], \"coloraxis\": \"coloraxis\", \"symbol\": \"circle\"}, \"mode\": \"markers\", \"name\": \"Count=2514\", \"scene\": \"scene\", \"showlegend\": true, \"type\": \"scatter3d\", \"x\": [\"ETHAN\"], \"y\": [2008], \"z\": [2514]}, {\"hoverlabel\": {\"namelength\": 0}, \"hovertemplate\": \"Count=%{marker.color}<br>Name=%{x}<br>YEAR=%{y}\", \"legendgroup\": \"Count=2513\", \"marker\": {\"color\": [2513, 2513], \"coloraxis\": \"coloraxis\", \"symbol\": \"diamond\"}, \"mode\": \"markers\", \"name\": \"Count=2513\", \"scene\": \"scene\", \"showlegend\": true, \"type\": \"scatter3d\", \"x\": [\"NATHAN\", \"NOAH\"], \"y\": [2008, 2017], \"z\": [2513, 2513]}, {\"hoverlabel\": {\"namelength\": 0}, \"hovertemplate\": \"Count=%{marker.color}<br>Name=%{x}<br>YEAR=%{y}\", \"legendgroup\": \"Count=2495\", \"marker\": {\"color\": [2495], \"coloraxis\": \"coloraxis\", \"symbol\": \"square\"}, \"mode\": \"markers\", \"name\": \"Count=2495\", \"scene\": \"scene\", \"showlegend\": true, \"type\": \"scatter3d\", \"x\": [\"MICHAEL\"], \"y\": [2008], \"z\": [2495]}, {\"hoverlabel\": {\"namelength\": 0}, \"hovertemplate\": \"Count=%{marker.color}<br>Name=%{x}<br>YEAR=%{y}\", \"legendgroup\": \"Count=2302\", \"marker\": {\"color\": [2302], \"coloraxis\": \"coloraxis\", \"symbol\": \"x\"}, \"mode\": \"markers\", \"name\": \"Count=2302\", \"scene\": \"scene\", \"showlegend\": true, \"type\": \"scatter3d\", \"x\": [\"JONATHAN\"], \"y\": [2008], \"z\": [2302]}, {\"hoverlabel\": {\"namelength\": 0}, \"hovertemplate\": \"Count=%{marker.color}<br>Name=%{x}<br>YEAR=%{y}\", \"legendgroup\": \"Count=2201\", \"marker\": {\"color\": [2201], \"coloraxis\": \"coloraxis\", \"symbol\": \"cross\"}, \"mode\": \"markers\", \"name\": \"Count=2201\", \"scene\": \"scene\", \"showlegend\": true, \"type\": \"scatter3d\", \"x\": [\"JOSEPH\"], \"y\": [2008], \"z\": [2201]}, {\"hoverlabel\": {\"namelength\": 0}, \"hovertemplate\": \"Count=%{marker.color}<br>Name=%{x}<br>YEAR=%{y}\", \"legendgroup\": \"Count=2134\", \"marker\": {\"color\": [2134, 2134, 2134], \"coloraxis\": \"coloraxis\", \"symbol\": \"circle\"}, \"mode\": \"markers\", \"name\": \"Count=2134\", \"scene\": \"scene\", \"showlegend\": true, \"type\": \"scatter3d\", \"x\": [\"ADRIAN\", \"ANDREW\", \"DAVID\"], \"y\": [2008, 2012, 2012], \"z\": [2134, 2134, 2134]}, {\"hoverlabel\": {\"namelength\": 0}, \"hovertemplate\": \"Count=%{marker.color}<br>Name=%{x}<br>YEAR=%{y}\", \"legendgroup\": \"Count=2128\", \"marker\": {\"color\": [2128], \"coloraxis\": \"coloraxis\", \"symbol\": \"diamond\"}, \"mode\": \"markers\", \"name\": \"Count=2128\", \"scene\": \"scene\", \"showlegend\": true, \"type\": \"scatter3d\", \"x\": [\"DIEGO\"], \"y\": [2008], \"z\": [2128]}, {\"hoverlabel\": {\"namelength\": 0}, \"hovertemplate\": \"Count=%{marker.color}<br>Name=%{x}<br>YEAR=%{y}\", \"legendgroup\": \"Count=2046\", \"marker\": {\"color\": [2046, 2046], \"coloraxis\": \"coloraxis\", \"symbol\": \"square\"}, \"mode\": \"markers\", \"name\": \"Count=2046\", \"scene\": \"scene\", \"showlegend\": true, \"type\": \"scatter3d\", \"x\": [\"JAYDEN\", \"NOAH\"], \"y\": [2008, 2009], \"z\": [2046, 2046]}, {\"hoverlabel\": {\"namelength\": 0}, \"hovertemplate\": \"Count=%{marker.color}<br>Name=%{x}<br>YEAR=%{y}\", \"legendgroup\": \"Count=2008\", \"marker\": {\"color\": [2008], \"coloraxis\": \"coloraxis\", \"symbol\": \"x\"}, \"mode\": \"markers\", \"name\": \"Count=2008\", \"scene\": \"scene\", \"showlegend\": true, \"type\": \"scatter3d\", \"x\": [\"BRANDON\"], \"y\": [2008], \"z\": [2008]}, {\"hoverlabel\": {\"namelength\": 0}, \"hovertemplate\": \"Count=%{marker.color}<br>Name=%{x}<br>YEAR=%{y}\", \"legendgroup\": \"Count=1961\", \"marker\": {\"color\": [1961, 1961], \"coloraxis\": \"coloraxis\", \"symbol\": \"cross\"}, \"mode\": \"markers\", \"name\": \"Count=1961\", \"scene\": \"scene\", \"showlegend\": true, \"type\": \"scatter3d\", \"x\": [\"ISAAC\", \"SOFIA\"], \"y\": [2008, 2013], \"z\": [1961, 1961]}, {\"hoverlabel\": {\"namelength\": 0}, \"hovertemplate\": \"Count=%{marker.color}<br>Name=%{x}<br>YEAR=%{y}\", \"legendgroup\": \"Count=1928\", \"marker\": {\"color\": [1928, 1928], \"coloraxis\": \"coloraxis\", \"symbol\": \"circle\"}, \"mode\": \"markers\", \"name\": \"Count=1928\", \"scene\": \"scene\", \"showlegend\": true, \"type\": \"scatter3d\", \"x\": [\"NOAH\", \"JULIAN\"], \"y\": [2008, 2011], \"z\": [1928, 1928]}, {\"hoverlabel\": {\"namelength\": 0}, \"hovertemplate\": \"Count=%{marker.color}<br>Name=%{x}<br>YEAR=%{y}\", \"legendgroup\": \"Count=1912\", \"marker\": {\"color\": [1912], \"coloraxis\": \"coloraxis\", \"symbol\": \"diamond\"}, \"mode\": \"markers\", \"name\": \"Count=1912\", \"scene\": \"scene\", \"showlegend\": true, \"type\": \"scatter3d\", \"x\": [\"KEVIN\"], \"y\": [2008], \"z\": [1912]}, {\"hoverlabel\": {\"namelength\": 0}, \"hovertemplate\": \"Count=%{marker.color}<br>Name=%{x}<br>YEAR=%{y}\", \"legendgroup\": \"Count=1879\", \"marker\": {\"color\": [1879], \"coloraxis\": \"coloraxis\", \"symbol\": \"square\"}, \"mode\": \"markers\", \"name\": \"Count=1879\", \"scene\": \"scene\", \"showlegend\": true, \"type\": \"scatter3d\", \"x\": [\"CHRISTIAN\"], \"y\": [2008], \"z\": [1879]}, {\"hoverlabel\": {\"namelength\": 0}, \"hovertemplate\": \"Count=%{marker.color}<br>Name=%{x}<br>YEAR=%{y}\", \"legendgroup\": \"Count=1828\", \"marker\": {\"color\": [1828], \"coloraxis\": \"coloraxis\", \"symbol\": \"x\"}, \"mode\": \"markers\", \"name\": \"Count=1828\", \"scene\": \"scene\", \"showlegend\": true, \"type\": \"scatter3d\", \"x\": [\"RYAN\"], \"y\": [2008], \"z\": [1828]}, {\"hoverlabel\": {\"namelength\": 0}, \"hovertemplate\": \"Count=%{marker.color}<br>Name=%{x}<br>YEAR=%{y}\", \"legendgroup\": \"Count=3139\", \"marker\": {\"color\": [3139], \"coloraxis\": \"coloraxis\", \"symbol\": \"cross\"}, \"mode\": \"markers\", \"name\": \"Count=3139\", \"scene\": \"scene\", \"showlegend\": true, \"type\": \"scatter3d\", \"x\": [\"ISABELLA\"], \"y\": [2009], \"z\": [3139]}, {\"hoverlabel\": {\"namelength\": 0}, \"hovertemplate\": \"Count=%{marker.color}<br>Name=%{x}<br>YEAR=%{y}\", \"legendgroup\": \"Count=2647\", \"marker\": {\"color\": [2647], \"coloraxis\": \"coloraxis\", \"symbol\": \"circle\"}, \"mode\": \"markers\", \"name\": \"Count=2647\", \"scene\": \"scene\", \"showlegend\": true, \"type\": \"scatter3d\", \"x\": [\"SOPHIA\"], \"y\": [2009], \"z\": [2647]}, {\"hoverlabel\": {\"namelength\": 0}, \"hovertemplate\": \"Count=%{marker.color}<br>Name=%{x}<br>YEAR=%{y}\", \"legendgroup\": \"Count=2529\", \"marker\": {\"color\": [2529, 2529], \"coloraxis\": \"coloraxis\", \"symbol\": \"diamond\"}, \"mode\": \"markers\", \"name\": \"Count=2529\", \"scene\": \"scene\", \"showlegend\": true, \"type\": \"scatter3d\", \"x\": [\"EMILY\", \"OLIVIA\"], \"y\": [2009, 2016], \"z\": [2529, 2529]}, {\"hoverlabel\": {\"namelength\": 0}, \"hovertemplate\": \"Count=%{marker.color}<br>Name=%{x}<br>YEAR=%{y}\", \"legendgroup\": \"Count=2098\", \"marker\": {\"color\": [2098], \"coloraxis\": \"coloraxis\", \"symbol\": \"square\"}, \"mode\": \"markers\", \"name\": \"Count=2098\", \"scene\": \"scene\", \"showlegend\": true, \"type\": \"scatter3d\", \"x\": [\"MIA\"], \"y\": [2009], \"z\": [2098]}, {\"hoverlabel\": {\"namelength\": 0}, \"hovertemplate\": \"Count=%{marker.color}<br>Name=%{x}<br>YEAR=%{y}\", \"legendgroup\": \"Count=1829\", \"marker\": {\"color\": [1829], \"coloraxis\": \"coloraxis\", \"symbol\": \"x\"}, \"mode\": \"markers\", \"name\": \"Count=1829\", \"scene\": \"scene\", \"showlegend\": true, \"type\": \"scatter3d\", \"x\": [\"SAMANTHA\"], \"y\": [2009], \"z\": [1829]}, {\"hoverlabel\": {\"namelength\": 0}, \"hovertemplate\": \"Count=%{marker.color}<br>Name=%{x}<br>YEAR=%{y}\", \"legendgroup\": \"Count=1726\", \"marker\": {\"color\": [1726], \"coloraxis\": \"coloraxis\", \"symbol\": \"cross\"}, \"mode\": \"markers\", \"name\": \"Count=1726\", \"scene\": \"scene\", \"showlegend\": true, \"type\": \"scatter3d\", \"x\": [\"NATALIE\"], \"y\": [2009], \"z\": [1726]}, {\"hoverlabel\": {\"namelength\": 0}, \"hovertemplate\": \"Count=%{marker.color}<br>Name=%{x}<br>YEAR=%{y}\", \"legendgroup\": \"Count=1701\", \"marker\": {\"color\": [1701], \"coloraxis\": \"coloraxis\", \"symbol\": \"circle\"}, \"mode\": \"markers\", \"name\": \"Count=1701\", \"scene\": \"scene\", \"showlegend\": true, \"type\": \"scatter3d\", \"x\": [\"EMMA\"], \"y\": [2009], \"z\": [1701]}, {\"hoverlabel\": {\"namelength\": 0}, \"hovertemplate\": \"Count=%{marker.color}<br>Name=%{x}<br>YEAR=%{y}\", \"legendgroup\": \"Count=1546\", \"marker\": {\"color\": [1546], \"coloraxis\": \"coloraxis\", \"symbol\": \"diamond\"}, \"mode\": \"markers\", \"name\": \"Count=1546\", \"scene\": \"scene\", \"showlegend\": true, \"type\": \"scatter3d\", \"x\": [\"ABIGAIL\"], \"y\": [2009], \"z\": [1546]}, {\"hoverlabel\": {\"namelength\": 0}, \"hovertemplate\": \"Count=%{marker.color}<br>Name=%{x}<br>YEAR=%{y}\", \"legendgroup\": \"Count=1544\", \"marker\": {\"color\": [1544, 1544], \"coloraxis\": \"coloraxis\", \"symbol\": \"square\"}, \"mode\": \"markers\", \"name\": \"Count=1544\", \"scene\": \"scene\", \"showlegend\": true, \"type\": \"scatter3d\", \"x\": [\"OLIVIA\", \"ABIGAIL\"], \"y\": [2009, 2017], \"z\": [1544, 1544]}, {\"hoverlabel\": {\"namelength\": 0}, \"hovertemplate\": \"Count=%{marker.color}<br>Name=%{x}<br>YEAR=%{y}\", \"legendgroup\": \"Count=1337\", \"marker\": {\"color\": [1337, 1337], \"coloraxis\": \"coloraxis\", \"symbol\": \"x\"}, \"mode\": \"markers\", \"name\": \"Count=1337\", \"scene\": \"scene\", \"showlegend\": true, \"type\": \"scatter3d\", \"x\": [\"AVA\", \"AVA\"], \"y\": [2009, 2013], \"z\": [1337, 1337]}, {\"hoverlabel\": {\"namelength\": 0}, \"hovertemplate\": \"Count=%{marker.color}<br>Name=%{x}<br>YEAR=%{y}\", \"legendgroup\": \"Count=1303\", \"marker\": {\"color\": [1303], \"coloraxis\": \"coloraxis\", \"symbol\": \"cross\"}, \"mode\": \"markers\", \"name\": \"Count=1303\", \"scene\": \"scene\", \"showlegend\": true, \"type\": \"scatter3d\", \"x\": [\"ELIZABETH\"], \"y\": [2009], \"z\": [1303]}, {\"hoverlabel\": {\"namelength\": 0}, \"hovertemplate\": \"Count=%{marker.color}<br>Name=%{x}<br>YEAR=%{y}\", \"legendgroup\": \"Count=1302\", \"marker\": {\"color\": [1302], \"coloraxis\": \"coloraxis\", \"symbol\": \"circle\"}, \"mode\": \"markers\", \"name\": \"Count=1302\", \"scene\": \"scene\", \"showlegend\": true, \"type\": \"scatter3d\", \"x\": [\"CHLOE\"], \"y\": [2009], \"z\": [1302]}, {\"hoverlabel\": {\"namelength\": 0}, \"hovertemplate\": \"Count=%{marker.color}<br>Name=%{x}<br>YEAR=%{y}\", \"legendgroup\": \"Count=1235\", \"marker\": {\"color\": [1235], \"coloraxis\": \"coloraxis\", \"symbol\": \"diamond\"}, \"mode\": \"markers\", \"name\": \"Count=1235\", \"scene\": \"scene\", \"showlegend\": true, \"type\": \"scatter3d\", \"x\": [\"VALERIA\"], \"y\": [2009], \"z\": [1235]}, {\"hoverlabel\": {\"namelength\": 0}, \"hovertemplate\": \"Count=%{marker.color}<br>Name=%{x}<br>YEAR=%{y}\", \"legendgroup\": \"Count=1222\", \"marker\": {\"color\": [1222], \"coloraxis\": \"coloraxis\", \"symbol\": \"square\"}, \"mode\": \"markers\", \"name\": \"Count=1222\", \"scene\": \"scene\", \"showlegend\": true, \"type\": \"scatter3d\", \"x\": [\"SOFIA\"], \"y\": [2009], \"z\": [1222]}, {\"hoverlabel\": {\"namelength\": 0}, \"hovertemplate\": \"Count=%{marker.color}<br>Name=%{x}<br>YEAR=%{y}\", \"legendgroup\": \"Count=1211\", \"marker\": {\"color\": [1211], \"coloraxis\": \"coloraxis\", \"symbol\": \"x\"}, \"mode\": \"markers\", \"name\": \"Count=1211\", \"scene\": \"scene\", \"showlegend\": true, \"type\": \"scatter3d\", \"x\": [\"MADISON\"], \"y\": [2009], \"z\": [1211]}, {\"hoverlabel\": {\"namelength\": 0}, \"hovertemplate\": \"Count=%{marker.color}<br>Name=%{x}<br>YEAR=%{y}\", \"legendgroup\": \"Count=1186\", \"marker\": {\"color\": [1186], \"coloraxis\": \"coloraxis\", \"symbol\": \"cross\"}, \"mode\": \"markers\", \"name\": \"Count=1186\", \"scene\": \"scene\", \"showlegend\": true, \"type\": \"scatter3d\", \"x\": [\"BRIANNA\"], \"y\": [2009], \"z\": [1186]}, {\"hoverlabel\": {\"namelength\": 0}, \"hovertemplate\": \"Count=%{marker.color}<br>Name=%{x}<br>YEAR=%{y}\", \"legendgroup\": \"Count=1119\", \"marker\": {\"color\": [1119], \"coloraxis\": \"coloraxis\", \"symbol\": \"circle\"}, \"mode\": \"markers\", \"name\": \"Count=1119\", \"scene\": \"scene\", \"showlegend\": true, \"type\": \"scatter3d\", \"x\": [\"KIMBERLY\"], \"y\": [2009], \"z\": [1119]}, {\"hoverlabel\": {\"namelength\": 0}, \"hovertemplate\": \"Count=%{marker.color}<br>Name=%{x}<br>YEAR=%{y}\", \"legendgroup\": \"Count=1044\", \"marker\": {\"color\": [1044], \"coloraxis\": \"coloraxis\", \"symbol\": \"diamond\"}, \"mode\": \"markers\", \"name\": \"Count=1044\", \"scene\": \"scene\", \"showlegend\": true, \"type\": \"scatter3d\", \"x\": [\"ANDREA\"], \"y\": [2009], \"z\": [1044]}, {\"hoverlabel\": {\"namelength\": 0}, \"hovertemplate\": \"Count=%{marker.color}<br>Name=%{x}<br>YEAR=%{y}\", \"legendgroup\": \"Count=1035\", \"marker\": {\"color\": [1035], \"coloraxis\": \"coloraxis\", \"symbol\": \"square\"}, \"mode\": \"markers\", \"name\": \"Count=1035\", \"scene\": \"scene\", \"showlegend\": true, \"type\": \"scatter3d\", \"x\": [\"CAMILA\"], \"y\": [2009], \"z\": [1035]}, {\"hoverlabel\": {\"namelength\": 0}, \"hovertemplate\": \"Count=%{marker.color}<br>Name=%{x}<br>YEAR=%{y}\", \"legendgroup\": \"Count=1020\", \"marker\": {\"color\": [1020], \"coloraxis\": \"coloraxis\", \"symbol\": \"x\"}, \"mode\": \"markers\", \"name\": \"Count=1020\", \"scene\": \"scene\", \"showlegend\": true, \"type\": \"scatter3d\", \"x\": [\"ALEXA\"], \"y\": [2009], \"z\": [1020]}, {\"hoverlabel\": {\"namelength\": 0}, \"hovertemplate\": \"Count=%{marker.color}<br>Name=%{x}<br>YEAR=%{y}\", \"legendgroup\": \"Count=995\", \"marker\": {\"color\": [995], \"coloraxis\": \"coloraxis\", \"symbol\": \"cross\"}, \"mode\": \"markers\", \"name\": \"Count=995\", \"scene\": \"scene\", \"showlegend\": true, \"type\": \"scatter3d\", \"x\": [\"VICTORIA\"], \"y\": [2009], \"z\": [995]}, {\"hoverlabel\": {\"namelength\": 0}, \"hovertemplate\": \"Count=%{marker.color}<br>Name=%{x}<br>YEAR=%{y}\", \"legendgroup\": \"Count=977\", \"marker\": {\"color\": [977, 977], \"coloraxis\": \"coloraxis\", \"symbol\": \"circle\"}, \"mode\": \"markers\", \"name\": \"Count=977\", \"scene\": \"scene\", \"showlegend\": true, \"type\": \"scatter3d\", \"x\": [\"ALEXIS\", \"CHLOE\"], \"y\": [2009, 2016], \"z\": [977, 977]}, {\"hoverlabel\": {\"namelength\": 0}, \"hovertemplate\": \"Count=%{marker.color}<br>Name=%{x}<br>YEAR=%{y}\", \"legendgroup\": \"Count=976\", \"marker\": {\"color\": [976, 976], \"coloraxis\": \"coloraxis\", \"symbol\": \"diamond\"}, \"mode\": \"markers\", \"name\": \"Count=976\", \"scene\": \"scene\", \"showlegend\": true, \"type\": \"scatter3d\", \"x\": [\"EVELYN\", \"EVELYN\"], \"y\": [2009, 2010], \"z\": [976, 976]}, {\"hoverlabel\": {\"namelength\": 0}, \"hovertemplate\": \"Count=%{marker.color}<br>Name=%{x}<br>YEAR=%{y}\", \"legendgroup\": \"Count=3379\", \"marker\": {\"color\": [3379], \"coloraxis\": \"coloraxis\", \"symbol\": \"square\"}, \"mode\": \"markers\", \"name\": \"Count=3379\", \"scene\": \"scene\", \"showlegend\": true, \"type\": \"scatter3d\", \"x\": [\"DANIEL\"], \"y\": [2009], \"z\": [3379]}, {\"hoverlabel\": {\"namelength\": 0}, \"hovertemplate\": \"Count=%{marker.color}<br>Name=%{x}<br>YEAR=%{y}\", \"legendgroup\": \"Count=3073\", \"marker\": {\"color\": [3073, 3073], \"coloraxis\": \"coloraxis\", \"symbol\": \"x\"}, \"mode\": \"markers\", \"name\": \"Count=3073\", \"scene\": \"scene\", \"showlegend\": true, \"type\": \"scatter3d\", \"x\": [\"ANTHONY\", \"ISABELLA\"], \"y\": [2009, 2012], \"z\": [3073, 3073]}, {\"hoverlabel\": {\"namelength\": 0}, \"hovertemplate\": \"Count=%{marker.color}<br>Name=%{x}<br>YEAR=%{y}\", \"legendgroup\": \"Count=3021\", \"marker\": {\"color\": [3021], \"coloraxis\": \"coloraxis\", \"symbol\": \"cross\"}, \"mode\": \"markers\", \"name\": \"Count=3021\", \"scene\": \"scene\", \"showlegend\": true, \"type\": \"scatter3d\", \"x\": [\"ANGEL\"], \"y\": [2009], \"z\": [3021]}, {\"hoverlabel\": {\"namelength\": 0}, \"hovertemplate\": \"Count=%{marker.color}<br>Name=%{x}<br>YEAR=%{y}\", \"legendgroup\": \"Count=2951\", \"marker\": {\"color\": [2951], \"coloraxis\": \"coloraxis\", \"symbol\": \"circle\"}, \"mode\": \"markers\", \"name\": \"Count=2951\", \"scene\": \"scene\", \"showlegend\": true, \"type\": \"scatter3d\", \"x\": [\"JACOB\"], \"y\": [2009], \"z\": [2951]}, {\"hoverlabel\": {\"namelength\": 0}, \"hovertemplate\": \"Count=%{marker.color}<br>Name=%{x}<br>YEAR=%{y}\", \"legendgroup\": \"Count=2863\", \"marker\": {\"color\": [2863], \"coloraxis\": \"coloraxis\", \"symbol\": \"diamond\"}, \"mode\": \"markers\", \"name\": \"Count=2863\", \"scene\": \"scene\", \"showlegend\": true, \"type\": \"scatter3d\", \"x\": [\"ALEXANDER\"], \"y\": [2009], \"z\": [2863]}, {\"hoverlabel\": {\"namelength\": 0}, \"hovertemplate\": \"Count=%{marker.color}<br>Name=%{x}<br>YEAR=%{y}\", \"legendgroup\": \"Count=2663\", \"marker\": {\"color\": [2663], \"coloraxis\": \"coloraxis\", \"symbol\": \"square\"}, \"mode\": \"markers\", \"name\": \"Count=2663\", \"scene\": \"scene\", \"showlegend\": true, \"type\": \"scatter3d\", \"x\": [\"ETHAN\"], \"y\": [2009], \"z\": [2663]}, {\"hoverlabel\": {\"namelength\": 0}, \"hovertemplate\": \"Count=%{marker.color}<br>Name=%{x}<br>YEAR=%{y}\", \"legendgroup\": \"Count=2616\", \"marker\": {\"color\": [2616], \"coloraxis\": \"coloraxis\", \"symbol\": \"x\"}, \"mode\": \"markers\", \"name\": \"Count=2616\", \"scene\": \"scene\", \"showlegend\": true, \"type\": \"scatter3d\", \"x\": [\"DAVID\"], \"y\": [2009], \"z\": [2616]}, {\"hoverlabel\": {\"namelength\": 0}, \"hovertemplate\": \"Count=%{marker.color}<br>Name=%{x}<br>YEAR=%{y}\", \"legendgroup\": \"Count=2575\", \"marker\": {\"color\": [2575], \"coloraxis\": \"coloraxis\", \"symbol\": \"cross\"}, \"mode\": \"markers\", \"name\": \"Count=2575\", \"scene\": \"scene\", \"showlegend\": true, \"type\": \"scatter3d\", \"x\": [\"ANDREW\"], \"y\": [2009], \"z\": [2575]}, {\"hoverlabel\": {\"namelength\": 0}, \"hovertemplate\": \"Count=%{marker.color}<br>Name=%{x}<br>YEAR=%{y}\", \"legendgroup\": \"Count=2415\", \"marker\": {\"color\": [2415], \"coloraxis\": \"coloraxis\", \"symbol\": \"circle\"}, \"mode\": \"markers\", \"name\": \"Count=2415\", \"scene\": \"scene\", \"showlegend\": true, \"type\": \"scatter3d\", \"x\": [\"MATTHEW\"], \"y\": [2009], \"z\": [2415]}, {\"hoverlabel\": {\"namelength\": 0}, \"hovertemplate\": \"Count=%{marker.color}<br>Name=%{x}<br>YEAR=%{y}\", \"legendgroup\": \"Count=2401\", \"marker\": {\"color\": [2401], \"coloraxis\": \"coloraxis\", \"symbol\": \"diamond\"}, \"mode\": \"markers\", \"name\": \"Count=2401\", \"scene\": \"scene\", \"showlegend\": true, \"type\": \"scatter3d\", \"x\": [\"JOSHUA\"], \"y\": [2009], \"z\": [2401]}, {\"hoverlabel\": {\"namelength\": 0}, \"hovertemplate\": \"Count=%{marker.color}<br>Name=%{x}<br>YEAR=%{y}\", \"legendgroup\": \"Count=2384\", \"marker\": {\"color\": [2384, 2384], \"coloraxis\": \"coloraxis\", \"symbol\": \"square\"}, \"mode\": \"markers\", \"name\": \"Count=2384\", \"scene\": \"scene\", \"showlegend\": true, \"type\": \"scatter3d\", \"x\": [\"CHRISTOPHER\", \"ISABELLA\"], \"y\": [2009, 2015], \"z\": [2384, 2384]}, {\"hoverlabel\": {\"namelength\": 0}, \"hovertemplate\": \"Count=%{marker.color}<br>Name=%{x}<br>YEAR=%{y}\", \"legendgroup\": \"Count=2336\", \"marker\": {\"color\": [2336], \"coloraxis\": \"coloraxis\", \"symbol\": \"x\"}, \"mode\": \"markers\", \"name\": \"Count=2336\", \"scene\": \"scene\", \"showlegend\": true, \"type\": \"scatter3d\", \"x\": [\"MICHAEL\"], \"y\": [2009], \"z\": [2336]}, {\"hoverlabel\": {\"namelength\": 0}, \"hovertemplate\": \"Count=%{marker.color}<br>Name=%{x}<br>YEAR=%{y}\", \"legendgroup\": \"Count=2332\", \"marker\": {\"color\": [2332], \"coloraxis\": \"coloraxis\", \"symbol\": \"cross\"}, \"mode\": \"markers\", \"name\": \"Count=2332\", \"scene\": \"scene\", \"showlegend\": true, \"type\": \"scatter3d\", \"x\": [\"NATHAN\"], \"y\": [2009], \"z\": [2332]}, {\"hoverlabel\": {\"namelength\": 0}, \"hovertemplate\": \"Count=%{marker.color}<br>Name=%{x}<br>YEAR=%{y}\", \"legendgroup\": \"Count=2258\", \"marker\": {\"color\": [2258], \"coloraxis\": \"coloraxis\", \"symbol\": \"circle\"}, \"mode\": \"markers\", \"name\": \"Count=2258\", \"scene\": \"scene\", \"showlegend\": true, \"type\": \"scatter3d\", \"x\": [\"JAYDEN\"], \"y\": [2009], \"z\": [2258]}, {\"hoverlabel\": {\"namelength\": 0}, \"hovertemplate\": \"Count=%{marker.color}<br>Name=%{x}<br>YEAR=%{y}\", \"legendgroup\": \"Count=2166\", \"marker\": {\"color\": [2166], \"coloraxis\": \"coloraxis\", \"symbol\": \"diamond\"}, \"mode\": \"markers\", \"name\": \"Count=2166\", \"scene\": \"scene\", \"showlegend\": true, \"type\": \"scatter3d\", \"x\": [\"JOSE\"], \"y\": [2009], \"z\": [2166]}, {\"hoverlabel\": {\"namelength\": 0}, \"hovertemplate\": \"Count=%{marker.color}<br>Name=%{x}<br>YEAR=%{y}\", \"legendgroup\": \"Count=2093\", \"marker\": {\"color\": [2093], \"coloraxis\": \"coloraxis\", \"symbol\": \"square\"}, \"mode\": \"markers\", \"name\": \"Count=2093\", \"scene\": \"scene\", \"showlegend\": true, \"type\": \"scatter3d\", \"x\": [\"ADRIAN\"], \"y\": [2009], \"z\": [2093]}, {\"hoverlabel\": {\"namelength\": 0}, \"hovertemplate\": \"Count=%{marker.color}<br>Name=%{x}<br>YEAR=%{y}\", \"legendgroup\": \"Count=2086\", \"marker\": {\"color\": [2086], \"coloraxis\": \"coloraxis\", \"symbol\": \"x\"}, \"mode\": \"markers\", \"name\": \"Count=2086\", \"scene\": \"scene\", \"showlegend\": true, \"type\": \"scatter3d\", \"x\": [\"JOSEPH\"], \"y\": [2009], \"z\": [2086]}, {\"hoverlabel\": {\"namelength\": 0}, \"hovertemplate\": \"Count=%{marker.color}<br>Name=%{x}<br>YEAR=%{y}\", \"legendgroup\": \"Count=2053\", \"marker\": {\"color\": [2053], \"coloraxis\": \"coloraxis\", \"symbol\": \"cross\"}, \"mode\": \"markers\", \"name\": \"Count=2053\", \"scene\": \"scene\", \"showlegend\": true, \"type\": \"scatter3d\", \"x\": [\"JONATHAN\"], \"y\": [2009], \"z\": [2053]}, {\"hoverlabel\": {\"namelength\": 0}, \"hovertemplate\": \"Count=%{marker.color}<br>Name=%{x}<br>YEAR=%{y}\", \"legendgroup\": \"Count=1846\", \"marker\": {\"color\": [1846], \"coloraxis\": \"coloraxis\", \"symbol\": \"circle\"}, \"mode\": \"markers\", \"name\": \"Count=1846\", \"scene\": \"scene\", \"showlegend\": true, \"type\": \"scatter3d\", \"x\": [\"ISAAC\"], \"y\": [2009], \"z\": [1846]}, {\"hoverlabel\": {\"namelength\": 0}, \"hovertemplate\": \"Count=%{marker.color}<br>Name=%{x}<br>YEAR=%{y}\", \"legendgroup\": \"Count=1797\", \"marker\": {\"color\": [1797], \"coloraxis\": \"coloraxis\", \"symbol\": \"diamond\"}, \"mode\": \"markers\", \"name\": \"Count=1797\", \"scene\": \"scene\", \"showlegend\": true, \"type\": \"scatter3d\", \"x\": [\"AIDEN\"], \"y\": [2009], \"z\": [1797]}, {\"hoverlabel\": {\"namelength\": 0}, \"hovertemplate\": \"Count=%{marker.color}<br>Name=%{x}<br>YEAR=%{y}\", \"legendgroup\": \"Count=1757\", \"marker\": {\"color\": [1757, 1757], \"coloraxis\": \"coloraxis\", \"symbol\": \"square\"}, \"mode\": \"markers\", \"name\": \"Count=1757\", \"scene\": \"scene\", \"showlegend\": true, \"type\": \"scatter3d\", \"x\": [\"CHRISTIAN\", \"JOSEPH\"], \"y\": [2009, 2011], \"z\": [1757, 1757]}, {\"hoverlabel\": {\"namelength\": 0}, \"hovertemplate\": \"Count=%{marker.color}<br>Name=%{x}<br>YEAR=%{y}\", \"legendgroup\": \"Count=1755\", \"marker\": {\"color\": [1755, 1755], \"coloraxis\": \"coloraxis\", \"symbol\": \"x\"}, \"mode\": \"markers\", \"name\": \"Count=1755\", \"scene\": \"scene\", \"showlegend\": true, \"type\": \"scatter3d\", \"x\": [\"JULIAN\", \"ISAAC\"], \"y\": [2009, 2013], \"z\": [1755, 1755]}, {\"hoverlabel\": {\"namelength\": 0}, \"hovertemplate\": \"Count=%{marker.color}<br>Name=%{x}<br>YEAR=%{y}\", \"legendgroup\": \"Count=1727\", \"marker\": {\"color\": [1727], \"coloraxis\": \"coloraxis\", \"symbol\": \"cross\"}, \"mode\": \"markers\", \"name\": \"Count=1727\", \"scene\": \"scene\", \"showlegend\": true, \"type\": \"scatter3d\", \"x\": [\"DIEGO\"], \"y\": [2009], \"z\": [1727]}, {\"hoverlabel\": {\"namelength\": 0}, \"hovertemplate\": \"Count=%{marker.color}<br>Name=%{x}<br>YEAR=%{y}\", \"legendgroup\": \"Count=1718\", \"marker\": {\"color\": [1718], \"coloraxis\": \"coloraxis\", \"symbol\": \"circle\"}, \"mode\": \"markers\", \"name\": \"Count=1718\", \"scene\": \"scene\", \"showlegend\": true, \"type\": \"scatter3d\", \"x\": [\"BRANDON\"], \"y\": [2009], \"z\": [1718]}, {\"hoverlabel\": {\"namelength\": 0}, \"hovertemplate\": \"Count=%{marker.color}<br>Name=%{x}<br>YEAR=%{y}\", \"legendgroup\": \"Count=3341\", \"marker\": {\"color\": [3341], \"coloraxis\": \"coloraxis\", \"symbol\": \"diamond\"}, \"mode\": \"markers\", \"name\": \"Count=3341\", \"scene\": \"scene\", \"showlegend\": true, \"type\": \"scatter3d\", \"x\": [\"ISABELLA\"], \"y\": [2010], \"z\": [3341]}, {\"hoverlabel\": {\"namelength\": 0}, \"hovertemplate\": \"Count=%{marker.color}<br>Name=%{x}<br>YEAR=%{y}\", \"legendgroup\": \"Count=3339\", \"marker\": {\"color\": [3339], \"coloraxis\": \"coloraxis\", \"symbol\": \"square\"}, \"mode\": \"markers\", \"name\": \"Count=3339\", \"scene\": \"scene\", \"showlegend\": true, \"type\": \"scatter3d\", \"x\": [\"SOPHIA\"], \"y\": [2010], \"z\": [3339]}, {\"hoverlabel\": {\"namelength\": 0}, \"hovertemplate\": \"Count=%{marker.color}<br>Name=%{x}<br>YEAR=%{y}\", \"legendgroup\": \"Count=2381\", \"marker\": {\"color\": [2381], \"coloraxis\": \"coloraxis\", \"symbol\": \"x\"}, \"mode\": \"markers\", \"name\": \"Count=2381\", \"scene\": \"scene\", \"showlegend\": true, \"type\": \"scatter3d\", \"x\": [\"EMILY\"], \"y\": [2010], \"z\": [2381]}, {\"hoverlabel\": {\"namelength\": 0}, \"hovertemplate\": \"Count=%{marker.color}<br>Name=%{x}<br>YEAR=%{y}\", \"legendgroup\": \"Count=1999\", \"marker\": {\"color\": [1999], \"coloraxis\": \"coloraxis\", \"symbol\": \"cross\"}, \"mode\": \"markers\", \"name\": \"Count=1999\", \"scene\": \"scene\", \"showlegend\": true, \"type\": \"scatter3d\", \"x\": [\"MIA\"], \"y\": [2010], \"z\": [1999]}, {\"hoverlabel\": {\"namelength\": 0}, \"hovertemplate\": \"Count=%{marker.color}<br>Name=%{x}<br>YEAR=%{y}\", \"legendgroup\": \"Count=1768\", \"marker\": {\"color\": [1768, 1768], \"coloraxis\": \"coloraxis\", \"symbol\": \"circle\"}, \"mode\": \"markers\", \"name\": \"Count=1768\", \"scene\": \"scene\", \"showlegend\": true, \"type\": \"scatter3d\", \"x\": [\"EMMA\", \"CHRISTOPHER\"], \"y\": [2010, 2011], \"z\": [1768, 1768]}, {\"hoverlabel\": {\"namelength\": 0}, \"hovertemplate\": \"Count=%{marker.color}<br>Name=%{x}<br>YEAR=%{y}\", \"legendgroup\": \"Count=1666\", \"marker\": {\"color\": [1666], \"coloraxis\": \"coloraxis\", \"symbol\": \"diamond\"}, \"mode\": \"markers\", \"name\": \"Count=1666\", \"scene\": \"scene\", \"showlegend\": true, \"type\": \"scatter3d\", \"x\": [\"SAMANTHA\"], \"y\": [2010], \"z\": [1666]}, {\"hoverlabel\": {\"namelength\": 0}, \"hovertemplate\": \"Count=%{marker.color}<br>Name=%{x}<br>YEAR=%{y}\", \"legendgroup\": \"Count=1624\", \"marker\": {\"color\": [1624], \"coloraxis\": \"coloraxis\", \"symbol\": \"square\"}, \"mode\": \"markers\", \"name\": \"Count=1624\", \"scene\": \"scene\", \"showlegend\": true, \"type\": \"scatter3d\", \"x\": [\"OLIVIA\"], \"y\": [2010], \"z\": [1624]}, {\"hoverlabel\": {\"namelength\": 0}, \"hovertemplate\": \"Count=%{marker.color}<br>Name=%{x}<br>YEAR=%{y}\", \"legendgroup\": \"Count=1610\", \"marker\": {\"color\": [1610], \"coloraxis\": \"coloraxis\", \"symbol\": \"x\"}, \"mode\": \"markers\", \"name\": \"Count=1610\", \"scene\": \"scene\", \"showlegend\": true, \"type\": \"scatter3d\", \"x\": [\"ABIGAIL\"], \"y\": [2010], \"z\": [1610]}, {\"hoverlabel\": {\"namelength\": 0}, \"hovertemplate\": \"Count=%{marker.color}<br>Name=%{x}<br>YEAR=%{y}\", \"legendgroup\": \"Count=1463\", \"marker\": {\"color\": [1463], \"coloraxis\": \"coloraxis\", \"symbol\": \"cross\"}, \"mode\": \"markers\", \"name\": \"Count=1463\", \"scene\": \"scene\", \"showlegend\": true, \"type\": \"scatter3d\", \"x\": [\"NATALIE\"], \"y\": [2010], \"z\": [1463]}, {\"hoverlabel\": {\"namelength\": 0}, \"hovertemplate\": \"Count=%{marker.color}<br>Name=%{x}<br>YEAR=%{y}\", \"legendgroup\": \"Count=1402\", \"marker\": {\"color\": [1402], \"coloraxis\": \"coloraxis\", \"symbol\": \"circle\"}, \"mode\": \"markers\", \"name\": \"Count=1402\", \"scene\": \"scene\", \"showlegend\": true, \"type\": \"scatter3d\", \"x\": [\"AVA\"], \"y\": [2010], \"z\": [1402]}, {\"hoverlabel\": {\"namelength\": 0}, \"hovertemplate\": \"Count=%{marker.color}<br>Name=%{x}<br>YEAR=%{y}\", \"legendgroup\": \"Count=1388\", \"marker\": {\"color\": [1388], \"coloraxis\": \"coloraxis\", \"symbol\": \"diamond\"}, \"mode\": \"markers\", \"name\": \"Count=1388\", \"scene\": \"scene\", \"showlegend\": true, \"type\": \"scatter3d\", \"x\": [\"SOFIA\"], \"y\": [2010], \"z\": [1388]}, {\"hoverlabel\": {\"namelength\": 0}, \"hovertemplate\": \"Count=%{marker.color}<br>Name=%{x}<br>YEAR=%{y}\", \"legendgroup\": \"Count=1363\", \"marker\": {\"color\": [1363], \"coloraxis\": \"coloraxis\", \"symbol\": \"square\"}, \"mode\": \"markers\", \"name\": \"Count=1363\", \"scene\": \"scene\", \"showlegend\": true, \"type\": \"scatter3d\", \"x\": [\"CHLOE\"], \"y\": [2010], \"z\": [1363]}, {\"hoverlabel\": {\"namelength\": 0}, \"hovertemplate\": \"Count=%{marker.color}<br>Name=%{x}<br>YEAR=%{y}\", \"legendgroup\": \"Count=1307\", \"marker\": {\"color\": [1307], \"coloraxis\": \"coloraxis\", \"symbol\": \"x\"}, \"mode\": \"markers\", \"name\": \"Count=1307\", \"scene\": \"scene\", \"showlegend\": true, \"type\": \"scatter3d\", \"x\": [\"ASHLEY\"], \"y\": [2010], \"z\": [1307]}, {\"hoverlabel\": {\"namelength\": 0}, \"hovertemplate\": \"Count=%{marker.color}<br>Name=%{x}<br>YEAR=%{y}\", \"legendgroup\": \"Count=1206\", \"marker\": {\"color\": [1206], \"coloraxis\": \"coloraxis\", \"symbol\": \"cross\"}, \"mode\": \"markers\", \"name\": \"Count=1206\", \"scene\": \"scene\", \"showlegend\": true, \"type\": \"scatter3d\", \"x\": [\"CAMILA\"], \"y\": [2010], \"z\": [1206]}, {\"hoverlabel\": {\"namelength\": 0}, \"hovertemplate\": \"Count=%{marker.color}<br>Name=%{x}<br>YEAR=%{y}\", \"legendgroup\": \"Count=1115\", \"marker\": {\"color\": [1115], \"coloraxis\": \"coloraxis\", \"symbol\": \"circle\"}, \"mode\": \"markers\", \"name\": \"Count=1115\", \"scene\": \"scene\", \"showlegend\": true, \"type\": \"scatter3d\", \"x\": [\"ELIZABETH\"], \"y\": [2010], \"z\": [1115]}, {\"hoverlabel\": {\"namelength\": 0}, \"hovertemplate\": \"Count=%{marker.color}<br>Name=%{x}<br>YEAR=%{y}\", \"legendgroup\": \"Count=1064\", \"marker\": {\"color\": [1064, 1064, 1064], \"coloraxis\": \"coloraxis\", \"symbol\": \"diamond\"}, \"mode\": \"markers\", \"name\": \"Count=1064\", \"scene\": \"scene\", \"showlegend\": true, \"type\": \"scatter3d\", \"x\": [\"ALYSSA\", \"NATALIE\", \"ARIA\"], \"y\": [2010, 2014, 2017], \"z\": [1064, 1064, 1064]}, {\"hoverlabel\": {\"namelength\": 0}, \"hovertemplate\": \"Count=%{marker.color}<br>Name=%{x}<br>YEAR=%{y}\", \"legendgroup\": \"Count=1062\", \"marker\": {\"color\": [1062], \"coloraxis\": \"coloraxis\", \"symbol\": \"square\"}, \"mode\": \"markers\", \"name\": \"Count=1062\", \"scene\": \"scene\", \"showlegend\": true, \"type\": \"scatter3d\", \"x\": [\"VICTORIA\"], \"y\": [2010], \"z\": [1062]}, {\"hoverlabel\": {\"namelength\": 0}, \"hovertemplate\": \"Count=%{marker.color}<br>Name=%{x}<br>YEAR=%{y}\", \"legendgroup\": \"Count=1046\", \"marker\": {\"color\": [1046], \"coloraxis\": \"coloraxis\", \"symbol\": \"x\"}, \"mode\": \"markers\", \"name\": \"Count=1046\", \"scene\": \"scene\", \"showlegend\": true, \"type\": \"scatter3d\", \"x\": [\"BRIANNA\"], \"y\": [2010], \"z\": [1046]}, {\"hoverlabel\": {\"namelength\": 0}, \"hovertemplate\": \"Count=%{marker.color}<br>Name=%{x}<br>YEAR=%{y}\", \"legendgroup\": \"Count=1032\", \"marker\": {\"color\": [1032], \"coloraxis\": \"coloraxis\", \"symbol\": \"cross\"}, \"mode\": \"markers\", \"name\": \"Count=1032\", \"scene\": \"scene\", \"showlegend\": true, \"type\": \"scatter3d\", \"x\": [\"MADISON\"], \"y\": [2010], \"z\": [1032]}, {\"hoverlabel\": {\"namelength\": 0}, \"hovertemplate\": \"Count=%{marker.color}<br>Name=%{x}<br>YEAR=%{y}\", \"legendgroup\": \"Count=1001\", \"marker\": {\"color\": [1001], \"coloraxis\": \"coloraxis\", \"symbol\": \"circle\"}, \"mode\": \"markers\", \"name\": \"Count=1001\", \"scene\": \"scene\", \"showlegend\": true, \"type\": \"scatter3d\", \"x\": [\"KIMBERLY\"], \"y\": [2010], \"z\": [1001]}, {\"hoverlabel\": {\"namelength\": 0}, \"hovertemplate\": \"Count=%{marker.color}<br>Name=%{x}<br>YEAR=%{y}\", \"legendgroup\": \"Count=975\", \"marker\": {\"color\": [975], \"coloraxis\": \"coloraxis\", \"symbol\": \"diamond\"}, \"mode\": \"markers\", \"name\": \"Count=975\", \"scene\": \"scene\", \"showlegend\": true, \"type\": \"scatter3d\", \"x\": [\"ALEXA\"], \"y\": [2010], \"z\": [975]}, {\"hoverlabel\": {\"namelength\": 0}, \"hovertemplate\": \"Count=%{marker.color}<br>Name=%{x}<br>YEAR=%{y}\", \"legendgroup\": \"Count=971\", \"marker\": {\"color\": [971], \"coloraxis\": \"coloraxis\", \"symbol\": \"square\"}, \"mode\": \"markers\", \"name\": \"Count=971\", \"scene\": \"scene\", \"showlegend\": true, \"type\": \"scatter3d\", \"x\": [\"VALERIA\"], \"y\": [2010], \"z\": [971]}, {\"hoverlabel\": {\"namelength\": 0}, \"hovertemplate\": \"Count=%{marker.color}<br>Name=%{x}<br>YEAR=%{y}\", \"legendgroup\": \"Count=912\", \"marker\": {\"color\": [912], \"coloraxis\": \"coloraxis\", \"symbol\": \"x\"}, \"mode\": \"markers\", \"name\": \"Count=912\", \"scene\": \"scene\", \"showlegend\": true, \"type\": \"scatter3d\", \"x\": [\"HAILEY\"], \"y\": [2010], \"z\": [912]}, {\"hoverlabel\": {\"namelength\": 0}, \"hovertemplate\": \"Count=%{marker.color}<br>Name=%{x}<br>YEAR=%{y}\", \"legendgroup\": \"Count=901\", \"marker\": {\"color\": [901], \"coloraxis\": \"coloraxis\", \"symbol\": \"cross\"}, \"mode\": \"markers\", \"name\": \"Count=901\", \"scene\": \"scene\", \"showlegend\": true, \"type\": \"scatter3d\", \"x\": [\"BELLA\"], \"y\": [2010], \"z\": [901]}, {\"hoverlabel\": {\"namelength\": 0}, \"hovertemplate\": \"Count=%{marker.color}<br>Name=%{x}<br>YEAR=%{y}\", \"legendgroup\": \"Count=3327\", \"marker\": {\"color\": [3327], \"coloraxis\": \"coloraxis\", \"symbol\": \"circle\"}, \"mode\": \"markers\", \"name\": \"Count=3327\", \"scene\": \"scene\", \"showlegend\": true, \"type\": \"scatter3d\", \"x\": [\"JACOB\"], \"y\": [2010], \"z\": [3327]}, {\"hoverlabel\": {\"namelength\": 0}, \"hovertemplate\": \"Count=%{marker.color}<br>Name=%{x}<br>YEAR=%{y}\", \"legendgroup\": \"Count=3120\", \"marker\": {\"color\": [3120], \"coloraxis\": \"coloraxis\", \"symbol\": \"diamond\"}, \"mode\": \"markers\", \"name\": \"Count=3120\", \"scene\": \"scene\", \"showlegend\": true, \"type\": \"scatter3d\", \"x\": [\"DANIEL\"], \"y\": [2010], \"z\": [3120]}, {\"hoverlabel\": {\"namelength\": 0}, \"hovertemplate\": \"Count=%{marker.color}<br>Name=%{x}<br>YEAR=%{y}\", \"legendgroup\": \"Count=2845\", \"marker\": {\"color\": [2845], \"coloraxis\": \"coloraxis\", \"symbol\": \"square\"}, \"mode\": \"markers\", \"name\": \"Count=2845\", \"scene\": \"scene\", \"showlegend\": true, \"type\": \"scatter3d\", \"x\": [\"ANTHONY\"], \"y\": [2010], \"z\": [2845]}, {\"hoverlabel\": {\"namelength\": 0}, \"hovertemplate\": \"Count=%{marker.color}<br>Name=%{x}<br>YEAR=%{y}\", \"legendgroup\": \"Count=2586\", \"marker\": {\"color\": [2586], \"coloraxis\": \"coloraxis\", \"symbol\": \"x\"}, \"mode\": \"markers\", \"name\": \"Count=2586\", \"scene\": \"scene\", \"showlegend\": true, \"type\": \"scatter3d\", \"x\": [\"ALEXANDER\"], \"y\": [2010], \"z\": [2586]}, {\"hoverlabel\": {\"namelength\": 0}, \"hovertemplate\": \"Count=%{marker.color}<br>Name=%{x}<br>YEAR=%{y}\", \"legendgroup\": \"Count=2543\", \"marker\": {\"color\": [2543], \"coloraxis\": \"coloraxis\", \"symbol\": \"cross\"}, \"mode\": \"markers\", \"name\": \"Count=2543\", \"scene\": \"scene\", \"showlegend\": true, \"type\": \"scatter3d\", \"x\": [\"ANGEL\"], \"y\": [2010], \"z\": [2543]}, {\"hoverlabel\": {\"namelength\": 0}, \"hovertemplate\": \"Count=%{marker.color}<br>Name=%{x}<br>YEAR=%{y}\", \"legendgroup\": \"Count=2455\", \"marker\": {\"color\": [2455], \"coloraxis\": \"coloraxis\", \"symbol\": \"circle\"}, \"mode\": \"markers\", \"name\": \"Count=2455\", \"scene\": \"scene\", \"showlegend\": true, \"type\": \"scatter3d\", \"x\": [\"ETHAN\"], \"y\": [2010], \"z\": [2455]}, {\"hoverlabel\": {\"namelength\": 0}, \"hovertemplate\": \"Count=%{marker.color}<br>Name=%{x}<br>YEAR=%{y}\", \"legendgroup\": \"Count=2428\", \"marker\": {\"color\": [2428], \"coloraxis\": \"coloraxis\", \"symbol\": \"diamond\"}, \"mode\": \"markers\", \"name\": \"Count=2428\", \"scene\": \"scene\", \"showlegend\": true, \"type\": \"scatter3d\", \"x\": [\"JAYDEN\"], \"y\": [2010], \"z\": [2428]}, {\"hoverlabel\": {\"namelength\": 0}, \"hovertemplate\": \"Count=%{marker.color}<br>Name=%{x}<br>YEAR=%{y}\", \"legendgroup\": \"Count=2406\", \"marker\": {\"color\": [2406, 2406], \"coloraxis\": \"coloraxis\", \"symbol\": \"square\"}, \"mode\": \"markers\", \"name\": \"Count=2406\", \"scene\": \"scene\", \"showlegend\": true, \"type\": \"scatter3d\", \"x\": [\"DAVID\", \"MATTHEW\"], \"y\": [2010, 2016], \"z\": [2406, 2406]}, {\"hoverlabel\": {\"namelength\": 0}, \"hovertemplate\": \"Count=%{marker.color}<br>Name=%{x}<br>YEAR=%{y}\", \"legendgroup\": \"Count=2371\", \"marker\": {\"color\": [2371], \"coloraxis\": \"coloraxis\", \"symbol\": \"x\"}, \"mode\": \"markers\", \"name\": \"Count=2371\", \"scene\": \"scene\", \"showlegend\": true, \"type\": \"scatter3d\", \"x\": [\"ANDREW\"], \"y\": [2010], \"z\": [2371]}, {\"hoverlabel\": {\"namelength\": 0}, \"hovertemplate\": \"Count=%{marker.color}<br>Name=%{x}<br>YEAR=%{y}\", \"legendgroup\": \"Count=2259\", \"marker\": {\"color\": [2259, 2259], \"coloraxis\": \"coloraxis\", \"symbol\": \"cross\"}, \"mode\": \"markers\", \"name\": \"Count=2259\", \"scene\": \"scene\", \"showlegend\": true, \"type\": \"scatter3d\", \"x\": [\"NATHAN\", \"JACOB\"], \"y\": [2010, 2016], \"z\": [2259, 2259]}, {\"hoverlabel\": {\"namelength\": 0}, \"hovertemplate\": \"Count=%{marker.color}<br>Name=%{x}<br>YEAR=%{y}\", \"legendgroup\": \"Count=2215\", \"marker\": {\"color\": [2215], \"coloraxis\": \"coloraxis\", \"symbol\": \"circle\"}, \"mode\": \"markers\", \"name\": \"Count=2215\", \"scene\": \"scene\", \"showlegend\": true, \"type\": \"scatter3d\", \"x\": [\"MATTHEW\"], \"y\": [2010], \"z\": [2215]}, {\"hoverlabel\": {\"namelength\": 0}, \"hovertemplate\": \"Count=%{marker.color}<br>Name=%{x}<br>YEAR=%{y}\", \"legendgroup\": \"Count=2116\", \"marker\": {\"color\": [2116], \"coloraxis\": \"coloraxis\", \"symbol\": \"diamond\"}, \"mode\": \"markers\", \"name\": \"Count=2116\", \"scene\": \"scene\", \"showlegend\": true, \"type\": \"scatter3d\", \"x\": [\"JOSHUA\"], \"y\": [2010], \"z\": [2116]}, {\"hoverlabel\": {\"namelength\": 0}, \"hovertemplate\": \"Count=%{marker.color}<br>Name=%{x}<br>YEAR=%{y}\", \"legendgroup\": \"Count=2111\", \"marker\": {\"color\": [2111], \"coloraxis\": \"coloraxis\", \"symbol\": \"square\"}, \"mode\": \"markers\", \"name\": \"Count=2111\", \"scene\": \"scene\", \"showlegend\": true, \"type\": \"scatter3d\", \"x\": [\"NOAH\"], \"y\": [2010], \"z\": [2111]}, {\"hoverlabel\": {\"namelength\": 0}, \"hovertemplate\": \"Count=%{marker.color}<br>Name=%{x}<br>YEAR=%{y}\", \"legendgroup\": \"Count=2021\", \"marker\": {\"color\": [2021], \"coloraxis\": \"coloraxis\", \"symbol\": \"x\"}, \"mode\": \"markers\", \"name\": \"Count=2021\", \"scene\": \"scene\", \"showlegend\": true, \"type\": \"scatter3d\", \"x\": [\"CHRISTOPHER\"], \"y\": [2010], \"z\": [2021]}, {\"hoverlabel\": {\"namelength\": 0}, \"hovertemplate\": \"Count=%{marker.color}<br>Name=%{x}<br>YEAR=%{y}\", \"legendgroup\": \"Count=1980\", \"marker\": {\"color\": [1980], \"coloraxis\": \"coloraxis\", \"symbol\": \"cross\"}, \"mode\": \"markers\", \"name\": \"Count=1980\", \"scene\": \"scene\", \"showlegend\": true, \"type\": \"scatter3d\", \"x\": [\"JONATHAN\"], \"y\": [2010], \"z\": [1980]}, {\"hoverlabel\": {\"namelength\": 0}, \"hovertemplate\": \"Count=%{marker.color}<br>Name=%{x}<br>YEAR=%{y}\", \"legendgroup\": \"Count=1957\", \"marker\": {\"color\": [1957], \"coloraxis\": \"coloraxis\", \"symbol\": \"circle\"}, \"mode\": \"markers\", \"name\": \"Count=1957\", \"scene\": \"scene\", \"showlegend\": true, \"type\": \"scatter3d\", \"x\": [\"ADRIAN\"], \"y\": [2010], \"z\": [1957]}, {\"hoverlabel\": {\"namelength\": 0}, \"hovertemplate\": \"Count=%{marker.color}<br>Name=%{x}<br>YEAR=%{y}\", \"legendgroup\": \"Count=1931\", \"marker\": {\"color\": [1931], \"coloraxis\": \"coloraxis\", \"symbol\": \"diamond\"}, \"mode\": \"markers\", \"name\": \"Count=1931\", \"scene\": \"scene\", \"showlegend\": true, \"type\": \"scatter3d\", \"x\": [\"AIDEN\"], \"y\": [2010], \"z\": [1931]}, {\"hoverlabel\": {\"namelength\": 0}, \"hovertemplate\": \"Count=%{marker.color}<br>Name=%{x}<br>YEAR=%{y}\", \"legendgroup\": \"Count=1921\", \"marker\": {\"color\": [1921], \"coloraxis\": \"coloraxis\", \"symbol\": \"square\"}, \"mode\": \"markers\", \"name\": \"Count=1921\", \"scene\": \"scene\", \"showlegend\": true, \"type\": \"scatter3d\", \"x\": [\"JOSE\"], \"y\": [2010], \"z\": [1921]}, {\"hoverlabel\": {\"namelength\": 0}, \"hovertemplate\": \"Count=%{marker.color}<br>Name=%{x}<br>YEAR=%{y}\", \"legendgroup\": \"Count=1902\", \"marker\": {\"color\": [1902], \"coloraxis\": \"coloraxis\", \"symbol\": \"x\"}, \"mode\": \"markers\", \"name\": \"Count=1902\", \"scene\": \"scene\", \"showlegend\": true, \"type\": \"scatter3d\", \"x\": [\"JULIAN\"], \"y\": [2010], \"z\": [1902]}, {\"hoverlabel\": {\"namelength\": 0}, \"hovertemplate\": \"Count=%{marker.color}<br>Name=%{x}<br>YEAR=%{y}\", \"legendgroup\": \"Count=1848\", \"marker\": {\"color\": [1848], \"coloraxis\": \"coloraxis\", \"symbol\": \"cross\"}, \"mode\": \"markers\", \"name\": \"Count=1848\", \"scene\": \"scene\", \"showlegend\": true, \"type\": \"scatter3d\", \"x\": [\"JOSEPH\"], \"y\": [2010], \"z\": [1848]}, {\"hoverlabel\": {\"namelength\": 0}, \"hovertemplate\": \"Count=%{marker.color}<br>Name=%{x}<br>YEAR=%{y}\", \"legendgroup\": \"Count=1763\", \"marker\": {\"color\": [1763], \"coloraxis\": \"coloraxis\", \"symbol\": \"circle\"}, \"mode\": \"markers\", \"name\": \"Count=1763\", \"scene\": \"scene\", \"showlegend\": true, \"type\": \"scatter3d\", \"x\": [\"ISAAC\"], \"y\": [2010], \"z\": [1763]}, {\"hoverlabel\": {\"namelength\": 0}, \"hovertemplate\": \"Count=%{marker.color}<br>Name=%{x}<br>YEAR=%{y}\", \"legendgroup\": \"Count=1628\", \"marker\": {\"color\": [1628, 1628], \"coloraxis\": \"coloraxis\", \"symbol\": \"diamond\"}, \"mode\": \"markers\", \"name\": \"Count=1628\", \"scene\": \"scene\", \"showlegend\": true, \"type\": \"scatter3d\", \"x\": [\"GABRIEL\", \"LUCAS\"], \"y\": [2010, 2016], \"z\": [1628, 1628]}, {\"hoverlabel\": {\"namelength\": 0}, \"hovertemplate\": \"Count=%{marker.color}<br>Name=%{x}<br>YEAR=%{y}\", \"legendgroup\": \"Count=1592\", \"marker\": {\"color\": [1592], \"coloraxis\": \"coloraxis\", \"symbol\": \"square\"}, \"mode\": \"markers\", \"name\": \"Count=1592\", \"scene\": \"scene\", \"showlegend\": true, \"type\": \"scatter3d\", \"x\": [\"CHRISTIAN\"], \"y\": [2010], \"z\": [1592]}, {\"hoverlabel\": {\"namelength\": 0}, \"hovertemplate\": \"Count=%{marker.color}<br>Name=%{x}<br>YEAR=%{y}\", \"legendgroup\": \"Count=1560\", \"marker\": {\"color\": [1560], \"coloraxis\": \"coloraxis\", \"symbol\": \"x\"}, \"mode\": \"markers\", \"name\": \"Count=1560\", \"scene\": \"scene\", \"showlegend\": true, \"type\": \"scatter3d\", \"x\": [\"BRANDON\"], \"y\": [2010], \"z\": [1560]}, {\"hoverlabel\": {\"namelength\": 0}, \"hovertemplate\": \"Count=%{marker.color}<br>Name=%{x}<br>YEAR=%{y}\", \"legendgroup\": \"Count=3540\", \"marker\": {\"color\": [3540], \"coloraxis\": \"coloraxis\", \"symbol\": \"cross\"}, \"mode\": \"markers\", \"name\": \"Count=3540\", \"scene\": \"scene\", \"showlegend\": true, \"type\": \"scatter3d\", \"x\": [\"SOPHIA\"], \"y\": [2011], \"z\": [3540]}, {\"hoverlabel\": {\"namelength\": 0}, \"hovertemplate\": \"Count=%{marker.color}<br>Name=%{x}<br>YEAR=%{y}\", \"legendgroup\": \"Count=3032\", \"marker\": {\"color\": [3032], \"coloraxis\": \"coloraxis\", \"symbol\": \"circle\"}, \"mode\": \"markers\", \"name\": \"Count=3032\", \"scene\": \"scene\", \"showlegend\": true, \"type\": \"scatter3d\", \"x\": [\"ISABELLA\"], \"y\": [2011], \"z\": [3032]}, {\"hoverlabel\": {\"namelength\": 0}, \"hovertemplate\": \"Count=%{marker.color}<br>Name=%{x}<br>YEAR=%{y}\", \"legendgroup\": \"Count=2387\", \"marker\": {\"color\": [2387], \"coloraxis\": \"coloraxis\", \"symbol\": \"diamond\"}, \"mode\": \"markers\", \"name\": \"Count=2387\", \"scene\": \"scene\", \"showlegend\": true, \"type\": \"scatter3d\", \"x\": [\"EMILY\"], \"y\": [2011], \"z\": [2387]}, {\"hoverlabel\": {\"namelength\": 0}, \"hovertemplate\": \"Count=%{marker.color}<br>Name=%{x}<br>YEAR=%{y}\", \"legendgroup\": \"Count=2291\", \"marker\": {\"color\": [2291], \"coloraxis\": \"coloraxis\", \"symbol\": \"square\"}, \"mode\": \"markers\", \"name\": \"Count=2291\", \"scene\": \"scene\", \"showlegend\": true, \"type\": \"scatter3d\", \"x\": [\"MIA\"], \"y\": [2011], \"z\": [2291]}, {\"hoverlabel\": {\"namelength\": 0}, \"hovertemplate\": \"Count=%{marker.color}<br>Name=%{x}<br>YEAR=%{y}\", \"legendgroup\": \"Count=2107\", \"marker\": {\"color\": [2107], \"coloraxis\": \"coloraxis\", \"symbol\": \"x\"}, \"mode\": \"markers\", \"name\": \"Count=2107\", \"scene\": \"scene\", \"showlegend\": true, \"type\": \"scatter3d\", \"x\": [\"EMMA\"], \"y\": [2011], \"z\": [2107]}, {\"hoverlabel\": {\"namelength\": 0}, \"hovertemplate\": \"Count=%{marker.color}<br>Name=%{x}<br>YEAR=%{y}\", \"legendgroup\": \"Count=1780\", \"marker\": {\"color\": [1780], \"coloraxis\": \"coloraxis\", \"symbol\": \"cross\"}, \"mode\": \"markers\", \"name\": \"Count=1780\", \"scene\": \"scene\", \"showlegend\": true, \"type\": \"scatter3d\", \"x\": [\"OLIVIA\"], \"y\": [2011], \"z\": [1780]}, {\"hoverlabel\": {\"namelength\": 0}, \"hovertemplate\": \"Count=%{marker.color}<br>Name=%{x}<br>YEAR=%{y}\", \"legendgroup\": \"Count=1555\", \"marker\": {\"color\": [1555], \"coloraxis\": \"coloraxis\", \"symbol\": \"circle\"}, \"mode\": \"markers\", \"name\": \"Count=1555\", \"scene\": \"scene\", \"showlegend\": true, \"type\": \"scatter3d\", \"x\": [\"SOFIA\"], \"y\": [2011], \"z\": [1555]}, {\"hoverlabel\": {\"namelength\": 0}, \"hovertemplate\": \"Count=%{marker.color}<br>Name=%{x}<br>YEAR=%{y}\", \"legendgroup\": \"Count=1553\", \"marker\": {\"color\": [1553, 1553], \"coloraxis\": \"coloraxis\", \"symbol\": \"diamond\"}, \"mode\": \"markers\", \"name\": \"Count=1553\", \"scene\": \"scene\", \"showlegend\": true, \"type\": \"scatter3d\", \"x\": [\"ABIGAIL\", \"DAVID\"], \"y\": [2011, 2017], \"z\": [1553, 1553]}, {\"hoverlabel\": {\"namelength\": 0}, \"hovertemplate\": \"Count=%{marker.color}<br>Name=%{x}<br>YEAR=%{y}\", \"legendgroup\": \"Count=1539\", \"marker\": {\"color\": [1539], \"coloraxis\": \"coloraxis\", \"symbol\": \"square\"}, \"mode\": \"markers\", \"name\": \"Count=1539\", \"scene\": \"scene\", \"showlegend\": true, \"type\": \"scatter3d\", \"x\": [\"SAMANTHA\"], \"y\": [2011], \"z\": [1539]}, {\"hoverlabel\": {\"namelength\": 0}, \"hovertemplate\": \"Count=%{marker.color}<br>Name=%{x}<br>YEAR=%{y}\", \"legendgroup\": \"Count=1484\", \"marker\": {\"color\": [1484], \"coloraxis\": \"coloraxis\", \"symbol\": \"x\"}, \"mode\": \"markers\", \"name\": \"Count=1484\", \"scene\": \"scene\", \"showlegend\": true, \"type\": \"scatter3d\", \"x\": [\"NATALIE\"], \"y\": [2011], \"z\": [1484]}, {\"hoverlabel\": {\"namelength\": 0}, \"hovertemplate\": \"Count=%{marker.color}<br>Name=%{x}<br>YEAR=%{y}\", \"legendgroup\": \"Count=1438\", \"marker\": {\"color\": [1438], \"coloraxis\": \"coloraxis\", \"symbol\": \"cross\"}, \"mode\": \"markers\", \"name\": \"Count=1438\", \"scene\": \"scene\", \"showlegend\": true, \"type\": \"scatter3d\", \"x\": [\"CAMILA\"], \"y\": [2011], \"z\": [1438]}, {\"hoverlabel\": {\"namelength\": 0}, \"hovertemplate\": \"Count=%{marker.color}<br>Name=%{x}<br>YEAR=%{y}\", \"legendgroup\": \"Count=1370\", \"marker\": {\"color\": [1370, 1370], \"coloraxis\": \"coloraxis\", \"symbol\": \"circle\"}, \"mode\": \"markers\", \"name\": \"Count=1370\", \"scene\": \"scene\", \"showlegend\": true, \"type\": \"scatter3d\", \"x\": [\"AVA\", \"VICTORIA\"], \"y\": [2011, 2013], \"z\": [1370, 1370]}, {\"hoverlabel\": {\"namelength\": 0}, \"hovertemplate\": \"Count=%{marker.color}<br>Name=%{x}<br>YEAR=%{y}\", \"legendgroup\": \"Count=1270\", \"marker\": {\"color\": [1270], \"coloraxis\": \"coloraxis\", \"symbol\": \"diamond\"}, \"mode\": \"markers\", \"name\": \"Count=1270\", \"scene\": \"scene\", \"showlegend\": true, \"type\": \"scatter3d\", \"x\": [\"CHLOE\"], \"y\": [2011], \"z\": [1270]}, {\"hoverlabel\": {\"namelength\": 0}, \"hovertemplate\": \"Count=%{marker.color}<br>Name=%{x}<br>YEAR=%{y}\", \"legendgroup\": \"Count=1268\", \"marker\": {\"color\": [1268], \"coloraxis\": \"coloraxis\", \"symbol\": \"square\"}, \"mode\": \"markers\", \"name\": \"Count=1268\", \"scene\": \"scene\", \"showlegend\": true, \"type\": \"scatter3d\", \"x\": [\"VICTORIA\"], \"y\": [2011], \"z\": [1268]}, {\"hoverlabel\": {\"namelength\": 0}, \"hovertemplate\": \"Count=%{marker.color}<br>Name=%{x}<br>YEAR=%{y}\", \"legendgroup\": \"Count=1196\", \"marker\": {\"color\": [1196], \"coloraxis\": \"coloraxis\", \"symbol\": \"x\"}, \"mode\": \"markers\", \"name\": \"Count=1196\", \"scene\": \"scene\", \"showlegend\": true, \"type\": \"scatter3d\", \"x\": [\"ELIZABETH\"], \"y\": [2011], \"z\": [1196]}, {\"hoverlabel\": {\"namelength\": 0}, \"hovertemplate\": \"Count=%{marker.color}<br>Name=%{x}<br>YEAR=%{y}\", \"legendgroup\": \"Count=1147\", \"marker\": {\"color\": [1147], \"coloraxis\": \"coloraxis\", \"symbol\": \"cross\"}, \"mode\": \"markers\", \"name\": \"Count=1147\", \"scene\": \"scene\", \"showlegend\": true, \"type\": \"scatter3d\", \"x\": [\"ASHLEY\"], \"y\": [2011], \"z\": [1147]}, {\"hoverlabel\": {\"namelength\": 0}, \"hovertemplate\": \"Count=%{marker.color}<br>Name=%{x}<br>YEAR=%{y}\", \"legendgroup\": \"Count=1100\", \"marker\": {\"color\": [1100], \"coloraxis\": \"coloraxis\", \"symbol\": \"circle\"}, \"mode\": \"markers\", \"name\": \"Count=1100\", \"scene\": \"scene\", \"showlegend\": true, \"type\": \"scatter3d\", \"x\": [\"MADISON\"], \"y\": [2011], \"z\": [1100]}, {\"hoverlabel\": {\"namelength\": 0}, \"hovertemplate\": \"Count=%{marker.color}<br>Name=%{x}<br>YEAR=%{y}\", \"legendgroup\": \"Count=1054\", \"marker\": {\"color\": [1054], \"coloraxis\": \"coloraxis\", \"symbol\": \"diamond\"}, \"mode\": \"markers\", \"name\": \"Count=1054\", \"scene\": \"scene\", \"showlegend\": true, \"type\": \"scatter3d\", \"x\": [\"EVELYN\"], \"y\": [2011], \"z\": [1054]}, {\"hoverlabel\": {\"namelength\": 0}, \"hovertemplate\": \"Count=%{marker.color}<br>Name=%{x}<br>YEAR=%{y}\", \"legendgroup\": \"Count=988\", \"marker\": {\"color\": [988], \"coloraxis\": \"coloraxis\", \"symbol\": \"square\"}, \"mode\": \"markers\", \"name\": \"Count=988\", \"scene\": \"scene\", \"showlegend\": true, \"type\": \"scatter3d\", \"x\": [\"KIMBERLY\"], \"y\": [2011], \"z\": [988]}, {\"hoverlabel\": {\"namelength\": 0}, \"hovertemplate\": \"Count=%{marker.color}<br>Name=%{x}<br>YEAR=%{y}\", \"legendgroup\": \"Count=931\", \"marker\": {\"color\": [931], \"coloraxis\": \"coloraxis\", \"symbol\": \"x\"}, \"mode\": \"markers\", \"name\": \"Count=931\", \"scene\": \"scene\", \"showlegend\": true, \"type\": \"scatter3d\", \"x\": [\"ALYSSA\"], \"y\": [2011], \"z\": [931]}, {\"hoverlabel\": {\"namelength\": 0}, \"hovertemplate\": \"Count=%{marker.color}<br>Name=%{x}<br>YEAR=%{y}\", \"legendgroup\": \"Count=928\", \"marker\": {\"color\": [928], \"coloraxis\": \"coloraxis\", \"symbol\": \"cross\"}, \"mode\": \"markers\", \"name\": \"Count=928\", \"scene\": \"scene\", \"showlegend\": true, \"type\": \"scatter3d\", \"x\": [\"HAILEY\"], \"y\": [2011], \"z\": [928]}, {\"hoverlabel\": {\"namelength\": 0}, \"hovertemplate\": \"Count=%{marker.color}<br>Name=%{x}<br>YEAR=%{y}\", \"legendgroup\": \"Count=924\", \"marker\": {\"color\": [924], \"coloraxis\": \"coloraxis\", \"symbol\": \"circle\"}, \"mode\": \"markers\", \"name\": \"Count=924\", \"scene\": \"scene\", \"showlegend\": true, \"type\": \"scatter3d\", \"x\": [\"ANDREA\"], \"y\": [2011], \"z\": [924]}, {\"hoverlabel\": {\"namelength\": 0}, \"hovertemplate\": \"Count=%{marker.color}<br>Name=%{x}<br>YEAR=%{y}\", \"legendgroup\": \"Count=908\", \"marker\": {\"color\": [908, 908], \"coloraxis\": \"coloraxis\", \"symbol\": \"diamond\"}, \"mode\": \"markers\", \"name\": \"Count=908\", \"scene\": \"scene\", \"showlegend\": true, \"type\": \"scatter3d\", \"x\": [\"ELLA\", \"CHARLOTTE\"], \"y\": [2011, 2012], \"z\": [908, 908]}, {\"hoverlabel\": {\"namelength\": 0}, \"hovertemplate\": \"Count=%{marker.color}<br>Name=%{x}<br>YEAR=%{y}\", \"legendgroup\": \"Count=898\", \"marker\": {\"color\": [898], \"coloraxis\": \"coloraxis\", \"symbol\": \"square\"}, \"mode\": \"markers\", \"name\": \"Count=898\", \"scene\": \"scene\", \"showlegend\": true, \"type\": \"scatter3d\", \"x\": [\"ALEXA\"], \"y\": [2011], \"z\": [898]}, {\"hoverlabel\": {\"namelength\": 0}, \"hovertemplate\": \"Count=%{marker.color}<br>Name=%{x}<br>YEAR=%{y}\", \"legendgroup\": \"Count=896\", \"marker\": {\"color\": [896], \"coloraxis\": \"coloraxis\", \"symbol\": \"x\"}, \"mode\": \"markers\", \"name\": \"Count=896\", \"scene\": \"scene\", \"showlegend\": true, \"type\": \"scatter3d\", \"x\": [\"ZOE\"], \"y\": [2011], \"z\": [896]}, {\"hoverlabel\": {\"namelength\": 0}, \"hovertemplate\": \"Count=%{marker.color}<br>Name=%{x}<br>YEAR=%{y}\", \"legendgroup\": \"Count=3148\", \"marker\": {\"color\": [3148], \"coloraxis\": \"coloraxis\", \"symbol\": \"cross\"}, \"mode\": \"markers\", \"name\": \"Count=3148\", \"scene\": \"scene\", \"showlegend\": true, \"type\": \"scatter3d\", \"x\": [\"JACOB\"], \"y\": [2011], \"z\": [3148]}, {\"hoverlabel\": {\"namelength\": 0}, \"hovertemplate\": \"Count=%{marker.color}<br>Name=%{x}<br>YEAR=%{y}\", \"legendgroup\": \"Count=2872\", \"marker\": {\"color\": [2872], \"coloraxis\": \"coloraxis\", \"symbol\": \"circle\"}, \"mode\": \"markers\", \"name\": \"Count=2872\", \"scene\": \"scene\", \"showlegend\": true, \"type\": \"scatter3d\", \"x\": [\"DANIEL\"], \"y\": [2011], \"z\": [2872]}, {\"hoverlabel\": {\"namelength\": 0}, \"hovertemplate\": \"Count=%{marker.color}<br>Name=%{x}<br>YEAR=%{y}\", \"legendgroup\": \"Count=2741\", \"marker\": {\"color\": [2741], \"coloraxis\": \"coloraxis\", \"symbol\": \"diamond\"}, \"mode\": \"markers\", \"name\": \"Count=2741\", \"scene\": \"scene\", \"showlegend\": true, \"type\": \"scatter3d\", \"x\": [\"JAYDEN\"], \"y\": [2011], \"z\": [2741]}, {\"hoverlabel\": {\"namelength\": 0}, \"hovertemplate\": \"Count=%{marker.color}<br>Name=%{x}<br>YEAR=%{y}\", \"legendgroup\": \"Count=2676\", \"marker\": {\"color\": [2676], \"coloraxis\": \"coloraxis\", \"symbol\": \"square\"}, \"mode\": \"markers\", \"name\": \"Count=2676\", \"scene\": \"scene\", \"showlegend\": true, \"type\": \"scatter3d\", \"x\": [\"ANTHONY\"], \"y\": [2011], \"z\": [2676]}, {\"hoverlabel\": {\"namelength\": 0}, \"hovertemplate\": \"Count=%{marker.color}<br>Name=%{x}<br>YEAR=%{y}\", \"legendgroup\": \"Count=2456\", \"marker\": {\"color\": [2456], \"coloraxis\": \"coloraxis\", \"symbol\": \"x\"}, \"mode\": \"markers\", \"name\": \"Count=2456\", \"scene\": \"scene\", \"showlegend\": true, \"type\": \"scatter3d\", \"x\": [\"MATTHEW\"], \"y\": [2011], \"z\": [2456]}, {\"hoverlabel\": {\"namelength\": 0}, \"hovertemplate\": \"Count=%{marker.color}<br>Name=%{x}<br>YEAR=%{y}\", \"legendgroup\": \"Count=2449\", \"marker\": {\"color\": [2449], \"coloraxis\": \"coloraxis\", \"symbol\": \"cross\"}, \"mode\": \"markers\", \"name\": \"Count=2449\", \"scene\": \"scene\", \"showlegend\": true, \"type\": \"scatter3d\", \"x\": [\"ALEXANDER\"], \"y\": [2011], \"z\": [2449]}, {\"hoverlabel\": {\"namelength\": 0}, \"hovertemplate\": \"Count=%{marker.color}<br>Name=%{x}<br>YEAR=%{y}\", \"legendgroup\": \"Count=2288\", \"marker\": {\"color\": [2288], \"coloraxis\": \"coloraxis\", \"symbol\": \"circle\"}, \"mode\": \"markers\", \"name\": \"Count=2288\", \"scene\": \"scene\", \"showlegend\": true, \"type\": \"scatter3d\", \"x\": [\"DAVID\"], \"y\": [2011], \"z\": [2288]}, {\"hoverlabel\": {\"namelength\": 0}, \"hovertemplate\": \"Count=%{marker.color}<br>Name=%{x}<br>YEAR=%{y}\", \"legendgroup\": \"Count=2276\", \"marker\": {\"color\": [2276], \"coloraxis\": \"coloraxis\", \"symbol\": \"diamond\"}, \"mode\": \"markers\", \"name\": \"Count=2276\", \"scene\": \"scene\", \"showlegend\": true, \"type\": \"scatter3d\", \"x\": [\"ANDREW\"], \"y\": [2011], \"z\": [2276]}, {\"hoverlabel\": {\"namelength\": 0}, \"hovertemplate\": \"Count=%{marker.color}<br>Name=%{x}<br>YEAR=%{y}\", \"legendgroup\": \"Count=2241\", \"marker\": {\"color\": [2241], \"coloraxis\": \"coloraxis\", \"symbol\": \"square\"}, \"mode\": \"markers\", \"name\": \"Count=2241\", \"scene\": \"scene\", \"showlegend\": true, \"type\": \"scatter3d\", \"x\": [\"NATHAN\"], \"y\": [2011], \"z\": [2241]}, {\"hoverlabel\": {\"namelength\": 0}, \"hovertemplate\": \"Count=%{marker.color}<br>Name=%{x}<br>YEAR=%{y}\", \"legendgroup\": \"Count=2214\", \"marker\": {\"color\": [2214], \"coloraxis\": \"coloraxis\", \"symbol\": \"x\"}, \"mode\": \"markers\", \"name\": \"Count=2214\", \"scene\": \"scene\", \"showlegend\": true, \"type\": \"scatter3d\", \"x\": [\"NOAH\"], \"y\": [2011], \"z\": [2214]}, {\"hoverlabel\": {\"namelength\": 0}, \"hovertemplate\": \"Count=%{marker.color}<br>Name=%{x}<br>YEAR=%{y}\", \"legendgroup\": \"Count=2152\", \"marker\": {\"color\": [2152], \"coloraxis\": \"coloraxis\", \"symbol\": \"cross\"}, \"mode\": \"markers\", \"name\": \"Count=2152\", \"scene\": \"scene\", \"showlegend\": true, \"type\": \"scatter3d\", \"x\": [\"ANGEL\"], \"y\": [2011], \"z\": [2152]}, {\"hoverlabel\": {\"namelength\": 0}, \"hovertemplate\": \"Count=%{marker.color}<br>Name=%{x}<br>YEAR=%{y}\", \"legendgroup\": \"Count=2090\", \"marker\": {\"color\": [2090], \"coloraxis\": \"coloraxis\", \"symbol\": \"circle\"}, \"mode\": \"markers\", \"name\": \"Count=2090\", \"scene\": \"scene\", \"showlegend\": true, \"type\": \"scatter3d\", \"x\": [\"MICHAEL\"], \"y\": [2011], \"z\": [2090]}, {\"hoverlabel\": {\"namelength\": 0}, \"hovertemplate\": \"Count=%{marker.color}<br>Name=%{x}<br>YEAR=%{y}\", \"legendgroup\": \"Count=1899\", \"marker\": {\"color\": [1899, 1899], \"coloraxis\": \"coloraxis\", \"symbol\": \"diamond\"}, \"mode\": \"markers\", \"name\": \"Count=1899\", \"scene\": \"scene\", \"showlegend\": true, \"type\": \"scatter3d\", \"x\": [\"AIDEN\", \"JOSHUA\"], \"y\": [2011, 2011], \"z\": [1899, 1899]}, {\"hoverlabel\": {\"namelength\": 0}, \"hovertemplate\": \"Count=%{marker.color}<br>Name=%{x}<br>YEAR=%{y}\", \"legendgroup\": \"Count=1867\", \"marker\": {\"color\": [1867], \"coloraxis\": \"coloraxis\", \"symbol\": \"square\"}, \"mode\": \"markers\", \"name\": \"Count=1867\", \"scene\": \"scene\", \"showlegend\": true, \"type\": \"scatter3d\", \"x\": [\"JONATHAN\"], \"y\": [2011], \"z\": [1867]}, {\"hoverlabel\": {\"namelength\": 0}, \"hovertemplate\": \"Count=%{marker.color}<br>Name=%{x}<br>YEAR=%{y}\", \"legendgroup\": \"Count=1861\", \"marker\": {\"color\": [1861], \"coloraxis\": \"coloraxis\", \"symbol\": \"x\"}, \"mode\": \"markers\", \"name\": \"Count=1861\", \"scene\": \"scene\", \"showlegend\": true, \"type\": \"scatter3d\", \"x\": [\"ISAAC\"], \"y\": [2011], \"z\": [1861]}, {\"hoverlabel\": {\"namelength\": 0}, \"hovertemplate\": \"Count=%{marker.color}<br>Name=%{x}<br>YEAR=%{y}\", \"legendgroup\": \"Count=1823\", \"marker\": {\"color\": [1823, 1823], \"coloraxis\": \"coloraxis\", \"symbol\": \"cross\"}, \"mode\": \"markers\", \"name\": \"Count=1823\", \"scene\": \"scene\", \"showlegend\": true, \"type\": \"scatter3d\", \"x\": [\"MASON\", \"MASON\"], \"y\": [2011, 2012], \"z\": [1823, 1823]}, {\"hoverlabel\": {\"namelength\": 0}, \"hovertemplate\": \"Count=%{marker.color}<br>Name=%{x}<br>YEAR=%{y}\", \"legendgroup\": \"Count=1804\", \"marker\": {\"color\": [1804], \"coloraxis\": \"coloraxis\", \"symbol\": \"circle\"}, \"mode\": \"markers\", \"name\": \"Count=1804\", \"scene\": \"scene\", \"showlegend\": true, \"type\": \"scatter3d\", \"x\": [\"ADRIAN\"], \"y\": [2011], \"z\": [1804]}, {\"hoverlabel\": {\"namelength\": 0}, \"hovertemplate\": \"Count=%{marker.color}<br>Name=%{x}<br>YEAR=%{y}\", \"legendgroup\": \"Count=1663\", \"marker\": {\"color\": [1663, 1663], \"coloraxis\": \"coloraxis\", \"symbol\": \"diamond\"}, \"mode\": \"markers\", \"name\": \"Count=1663\", \"scene\": \"scene\", \"showlegend\": true, \"type\": \"scatter3d\", \"x\": [\"JOSE\", \"BENJAMIN\"], \"y\": [2011, 2012], \"z\": [1663, 1663]}, {\"hoverlabel\": {\"namelength\": 0}, \"hovertemplate\": \"Count=%{marker.color}<br>Name=%{x}<br>YEAR=%{y}\", \"legendgroup\": \"Count=1582\", \"marker\": {\"color\": [1582], \"coloraxis\": \"coloraxis\", \"symbol\": \"square\"}, \"mode\": \"markers\", \"name\": \"Count=1582\", \"scene\": \"scene\", \"showlegend\": true, \"type\": \"scatter3d\", \"x\": [\"BENJAMIN\"], \"y\": [2011], \"z\": [1582]}, {\"hoverlabel\": {\"namelength\": 0}, \"hovertemplate\": \"Count=%{marker.color}<br>Name=%{x}<br>YEAR=%{y}\", \"legendgroup\": \"Count=1525\", \"marker\": {\"color\": [1525, 1525], \"coloraxis\": \"coloraxis\", \"symbol\": \"x\"}, \"mode\": \"markers\", \"name\": \"Count=1525\", \"scene\": \"scene\", \"showlegend\": true, \"type\": \"scatter3d\", \"x\": [\"AARON\", \"ANGEL\"], \"y\": [2011, 2015], \"z\": [1525, 1525]}, {\"hoverlabel\": {\"namelength\": 0}, \"hovertemplate\": \"Count=%{marker.color}<br>Name=%{x}<br>YEAR=%{y}\", \"legendgroup\": \"Count=3610\", \"marker\": {\"color\": [3610], \"coloraxis\": \"coloraxis\", \"symbol\": \"cross\"}, \"mode\": \"markers\", \"name\": \"Count=3610\", \"scene\": \"scene\", \"showlegend\": true, \"type\": \"scatter3d\", \"x\": [\"SOPHIA\"], \"y\": [2012], \"z\": [3610]}, {\"hoverlabel\": {\"namelength\": 0}, \"hovertemplate\": \"Count=%{marker.color}<br>Name=%{x}<br>YEAR=%{y}\", \"legendgroup\": \"Count=2423\", \"marker\": {\"color\": [2423], \"coloraxis\": \"coloraxis\", \"symbol\": \"circle\"}, \"mode\": \"markers\", \"name\": \"Count=2423\", \"scene\": \"scene\", \"showlegend\": true, \"type\": \"scatter3d\", \"x\": [\"EMMA\"], \"y\": [2012], \"z\": [2423]}, {\"hoverlabel\": {\"namelength\": 0}, \"hovertemplate\": \"Count=%{marker.color}<br>Name=%{x}<br>YEAR=%{y}\", \"legendgroup\": \"Count=2416\", \"marker\": {\"color\": [2416], \"coloraxis\": \"coloraxis\", \"symbol\": \"diamond\"}, \"mode\": \"markers\", \"name\": \"Count=2416\", \"scene\": \"scene\", \"showlegend\": true, \"type\": \"scatter3d\", \"x\": [\"EMILY\"], \"y\": [2012], \"z\": [2416]}, {\"hoverlabel\": {\"namelength\": 0}, \"hovertemplate\": \"Count=%{marker.color}<br>Name=%{x}<br>YEAR=%{y}\", \"legendgroup\": \"Count=2307\", \"marker\": {\"color\": [2307], \"coloraxis\": \"coloraxis\", \"symbol\": \"square\"}, \"mode\": \"markers\", \"name\": \"Count=2307\", \"scene\": \"scene\", \"showlegend\": true, \"type\": \"scatter3d\", \"x\": [\"MIA\"], \"y\": [2012], \"z\": [2307]}, {\"hoverlabel\": {\"namelength\": 0}, \"hovertemplate\": \"Count=%{marker.color}<br>Name=%{x}<br>YEAR=%{y}\", \"legendgroup\": \"Count=1894\", \"marker\": {\"color\": [1894], \"coloraxis\": \"coloraxis\", \"symbol\": \"x\"}, \"mode\": \"markers\", \"name\": \"Count=1894\", \"scene\": \"scene\", \"showlegend\": true, \"type\": \"scatter3d\", \"x\": [\"OLIVIA\"], \"y\": [2012], \"z\": [1894]}, {\"hoverlabel\": {\"namelength\": 0}, \"hovertemplate\": \"Count=%{marker.color}<br>Name=%{x}<br>YEAR=%{y}\", \"legendgroup\": \"Count=1669\", \"marker\": {\"color\": [1669], \"coloraxis\": \"coloraxis\", \"symbol\": \"cross\"}, \"mode\": \"markers\", \"name\": \"Count=1669\", \"scene\": \"scene\", \"showlegend\": true, \"type\": \"scatter3d\", \"x\": [\"SOFIA\"], \"y\": [2012], \"z\": [1669]}, {\"hoverlabel\": {\"namelength\": 0}, \"hovertemplate\": \"Count=%{marker.color}<br>Name=%{x}<br>YEAR=%{y}\", \"legendgroup\": \"Count=1638\", \"marker\": {\"color\": [1638], \"coloraxis\": \"coloraxis\", \"symbol\": \"circle\"}, \"mode\": \"markers\", \"name\": \"Count=1638\", \"scene\": \"scene\", \"showlegend\": true, \"type\": \"scatter3d\", \"x\": [\"ABIGAIL\"], \"y\": [2012], \"z\": [1638]}, {\"hoverlabel\": {\"namelength\": 0}, \"hovertemplate\": \"Count=%{marker.color}<br>Name=%{x}<br>YEAR=%{y}\", \"legendgroup\": \"Count=1440\", \"marker\": {\"color\": [1440], \"coloraxis\": \"coloraxis\", \"symbol\": \"diamond\"}, \"mode\": \"markers\", \"name\": \"Count=1440\", \"scene\": \"scene\", \"showlegend\": true, \"type\": \"scatter3d\", \"x\": [\"SAMANTHA\"], \"y\": [2012], \"z\": [1440]}, {\"hoverlabel\": {\"namelength\": 0}, \"hovertemplate\": \"Count=%{marker.color}<br>Name=%{x}<br>YEAR=%{y}\", \"legendgroup\": \"Count=1394\", \"marker\": {\"color\": [1394], \"coloraxis\": \"coloraxis\", \"symbol\": \"square\"}, \"mode\": \"markers\", \"name\": \"Count=1394\", \"scene\": \"scene\", \"showlegend\": true, \"type\": \"scatter3d\", \"x\": [\"CAMILA\"], \"y\": [2012], \"z\": [1394]}, {\"hoverlabel\": {\"namelength\": 0}, \"hovertemplate\": \"Count=%{marker.color}<br>Name=%{x}<br>YEAR=%{y}\", \"legendgroup\": \"Count=1289\", \"marker\": {\"color\": [1289], \"coloraxis\": \"coloraxis\", \"symbol\": \"x\"}, \"mode\": \"markers\", \"name\": \"Count=1289\", \"scene\": \"scene\", \"showlegend\": true, \"type\": \"scatter3d\", \"x\": [\"VICTORIA\"], \"y\": [2012], \"z\": [1289]}, {\"hoverlabel\": {\"namelength\": 0}, \"hovertemplate\": \"Count=%{marker.color}<br>Name=%{x}<br>YEAR=%{y}\", \"legendgroup\": \"Count=1288\", \"marker\": {\"color\": [1288], \"coloraxis\": \"coloraxis\", \"symbol\": \"cross\"}, \"mode\": \"markers\", \"name\": \"Count=1288\", \"scene\": \"scene\", \"showlegend\": true, \"type\": \"scatter3d\", \"x\": [\"NATALIE\"], \"y\": [2012], \"z\": [1288]}, {\"hoverlabel\": {\"namelength\": 0}, \"hovertemplate\": \"Count=%{marker.color}<br>Name=%{x}<br>YEAR=%{y}\", \"legendgroup\": \"Count=1094\", \"marker\": {\"color\": [1094], \"coloraxis\": \"coloraxis\", \"symbol\": \"circle\"}, \"mode\": \"markers\", \"name\": \"Count=1094\", \"scene\": \"scene\", \"showlegend\": true, \"type\": \"scatter3d\", \"x\": [\"ELIZABETH\"], \"y\": [2012], \"z\": [1094]}, {\"hoverlabel\": {\"namelength\": 0}, \"hovertemplate\": \"Count=%{marker.color}<br>Name=%{x}<br>YEAR=%{y}\", \"legendgroup\": \"Count=1091\", \"marker\": {\"color\": [1091], \"coloraxis\": \"coloraxis\", \"symbol\": \"diamond\"}, \"mode\": \"markers\", \"name\": \"Count=1091\", \"scene\": \"scene\", \"showlegend\": true, \"type\": \"scatter3d\", \"x\": [\"CHLOE\"], \"y\": [2012], \"z\": [1091]}, {\"hoverlabel\": {\"namelength\": 0}, \"hovertemplate\": \"Count=%{marker.color}<br>Name=%{x}<br>YEAR=%{y}\", \"legendgroup\": \"Count=1037\", \"marker\": {\"color\": [1037], \"coloraxis\": \"coloraxis\", \"symbol\": \"square\"}, \"mode\": \"markers\", \"name\": \"Count=1037\", \"scene\": \"scene\", \"showlegend\": true, \"type\": \"scatter3d\", \"x\": [\"EVELYN\"], \"y\": [2012], \"z\": [1037]}, {\"hoverlabel\": {\"namelength\": 0}, \"hovertemplate\": \"Count=%{marker.color}<br>Name=%{x}<br>YEAR=%{y}\", \"legendgroup\": \"Count=1029\", \"marker\": {\"color\": [1029, 1029], \"coloraxis\": \"coloraxis\", \"symbol\": \"x\"}, \"mode\": \"markers\", \"name\": \"Count=1029\", \"scene\": \"scene\", \"showlegend\": true, \"type\": \"scatter3d\", \"x\": [\"GENESIS\", \"MADISON\"], \"y\": [2012, 2015], \"z\": [1029, 1029]}, {\"hoverlabel\": {\"namelength\": 0}, \"hovertemplate\": \"Count=%{marker.color}<br>Name=%{x}<br>YEAR=%{y}\", \"legendgroup\": \"Count=997\", \"marker\": {\"color\": [997], \"coloraxis\": \"coloraxis\", \"symbol\": \"cross\"}, \"mode\": \"markers\", \"name\": \"Count=997\", \"scene\": \"scene\", \"showlegend\": true, \"type\": \"scatter3d\", \"x\": [\"ASHLEY\"], \"y\": [2012], \"z\": [997]}, {\"hoverlabel\": {\"namelength\": 0}, \"hovertemplate\": \"Count=%{marker.color}<br>Name=%{x}<br>YEAR=%{y}\", \"legendgroup\": \"Count=985\", \"marker\": {\"color\": [985, 985], \"coloraxis\": \"coloraxis\", \"symbol\": \"circle\"}, \"mode\": \"markers\", \"name\": \"Count=985\", \"scene\": \"scene\", \"showlegend\": true, \"type\": \"scatter3d\", \"x\": [\"MADISON\", \"MADISON\"], \"y\": [2012, 2014], \"z\": [985, 985]}, {\"hoverlabel\": {\"namelength\": 0}, \"hovertemplate\": \"Count=%{marker.color}<br>Name=%{x}<br>YEAR=%{y}\", \"legendgroup\": \"Count=980\", \"marker\": {\"color\": [980], \"coloraxis\": \"coloraxis\", \"symbol\": \"diamond\"}, \"mode\": \"markers\", \"name\": \"Count=980\", \"scene\": \"scene\", \"showlegend\": true, \"type\": \"scatter3d\", \"x\": [\"ZOE\"], \"y\": [2012], \"z\": [980]}, {\"hoverlabel\": {\"namelength\": 0}, \"hovertemplate\": \"Count=%{marker.color}<br>Name=%{x}<br>YEAR=%{y}\", \"legendgroup\": \"Count=897\", \"marker\": {\"color\": [897, 897], \"coloraxis\": \"coloraxis\", \"symbol\": \"square\"}, \"mode\": \"markers\", \"name\": \"Count=897\", \"scene\": \"scene\", \"showlegend\": true, \"type\": \"scatter3d\", \"x\": [\"HAILEY\", \"ALLISON\"], \"y\": [2012, 2015], \"z\": [897, 897]}, {\"hoverlabel\": {\"namelength\": 0}, \"hovertemplate\": \"Count=%{marker.color}<br>Name=%{x}<br>YEAR=%{y}\", \"legendgroup\": \"Count=885\", \"marker\": {\"color\": [885], \"coloraxis\": \"coloraxis\", \"symbol\": \"x\"}, \"mode\": \"markers\", \"name\": \"Count=885\", \"scene\": \"scene\", \"showlegend\": true, \"type\": \"scatter3d\", \"x\": [\"MELANIE\"], \"y\": [2012], \"z\": [885]}, {\"hoverlabel\": {\"namelength\": 0}, \"hovertemplate\": \"Count=%{marker.color}<br>Name=%{x}<br>YEAR=%{y}\", \"legendgroup\": \"Count=854\", \"marker\": {\"color\": [854], \"coloraxis\": \"coloraxis\", \"symbol\": \"cross\"}, \"mode\": \"markers\", \"name\": \"Count=854\", \"scene\": \"scene\", \"showlegend\": true, \"type\": \"scatter3d\", \"x\": [\"AUDREY\"], \"y\": [2012], \"z\": [854]}, {\"hoverlabel\": {\"namelength\": 0}, \"hovertemplate\": \"Count=%{marker.color}<br>Name=%{x}<br>YEAR=%{y}\", \"legendgroup\": \"Count=847\", \"marker\": {\"color\": [847], \"coloraxis\": \"coloraxis\", \"symbol\": \"circle\"}, \"mode\": \"markers\", \"name\": \"Count=847\", \"scene\": \"scene\", \"showlegend\": true, \"type\": \"scatter3d\", \"x\": [\"KIMBERLY\"], \"y\": [2012], \"z\": [847]}, {\"hoverlabel\": {\"namelength\": 0}, \"hovertemplate\": \"Count=%{marker.color}<br>Name=%{x}<br>YEAR=%{y}\", \"legendgroup\": \"Count=2955\", \"marker\": {\"color\": [2955], \"coloraxis\": \"coloraxis\", \"symbol\": \"diamond\"}, \"mode\": \"markers\", \"name\": \"Count=2955\", \"scene\": \"scene\", \"showlegend\": true, \"type\": \"scatter3d\", \"x\": [\"JACOB\"], \"y\": [2012], \"z\": [2955]}, {\"hoverlabel\": {\"namelength\": 0}, \"hovertemplate\": \"Count=%{marker.color}<br>Name=%{x}<br>YEAR=%{y}\", \"legendgroup\": \"Count=2848\", \"marker\": {\"color\": [2848], \"coloraxis\": \"coloraxis\", \"symbol\": \"square\"}, \"mode\": \"markers\", \"name\": \"Count=2848\", \"scene\": \"scene\", \"showlegend\": true, \"type\": \"scatter3d\", \"x\": [\"JAYDEN\"], \"y\": [2012], \"z\": [2848]}, {\"hoverlabel\": {\"namelength\": 0}, \"hovertemplate\": \"Count=%{marker.color}<br>Name=%{x}<br>YEAR=%{y}\", \"legendgroup\": \"Count=2659\", \"marker\": {\"color\": [2659], \"coloraxis\": \"coloraxis\", \"symbol\": \"x\"}, \"mode\": \"markers\", \"name\": \"Count=2659\", \"scene\": \"scene\", \"showlegend\": true, \"type\": \"scatter3d\", \"x\": [\"ETHAN\"], \"y\": [2012], \"z\": [2659]}, {\"hoverlabel\": {\"namelength\": 0}, \"hovertemplate\": \"Count=%{marker.color}<br>Name=%{x}<br>YEAR=%{y}\", \"legendgroup\": \"Count=2654\", \"marker\": {\"color\": [2654], \"coloraxis\": \"coloraxis\", \"symbol\": \"cross\"}, \"mode\": \"markers\", \"name\": \"Count=2654\", \"scene\": \"scene\", \"showlegend\": true, \"type\": \"scatter3d\", \"x\": [\"DANIEL\"], \"y\": [2012], \"z\": [2654]}, {\"hoverlabel\": {\"namelength\": 0}, \"hovertemplate\": \"Count=%{marker.color}<br>Name=%{x}<br>YEAR=%{y}\", \"legendgroup\": \"Count=2623\", \"marker\": {\"color\": [2623], \"coloraxis\": \"coloraxis\", \"symbol\": \"circle\"}, \"mode\": \"markers\", \"name\": \"Count=2623\", \"scene\": \"scene\", \"showlegend\": true, \"type\": \"scatter3d\", \"x\": [\"MATTHEW\"], \"y\": [2012], \"z\": [2623]}, {\"hoverlabel\": {\"namelength\": 0}, \"hovertemplate\": \"Count=%{marker.color}<br>Name=%{x}<br>YEAR=%{y}\", \"legendgroup\": \"Count=2491\", \"marker\": {\"color\": [2491], \"coloraxis\": \"coloraxis\", \"symbol\": \"diamond\"}, \"mode\": \"markers\", \"name\": \"Count=2491\", \"scene\": \"scene\", \"showlegend\": true, \"type\": \"scatter3d\", \"x\": [\"NOAH\"], \"y\": [2012], \"z\": [2491]}, {\"hoverlabel\": {\"namelength\": 0}, \"hovertemplate\": \"Count=%{marker.color}<br>Name=%{x}<br>YEAR=%{y}\", \"legendgroup\": \"Count=2412\", \"marker\": {\"color\": [2412], \"coloraxis\": \"coloraxis\", \"symbol\": \"square\"}, \"mode\": \"markers\", \"name\": \"Count=2412\", \"scene\": \"scene\", \"showlegend\": true, \"type\": \"scatter3d\", \"x\": [\"ALEXANDER\"], \"y\": [2012], \"z\": [2412]}, {\"hoverlabel\": {\"namelength\": 0}, \"hovertemplate\": \"Count=%{marker.color}<br>Name=%{x}<br>YEAR=%{y}\", \"legendgroup\": \"Count=2408\", \"marker\": {\"color\": [2408], \"coloraxis\": \"coloraxis\", \"symbol\": \"x\"}, \"mode\": \"markers\", \"name\": \"Count=2408\", \"scene\": \"scene\", \"showlegend\": true, \"type\": \"scatter3d\", \"x\": [\"ANTHONY\"], \"y\": [2012], \"z\": [2408]}, {\"hoverlabel\": {\"namelength\": 0}, \"hovertemplate\": \"Count=%{marker.color}<br>Name=%{x}<br>YEAR=%{y}\", \"legendgroup\": \"Count=2230\", \"marker\": {\"color\": [2230], \"coloraxis\": \"coloraxis\", \"symbol\": \"cross\"}, \"mode\": \"markers\", \"name\": \"Count=2230\", \"scene\": \"scene\", \"showlegend\": true, \"type\": \"scatter3d\", \"x\": [\"NATHAN\"], \"y\": [2012], \"z\": [2230]}, {\"hoverlabel\": {\"namelength\": 0}, \"hovertemplate\": \"Count=%{marker.color}<br>Name=%{x}<br>YEAR=%{y}\", \"legendgroup\": \"Count=1985\", \"marker\": {\"color\": [1985, 1985], \"coloraxis\": \"coloraxis\", \"symbol\": \"circle\"}, \"mode\": \"markers\", \"name\": \"Count=1985\", \"scene\": \"scene\", \"showlegend\": true, \"type\": \"scatter3d\", \"x\": [\"MICHAEL\", \"MICHAEL\"], \"y\": [2012, 2014], \"z\": [1985, 1985]}, {\"hoverlabel\": {\"namelength\": 0}, \"hovertemplate\": \"Count=%{marker.color}<br>Name=%{x}<br>YEAR=%{y}\", \"legendgroup\": \"Count=1979\", \"marker\": {\"color\": [1979], \"coloraxis\": \"coloraxis\", \"symbol\": \"diamond\"}, \"mode\": \"markers\", \"name\": \"Count=1979\", \"scene\": \"scene\", \"showlegend\": true, \"type\": \"scatter3d\", \"x\": [\"AIDEN\"], \"y\": [2012], \"z\": [1979]}, {\"hoverlabel\": {\"namelength\": 0}, \"hovertemplate\": \"Count=%{marker.color}<br>Name=%{x}<br>YEAR=%{y}\", \"legendgroup\": \"Count=1940\", \"marker\": {\"color\": [1940, 1940], \"coloraxis\": \"coloraxis\", \"symbol\": \"square\"}, \"mode\": \"markers\", \"name\": \"Count=1940\", \"scene\": \"scene\", \"showlegend\": true, \"type\": \"scatter3d\", \"x\": [\"ANGEL\", \"JULIAN\"], \"y\": [2012, 2017], \"z\": [1940, 1940]}, {\"hoverlabel\": {\"namelength\": 0}, \"hovertemplate\": \"Count=%{marker.color}<br>Name=%{x}<br>YEAR=%{y}\", \"legendgroup\": \"Count=1857\", \"marker\": {\"color\": [1857], \"coloraxis\": \"coloraxis\", \"symbol\": \"x\"}, \"mode\": \"markers\", \"name\": \"Count=1857\", \"scene\": \"scene\", \"showlegend\": true, \"type\": \"scatter3d\", \"x\": [\"ISAAC\"], \"y\": [2012], \"z\": [1857]}, {\"hoverlabel\": {\"namelength\": 0}, \"hovertemplate\": \"Count=%{marker.color}<br>Name=%{x}<br>YEAR=%{y}\", \"legendgroup\": \"Count=1840\", \"marker\": {\"color\": [1840], \"coloraxis\": \"coloraxis\", \"symbol\": \"cross\"}, \"mode\": \"markers\", \"name\": \"Count=1840\", \"scene\": \"scene\", \"showlegend\": true, \"type\": \"scatter3d\", \"x\": [\"JULIAN\"], \"y\": [2012], \"z\": [1840]}, {\"hoverlabel\": {\"namelength\": 0}, \"hovertemplate\": \"Count=%{marker.color}<br>Name=%{x}<br>YEAR=%{y}\", \"legendgroup\": \"Count=1782\", \"marker\": {\"color\": [1782, 1782], \"coloraxis\": \"coloraxis\", \"symbol\": \"circle\"}, \"mode\": \"markers\", \"name\": \"Count=1782\", \"scene\": \"scene\", \"showlegend\": true, \"type\": \"scatter3d\", \"x\": [\"ADRIAN\", \"CAMILA\"], \"y\": [2012, 2017], \"z\": [1782, 1782]}, {\"hoverlabel\": {\"namelength\": 0}, \"hovertemplate\": \"Count=%{marker.color}<br>Name=%{x}<br>YEAR=%{y}\", \"legendgroup\": \"Count=1722\", \"marker\": {\"color\": [1722], \"coloraxis\": \"coloraxis\", \"symbol\": \"diamond\"}, \"mode\": \"markers\", \"name\": \"Count=1722\", \"scene\": \"scene\", \"showlegend\": true, \"type\": \"scatter3d\", \"x\": [\"JONATHAN\"], \"y\": [2012], \"z\": [1722]}, {\"hoverlabel\": {\"namelength\": 0}, \"hovertemplate\": \"Count=%{marker.color}<br>Name=%{x}<br>YEAR=%{y}\", \"legendgroup\": \"Count=1714\", \"marker\": {\"color\": [1714], \"coloraxis\": \"coloraxis\", \"symbol\": \"square\"}, \"mode\": \"markers\", \"name\": \"Count=1714\", \"scene\": \"scene\", \"showlegend\": true, \"type\": \"scatter3d\", \"x\": [\"JOSHUA\"], \"y\": [2012], \"z\": [1714]}, {\"hoverlabel\": {\"namelength\": 0}, \"hovertemplate\": \"Count=%{marker.color}<br>Name=%{x}<br>YEAR=%{y}\", \"legendgroup\": \"Count=1713\", \"marker\": {\"color\": [1713], \"coloraxis\": \"coloraxis\", \"symbol\": \"x\"}, \"mode\": \"markers\", \"name\": \"Count=1713\", \"scene\": \"scene\", \"showlegend\": true, \"type\": \"scatter3d\", \"x\": [\"CHRISTOPHER\"], \"y\": [2012], \"z\": [1713]}, {\"hoverlabel\": {\"namelength\": 0}, \"hovertemplate\": \"Count=%{marker.color}<br>Name=%{x}<br>YEAR=%{y}\", \"legendgroup\": \"Count=1633\", \"marker\": {\"color\": [1633, 1633], \"coloraxis\": \"coloraxis\", \"symbol\": \"cross\"}, \"mode\": \"markers\", \"name\": \"Count=1633\", \"scene\": \"scene\", \"showlegend\": true, \"type\": \"scatter3d\", \"x\": [\"JOSEPH\", \"LUCAS\"], \"y\": [2012, 2017], \"z\": [1633, 1633]}, {\"hoverlabel\": {\"namelength\": 0}, \"hovertemplate\": \"Count=%{marker.color}<br>Name=%{x}<br>YEAR=%{y}\", \"legendgroup\": \"Count=1602\", \"marker\": {\"color\": [1602, 1602], \"coloraxis\": \"coloraxis\", \"symbol\": \"circle\"}, \"mode\": \"markers\", \"name\": \"Count=1602\", \"scene\": \"scene\", \"showlegend\": true, \"type\": \"scatter3d\", \"x\": [\"LIAM\", \"ANDREW\"], \"y\": [2012, 2015], \"z\": [1602, 1602]}, {\"hoverlabel\": {\"namelength\": 0}, \"hovertemplate\": \"Count=%{marker.color}<br>Name=%{x}<br>YEAR=%{y}\", \"legendgroup\": \"Count=1565\", \"marker\": {\"color\": [1565, 1565], \"coloraxis\": \"coloraxis\", \"symbol\": \"diamond\"}, \"mode\": \"markers\", \"name\": \"Count=1565\", \"scene\": \"scene\", \"showlegend\": true, \"type\": \"scatter3d\", \"x\": [\"DYLAN\", \"ELIJAH\"], \"y\": [2012, 2016], \"z\": [1565, 1565]}, {\"hoverlabel\": {\"namelength\": 0}, \"hovertemplate\": \"Count=%{marker.color}<br>Name=%{x}<br>YEAR=%{y}\", \"legendgroup\": \"Count=3442\", \"marker\": {\"color\": [3442], \"coloraxis\": \"coloraxis\", \"symbol\": \"square\"}, \"mode\": \"markers\", \"name\": \"Count=3442\", \"scene\": \"scene\", \"showlegend\": true, \"type\": \"scatter3d\", \"x\": [\"SOPHIA\"], \"y\": [2013], \"z\": [3442]}, {\"hoverlabel\": {\"namelength\": 0}, \"hovertemplate\": \"Count=%{marker.color}<br>Name=%{x}<br>YEAR=%{y}\", \"legendgroup\": \"Count=2759\", \"marker\": {\"color\": [2759], \"coloraxis\": \"coloraxis\", \"symbol\": \"x\"}, \"mode\": \"markers\", \"name\": \"Count=2759\", \"scene\": \"scene\", \"showlegend\": true, \"type\": \"scatter3d\", \"x\": [\"ISABELLA\"], \"y\": [2013], \"z\": [2759]}, {\"hoverlabel\": {\"namelength\": 0}, \"hovertemplate\": \"Count=%{marker.color}<br>Name=%{x}<br>YEAR=%{y}\", \"legendgroup\": \"Count=2579\", \"marker\": {\"color\": [2579], \"coloraxis\": \"coloraxis\", \"symbol\": \"cross\"}, \"mode\": \"markers\", \"name\": \"Count=2579\", \"scene\": \"scene\", \"showlegend\": true, \"type\": \"scatter3d\", \"x\": [\"MIA\"], \"y\": [2013], \"z\": [2579]}, {\"hoverlabel\": {\"namelength\": 0}, \"hovertemplate\": \"Count=%{marker.color}<br>Name=%{x}<br>YEAR=%{y}\", \"legendgroup\": \"Count=2466\", \"marker\": {\"color\": [2466], \"coloraxis\": \"coloraxis\", \"symbol\": \"circle\"}, \"mode\": \"markers\", \"name\": \"Count=2466\", \"scene\": \"scene\", \"showlegend\": true, \"type\": \"scatter3d\", \"x\": [\"EMMA\"], \"y\": [2013], \"z\": [2466]}, {\"hoverlabel\": {\"namelength\": 0}, \"hovertemplate\": \"Count=%{marker.color}<br>Name=%{x}<br>YEAR=%{y}\", \"legendgroup\": \"Count=2151\", \"marker\": {\"color\": [2151], \"coloraxis\": \"coloraxis\", \"symbol\": \"diamond\"}, \"mode\": \"markers\", \"name\": \"Count=2151\", \"scene\": \"scene\", \"showlegend\": true, \"type\": \"scatter3d\", \"x\": [\"OLIVIA\"], \"y\": [2013], \"z\": [2151]}, {\"hoverlabel\": {\"namelength\": 0}, \"hovertemplate\": \"Count=%{marker.color}<br>Name=%{x}<br>YEAR=%{y}\", \"legendgroup\": \"Count=1486\", \"marker\": {\"color\": [1486, 1486], \"coloraxis\": \"coloraxis\", \"symbol\": \"square\"}, \"mode\": \"markers\", \"name\": \"Count=1486\", \"scene\": \"scene\", \"showlegend\": true, \"type\": \"scatter3d\", \"x\": [\"ABIGAIL\", \"ELIJAH\"], \"y\": [2013, 2017], \"z\": [1486, 1486]}, {\"hoverlabel\": {\"namelength\": 0}, \"hovertemplate\": \"Count=%{marker.color}<br>Name=%{x}<br>YEAR=%{y}\", \"legendgroup\": \"Count=1473\", \"marker\": {\"color\": [1473], \"coloraxis\": \"coloraxis\", \"symbol\": \"x\"}, \"mode\": \"markers\", \"name\": \"Count=1473\", \"scene\": \"scene\", \"showlegend\": true, \"type\": \"scatter3d\", \"x\": [\"CAMILA\"], \"y\": [2013], \"z\": [1473]}, {\"hoverlabel\": {\"namelength\": 0}, \"hovertemplate\": \"Count=%{marker.color}<br>Name=%{x}<br>YEAR=%{y}\", \"legendgroup\": \"Count=1399\", \"marker\": {\"color\": [1399, 1399], \"coloraxis\": \"coloraxis\", \"symbol\": \"cross\"}, \"mode\": \"markers\", \"name\": \"Count=1399\", \"scene\": \"scene\", \"showlegend\": true, \"type\": \"scatter3d\", \"x\": [\"SAMANTHA\", \"CAMILA\"], \"y\": [2013, 2015], \"z\": [1399, 1399]}, {\"hoverlabel\": {\"namelength\": 0}, \"hovertemplate\": \"Count=%{marker.color}<br>Name=%{x}<br>YEAR=%{y}\", \"legendgroup\": \"Count=1137\", \"marker\": {\"color\": [1137], \"coloraxis\": \"coloraxis\", \"symbol\": \"circle\"}, \"mode\": \"markers\", \"name\": \"Count=1137\", \"scene\": \"scene\", \"showlegend\": true, \"type\": \"scatter3d\", \"x\": [\"NATALIE\"], \"y\": [2013], \"z\": [1137]}, {\"hoverlabel\": {\"namelength\": 0}, \"hovertemplate\": \"Count=%{marker.color}<br>Name=%{x}<br>YEAR=%{y}\", \"legendgroup\": \"Count=1056\", \"marker\": {\"color\": [1056], \"coloraxis\": \"coloraxis\", \"symbol\": \"diamond\"}, \"mode\": \"markers\", \"name\": \"Count=1056\", \"scene\": \"scene\", \"showlegend\": true, \"type\": \"scatter3d\", \"x\": [\"ELIZABETH\"], \"y\": [2013], \"z\": [1056]}, {\"hoverlabel\": {\"namelength\": 0}, \"hovertemplate\": \"Count=%{marker.color}<br>Name=%{x}<br>YEAR=%{y}\", \"legendgroup\": \"Count=1052\", \"marker\": {\"color\": [1052, 1052], \"coloraxis\": \"coloraxis\", \"symbol\": \"square\"}, \"mode\": \"markers\", \"name\": \"Count=1052\", \"scene\": \"scene\", \"showlegend\": true, \"type\": \"scatter3d\", \"x\": [\"CHARLOTTE\", \"MILA\"], \"y\": [2013, 2017], \"z\": [1052, 1052]}, {\"hoverlabel\": {\"namelength\": 0}, \"hovertemplate\": \"Count=%{marker.color}<br>Name=%{x}<br>YEAR=%{y}\", \"legendgroup\": \"Count=1043\", \"marker\": {\"color\": [1043], \"coloraxis\": \"coloraxis\", \"symbol\": \"x\"}, \"mode\": \"markers\", \"name\": \"Count=1043\", \"scene\": \"scene\", \"showlegend\": true, \"type\": \"scatter3d\", \"x\": [\"CHLOE\"], \"y\": [2013], \"z\": [1043]}, {\"hoverlabel\": {\"namelength\": 0}, \"hovertemplate\": \"Count=%{marker.color}<br>Name=%{x}<br>YEAR=%{y}\", \"legendgroup\": \"Count=1004\", \"marker\": {\"color\": [1004], \"coloraxis\": \"coloraxis\", \"symbol\": \"cross\"}, \"mode\": \"markers\", \"name\": \"Count=1004\", \"scene\": \"scene\", \"showlegend\": true, \"type\": \"scatter3d\", \"x\": [\"GENESIS\"], \"y\": [2013], \"z\": [1004]}, {\"hoverlabel\": {\"namelength\": 0}, \"hovertemplate\": \"Count=%{marker.color}<br>Name=%{x}<br>YEAR=%{y}\", \"legendgroup\": \"Count=991\", \"marker\": {\"color\": [991], \"coloraxis\": \"coloraxis\", \"symbol\": \"circle\"}, \"mode\": \"markers\", \"name\": \"Count=991\", \"scene\": \"scene\", \"showlegend\": true, \"type\": \"scatter3d\", \"x\": [\"AUDREY\"], \"y\": [2013], \"z\": [991]}, {\"hoverlabel\": {\"namelength\": 0}, \"hovertemplate\": \"Count=%{marker.color}<br>Name=%{x}<br>YEAR=%{y}\", \"legendgroup\": \"Count=969\", \"marker\": {\"color\": [969], \"coloraxis\": \"coloraxis\", \"symbol\": \"diamond\"}, \"mode\": \"markers\", \"name\": \"Count=969\", \"scene\": \"scene\", \"showlegend\": true, \"type\": \"scatter3d\", \"x\": [\"MADISON\"], \"y\": [2013], \"z\": [969]}, {\"hoverlabel\": {\"namelength\": 0}, \"hovertemplate\": \"Count=%{marker.color}<br>Name=%{x}<br>YEAR=%{y}\", \"legendgroup\": \"Count=956\", \"marker\": {\"color\": [956], \"coloraxis\": \"coloraxis\", \"symbol\": \"square\"}, \"mode\": \"markers\", \"name\": \"Count=956\", \"scene\": \"scene\", \"showlegend\": true, \"type\": \"scatter3d\", \"x\": [\"EVELYN\"], \"y\": [2013], \"z\": [956]}, {\"hoverlabel\": {\"namelength\": 0}, \"hovertemplate\": \"Count=%{marker.color}<br>Name=%{x}<br>YEAR=%{y}\", \"legendgroup\": \"Count=891\", \"marker\": {\"color\": [891], \"coloraxis\": \"coloraxis\", \"symbol\": \"x\"}, \"mode\": \"markers\", \"name\": \"Count=891\", \"scene\": \"scene\", \"showlegend\": true, \"type\": \"scatter3d\", \"x\": [\"ZOE\"], \"y\": [2013], \"z\": [891]}, {\"hoverlabel\": {\"namelength\": 0}, \"hovertemplate\": \"Count=%{marker.color}<br>Name=%{x}<br>YEAR=%{y}\", \"legendgroup\": \"Count=875\", \"marker\": {\"color\": [875], \"coloraxis\": \"coloraxis\", \"symbol\": \"cross\"}, \"mode\": \"markers\", \"name\": \"Count=875\", \"scene\": \"scene\", \"showlegend\": true, \"type\": \"scatter3d\", \"x\": [\"MELANIE\"], \"y\": [2013], \"z\": [875]}, {\"hoverlabel\": {\"namelength\": 0}, \"hovertemplate\": \"Count=%{marker.color}<br>Name=%{x}<br>YEAR=%{y}\", \"legendgroup\": \"Count=869\", \"marker\": {\"color\": [869], \"coloraxis\": \"coloraxis\", \"symbol\": \"circle\"}, \"mode\": \"markers\", \"name\": \"Count=869\", \"scene\": \"scene\", \"showlegend\": true, \"type\": \"scatter3d\", \"x\": [\"GRACE\"], \"y\": [2013], \"z\": [869]}, {\"hoverlabel\": {\"namelength\": 0}, \"hovertemplate\": \"Count=%{marker.color}<br>Name=%{x}<br>YEAR=%{y}\", \"legendgroup\": \"Count=820\", \"marker\": {\"color\": [820], \"coloraxis\": \"coloraxis\", \"symbol\": \"diamond\"}, \"mode\": \"markers\", \"name\": \"Count=820\", \"scene\": \"scene\", \"showlegend\": true, \"type\": \"scatter3d\", \"x\": [\"ALEXA\"], \"y\": [2013], \"z\": [820]}, {\"hoverlabel\": {\"namelength\": 0}, \"hovertemplate\": \"Count=%{marker.color}<br>Name=%{x}<br>YEAR=%{y}\", \"legendgroup\": \"Count=818\", \"marker\": {\"color\": [818], \"coloraxis\": \"coloraxis\", \"symbol\": \"square\"}, \"mode\": \"markers\", \"name\": \"Count=818\", \"scene\": \"scene\", \"showlegend\": true, \"type\": \"scatter3d\", \"x\": [\"SCARLETT\"], \"y\": [2013], \"z\": [818]}, {\"hoverlabel\": {\"namelength\": 0}, \"hovertemplate\": \"Count=%{marker.color}<br>Name=%{x}<br>YEAR=%{y}\", \"legendgroup\": \"Count=2874\", \"marker\": {\"color\": [2874], \"coloraxis\": \"coloraxis\", \"symbol\": \"x\"}, \"mode\": \"markers\", \"name\": \"Count=2874\", \"scene\": \"scene\", \"showlegend\": true, \"type\": \"scatter3d\", \"x\": [\"JACOB\"], \"y\": [2013], \"z\": [2874]}, {\"hoverlabel\": {\"namelength\": 0}, \"hovertemplate\": \"Count=%{marker.color}<br>Name=%{x}<br>YEAR=%{y}\", \"legendgroup\": \"Count=2648\", \"marker\": {\"color\": [2648], \"coloraxis\": \"coloraxis\", \"symbol\": \"cross\"}, \"mode\": \"markers\", \"name\": \"Count=2648\", \"scene\": \"scene\", \"showlegend\": true, \"type\": \"scatter3d\", \"x\": [\"ETHAN\"], \"y\": [2013], \"z\": [2648]}, {\"hoverlabel\": {\"namelength\": 0}, \"hovertemplate\": \"Count=%{marker.color}<br>Name=%{x}<br>YEAR=%{y}\", \"legendgroup\": \"Count=2572\", \"marker\": {\"color\": [2572], \"coloraxis\": \"coloraxis\", \"symbol\": \"circle\"}, \"mode\": \"markers\", \"name\": \"Count=2572\", \"scene\": \"scene\", \"showlegend\": true, \"type\": \"scatter3d\", \"x\": [\"JAYDEN\"], \"y\": [2013], \"z\": [2572]}, {\"hoverlabel\": {\"namelength\": 0}, \"hovertemplate\": \"Count=%{marker.color}<br>Name=%{x}<br>YEAR=%{y}\", \"legendgroup\": \"Count=2548\", \"marker\": {\"color\": [2548], \"coloraxis\": \"coloraxis\", \"symbol\": \"diamond\"}, \"mode\": \"markers\", \"name\": \"Count=2548\", \"scene\": \"scene\", \"showlegend\": true, \"type\": \"scatter3d\", \"x\": [\"MATTHEW\"], \"y\": [2013], \"z\": [2548]}, {\"hoverlabel\": {\"namelength\": 0}, \"hovertemplate\": \"Count=%{marker.color}<br>Name=%{x}<br>YEAR=%{y}\", \"legendgroup\": \"Count=2540\", \"marker\": {\"color\": [2540], \"coloraxis\": \"coloraxis\", \"symbol\": \"square\"}, \"mode\": \"markers\", \"name\": \"Count=2540\", \"scene\": \"scene\", \"showlegend\": true, \"type\": \"scatter3d\", \"x\": [\"NOAH\"], \"y\": [2013], \"z\": [2540]}, {\"hoverlabel\": {\"namelength\": 0}, \"hovertemplate\": \"Count=%{marker.color}<br>Name=%{x}<br>YEAR=%{y}\", \"legendgroup\": \"Count=2367\", \"marker\": {\"color\": [2367], \"coloraxis\": \"coloraxis\", \"symbol\": \"x\"}, \"mode\": \"markers\", \"name\": \"Count=2367\", \"scene\": \"scene\", \"showlegend\": true, \"type\": \"scatter3d\", \"x\": [\"ALEXANDER\"], \"y\": [2013], \"z\": [2367]}, {\"hoverlabel\": {\"namelength\": 0}, \"hovertemplate\": \"Count=%{marker.color}<br>Name=%{x}<br>YEAR=%{y}\", \"legendgroup\": \"Count=2220\", \"marker\": {\"color\": [2220], \"coloraxis\": \"coloraxis\", \"symbol\": \"cross\"}, \"mode\": \"markers\", \"name\": \"Count=2220\", \"scene\": \"scene\", \"showlegend\": true, \"type\": \"scatter3d\", \"x\": [\"ANTHONY\"], \"y\": [2013], \"z\": [2220]}, {\"hoverlabel\": {\"namelength\": 0}, \"hovertemplate\": \"Count=%{marker.color}<br>Name=%{x}<br>YEAR=%{y}\", \"legendgroup\": \"Count=2072\", \"marker\": {\"color\": [2072], \"coloraxis\": \"coloraxis\", \"symbol\": \"circle\"}, \"mode\": \"markers\", \"name\": \"Count=2072\", \"scene\": \"scene\", \"showlegend\": true, \"type\": \"scatter3d\", \"x\": [\"NATHAN\"], \"y\": [2013], \"z\": [2072]}, {\"hoverlabel\": {\"namelength\": 0}, \"hovertemplate\": \"Count=%{marker.color}<br>Name=%{x}<br>YEAR=%{y}\", \"legendgroup\": \"Count=2030\", \"marker\": {\"color\": [2030], \"coloraxis\": \"coloraxis\", \"symbol\": \"diamond\"}, \"mode\": \"markers\", \"name\": \"Count=2030\", \"scene\": \"scene\", \"showlegend\": true, \"type\": \"scatter3d\", \"x\": [\"DAVID\"], \"y\": [2013], \"z\": [2030]}, {\"hoverlabel\": {\"namelength\": 0}, \"hovertemplate\": \"Count=%{marker.color}<br>Name=%{x}<br>YEAR=%{y}\", \"legendgroup\": \"Count=1963\", \"marker\": {\"color\": [1963], \"coloraxis\": \"coloraxis\", \"symbol\": \"square\"}, \"mode\": \"markers\", \"name\": \"Count=1963\", \"scene\": \"scene\", \"showlegend\": true, \"type\": \"scatter3d\", \"x\": [\"MICHAEL\"], \"y\": [2013], \"z\": [1963]}, {\"hoverlabel\": {\"namelength\": 0}, \"hovertemplate\": \"Count=%{marker.color}<br>Name=%{x}<br>YEAR=%{y}\", \"legendgroup\": \"Count=1917\", \"marker\": {\"color\": [1917], \"coloraxis\": \"coloraxis\", \"symbol\": \"x\"}, \"mode\": \"markers\", \"name\": \"Count=1917\", \"scene\": \"scene\", \"showlegend\": true, \"type\": \"scatter3d\", \"x\": [\"ANDREW\"], \"y\": [2013], \"z\": [1917]}, {\"hoverlabel\": {\"namelength\": 0}, \"hovertemplate\": \"Count=%{marker.color}<br>Name=%{x}<br>YEAR=%{y}\", \"legendgroup\": \"Count=1855\", \"marker\": {\"color\": [1855], \"coloraxis\": \"coloraxis\", \"symbol\": \"cross\"}, \"mode\": \"markers\", \"name\": \"Count=1855\", \"scene\": \"scene\", \"showlegend\": true, \"type\": \"scatter3d\", \"x\": [\"JULIAN\"], \"y\": [2013], \"z\": [1855]}, {\"hoverlabel\": {\"namelength\": 0}, \"hovertemplate\": \"Count=%{marker.color}<br>Name=%{x}<br>YEAR=%{y}\", \"legendgroup\": \"Count=1841\", \"marker\": {\"color\": [1841], \"coloraxis\": \"coloraxis\", \"symbol\": \"circle\"}, \"mode\": \"markers\", \"name\": \"Count=1841\", \"scene\": \"scene\", \"showlegend\": true, \"type\": \"scatter3d\", \"x\": [\"BENJAMIN\"], \"y\": [2013], \"z\": [1841]}, {\"hoverlabel\": {\"namelength\": 0}, \"hovertemplate\": \"Count=%{marker.color}<br>Name=%{x}<br>YEAR=%{y}\", \"legendgroup\": \"Count=1761\", \"marker\": {\"color\": [1761], \"coloraxis\": \"coloraxis\", \"symbol\": \"diamond\"}, \"mode\": \"markers\", \"name\": \"Count=1761\", \"scene\": \"scene\", \"showlegend\": true, \"type\": \"scatter3d\", \"x\": [\"AIDEN\"], \"y\": [2013], \"z\": [1761]}, {\"hoverlabel\": {\"namelength\": 0}, \"hovertemplate\": \"Count=%{marker.color}<br>Name=%{x}<br>YEAR=%{y}\", \"legendgroup\": \"Count=1753\", \"marker\": {\"color\": [1753], \"coloraxis\": \"coloraxis\", \"symbol\": \"square\"}, \"mode\": \"markers\", \"name\": \"Count=1753\", \"scene\": \"scene\", \"showlegend\": true, \"type\": \"scatter3d\", \"x\": [\"ANGEL\"], \"y\": [2013], \"z\": [1753]}, {\"hoverlabel\": {\"namelength\": 0}, \"hovertemplate\": \"Count=%{marker.color}<br>Name=%{x}<br>YEAR=%{y}\", \"legendgroup\": \"Count=1736\", \"marker\": {\"color\": [1736], \"coloraxis\": \"coloraxis\", \"symbol\": \"x\"}, \"mode\": \"markers\", \"name\": \"Count=1736\", \"scene\": \"scene\", \"showlegend\": true, \"type\": \"scatter3d\", \"x\": [\"MASON\"], \"y\": [2013], \"z\": [1736]}, {\"hoverlabel\": {\"namelength\": 0}, \"hovertemplate\": \"Count=%{marker.color}<br>Name=%{x}<br>YEAR=%{y}\", \"legendgroup\": \"Count=1682\", \"marker\": {\"color\": [1682], \"coloraxis\": \"coloraxis\", \"symbol\": \"cross\"}, \"mode\": \"markers\", \"name\": \"Count=1682\", \"scene\": \"scene\", \"showlegend\": true, \"type\": \"scatter3d\", \"x\": [\"LIAM\"], \"y\": [2013], \"z\": [1682]}, {\"hoverlabel\": {\"namelength\": 0}, \"hovertemplate\": \"Count=%{marker.color}<br>Name=%{x}<br>YEAR=%{y}\", \"legendgroup\": \"Count=1673\", \"marker\": {\"color\": [1673], \"coloraxis\": \"coloraxis\", \"symbol\": \"circle\"}, \"mode\": \"markers\", \"name\": \"Count=1673\", \"scene\": \"scene\", \"showlegend\": true, \"type\": \"scatter3d\", \"x\": [\"ADRIAN\"], \"y\": [2013], \"z\": [1673]}, {\"hoverlabel\": {\"namelength\": 0}, \"hovertemplate\": \"Count=%{marker.color}<br>Name=%{x}<br>YEAR=%{y}\", \"legendgroup\": \"Count=1650\", \"marker\": {\"color\": [1650], \"coloraxis\": \"coloraxis\", \"symbol\": \"diamond\"}, \"mode\": \"markers\", \"name\": \"Count=1650\", \"scene\": \"scene\", \"showlegend\": true, \"type\": \"scatter3d\", \"x\": [\"SEBASTIAN\"], \"y\": [2013], \"z\": [1650]}, {\"hoverlabel\": {\"namelength\": 0}, \"hovertemplate\": \"Count=%{marker.color}<br>Name=%{x}<br>YEAR=%{y}\", \"legendgroup\": \"Count=1613\", \"marker\": {\"color\": [1613], \"coloraxis\": \"coloraxis\", \"symbol\": \"square\"}, \"mode\": \"markers\", \"name\": \"Count=1613\", \"scene\": \"scene\", \"showlegend\": true, \"type\": \"scatter3d\", \"x\": [\"JOSHUA\"], \"y\": [2013], \"z\": [1613]}, {\"hoverlabel\": {\"namelength\": 0}, \"hovertemplate\": \"Count=%{marker.color}<br>Name=%{x}<br>YEAR=%{y}\", \"legendgroup\": \"Count=1532\", \"marker\": {\"color\": [1532, 1532], \"coloraxis\": \"coloraxis\", \"symbol\": \"x\"}, \"mode\": \"markers\", \"name\": \"Count=1532\", \"scene\": \"scene\", \"showlegend\": true, \"type\": \"scatter3d\", \"x\": [\"JOSEPH\", \"VICTORIA\"], \"y\": [2013, 2016], \"z\": [1532, 1532]}, {\"hoverlabel\": {\"namelength\": 0}, \"hovertemplate\": \"Count=%{marker.color}<br>Name=%{x}<br>YEAR=%{y}\", \"legendgroup\": \"Count=1518\", \"marker\": {\"color\": [1518, 1518, 1518], \"coloraxis\": \"coloraxis\", \"symbol\": \"cross\"}, \"mode\": \"markers\", \"name\": \"Count=1518\", \"scene\": \"scene\", \"showlegend\": true, \"type\": \"scatter3d\", \"x\": [\"AARON\", \"MASON\", \"NATHAN\"], \"y\": [2013, 2016, 2017], \"z\": [1518, 1518, 1518]}, {\"hoverlabel\": {\"namelength\": 0}, \"hovertemplate\": \"Count=%{marker.color}<br>Name=%{x}<br>YEAR=%{y}\", \"legendgroup\": \"Count=3160\", \"marker\": {\"color\": [3160], \"coloraxis\": \"coloraxis\", \"symbol\": \"circle\"}, \"mode\": \"markers\", \"name\": \"Count=3160\", \"scene\": \"scene\", \"showlegend\": true, \"type\": \"scatter3d\", \"x\": [\"SOPHIA\"], \"y\": [2014], \"z\": [3160]}, {\"hoverlabel\": {\"namelength\": 0}, \"hovertemplate\": \"Count=%{marker.color}<br>Name=%{x}<br>YEAR=%{y}\", \"legendgroup\": \"Count=2702\", \"marker\": {\"color\": [2702], \"coloraxis\": \"coloraxis\", \"symbol\": \"diamond\"}, \"mode\": \"markers\", \"name\": \"Count=2702\", \"scene\": \"scene\", \"showlegend\": true, \"type\": \"scatter3d\", \"x\": [\"ISABELLA\"], \"y\": [2014], \"z\": [2702]}, {\"hoverlabel\": {\"namelength\": 0}, \"hovertemplate\": \"Count=%{marker.color}<br>Name=%{x}<br>YEAR=%{y}\", \"legendgroup\": \"Count=2666\", \"marker\": {\"color\": [2666], \"coloraxis\": \"coloraxis\", \"symbol\": \"square\"}, \"mode\": \"markers\", \"name\": \"Count=2666\", \"scene\": \"scene\", \"showlegend\": true, \"type\": \"scatter3d\", \"x\": [\"EMMA\"], \"y\": [2014], \"z\": [2666]}, {\"hoverlabel\": {\"namelength\": 0}, \"hovertemplate\": \"Count=%{marker.color}<br>Name=%{x}<br>YEAR=%{y}\", \"legendgroup\": \"Count=2608\", \"marker\": {\"color\": [2608], \"coloraxis\": \"coloraxis\", \"symbol\": \"x\"}, \"mode\": \"markers\", \"name\": \"Count=2608\", \"scene\": \"scene\", \"showlegend\": true, \"type\": \"scatter3d\", \"x\": [\"MIA\"], \"y\": [2014], \"z\": [2608]}, {\"hoverlabel\": {\"namelength\": 0}, \"hovertemplate\": \"Count=%{marker.color}<br>Name=%{x}<br>YEAR=%{y}\", \"legendgroup\": \"Count=2403\", \"marker\": {\"color\": [2403], \"coloraxis\": \"coloraxis\", \"symbol\": \"cross\"}, \"mode\": \"markers\", \"name\": \"Count=2403\", \"scene\": \"scene\", \"showlegend\": true, \"type\": \"scatter3d\", \"x\": [\"OLIVIA\"], \"y\": [2014], \"z\": [2403]}, {\"hoverlabel\": {\"namelength\": 0}, \"hovertemplate\": \"Count=%{marker.color}<br>Name=%{x}<br>YEAR=%{y}\", \"legendgroup\": \"Count=2264\", \"marker\": {\"color\": [2264], \"coloraxis\": \"coloraxis\", \"symbol\": \"circle\"}, \"mode\": \"markers\", \"name\": \"Count=2264\", \"scene\": \"scene\", \"showlegend\": true, \"type\": \"scatter3d\", \"x\": [\"EMILY\"], \"y\": [2014], \"z\": [2264]}, {\"hoverlabel\": {\"namelength\": 0}, \"hovertemplate\": \"Count=%{marker.color}<br>Name=%{x}<br>YEAR=%{y}\", \"legendgroup\": \"Count=2082\", \"marker\": {\"color\": [2082], \"coloraxis\": \"coloraxis\", \"symbol\": \"diamond\"}, \"mode\": \"markers\", \"name\": \"Count=2082\", \"scene\": \"scene\", \"showlegend\": true, \"type\": \"scatter3d\", \"x\": [\"SOFIA\"], \"y\": [2014], \"z\": [2082]}, {\"hoverlabel\": {\"namelength\": 0}, \"hovertemplate\": \"Count=%{marker.color}<br>Name=%{x}<br>YEAR=%{y}\", \"legendgroup\": \"Count=1685\", \"marker\": {\"color\": [1685], \"coloraxis\": \"coloraxis\", \"symbol\": \"square\"}, \"mode\": \"markers\", \"name\": \"Count=1685\", \"scene\": \"scene\", \"showlegend\": true, \"type\": \"scatter3d\", \"x\": [\"VICTORIA\"], \"y\": [2014], \"z\": [1685]}, {\"hoverlabel\": {\"namelength\": 0}, \"hovertemplate\": \"Count=%{marker.color}<br>Name=%{x}<br>YEAR=%{y}\", \"legendgroup\": \"Count=1521\", \"marker\": {\"color\": [1521], \"coloraxis\": \"coloraxis\", \"symbol\": \"x\"}, \"mode\": \"markers\", \"name\": \"Count=1521\", \"scene\": \"scene\", \"showlegend\": true, \"type\": \"scatter3d\", \"x\": [\"ABIGAIL\"], \"y\": [2014], \"z\": [1521]}, {\"hoverlabel\": {\"namelength\": 0}, \"hovertemplate\": \"Count=%{marker.color}<br>Name=%{x}<br>YEAR=%{y}\", \"legendgroup\": \"Count=1470\", \"marker\": {\"color\": [1470], \"coloraxis\": \"coloraxis\", \"symbol\": \"cross\"}, \"mode\": \"markers\", \"name\": \"Count=1470\", \"scene\": \"scene\", \"showlegend\": true, \"type\": \"scatter3d\", \"x\": [\"CAMILA\"], \"y\": [2014], \"z\": [1470]}, {\"hoverlabel\": {\"namelength\": 0}, \"hovertemplate\": \"Count=%{marker.color}<br>Name=%{x}<br>YEAR=%{y}\", \"legendgroup\": \"Count=1427\", \"marker\": {\"color\": [1427], \"coloraxis\": \"coloraxis\", \"symbol\": \"circle\"}, \"mode\": \"markers\", \"name\": \"Count=1427\", \"scene\": \"scene\", \"showlegend\": true, \"type\": \"scatter3d\", \"x\": [\"AVA\"], \"y\": [2014], \"z\": [1427]}, {\"hoverlabel\": {\"namelength\": 0}, \"hovertemplate\": \"Count=%{marker.color}<br>Name=%{x}<br>YEAR=%{y}\", \"legendgroup\": \"Count=1192\", \"marker\": {\"color\": [1192], \"coloraxis\": \"coloraxis\", \"symbol\": \"diamond\"}, \"mode\": \"markers\", \"name\": \"Count=1192\", \"scene\": \"scene\", \"showlegend\": true, \"type\": \"scatter3d\", \"x\": [\"SAMANTHA\"], \"y\": [2014], \"z\": [1192]}, {\"hoverlabel\": {\"namelength\": 0}, \"hovertemplate\": \"Count=%{marker.color}<br>Name=%{x}<br>YEAR=%{y}\", \"legendgroup\": \"Count=1121\", \"marker\": {\"color\": [1121], \"coloraxis\": \"coloraxis\", \"symbol\": \"square\"}, \"mode\": \"markers\", \"name\": \"Count=1121\", \"scene\": \"scene\", \"showlegend\": true, \"type\": \"scatter3d\", \"x\": [\"CHARLOTTE\"], \"y\": [2014], \"z\": [1121]}, {\"hoverlabel\": {\"namelength\": 0}, \"hovertemplate\": \"Count=%{marker.color}<br>Name=%{x}<br>YEAR=%{y}\", \"legendgroup\": \"Count=1105\", \"marker\": {\"color\": [1105, 1105], \"coloraxis\": \"coloraxis\", \"symbol\": \"x\"}, \"mode\": \"markers\", \"name\": \"Count=1105\", \"scene\": \"scene\", \"showlegend\": true, \"type\": \"scatter3d\", \"x\": [\"EVELYN\", \"SAMANTHA\"], \"y\": [2014, 2015], \"z\": [1105, 1105]}, {\"hoverlabel\": {\"namelength\": 0}, \"hovertemplate\": \"Count=%{marker.color}<br>Name=%{x}<br>YEAR=%{y}\", \"legendgroup\": \"Count=1078\", \"marker\": {\"color\": [1078], \"coloraxis\": \"coloraxis\", \"symbol\": \"cross\"}, \"mode\": \"markers\", \"name\": \"Count=1078\", \"scene\": \"scene\", \"showlegend\": true, \"type\": \"scatter3d\", \"x\": [\"ELIZABETH\"], \"y\": [2014], \"z\": [1078]}, {\"hoverlabel\": {\"namelength\": 0}, \"hovertemplate\": \"Count=%{marker.color}<br>Name=%{x}<br>YEAR=%{y}\", \"legendgroup\": \"Count=1048\", \"marker\": {\"color\": [1048], \"coloraxis\": \"coloraxis\", \"symbol\": \"circle\"}, \"mode\": \"markers\", \"name\": \"Count=1048\", \"scene\": \"scene\", \"showlegend\": true, \"type\": \"scatter3d\", \"x\": [\"CHLOE\"], \"y\": [2014], \"z\": [1048]}, {\"hoverlabel\": {\"namelength\": 0}, \"hovertemplate\": \"Count=%{marker.color}<br>Name=%{x}<br>YEAR=%{y}\", \"legendgroup\": \"Count=970\", \"marker\": {\"color\": [970], \"coloraxis\": \"coloraxis\", \"symbol\": \"diamond\"}, \"mode\": \"markers\", \"name\": \"Count=970\", \"scene\": \"scene\", \"showlegend\": true, \"type\": \"scatter3d\", \"x\": [\"GENESIS\"], \"y\": [2014], \"z\": [970]}, {\"hoverlabel\": {\"namelength\": 0}, \"hovertemplate\": \"Count=%{marker.color}<br>Name=%{x}<br>YEAR=%{y}\", \"legendgroup\": \"Count=966\", \"marker\": {\"color\": [966], \"coloraxis\": \"coloraxis\", \"symbol\": \"square\"}, \"mode\": \"markers\", \"name\": \"Count=966\", \"scene\": \"scene\", \"showlegend\": true, \"type\": \"scatter3d\", \"x\": [\"SCARLETT\"], \"y\": [2014], \"z\": [966]}, {\"hoverlabel\": {\"namelength\": 0}, \"hovertemplate\": \"Count=%{marker.color}<br>Name=%{x}<br>YEAR=%{y}\", \"legendgroup\": \"Count=948\", \"marker\": {\"color\": [948], \"coloraxis\": \"coloraxis\", \"symbol\": \"x\"}, \"mode\": \"markers\", \"name\": \"Count=948\", \"scene\": \"scene\", \"showlegend\": true, \"type\": \"scatter3d\", \"x\": [\"GRACE\"], \"y\": [2014], \"z\": [948]}, {\"hoverlabel\": {\"namelength\": 0}, \"hovertemplate\": \"Count=%{marker.color}<br>Name=%{x}<br>YEAR=%{y}\", \"legendgroup\": \"Count=920\", \"marker\": {\"color\": [920], \"coloraxis\": \"coloraxis\", \"symbol\": \"cross\"}, \"mode\": \"markers\", \"name\": \"Count=920\", \"scene\": \"scene\", \"showlegend\": true, \"type\": \"scatter3d\", \"x\": [\"ZOE\"], \"y\": [2014], \"z\": [920]}, {\"hoverlabel\": {\"namelength\": 0}, \"hovertemplate\": \"Count=%{marker.color}<br>Name=%{x}<br>YEAR=%{y}\", \"legendgroup\": \"Count=918\", \"marker\": {\"color\": [918], \"coloraxis\": \"coloraxis\", \"symbol\": \"circle\"}, \"mode\": \"markers\", \"name\": \"Count=918\", \"scene\": \"scene\", \"showlegend\": true, \"type\": \"scatter3d\", \"x\": [\"MELANIE\"], \"y\": [2014], \"z\": [918]}, {\"hoverlabel\": {\"namelength\": 0}, \"hovertemplate\": \"Count=%{marker.color}<br>Name=%{x}<br>YEAR=%{y}\", \"legendgroup\": \"Count=903\", \"marker\": {\"color\": [903], \"coloraxis\": \"coloraxis\", \"symbol\": \"diamond\"}, \"mode\": \"markers\", \"name\": \"Count=903\", \"scene\": \"scene\", \"showlegend\": true, \"type\": \"scatter3d\", \"x\": [\"ALLISON\"], \"y\": [2014], \"z\": [903]}, {\"hoverlabel\": {\"namelength\": 0}, \"hovertemplate\": \"Count=%{marker.color}<br>Name=%{x}<br>YEAR=%{y}\", \"legendgroup\": \"Count=899\", \"marker\": {\"color\": [899], \"coloraxis\": \"coloraxis\", \"symbol\": \"square\"}, \"mode\": \"markers\", \"name\": \"Count=899\", \"scene\": \"scene\", \"showlegend\": true, \"type\": \"scatter3d\", \"x\": [\"AUDREY\"], \"y\": [2014], \"z\": [899]}, {\"hoverlabel\": {\"namelength\": 0}, \"hovertemplate\": \"Count=%{marker.color}<br>Name=%{x}<br>YEAR=%{y}\", \"legendgroup\": \"Count=2757\", \"marker\": {\"color\": [2757], \"coloraxis\": \"coloraxis\", \"symbol\": \"x\"}, \"mode\": \"markers\", \"name\": \"Count=2757\", \"scene\": \"scene\", \"showlegend\": true, \"type\": \"scatter3d\", \"x\": [\"NOAH\"], \"y\": [2014], \"z\": [2757]}, {\"hoverlabel\": {\"namelength\": 0}, \"hovertemplate\": \"Count=%{marker.color}<br>Name=%{x}<br>YEAR=%{y}\", \"legendgroup\": \"Count=2690\", \"marker\": {\"color\": [2690], \"coloraxis\": \"coloraxis\", \"symbol\": \"cross\"}, \"mode\": \"markers\", \"name\": \"Count=2690\", \"scene\": \"scene\", \"showlegend\": true, \"type\": \"scatter3d\", \"x\": [\"JACOB\"], \"y\": [2014], \"z\": [2690]}, {\"hoverlabel\": {\"namelength\": 0}, \"hovertemplate\": \"Count=%{marker.color}<br>Name=%{x}<br>YEAR=%{y}\", \"legendgroup\": \"Count=2553\", \"marker\": {\"color\": [2553], \"coloraxis\": \"coloraxis\", \"symbol\": \"circle\"}, \"mode\": \"markers\", \"name\": \"Count=2553\", \"scene\": \"scene\", \"showlegend\": true, \"type\": \"scatter3d\", \"x\": [\"ETHAN\"], \"y\": [2014], \"z\": [2553]}, {\"hoverlabel\": {\"namelength\": 0}, \"hovertemplate\": \"Count=%{marker.color}<br>Name=%{x}<br>YEAR=%{y}\", \"legendgroup\": \"Count=2542\", \"marker\": {\"color\": [2542], \"coloraxis\": \"coloraxis\", \"symbol\": \"diamond\"}, \"mode\": \"markers\", \"name\": \"Count=2542\", \"scene\": \"scene\", \"showlegend\": true, \"type\": \"scatter3d\", \"x\": [\"DANIEL\"], \"y\": [2014], \"z\": [2542]}, {\"hoverlabel\": {\"namelength\": 0}, \"hovertemplate\": \"Count=%{marker.color}<br>Name=%{x}<br>YEAR=%{y}\", \"legendgroup\": \"Count=2478\", \"marker\": {\"color\": [2478], \"coloraxis\": \"coloraxis\", \"symbol\": \"square\"}, \"mode\": \"markers\", \"name\": \"Count=2478\", \"scene\": \"scene\", \"showlegend\": true, \"type\": \"scatter3d\", \"x\": [\"ALEXANDER\"], \"y\": [2014], \"z\": [2478]}, {\"hoverlabel\": {\"namelength\": 0}, \"hovertemplate\": \"Count=%{marker.color}<br>Name=%{x}<br>YEAR=%{y}\", \"legendgroup\": \"Count=2463\", \"marker\": {\"color\": [2463], \"coloraxis\": \"coloraxis\", \"symbol\": \"x\"}, \"mode\": \"markers\", \"name\": \"Count=2463\", \"scene\": \"scene\", \"showlegend\": true, \"type\": \"scatter3d\", \"x\": [\"MATTHEW\"], \"y\": [2014], \"z\": [2463]}, {\"hoverlabel\": {\"namelength\": 0}, \"hovertemplate\": \"Count=%{marker.color}<br>Name=%{x}<br>YEAR=%{y}\", \"legendgroup\": \"Count=2361\", \"marker\": {\"color\": [2361], \"coloraxis\": \"coloraxis\", \"symbol\": \"cross\"}, \"mode\": \"markers\", \"name\": \"Count=2361\", \"scene\": \"scene\", \"showlegend\": true, \"type\": \"scatter3d\", \"x\": [\"JAYDEN\"], \"y\": [2014], \"z\": [2361]}, {\"hoverlabel\": {\"namelength\": 0}, \"hovertemplate\": \"Count=%{marker.color}<br>Name=%{x}<br>YEAR=%{y}\", \"legendgroup\": \"Count=2071\", \"marker\": {\"color\": [2071], \"coloraxis\": \"coloraxis\", \"symbol\": \"circle\"}, \"mode\": \"markers\", \"name\": \"Count=2071\", \"scene\": \"scene\", \"showlegend\": true, \"type\": \"scatter3d\", \"x\": [\"ANTHONY\"], \"y\": [2014], \"z\": [2071]}, {\"hoverlabel\": {\"namelength\": 0}, \"hovertemplate\": \"Count=%{marker.color}<br>Name=%{x}<br>YEAR=%{y}\", \"legendgroup\": \"Count=2015\", \"marker\": {\"color\": [2015], \"coloraxis\": \"coloraxis\", \"symbol\": \"diamond\"}, \"mode\": \"markers\", \"name\": \"Count=2015\", \"scene\": \"scene\", \"showlegend\": true, \"type\": \"scatter3d\", \"x\": [\"SEBASTIAN\"], \"y\": [2014], \"z\": [2015]}, {\"hoverlabel\": {\"namelength\": 0}, \"hovertemplate\": \"Count=%{marker.color}<br>Name=%{x}<br>YEAR=%{y}\", \"legendgroup\": \"Count=1995\", \"marker\": {\"color\": [1995], \"coloraxis\": \"coloraxis\", \"symbol\": \"square\"}, \"mode\": \"markers\", \"name\": \"Count=1995\", \"scene\": \"scene\", \"showlegend\": true, \"type\": \"scatter3d\", \"x\": [\"DAVID\"], \"y\": [2014], \"z\": [1995]}, {\"hoverlabel\": {\"namelength\": 0}, \"hovertemplate\": \"Count=%{marker.color}<br>Name=%{x}<br>YEAR=%{y}\", \"legendgroup\": \"Count=1901\", \"marker\": {\"color\": [1901], \"coloraxis\": \"coloraxis\", \"symbol\": \"x\"}, \"mode\": \"markers\", \"name\": \"Count=1901\", \"scene\": \"scene\", \"showlegend\": true, \"type\": \"scatter3d\", \"x\": [\"ANDREW\"], \"y\": [2014], \"z\": [1901]}, {\"hoverlabel\": {\"namelength\": 0}, \"hovertemplate\": \"Count=%{marker.color}<br>Name=%{x}<br>YEAR=%{y}\", \"legendgroup\": \"Count=1900\", \"marker\": {\"color\": [1900], \"coloraxis\": \"coloraxis\", \"symbol\": \"cross\"}, \"mode\": \"markers\", \"name\": \"Count=1900\", \"scene\": \"scene\", \"showlegend\": true, \"type\": \"scatter3d\", \"x\": [\"JULIAN\"], \"y\": [2014], \"z\": [1900]}, {\"hoverlabel\": {\"namelength\": 0}, \"hovertemplate\": \"Count=%{marker.color}<br>Name=%{x}<br>YEAR=%{y}\", \"legendgroup\": \"Count=1869\", \"marker\": {\"color\": [1869], \"coloraxis\": \"coloraxis\", \"symbol\": \"circle\"}, \"mode\": \"markers\", \"name\": \"Count=1869\", \"scene\": \"scene\", \"showlegend\": true, \"type\": \"scatter3d\", \"x\": [\"BENJAMIN\"], \"y\": [2014], \"z\": [1869]}, {\"hoverlabel\": {\"namelength\": 0}, \"hovertemplate\": \"Count=%{marker.color}<br>Name=%{x}<br>YEAR=%{y}\", \"legendgroup\": \"Count=1864\", \"marker\": {\"color\": [1864], \"coloraxis\": \"coloraxis\", \"symbol\": \"diamond\"}, \"mode\": \"markers\", \"name\": \"Count=1864\", \"scene\": \"scene\", \"showlegend\": true, \"type\": \"scatter3d\", \"x\": [\"AIDEN\"], \"y\": [2014], \"z\": [1864]}, {\"hoverlabel\": {\"namelength\": 0}, \"hovertemplate\": \"Count=%{marker.color}<br>Name=%{x}<br>YEAR=%{y}\", \"legendgroup\": \"Count=1862\", \"marker\": {\"color\": [1862], \"coloraxis\": \"coloraxis\", \"symbol\": \"square\"}, \"mode\": \"markers\", \"name\": \"Count=1862\", \"scene\": \"scene\", \"showlegend\": true, \"type\": \"scatter3d\", \"x\": [\"NATHAN\"], \"y\": [2014], \"z\": [1862]}, {\"hoverlabel\": {\"namelength\": 0}, \"hovertemplate\": \"Count=%{marker.color}<br>Name=%{x}<br>YEAR=%{y}\", \"legendgroup\": \"Count=1854\", \"marker\": {\"color\": [1854], \"coloraxis\": \"coloraxis\", \"symbol\": \"x\"}, \"mode\": \"markers\", \"name\": \"Count=1854\", \"scene\": \"scene\", \"showlegend\": true, \"type\": \"scatter3d\", \"x\": [\"LIAM\"], \"y\": [2014], \"z\": [1854]}, {\"hoverlabel\": {\"namelength\": 0}, \"hovertemplate\": \"Count=%{marker.color}<br>Name=%{x}<br>YEAR=%{y}\", \"legendgroup\": \"Count=1816\", \"marker\": {\"color\": [1816], \"coloraxis\": \"coloraxis\", \"symbol\": \"cross\"}, \"mode\": \"markers\", \"name\": \"Count=1816\", \"scene\": \"scene\", \"showlegend\": true, \"type\": \"scatter3d\", \"x\": [\"MASON\"], \"y\": [2014], \"z\": [1816]}, {\"hoverlabel\": {\"namelength\": 0}, \"hovertemplate\": \"Count=%{marker.color}<br>Name=%{x}<br>YEAR=%{y}\", \"legendgroup\": \"Count=1790\", \"marker\": {\"color\": [1790], \"coloraxis\": \"coloraxis\", \"symbol\": \"circle\"}, \"mode\": \"markers\", \"name\": \"Count=1790\", \"scene\": \"scene\", \"showlegend\": true, \"type\": \"scatter3d\", \"x\": [\"ISAAC\"], \"y\": [2014], \"z\": [1790]}, {\"hoverlabel\": {\"namelength\": 0}, \"hovertemplate\": \"Count=%{marker.color}<br>Name=%{x}<br>YEAR=%{y}\", \"legendgroup\": \"Count=1645\", \"marker\": {\"color\": [1645], \"coloraxis\": \"coloraxis\", \"symbol\": \"diamond\"}, \"mode\": \"markers\", \"name\": \"Count=1645\", \"scene\": \"scene\", \"showlegend\": true, \"type\": \"scatter3d\", \"x\": [\"AARON\"], \"y\": [2014], \"z\": [1645]}, {\"hoverlabel\": {\"namelength\": 0}, \"hovertemplate\": \"Count=%{marker.color}<br>Name=%{x}<br>YEAR=%{y}\", \"legendgroup\": \"Count=1642\", \"marker\": {\"color\": [1642], \"coloraxis\": \"coloraxis\", \"symbol\": \"square\"}, \"mode\": \"markers\", \"name\": \"Count=1642\", \"scene\": \"scene\", \"showlegend\": true, \"type\": \"scatter3d\", \"x\": [\"ANGEL\"], \"y\": [2014], \"z\": [1642]}, {\"hoverlabel\": {\"namelength\": 0}, \"hovertemplate\": \"Count=%{marker.color}<br>Name=%{x}<br>YEAR=%{y}\", \"legendgroup\": \"Count=1641\", \"marker\": {\"color\": [1641], \"coloraxis\": \"coloraxis\", \"symbol\": \"x\"}, \"mode\": \"markers\", \"name\": \"Count=1641\", \"scene\": \"scene\", \"showlegend\": true, \"type\": \"scatter3d\", \"x\": [\"DYLAN\"], \"y\": [2014], \"z\": [1641]}, {\"hoverlabel\": {\"namelength\": 0}, \"hovertemplate\": \"Count=%{marker.color}<br>Name=%{x}<br>YEAR=%{y}\", \"legendgroup\": \"Count=1575\", \"marker\": {\"color\": [1575], \"coloraxis\": \"coloraxis\", \"symbol\": \"cross\"}, \"mode\": \"markers\", \"name\": \"Count=1575\", \"scene\": \"scene\", \"showlegend\": true, \"type\": \"scatter3d\", \"x\": [\"JAMES\"], \"y\": [2014], \"z\": [1575]}, {\"hoverlabel\": {\"namelength\": 0}, \"hovertemplate\": \"Count=%{marker.color}<br>Name=%{x}<br>YEAR=%{y}\", \"legendgroup\": \"Count=1572\", \"marker\": {\"color\": [1572], \"coloraxis\": \"coloraxis\", \"symbol\": \"circle\"}, \"mode\": \"markers\", \"name\": \"Count=1572\", \"scene\": \"scene\", \"showlegend\": true, \"type\": \"scatter3d\", \"x\": [\"ADRIAN\"], \"y\": [2014], \"z\": [1572]}, {\"hoverlabel\": {\"namelength\": 0}, \"hovertemplate\": \"Count=%{marker.color}<br>Name=%{x}<br>YEAR=%{y}\", \"legendgroup\": \"Count=1543\", \"marker\": {\"color\": [1543, 1543], \"coloraxis\": \"coloraxis\", \"symbol\": \"diamond\"}, \"mode\": \"markers\", \"name\": \"Count=1543\", \"scene\": \"scene\", \"showlegend\": true, \"type\": \"scatter3d\", \"x\": [\"LOGAN\", \"OLIVER\"], \"y\": [2014, 2016], \"z\": [1543, 1543]}, {\"hoverlabel\": {\"namelength\": 0}, \"hovertemplate\": \"Count=%{marker.color}<br>Name=%{x}<br>YEAR=%{y}\", \"legendgroup\": \"Count=2936\", \"marker\": {\"color\": [2936], \"coloraxis\": \"coloraxis\", \"symbol\": \"square\"}, \"mode\": \"markers\", \"name\": \"Count=2936\", \"scene\": \"scene\", \"showlegend\": true, \"type\": \"scatter3d\", \"x\": [\"SOPHIA\"], \"y\": [2015], \"z\": [2936]}, {\"hoverlabel\": {\"namelength\": 0}, \"hovertemplate\": \"Count=%{marker.color}<br>Name=%{x}<br>YEAR=%{y}\", \"legendgroup\": \"Count=2846\", \"marker\": {\"color\": [2846], \"coloraxis\": \"coloraxis\", \"symbol\": \"x\"}, \"mode\": \"markers\", \"name\": \"Count=2846\", \"scene\": \"scene\", \"showlegend\": true, \"type\": \"scatter3d\", \"x\": [\"MIA\"], \"y\": [2015], \"z\": [2846]}, {\"hoverlabel\": {\"namelength\": 0}, \"hovertemplate\": \"Count=%{marker.color}<br>Name=%{x}<br>YEAR=%{y}\", \"legendgroup\": \"Count=2694\", \"marker\": {\"color\": [2694], \"coloraxis\": \"coloraxis\", \"symbol\": \"cross\"}, \"mode\": \"markers\", \"name\": \"Count=2694\", \"scene\": \"scene\", \"showlegend\": true, \"type\": \"scatter3d\", \"x\": [\"EMMA\"], \"y\": [2015], \"z\": [2694]}, {\"hoverlabel\": {\"namelength\": 0}, \"hovertemplate\": \"Count=%{marker.color}<br>Name=%{x}<br>YEAR=%{y}\", \"legendgroup\": \"Count=2506\", \"marker\": {\"color\": [2506], \"coloraxis\": \"coloraxis\", \"symbol\": \"circle\"}, \"mode\": \"markers\", \"name\": \"Count=2506\", \"scene\": \"scene\", \"showlegend\": true, \"type\": \"scatter3d\", \"x\": [\"OLIVIA\"], \"y\": [2015], \"z\": [2506]}, {\"hoverlabel\": {\"namelength\": 0}, \"hovertemplate\": \"Count=%{marker.color}<br>Name=%{x}<br>YEAR=%{y}\", \"legendgroup\": \"Count=2138\", \"marker\": {\"color\": [2138], \"coloraxis\": \"coloraxis\", \"symbol\": \"diamond\"}, \"mode\": \"markers\", \"name\": \"Count=2138\", \"scene\": \"scene\", \"showlegend\": true, \"type\": \"scatter3d\", \"x\": [\"EMILY\"], \"y\": [2015], \"z\": [2138]}, {\"hoverlabel\": {\"namelength\": 0}, \"hovertemplate\": \"Count=%{marker.color}<br>Name=%{x}<br>YEAR=%{y}\", \"legendgroup\": \"Count=1762\", \"marker\": {\"color\": [1762], \"coloraxis\": \"coloraxis\", \"symbol\": \"square\"}, \"mode\": \"markers\", \"name\": \"Count=1762\", \"scene\": \"scene\", \"showlegend\": true, \"type\": \"scatter3d\", \"x\": [\"ABIGAIL\"], \"y\": [2015], \"z\": [1762]}, {\"hoverlabel\": {\"namelength\": 0}, \"hovertemplate\": \"Count=%{marker.color}<br>Name=%{x}<br>YEAR=%{y}\", \"legendgroup\": \"Count=1551\", \"marker\": {\"color\": [1551], \"coloraxis\": \"coloraxis\", \"symbol\": \"x\"}, \"mode\": \"markers\", \"name\": \"Count=1551\", \"scene\": \"scene\", \"showlegend\": true, \"type\": \"scatter3d\", \"x\": [\"VICTORIA\"], \"y\": [2015], \"z\": [1551]}, {\"hoverlabel\": {\"namelength\": 0}, \"hovertemplate\": \"Count=%{marker.color}<br>Name=%{x}<br>YEAR=%{y}\", \"legendgroup\": \"Count=1533\", \"marker\": {\"color\": [1533], \"coloraxis\": \"coloraxis\", \"symbol\": \"cross\"}, \"mode\": \"markers\", \"name\": \"Count=1533\", \"scene\": \"scene\", \"showlegend\": true, \"type\": \"scatter3d\", \"x\": [\"AVA\"], \"y\": [2015], \"z\": [1533]}, {\"hoverlabel\": {\"namelength\": 0}, \"hovertemplate\": \"Count=%{marker.color}<br>Name=%{x}<br>YEAR=%{y}\", \"legendgroup\": \"Count=1422\", \"marker\": {\"color\": [1422], \"coloraxis\": \"coloraxis\", \"symbol\": \"circle\"}, \"mode\": \"markers\", \"name\": \"Count=1422\", \"scene\": \"scene\", \"showlegend\": true, \"type\": \"scatter3d\", \"x\": [\"ALEXA\"], \"y\": [2015], \"z\": [1422]}, {\"hoverlabel\": {\"namelength\": 0}, \"hovertemplate\": \"Count=%{marker.color}<br>Name=%{x}<br>YEAR=%{y}\", \"legendgroup\": \"Count=1336\", \"marker\": {\"color\": [1336], \"coloraxis\": \"coloraxis\", \"symbol\": \"diamond\"}, \"mode\": \"markers\", \"name\": \"Count=1336\", \"scene\": \"scene\", \"showlegend\": true, \"type\": \"scatter3d\", \"x\": [\"CHARLOTTE\"], \"y\": [2015], \"z\": [1336]}, {\"hoverlabel\": {\"namelength\": 0}, \"hovertemplate\": \"Count=%{marker.color}<br>Name=%{x}<br>YEAR=%{y}\", \"legendgroup\": \"Count=1058\", \"marker\": {\"color\": [1058], \"coloraxis\": \"coloraxis\", \"symbol\": \"square\"}, \"mode\": \"markers\", \"name\": \"Count=1058\", \"scene\": \"scene\", \"showlegend\": true, \"type\": \"scatter3d\", \"x\": [\"EVELYN\"], \"y\": [2015], \"z\": [1058]}, {\"hoverlabel\": {\"namelength\": 0}, \"hovertemplate\": \"Count=%{marker.color}<br>Name=%{x}<br>YEAR=%{y}\", \"legendgroup\": \"Count=1049\", \"marker\": {\"color\": [1049], \"coloraxis\": \"coloraxis\", \"symbol\": \"x\"}, \"mode\": \"markers\", \"name\": \"Count=1049\", \"scene\": \"scene\", \"showlegend\": true, \"type\": \"scatter3d\", \"x\": [\"SCARLETT\"], \"y\": [2015], \"z\": [1049]}, {\"hoverlabel\": {\"namelength\": 0}, \"hovertemplate\": \"Count=%{marker.color}<br>Name=%{x}<br>YEAR=%{y}\", \"legendgroup\": \"Count=990\", \"marker\": {\"color\": [990], \"coloraxis\": \"coloraxis\", \"symbol\": \"cross\"}, \"mode\": \"markers\", \"name\": \"Count=990\", \"scene\": \"scene\", \"showlegend\": true, \"type\": \"scatter3d\", \"x\": [\"ELIZABETH\"], \"y\": [2015], \"z\": [990]}, {\"hoverlabel\": {\"namelength\": 0}, \"hovertemplate\": \"Count=%{marker.color}<br>Name=%{x}<br>YEAR=%{y}\", \"legendgroup\": \"Count=989\", \"marker\": {\"color\": [989], \"coloraxis\": \"coloraxis\", \"symbol\": \"circle\"}, \"mode\": \"markers\", \"name\": \"Count=989\", \"scene\": \"scene\", \"showlegend\": true, \"type\": \"scatter3d\", \"x\": [\"PENELOPE\"], \"y\": [2015], \"z\": [989]}, {\"hoverlabel\": {\"namelength\": 0}, \"hovertemplate\": \"Count=%{marker.color}<br>Name=%{x}<br>YEAR=%{y}\", \"legendgroup\": \"Count=955\", \"marker\": {\"color\": [955], \"coloraxis\": \"coloraxis\", \"symbol\": \"diamond\"}, \"mode\": \"markers\", \"name\": \"Count=955\", \"scene\": \"scene\", \"showlegend\": true, \"type\": \"scatter3d\", \"x\": [\"ZOE\"], \"y\": [2015], \"z\": [955]}, {\"hoverlabel\": {\"namelength\": 0}, \"hovertemplate\": \"Count=%{marker.color}<br>Name=%{x}<br>YEAR=%{y}\", \"legendgroup\": \"Count=946\", \"marker\": {\"color\": [946], \"coloraxis\": \"coloraxis\", \"symbol\": \"square\"}, \"mode\": \"markers\", \"name\": \"Count=946\", \"scene\": \"scene\", \"showlegend\": true, \"type\": \"scatter3d\", \"x\": [\"CHLOE\"], \"y\": [2015], \"z\": [946]}, {\"hoverlabel\": {\"namelength\": 0}, \"hovertemplate\": \"Count=%{marker.color}<br>Name=%{x}<br>YEAR=%{y}\", \"legendgroup\": \"Count=937\", \"marker\": {\"color\": [937], \"coloraxis\": \"coloraxis\", \"symbol\": \"x\"}, \"mode\": \"markers\", \"name\": \"Count=937\", \"scene\": \"scene\", \"showlegend\": true, \"type\": \"scatter3d\", \"x\": [\"NATALIE\"], \"y\": [2015], \"z\": [937]}, {\"hoverlabel\": {\"namelength\": 0}, \"hovertemplate\": \"Count=%{marker.color}<br>Name=%{x}<br>YEAR=%{y}\", \"legendgroup\": \"Count=919\", \"marker\": {\"color\": [919], \"coloraxis\": \"coloraxis\", \"symbol\": \"cross\"}, \"mode\": \"markers\", \"name\": \"Count=919\", \"scene\": \"scene\", \"showlegend\": true, \"type\": \"scatter3d\", \"x\": [\"AVERY\"], \"y\": [2015], \"z\": [919]}, {\"hoverlabel\": {\"namelength\": 0}, \"hovertemplate\": \"Count=%{marker.color}<br>Name=%{x}<br>YEAR=%{y}\", \"legendgroup\": \"Count=895\", \"marker\": {\"color\": [895, 895, 895], \"coloraxis\": \"coloraxis\", \"symbol\": \"circle\"}, \"mode\": \"markers\", \"name\": \"Count=895\", \"scene\": \"scene\", \"showlegend\": true, \"type\": \"scatter3d\", \"x\": [\"ARIA\", \"GRACE\", \"GENESIS\"], \"y\": [2015, 2015, 2016], \"z\": [895, 895, 895]}, {\"hoverlabel\": {\"namelength\": 0}, \"hovertemplate\": \"Count=%{marker.color}<br>Name=%{x}<br>YEAR=%{y}\", \"legendgroup\": \"Count=2750\", \"marker\": {\"color\": [2750], \"coloraxis\": \"coloraxis\", \"symbol\": \"diamond\"}, \"mode\": \"markers\", \"name\": \"Count=2750\", \"scene\": \"scene\", \"showlegend\": true, \"type\": \"scatter3d\", \"x\": [\"NOAH\"], \"y\": [2015], \"z\": [2750]}, {\"hoverlabel\": {\"namelength\": 0}, \"hovertemplate\": \"Count=%{marker.color}<br>Name=%{x}<br>YEAR=%{y}\", \"legendgroup\": \"Count=2546\", \"marker\": {\"color\": [2546], \"coloraxis\": \"coloraxis\", \"symbol\": \"square\"}, \"mode\": \"markers\", \"name\": \"Count=2546\", \"scene\": \"scene\", \"showlegend\": true, \"type\": \"scatter3d\", \"x\": [\"JACOB\"], \"y\": [2015], \"z\": [2546]}, {\"hoverlabel\": {\"namelength\": 0}, \"hovertemplate\": \"Count=%{marker.color}<br>Name=%{x}<br>YEAR=%{y}\", \"legendgroup\": \"Count=2461\", \"marker\": {\"color\": [2461], \"coloraxis\": \"coloraxis\", \"symbol\": \"x\"}, \"mode\": \"markers\", \"name\": \"Count=2461\", \"scene\": \"scene\", \"showlegend\": true, \"type\": \"scatter3d\", \"x\": [\"ETHAN\"], \"y\": [2015], \"z\": [2461]}, {\"hoverlabel\": {\"namelength\": 0}, \"hovertemplate\": \"Count=%{marker.color}<br>Name=%{x}<br>YEAR=%{y}\", \"legendgroup\": \"Count=2457\", \"marker\": {\"color\": [2457], \"coloraxis\": \"coloraxis\", \"symbol\": \"cross\"}, \"mode\": \"markers\", \"name\": \"Count=2457\", \"scene\": \"scene\", \"showlegend\": true, \"type\": \"scatter3d\", \"x\": [\"DANIEL\"], \"y\": [2015], \"z\": [2457]}, {\"hoverlabel\": {\"namelength\": 0}, \"hovertemplate\": \"Count=%{marker.color}<br>Name=%{x}<br>YEAR=%{y}\", \"legendgroup\": \"Count=2419\", \"marker\": {\"color\": [2419], \"coloraxis\": \"coloraxis\", \"symbol\": \"circle\"}, \"mode\": \"markers\", \"name\": \"Count=2419\", \"scene\": \"scene\", \"showlegend\": true, \"type\": \"scatter3d\", \"x\": [\"MATTHEW\"], \"y\": [2015], \"z\": [2419]}, {\"hoverlabel\": {\"namelength\": 0}, \"hovertemplate\": \"Count=%{marker.color}<br>Name=%{x}<br>YEAR=%{y}\", \"legendgroup\": \"Count=2300\", \"marker\": {\"color\": [2300], \"coloraxis\": \"coloraxis\", \"symbol\": \"diamond\"}, \"mode\": \"markers\", \"name\": \"Count=2300\", \"scene\": \"scene\", \"showlegend\": true, \"type\": \"scatter3d\", \"x\": [\"ALEXANDER\"], \"y\": [2015], \"z\": [2300]}, {\"hoverlabel\": {\"namelength\": 0}, \"hovertemplate\": \"Count=%{marker.color}<br>Name=%{x}<br>YEAR=%{y}\", \"legendgroup\": \"Count=2131\", \"marker\": {\"color\": [2131], \"coloraxis\": \"coloraxis\", \"symbol\": \"square\"}, \"mode\": \"markers\", \"name\": \"Count=2131\", \"scene\": \"scene\", \"showlegend\": true, \"type\": \"scatter3d\", \"x\": [\"JAYDEN\"], \"y\": [2015], \"z\": [2131]}, {\"hoverlabel\": {\"namelength\": 0}, \"hovertemplate\": \"Count=%{marker.color}<br>Name=%{x}<br>YEAR=%{y}\", \"legendgroup\": \"Count=2017\", \"marker\": {\"color\": [2017, 2017], \"coloraxis\": \"coloraxis\", \"symbol\": \"x\"}, \"mode\": \"markers\", \"name\": \"Count=2017\", \"scene\": \"scene\", \"showlegend\": true, \"type\": \"scatter3d\", \"x\": [\"LIAM\", \"LIAM\"], \"y\": [2015, 2016], \"z\": [2017, 2017]}, {\"hoverlabel\": {\"namelength\": 0}, \"hovertemplate\": \"Count=%{marker.color}<br>Name=%{x}<br>YEAR=%{y}\", \"legendgroup\": \"Count=1918\", \"marker\": {\"color\": [1918], \"coloraxis\": \"coloraxis\", \"symbol\": \"cross\"}, \"mode\": \"markers\", \"name\": \"Count=1918\", \"scene\": \"scene\", \"showlegend\": true, \"type\": \"scatter3d\", \"x\": [\"DAVID\"], \"y\": [2015], \"z\": [1918]}, {\"hoverlabel\": {\"namelength\": 0}, \"hovertemplate\": \"Count=%{marker.color}<br>Name=%{x}<br>YEAR=%{y}\", \"legendgroup\": \"Count=1896\", \"marker\": {\"color\": [1896], \"coloraxis\": \"coloraxis\", \"symbol\": \"circle\"}, \"mode\": \"markers\", \"name\": \"Count=1896\", \"scene\": \"scene\", \"showlegend\": true, \"type\": \"scatter3d\", \"x\": [\"JULIAN\"], \"y\": [2015], \"z\": [1896]}, {\"hoverlabel\": {\"namelength\": 0}, \"hovertemplate\": \"Count=%{marker.color}<br>Name=%{x}<br>YEAR=%{y}\", \"legendgroup\": \"Count=1895\", \"marker\": {\"color\": [1895], \"coloraxis\": \"coloraxis\", \"symbol\": \"diamond\"}, \"mode\": \"markers\", \"name\": \"Count=1895\", \"scene\": \"scene\", \"showlegend\": true, \"type\": \"scatter3d\", \"x\": [\"AIDEN\"], \"y\": [2015], \"z\": [1895]}, {\"hoverlabel\": {\"namelength\": 0}, \"hovertemplate\": \"Count=%{marker.color}<br>Name=%{x}<br>YEAR=%{y}\", \"legendgroup\": \"Count=1852\", \"marker\": {\"color\": [1852], \"coloraxis\": \"coloraxis\", \"symbol\": \"square\"}, \"mode\": \"markers\", \"name\": \"Count=1852\", \"scene\": \"scene\", \"showlegend\": true, \"type\": \"scatter3d\", \"x\": [\"MICHAEL\"], \"y\": [2015], \"z\": [1852]}, {\"hoverlabel\": {\"namelength\": 0}, \"hovertemplate\": \"Count=%{marker.color}<br>Name=%{x}<br>YEAR=%{y}\", \"legendgroup\": \"Count=1850\", \"marker\": {\"color\": [1850, 1850], \"coloraxis\": \"coloraxis\", \"symbol\": \"x\"}, \"mode\": \"markers\", \"name\": \"Count=1850\", \"scene\": \"scene\", \"showlegend\": true, \"type\": \"scatter3d\", \"x\": [\"NATHAN\", \"BENJAMIN\"], \"y\": [2015, 2017], \"z\": [1850, 1850]}, {\"hoverlabel\": {\"namelength\": 0}, \"hovertemplate\": \"Count=%{marker.color}<br>Name=%{x}<br>YEAR=%{y}\", \"legendgroup\": \"Count=1813\", \"marker\": {\"color\": [1813], \"coloraxis\": \"coloraxis\", \"symbol\": \"cross\"}, \"mode\": \"markers\", \"name\": \"Count=1813\", \"scene\": \"scene\", \"showlegend\": true, \"type\": \"scatter3d\", \"x\": [\"BENJAMIN\"], \"y\": [2015], \"z\": [1813]}, {\"hoverlabel\": {\"namelength\": 0}, \"hovertemplate\": \"Count=%{marker.color}<br>Name=%{x}<br>YEAR=%{y}\", \"legendgroup\": \"Count=1765\", \"marker\": {\"color\": [1765], \"coloraxis\": \"coloraxis\", \"symbol\": \"circle\"}, \"mode\": \"markers\", \"name\": \"Count=1765\", \"scene\": \"scene\", \"showlegend\": true, \"type\": \"scatter3d\", \"x\": [\"ANTHONY\"], \"y\": [2015], \"z\": [1765]}, {\"hoverlabel\": {\"namelength\": 0}, \"hovertemplate\": \"Count=%{marker.color}<br>Name=%{x}<br>YEAR=%{y}\", \"legendgroup\": \"Count=1704\", \"marker\": {\"color\": [1704], \"coloraxis\": \"coloraxis\", \"symbol\": \"diamond\"}, \"mode\": \"markers\", \"name\": \"Count=1704\", \"scene\": \"scene\", \"showlegend\": true, \"type\": \"scatter3d\", \"x\": [\"ISAAC\"], \"y\": [2015], \"z\": [1704]}, {\"hoverlabel\": {\"namelength\": 0}, \"hovertemplate\": \"Count=%{marker.color}<br>Name=%{x}<br>YEAR=%{y}\", \"legendgroup\": \"Count=1692\", \"marker\": {\"color\": [1692], \"coloraxis\": \"coloraxis\", \"symbol\": \"square\"}, \"mode\": \"markers\", \"name\": \"Count=1692\", \"scene\": \"scene\", \"showlegend\": true, \"type\": \"scatter3d\", \"x\": [\"MASON\"], \"y\": [2015], \"z\": [1692]}, {\"hoverlabel\": {\"namelength\": 0}, \"hovertemplate\": \"Count=%{marker.color}<br>Name=%{x}<br>YEAR=%{y}\", \"legendgroup\": \"Count=1679\", \"marker\": {\"color\": [1679], \"coloraxis\": \"coloraxis\", \"symbol\": \"x\"}, \"mode\": \"markers\", \"name\": \"Count=1679\", \"scene\": \"scene\", \"showlegend\": true, \"type\": \"scatter3d\", \"x\": [\"DYLAN\"], \"y\": [2015], \"z\": [1679]}, {\"hoverlabel\": {\"namelength\": 0}, \"hovertemplate\": \"Count=%{marker.color}<br>Name=%{x}<br>YEAR=%{y}\", \"legendgroup\": \"Count=1530\", \"marker\": {\"color\": [1530], \"coloraxis\": \"coloraxis\", \"symbol\": \"cross\"}, \"mode\": \"markers\", \"name\": \"Count=1530\", \"scene\": \"scene\", \"showlegend\": true, \"type\": \"scatter3d\", \"x\": [\"JAMES\"], \"y\": [2015], \"z\": [1530]}, {\"hoverlabel\": {\"namelength\": 0}, \"hovertemplate\": \"Count=%{marker.color}<br>Name=%{x}<br>YEAR=%{y}\", \"legendgroup\": \"Count=1514\", \"marker\": {\"color\": [1514], \"coloraxis\": \"coloraxis\", \"symbol\": \"circle\"}, \"mode\": \"markers\", \"name\": \"Count=1514\", \"scene\": \"scene\", \"showlegend\": true, \"type\": \"scatter3d\", \"x\": [\"ADRIAN\"], \"y\": [2015], \"z\": [1514]}, {\"hoverlabel\": {\"namelength\": 0}, \"hovertemplate\": \"Count=%{marker.color}<br>Name=%{x}<br>YEAR=%{y}\", \"legendgroup\": \"Count=1511\", \"marker\": {\"color\": [1511], \"coloraxis\": \"coloraxis\", \"symbol\": \"diamond\"}, \"mode\": \"markers\", \"name\": \"Count=1511\", \"scene\": \"scene\", \"showlegend\": true, \"type\": \"scatter3d\", \"x\": [\"JOSEPH\"], \"y\": [2015], \"z\": [1511]}, {\"hoverlabel\": {\"namelength\": 0}, \"hovertemplate\": \"Count=%{marker.color}<br>Name=%{x}<br>YEAR=%{y}\", \"legendgroup\": \"Count=1504\", \"marker\": {\"color\": [1504], \"coloraxis\": \"coloraxis\", \"symbol\": \"square\"}, \"mode\": \"markers\", \"name\": \"Count=1504\", \"scene\": \"scene\", \"showlegend\": true, \"type\": \"scatter3d\", \"x\": [\"ELIJAH\"], \"y\": [2015], \"z\": [1504]}, {\"hoverlabel\": {\"namelength\": 0}, \"hovertemplate\": \"Count=%{marker.color}<br>Name=%{x}<br>YEAR=%{y}\", \"legendgroup\": \"Count=2788\", \"marker\": {\"color\": [2788], \"coloraxis\": \"coloraxis\", \"symbol\": \"x\"}, \"mode\": \"markers\", \"name\": \"Count=2788\", \"scene\": \"scene\", \"showlegend\": true, \"type\": \"scatter3d\", \"x\": [\"MIA\"], \"y\": [2016], \"z\": [2788]}, {\"hoverlabel\": {\"namelength\": 0}, \"hovertemplate\": \"Count=%{marker.color}<br>Name=%{x}<br>YEAR=%{y}\", \"legendgroup\": \"Count=2740\", \"marker\": {\"color\": [2740], \"coloraxis\": \"coloraxis\", \"symbol\": \"cross\"}, \"mode\": \"markers\", \"name\": \"Count=2740\", \"scene\": \"scene\", \"showlegend\": true, \"type\": \"scatter3d\", \"x\": [\"SOPHIA\"], \"y\": [2016], \"z\": [2740]}, {\"hoverlabel\": {\"namelength\": 0}, \"hovertemplate\": \"Count=%{marker.color}<br>Name=%{x}<br>YEAR=%{y}\", \"legendgroup\": \"Count=1944\", \"marker\": {\"color\": [1944], \"coloraxis\": \"coloraxis\", \"symbol\": \"circle\"}, \"mode\": \"markers\", \"name\": \"Count=1944\", \"scene\": \"scene\", \"showlegend\": true, \"type\": \"scatter3d\", \"x\": [\"EMILY\"], \"y\": [2016], \"z\": [1944]}, {\"hoverlabel\": {\"namelength\": 0}, \"hovertemplate\": \"Count=%{marker.color}<br>Name=%{x}<br>YEAR=%{y}\", \"legendgroup\": \"Count=1885\", \"marker\": {\"color\": [1885], \"coloraxis\": \"coloraxis\", \"symbol\": \"diamond\"}, \"mode\": \"markers\", \"name\": \"Count=1885\", \"scene\": \"scene\", \"showlegend\": true, \"type\": \"scatter3d\", \"x\": [\"SOFIA\"], \"y\": [2016], \"z\": [1885]}, {\"hoverlabel\": {\"namelength\": 0}, \"hovertemplate\": \"Count=%{marker.color}<br>Name=%{x}<br>YEAR=%{y}\", \"legendgroup\": \"Count=1636\", \"marker\": {\"color\": [1636], \"coloraxis\": \"coloraxis\", \"symbol\": \"square\"}, \"mode\": \"markers\", \"name\": \"Count=1636\", \"scene\": \"scene\", \"showlegend\": true, \"type\": \"scatter3d\", \"x\": [\"CAMILA\"], \"y\": [2016], \"z\": [1636]}, {\"hoverlabel\": {\"namelength\": 0}, \"hovertemplate\": \"Count=%{marker.color}<br>Name=%{x}<br>YEAR=%{y}\", \"legendgroup\": \"Count=1606\", \"marker\": {\"color\": [1606], \"coloraxis\": \"coloraxis\", \"symbol\": \"x\"}, \"mode\": \"markers\", \"name\": \"Count=1606\", \"scene\": \"scene\", \"showlegend\": true, \"type\": \"scatter3d\", \"x\": [\"AVA\"], \"y\": [2016], \"z\": [1606]}, {\"hoverlabel\": {\"namelength\": 0}, \"hovertemplate\": \"Count=%{marker.color}<br>Name=%{x}<br>YEAR=%{y}\", \"legendgroup\": \"Count=1583\", \"marker\": {\"color\": [1583], \"coloraxis\": \"coloraxis\", \"symbol\": \"cross\"}, \"mode\": \"markers\", \"name\": \"Count=1583\", \"scene\": \"scene\", \"showlegend\": true, \"type\": \"scatter3d\", \"x\": [\"ABIGAIL\"], \"y\": [2016], \"z\": [1583]}, {\"hoverlabel\": {\"namelength\": 0}, \"hovertemplate\": \"Count=%{marker.color}<br>Name=%{x}<br>YEAR=%{y}\", \"legendgroup\": \"Count=1182\", \"marker\": {\"color\": [1182], \"coloraxis\": \"coloraxis\", \"symbol\": \"circle\"}, \"mode\": \"markers\", \"name\": \"Count=1182\", \"scene\": \"scene\", \"showlegend\": true, \"type\": \"scatter3d\", \"x\": [\"EVELYN\"], \"y\": [2016], \"z\": [1182]}, {\"hoverlabel\": {\"namelength\": 0}, \"hovertemplate\": \"Count=%{marker.color}<br>Name=%{x}<br>YEAR=%{y}\", \"legendgroup\": \"Count=1112\", \"marker\": {\"color\": [1112], \"coloraxis\": \"coloraxis\", \"symbol\": \"diamond\"}, \"mode\": \"markers\", \"name\": \"Count=1112\", \"scene\": \"scene\", \"showlegend\": true, \"type\": \"scatter3d\", \"x\": [\"SCARLETT\"], \"y\": [2016], \"z\": [1112]}, {\"hoverlabel\": {\"namelength\": 0}, \"hovertemplate\": \"Count=%{marker.color}<br>Name=%{x}<br>YEAR=%{y}\", \"legendgroup\": \"Count=1055\", \"marker\": {\"color\": [1055], \"coloraxis\": \"coloraxis\", \"symbol\": \"square\"}, \"mode\": \"markers\", \"name\": \"Count=1055\", \"scene\": \"scene\", \"showlegend\": true, \"type\": \"scatter3d\", \"x\": [\"PENELOPE\"], \"y\": [2016], \"z\": [1055]}, {\"hoverlabel\": {\"namelength\": 0}, \"hovertemplate\": \"Count=%{marker.color}<br>Name=%{x}<br>YEAR=%{y}\", \"legendgroup\": \"Count=1050\", \"marker\": {\"color\": [1050], \"coloraxis\": \"coloraxis\", \"symbol\": \"x\"}, \"mode\": \"markers\", \"name\": \"Count=1050\", \"scene\": \"scene\", \"showlegend\": true, \"type\": \"scatter3d\", \"x\": [\"AMELIA\"], \"y\": [2016], \"z\": [1050]}, {\"hoverlabel\": {\"namelength\": 0}, \"hovertemplate\": \"Count=%{marker.color}<br>Name=%{x}<br>YEAR=%{y}\", \"legendgroup\": \"Count=1016\", \"marker\": {\"color\": [1016, 1016], \"coloraxis\": \"coloraxis\", \"symbol\": \"cross\"}, \"mode\": \"markers\", \"name\": \"Count=1016\", \"scene\": \"scene\", \"showlegend\": true, \"type\": \"scatter3d\", \"x\": [\"ALEXA\", \"ELIZABETH\"], \"y\": [2016, 2016], \"z\": [1016, 1016]}, {\"hoverlabel\": {\"namelength\": 0}, \"hovertemplate\": \"Count=%{marker.color}<br>Name=%{x}<br>YEAR=%{y}\", \"legendgroup\": \"Count=1008\", \"marker\": {\"color\": [1008], \"coloraxis\": \"coloraxis\", \"symbol\": \"circle\"}, \"mode\": \"markers\", \"name\": \"Count=1008\", \"scene\": \"scene\", \"showlegend\": true, \"type\": \"scatter3d\", \"x\": [\"SAMANTHA\"], \"y\": [2016], \"z\": [1008]}, {\"hoverlabel\": {\"namelength\": 0}, \"hovertemplate\": \"Count=%{marker.color}<br>Name=%{x}<br>YEAR=%{y}\", \"legendgroup\": \"Count=1002\", \"marker\": {\"color\": [1002], \"coloraxis\": \"coloraxis\", \"symbol\": \"diamond\"}, \"mode\": \"markers\", \"name\": \"Count=1002\", \"scene\": \"scene\", \"showlegend\": true, \"type\": \"scatter3d\", \"x\": [\"ARIA\"], \"y\": [2016], \"z\": [1002]}, {\"hoverlabel\": {\"namelength\": 0}, \"hovertemplate\": \"Count=%{marker.color}<br>Name=%{x}<br>YEAR=%{y}\", \"legendgroup\": \"Count=959\", \"marker\": {\"color\": [959], \"coloraxis\": \"coloraxis\", \"symbol\": \"square\"}, \"mode\": \"markers\", \"name\": \"Count=959\", \"scene\": \"scene\", \"showlegend\": true, \"type\": \"scatter3d\", \"x\": [\"AVERY\"], \"y\": [2016], \"z\": [959]}, {\"hoverlabel\": {\"namelength\": 0}, \"hovertemplate\": \"Count=%{marker.color}<br>Name=%{x}<br>YEAR=%{y}\", \"legendgroup\": \"Count=914\", \"marker\": {\"color\": [914], \"coloraxis\": \"coloraxis\", \"symbol\": \"x\"}, \"mode\": \"markers\", \"name\": \"Count=914\", \"scene\": \"scene\", \"showlegend\": true, \"type\": \"scatter3d\", \"x\": [\"MADISON\"], \"y\": [2016], \"z\": [914]}, {\"hoverlabel\": {\"namelength\": 0}, \"hovertemplate\": \"Count=%{marker.color}<br>Name=%{x}<br>YEAR=%{y}\", \"legendgroup\": \"Count=906\", \"marker\": {\"color\": [906], \"coloraxis\": \"coloraxis\", \"symbol\": \"cross\"}, \"mode\": \"markers\", \"name\": \"Count=906\", \"scene\": \"scene\", \"showlegend\": true, \"type\": \"scatter3d\", \"x\": [\"ZOE\"], \"y\": [2016], \"z\": [906]}, {\"hoverlabel\": {\"namelength\": 0}, \"hovertemplate\": \"Count=%{marker.color}<br>Name=%{x}<br>YEAR=%{y}\", \"legendgroup\": \"Count=2681\", \"marker\": {\"color\": [2681], \"coloraxis\": \"coloraxis\", \"symbol\": \"circle\"}, \"mode\": \"markers\", \"name\": \"Count=2681\", \"scene\": \"scene\", \"showlegend\": true, \"type\": \"scatter3d\", \"x\": [\"NOAH\"], \"y\": [2016], \"z\": [2681]}, {\"hoverlabel\": {\"namelength\": 0}, \"hovertemplate\": \"Count=%{marker.color}<br>Name=%{x}<br>YEAR=%{y}\", \"legendgroup\": \"Count=2322\", \"marker\": {\"color\": [2322], \"coloraxis\": \"coloraxis\", \"symbol\": \"diamond\"}, \"mode\": \"markers\", \"name\": \"Count=2322\", \"scene\": \"scene\", \"showlegend\": true, \"type\": \"scatter3d\", \"x\": [\"ETHAN\"], \"y\": [2016], \"z\": [2322]}, {\"hoverlabel\": {\"namelength\": 0}, \"hovertemplate\": \"Count=%{marker.color}<br>Name=%{x}<br>YEAR=%{y}\", \"legendgroup\": \"Count=2284\", \"marker\": {\"color\": [2284], \"coloraxis\": \"coloraxis\", \"symbol\": \"square\"}, \"mode\": \"markers\", \"name\": \"Count=2284\", \"scene\": \"scene\", \"showlegend\": true, \"type\": \"scatter3d\", \"x\": [\"DANIEL\"], \"y\": [2016], \"z\": [2284]}, {\"hoverlabel\": {\"namelength\": 0}, \"hovertemplate\": \"Count=%{marker.color}<br>Name=%{x}<br>YEAR=%{y}\", \"legendgroup\": \"Count=2254\", \"marker\": {\"color\": [2254], \"coloraxis\": \"coloraxis\", \"symbol\": \"x\"}, \"mode\": \"markers\", \"name\": \"Count=2254\", \"scene\": \"scene\", \"showlegend\": true, \"type\": \"scatter3d\", \"x\": [\"SEBASTIAN\"], \"y\": [2016], \"z\": [2254]}, {\"hoverlabel\": {\"namelength\": 0}, \"hovertemplate\": \"Count=%{marker.color}<br>Name=%{x}<br>YEAR=%{y}\", \"legendgroup\": \"Count=2213\", \"marker\": {\"color\": [2213], \"coloraxis\": \"coloraxis\", \"symbol\": \"cross\"}, \"mode\": \"markers\", \"name\": \"Count=2213\", \"scene\": \"scene\", \"showlegend\": true, \"type\": \"scatter3d\", \"x\": [\"ALEXANDER\"], \"y\": [2016], \"z\": [2213]}, {\"hoverlabel\": {\"namelength\": 0}, \"hovertemplate\": \"Count=%{marker.color}<br>Name=%{x}<br>YEAR=%{y}\", \"legendgroup\": \"Count=2034\", \"marker\": {\"color\": [2034], \"coloraxis\": \"coloraxis\", \"symbol\": \"circle\"}, \"mode\": \"markers\", \"name\": \"Count=2034\", \"scene\": \"scene\", \"showlegend\": true, \"type\": \"scatter3d\", \"x\": [\"JULIAN\"], \"y\": [2016], \"z\": [2034]}, {\"hoverlabel\": {\"namelength\": 0}, \"hovertemplate\": \"Count=%{marker.color}<br>Name=%{x}<br>YEAR=%{y}\", \"legendgroup\": \"Count=1910\", \"marker\": {\"color\": [1910], \"coloraxis\": \"coloraxis\", \"symbol\": \"diamond\"}, \"mode\": \"markers\", \"name\": \"Count=1910\", \"scene\": \"scene\", \"showlegend\": true, \"type\": \"scatter3d\", \"x\": [\"BENJAMIN\"], \"y\": [2016], \"z\": [1910]}, {\"hoverlabel\": {\"namelength\": 0}, \"hovertemplate\": \"Count=%{marker.color}<br>Name=%{x}<br>YEAR=%{y}\", \"legendgroup\": \"Count=1844\", \"marker\": {\"color\": [1844], \"coloraxis\": \"coloraxis\", \"symbol\": \"square\"}, \"mode\": \"markers\", \"name\": \"Count=1844\", \"scene\": \"scene\", \"showlegend\": true, \"type\": \"scatter3d\", \"x\": [\"JAYDEN\"], \"y\": [2016], \"z\": [1844]}, {\"hoverlabel\": {\"namelength\": 0}, \"hovertemplate\": \"Count=%{marker.color}<br>Name=%{x}<br>YEAR=%{y}\", \"legendgroup\": \"Count=1827\", \"marker\": {\"color\": [1827], \"coloraxis\": \"coloraxis\", \"symbol\": \"x\"}, \"mode\": \"markers\", \"name\": \"Count=1827\", \"scene\": \"scene\", \"showlegend\": true, \"type\": \"scatter3d\", \"x\": [\"MATEO\"], \"y\": [2016], \"z\": [1827]}, {\"hoverlabel\": {\"namelength\": 0}, \"hovertemplate\": \"Count=%{marker.color}<br>Name=%{x}<br>YEAR=%{y}\", \"legendgroup\": \"Count=1759\", \"marker\": {\"color\": [1759], \"coloraxis\": \"coloraxis\", \"symbol\": \"cross\"}, \"mode\": \"markers\", \"name\": \"Count=1759\", \"scene\": \"scene\", \"showlegend\": true, \"type\": \"scatter3d\", \"x\": [\"MICHAEL\"], \"y\": [2016], \"z\": [1759]}, {\"hoverlabel\": {\"namelength\": 0}, \"hovertemplate\": \"Count=%{marker.color}<br>Name=%{x}<br>YEAR=%{y}\", \"legendgroup\": \"Count=1744\", \"marker\": {\"color\": [1744], \"coloraxis\": \"coloraxis\", \"symbol\": \"circle\"}, \"mode\": \"markers\", \"name\": \"Count=1744\", \"scene\": \"scene\", \"showlegend\": true, \"type\": \"scatter3d\", \"x\": [\"AIDEN\"], \"y\": [2016], \"z\": [1744]}, {\"hoverlabel\": {\"namelength\": 0}, \"hovertemplate\": \"Count=%{marker.color}<br>Name=%{x}<br>YEAR=%{y}\", \"legendgroup\": \"Count=1706\", \"marker\": {\"color\": [1706], \"coloraxis\": \"coloraxis\", \"symbol\": \"diamond\"}, \"mode\": \"markers\", \"name\": \"Count=1706\", \"scene\": \"scene\", \"showlegend\": true, \"type\": \"scatter3d\", \"x\": [\"DAVID\"], \"y\": [2016], \"z\": [1706]}, {\"hoverlabel\": {\"namelength\": 0}, \"hovertemplate\": \"Count=%{marker.color}<br>Name=%{x}<br>YEAR=%{y}\", \"legendgroup\": \"Count=1691\", \"marker\": {\"color\": [1691], \"coloraxis\": \"coloraxis\", \"symbol\": \"square\"}, \"mode\": \"markers\", \"name\": \"Count=1691\", \"scene\": \"scene\", \"showlegend\": true, \"type\": \"scatter3d\", \"x\": [\"NATHAN\"], \"y\": [2016], \"z\": [1691]}, {\"hoverlabel\": {\"namelength\": 0}, \"hovertemplate\": \"Count=%{marker.color}<br>Name=%{x}<br>YEAR=%{y}\", \"legendgroup\": \"Count=1651\", \"marker\": {\"color\": [1651], \"coloraxis\": \"coloraxis\", \"symbol\": \"x\"}, \"mode\": \"markers\", \"name\": \"Count=1651\", \"scene\": \"scene\", \"showlegend\": true, \"type\": \"scatter3d\", \"x\": [\"ANTHONY\"], \"y\": [2016], \"z\": [1651]}, {\"hoverlabel\": {\"namelength\": 0}, \"hovertemplate\": \"Count=%{marker.color}<br>Name=%{x}<br>YEAR=%{y}\", \"legendgroup\": \"Count=1561\", \"marker\": {\"color\": [1561, 1561], \"coloraxis\": \"coloraxis\", \"symbol\": \"cross\"}, \"mode\": \"markers\", \"name\": \"Count=1561\", \"scene\": \"scene\", \"showlegend\": true, \"type\": \"scatter3d\", \"x\": [\"ISAAC\", \"OLIVER\"], \"y\": [2016, 2017], \"z\": [1561, 1561]}, {\"hoverlabel\": {\"namelength\": 0}, \"hovertemplate\": \"Count=%{marker.color}<br>Name=%{x}<br>YEAR=%{y}\", \"legendgroup\": \"Count=1550\", \"marker\": {\"color\": [1550], \"coloraxis\": \"coloraxis\", \"symbol\": \"circle\"}, \"mode\": \"markers\", \"name\": \"Count=1550\", \"scene\": \"scene\", \"showlegend\": true, \"type\": \"scatter3d\", \"x\": [\"AARON\"], \"y\": [2016], \"z\": [1550]}, {\"hoverlabel\": {\"namelength\": 0}, \"hovertemplate\": \"Count=%{marker.color}<br>Name=%{x}<br>YEAR=%{y}\", \"legendgroup\": \"Count=1528\", \"marker\": {\"color\": [1528, 1528], \"coloraxis\": \"coloraxis\", \"symbol\": \"diamond\"}, \"mode\": \"markers\", \"name\": \"Count=1528\", \"scene\": \"scene\", \"showlegend\": true, \"type\": \"scatter3d\", \"x\": [\"DYLAN\", \"AARON\"], \"y\": [2016, 2017], \"z\": [1528, 1528]}, {\"hoverlabel\": {\"namelength\": 0}, \"hovertemplate\": \"Count=%{marker.color}<br>Name=%{x}<br>YEAR=%{y}\", \"legendgroup\": \"Count=2479\", \"marker\": {\"color\": [2479], \"coloraxis\": \"coloraxis\", \"symbol\": \"square\"}, \"mode\": \"markers\", \"name\": \"Count=2479\", \"scene\": \"scene\", \"showlegend\": true, \"type\": \"scatter3d\", \"x\": [\"OLIVIA\"], \"y\": [2017], \"z\": [2479]}, {\"hoverlabel\": {\"namelength\": 0}, \"hovertemplate\": \"Count=%{marker.color}<br>Name=%{x}<br>YEAR=%{y}\", \"legendgroup\": \"Count=2342\", \"marker\": {\"color\": [2342], \"coloraxis\": \"coloraxis\", \"symbol\": \"x\"}, \"mode\": \"markers\", \"name\": \"Count=2342\", \"scene\": \"scene\", \"showlegend\": true, \"type\": \"scatter3d\", \"x\": [\"ISABELLA\"], \"y\": [2017], \"z\": [2342]}, {\"hoverlabel\": {\"namelength\": 0}, \"hovertemplate\": \"Count=%{marker.color}<br>Name=%{x}<br>YEAR=%{y}\", \"legendgroup\": \"Count=1805\", \"marker\": {\"color\": [1805], \"coloraxis\": \"coloraxis\", \"symbol\": \"cross\"}, \"mode\": \"markers\", \"name\": \"Count=1805\", \"scene\": \"scene\", \"showlegend\": true, \"type\": \"scatter3d\", \"x\": [\"EMILY\"], \"y\": [2017], \"z\": [1805]}, {\"hoverlabel\": {\"namelength\": 0}, \"hovertemplate\": \"Count=%{marker.color}<br>Name=%{x}<br>YEAR=%{y}\", \"legendgroup\": \"Count=1677\", \"marker\": {\"color\": [1677], \"coloraxis\": \"coloraxis\", \"symbol\": \"circle\"}, \"mode\": \"markers\", \"name\": \"Count=1677\", \"scene\": \"scene\", \"showlegend\": true, \"type\": \"scatter3d\", \"x\": [\"SOFIA\"], \"y\": [2017], \"z\": [1677]}, {\"hoverlabel\": {\"namelength\": 0}, \"hovertemplate\": \"Count=%{marker.color}<br>Name=%{x}<br>YEAR=%{y}\", \"legendgroup\": \"Count=1524\", \"marker\": {\"color\": [1524], \"coloraxis\": \"coloraxis\", \"symbol\": \"diamond\"}, \"mode\": \"markers\", \"name\": \"Count=1524\", \"scene\": \"scene\", \"showlegend\": true, \"type\": \"scatter3d\", \"x\": [\"AVA\"], \"y\": [2017], \"z\": [1524]}, {\"hoverlabel\": {\"namelength\": 0}, \"hovertemplate\": \"Count=%{marker.color}<br>Name=%{x}<br>YEAR=%{y}\", \"legendgroup\": \"Count=1487\", \"marker\": {\"color\": [1487], \"coloraxis\": \"coloraxis\", \"symbol\": \"square\"}, \"mode\": \"markers\", \"name\": \"Count=1487\", \"scene\": \"scene\", \"showlegend\": true, \"type\": \"scatter3d\", \"x\": [\"VICTORIA\"], \"y\": [2017], \"z\": [1487]}, {\"hoverlabel\": {\"namelength\": 0}, \"hovertemplate\": \"Count=%{marker.color}<br>Name=%{x}<br>YEAR=%{y}\", \"legendgroup\": \"Count=1387\", \"marker\": {\"color\": [1387], \"coloraxis\": \"coloraxis\", \"symbol\": \"x\"}, \"mode\": \"markers\", \"name\": \"Count=1387\", \"scene\": \"scene\", \"showlegend\": true, \"type\": \"scatter3d\", \"x\": [\"CHARLOTTE\"], \"y\": [2017], \"z\": [1387]}, {\"hoverlabel\": {\"namelength\": 0}, \"hovertemplate\": \"Count=%{marker.color}<br>Name=%{x}<br>YEAR=%{y}\", \"legendgroup\": \"Count=1171\", \"marker\": {\"color\": [1171], \"coloraxis\": \"coloraxis\", \"symbol\": \"cross\"}, \"mode\": \"markers\", \"name\": \"Count=1171\", \"scene\": \"scene\", \"showlegend\": true, \"type\": \"scatter3d\", \"x\": [\"EVELYN\"], \"y\": [2017], \"z\": [1171]}, {\"hoverlabel\": {\"namelength\": 0}, \"hovertemplate\": \"Count=%{marker.color}<br>Name=%{x}<br>YEAR=%{y}\", \"legendgroup\": \"Count=1150\", \"marker\": {\"color\": [1150], \"coloraxis\": \"coloraxis\", \"symbol\": \"circle\"}, \"mode\": \"markers\", \"name\": \"Count=1150\", \"scene\": \"scene\", \"showlegend\": true, \"type\": \"scatter3d\", \"x\": [\"LUNA\"], \"y\": [2017], \"z\": [1150]}, {\"hoverlabel\": {\"namelength\": 0}, \"hovertemplate\": \"Count=%{marker.color}<br>Name=%{x}<br>YEAR=%{y}\", \"legendgroup\": \"Count=1104\", \"marker\": {\"color\": [1104], \"coloraxis\": \"coloraxis\", \"symbol\": \"diamond\"}, \"mode\": \"markers\", \"name\": \"Count=1104\", \"scene\": \"scene\", \"showlegend\": true, \"type\": \"scatter3d\", \"x\": [\"SCARLETT\"], \"y\": [2017], \"z\": [1104]}, {\"hoverlabel\": {\"namelength\": 0}, \"hovertemplate\": \"Count=%{marker.color}<br>Name=%{x}<br>YEAR=%{y}\", \"legendgroup\": \"Count=1086\", \"marker\": {\"color\": [1086], \"coloraxis\": \"coloraxis\", \"symbol\": \"square\"}, \"mode\": \"markers\", \"name\": \"Count=1086\", \"scene\": \"scene\", \"showlegend\": true, \"type\": \"scatter3d\", \"x\": [\"PENELOPE\"], \"y\": [2017], \"z\": [1086]}, {\"hoverlabel\": {\"namelength\": 0}, \"hovertemplate\": \"Count=%{marker.color}<br>Name=%{x}<br>YEAR=%{y}\", \"legendgroup\": \"Count=1072\", \"marker\": {\"color\": [1072], \"coloraxis\": \"coloraxis\", \"symbol\": \"x\"}, \"mode\": \"markers\", \"name\": \"Count=1072\", \"scene\": \"scene\", \"showlegend\": true, \"type\": \"scatter3d\", \"x\": [\"AMELIA\"], \"y\": [2017], \"z\": [1072]}, {\"hoverlabel\": {\"namelength\": 0}, \"hovertemplate\": \"Count=%{marker.color}<br>Name=%{x}<br>YEAR=%{y}\", \"legendgroup\": \"Count=967\", \"marker\": {\"color\": [967], \"coloraxis\": \"coloraxis\", \"symbol\": \"cross\"}, \"mode\": \"markers\", \"name\": \"Count=967\", \"scene\": \"scene\", \"showlegend\": true, \"type\": \"scatter3d\", \"x\": [\"ELIZABETH\"], \"y\": [2017], \"z\": [967]}, {\"hoverlabel\": {\"namelength\": 0}, \"hovertemplate\": \"Count=%{marker.color}<br>Name=%{x}<br>YEAR=%{y}\", \"legendgroup\": \"Count=949\", \"marker\": {\"color\": [949], \"coloraxis\": \"coloraxis\", \"symbol\": \"circle\"}, \"mode\": \"markers\", \"name\": \"Count=949\", \"scene\": \"scene\", \"showlegend\": true, \"type\": \"scatter3d\", \"x\": [\"CHLOE\"], \"y\": [2017], \"z\": [949]}, {\"hoverlabel\": {\"namelength\": 0}, \"hovertemplate\": \"Count=%{marker.color}<br>Name=%{x}<br>YEAR=%{y}\", \"legendgroup\": \"Count=886\", \"marker\": {\"color\": [886], \"coloraxis\": \"coloraxis\", \"symbol\": \"diamond\"}, \"mode\": \"markers\", \"name\": \"Count=886\", \"scene\": \"scene\", \"showlegend\": true, \"type\": \"scatter3d\", \"x\": [\"ZOE\"], \"y\": [2017], \"z\": [886]}, {\"hoverlabel\": {\"namelength\": 0}, \"hovertemplate\": \"Count=%{marker.color}<br>Name=%{x}<br>YEAR=%{y}\", \"legendgroup\": \"Count=882\", \"marker\": {\"color\": [882], \"coloraxis\": \"coloraxis\", \"symbol\": \"square\"}, \"mode\": \"markers\", \"name\": \"Count=882\", \"scene\": \"scene\", \"showlegend\": true, \"type\": \"scatter3d\", \"x\": [\"GRACE\"], \"y\": [2017], \"z\": [882]}, {\"hoverlabel\": {\"namelength\": 0}, \"hovertemplate\": \"Count=%{marker.color}<br>Name=%{x}<br>YEAR=%{y}\", \"legendgroup\": \"Count=871\", \"marker\": {\"color\": [871], \"coloraxis\": \"coloraxis\", \"symbol\": \"x\"}, \"mode\": \"markers\", \"name\": \"Count=871\", \"scene\": \"scene\", \"showlegend\": true, \"type\": \"scatter3d\", \"x\": [\"SAMANTHA\"], \"y\": [2017], \"z\": [871]}, {\"hoverlabel\": {\"namelength\": 0}, \"hovertemplate\": \"Count=%{marker.color}<br>Name=%{x}<br>YEAR=%{y}\", \"legendgroup\": \"Count=853\", \"marker\": {\"color\": [853], \"coloraxis\": \"coloraxis\", \"symbol\": \"cross\"}, \"mode\": \"markers\", \"name\": \"Count=853\", \"scene\": \"scene\", \"showlegend\": true, \"type\": \"scatter3d\", \"x\": [\"GENESIS\"], \"y\": [2017], \"z\": [853]}, {\"hoverlabel\": {\"namelength\": 0}, \"hovertemplate\": \"Count=%{marker.color}<br>Name=%{x}<br>YEAR=%{y}\", \"legendgroup\": \"Count=2267\", \"marker\": {\"color\": [2267], \"coloraxis\": \"coloraxis\", \"symbol\": \"circle\"}, \"mode\": \"markers\", \"name\": \"Count=2267\", \"scene\": \"scene\", \"showlegend\": true, \"type\": \"scatter3d\", \"x\": [\"SEBASTIAN\"], \"y\": [2017], \"z\": [2267]}, {\"hoverlabel\": {\"namelength\": 0}, \"hovertemplate\": \"Count=%{marker.color}<br>Name=%{x}<br>YEAR=%{y}\", \"legendgroup\": \"Count=2187\", \"marker\": {\"color\": [2187], \"coloraxis\": \"coloraxis\", \"symbol\": \"diamond\"}, \"mode\": \"markers\", \"name\": \"Count=2187\", \"scene\": \"scene\", \"showlegend\": true, \"type\": \"scatter3d\", \"x\": [\"LIAM\"], \"y\": [2017], \"z\": [2187]}, {\"hoverlabel\": {\"namelength\": 0}, \"hovertemplate\": \"Count=%{marker.color}<br>Name=%{x}<br>YEAR=%{y}\", \"legendgroup\": \"Count=2147\", \"marker\": {\"color\": [2147], \"coloraxis\": \"coloraxis\", \"symbol\": \"square\"}, \"mode\": \"markers\", \"name\": \"Count=2147\", \"scene\": \"scene\", \"showlegend\": true, \"type\": \"scatter3d\", \"x\": [\"ETHAN\"], \"y\": [2017], \"z\": [2147]}, {\"hoverlabel\": {\"namelength\": 0}, \"hovertemplate\": \"Count=%{marker.color}<br>Name=%{x}<br>YEAR=%{y}\", \"legendgroup\": \"Count=2132\", \"marker\": {\"color\": [2132], \"coloraxis\": \"coloraxis\", \"symbol\": \"x\"}, \"mode\": \"markers\", \"name\": \"Count=2132\", \"scene\": \"scene\", \"showlegend\": true, \"type\": \"scatter3d\", \"x\": [\"MATTHEW\"], \"y\": [2017], \"z\": [2132]}, {\"hoverlabel\": {\"namelength\": 0}, \"hovertemplate\": \"Count=%{marker.color}<br>Name=%{x}<br>YEAR=%{y}\", \"legendgroup\": \"Count=2088\", \"marker\": {\"color\": [2088], \"coloraxis\": \"coloraxis\", \"symbol\": \"cross\"}, \"mode\": \"markers\", \"name\": \"Count=2088\", \"scene\": \"scene\", \"showlegend\": true, \"type\": \"scatter3d\", \"x\": [\"DANIEL\"], \"y\": [2017], \"z\": [2088]}, {\"hoverlabel\": {\"namelength\": 0}, \"hovertemplate\": \"Count=%{marker.color}<br>Name=%{x}<br>YEAR=%{y}\", \"legendgroup\": \"Count=2007\", \"marker\": {\"color\": [2007], \"coloraxis\": \"coloraxis\", \"symbol\": \"circle\"}, \"mode\": \"markers\", \"name\": \"Count=2007\", \"scene\": \"scene\", \"showlegend\": true, \"type\": \"scatter3d\", \"x\": [\"MATEO\"], \"y\": [2017], \"z\": [2007]}, {\"hoverlabel\": {\"namelength\": 0}, \"hovertemplate\": \"Count=%{marker.color}<br>Name=%{x}<br>YEAR=%{y}\", \"legendgroup\": \"Count=1774\", \"marker\": {\"color\": [1774], \"coloraxis\": \"coloraxis\", \"symbol\": \"diamond\"}, \"mode\": \"markers\", \"name\": \"Count=1774\", \"scene\": \"scene\", \"showlegend\": true, \"type\": \"scatter3d\", \"x\": [\"LOGAN\"], \"y\": [2017], \"z\": [1774]}, {\"hoverlabel\": {\"namelength\": 0}, \"hovertemplate\": \"Count=%{marker.color}<br>Name=%{x}<br>YEAR=%{y}\", \"legendgroup\": \"Count=1688\", \"marker\": {\"color\": [1688], \"coloraxis\": \"coloraxis\", \"symbol\": \"square\"}, \"mode\": \"markers\", \"name\": \"Count=1688\", \"scene\": \"scene\", \"showlegend\": true, \"type\": \"scatter3d\", \"x\": [\"JAYDEN\"], \"y\": [2017], \"z\": [1688]}, {\"hoverlabel\": {\"namelength\": 0}, \"hovertemplate\": \"Count=%{marker.color}<br>Name=%{x}<br>YEAR=%{y}\", \"legendgroup\": \"Count=1632\", \"marker\": {\"color\": [1632], \"coloraxis\": \"coloraxis\", \"symbol\": \"x\"}, \"mode\": \"markers\", \"name\": \"Count=1632\", \"scene\": \"scene\", \"showlegend\": true, \"type\": \"scatter3d\", \"x\": [\"AIDEN\"], \"y\": [2017], \"z\": [1632]}, {\"hoverlabel\": {\"namelength\": 0}, \"hovertemplate\": \"Count=%{marker.color}<br>Name=%{x}<br>YEAR=%{y}\", \"legendgroup\": \"Count=1513\", \"marker\": {\"color\": [1513], \"coloraxis\": \"coloraxis\", \"symbol\": \"cross\"}, \"mode\": \"markers\", \"name\": \"Count=1513\", \"scene\": \"scene\", \"showlegend\": true, \"type\": \"scatter3d\", \"x\": [\"DYLAN\"], \"y\": [2017], \"z\": [1513]}, {\"hoverlabel\": {\"namelength\": 0}, \"hovertemplate\": \"Count=%{marker.color}<br>Name=%{x}<br>YEAR=%{y}\", \"legendgroup\": \"Count=1508\", \"marker\": {\"color\": [1508], \"coloraxis\": \"coloraxis\", \"symbol\": \"circle\"}, \"mode\": \"markers\", \"name\": \"Count=1508\", \"scene\": \"scene\", \"showlegend\": true, \"type\": \"scatter3d\", \"x\": [\"JAMES\"], \"y\": [2017], \"z\": [1508]}, {\"hoverlabel\": {\"namelength\": 0}, \"hovertemplate\": \"Count=%{marker.color}<br>Name=%{x}<br>YEAR=%{y}\", \"legendgroup\": \"Count=1507\", \"marker\": {\"color\": [1507], \"coloraxis\": \"coloraxis\", \"symbol\": \"diamond\"}, \"mode\": \"markers\", \"name\": \"Count=1507\", \"scene\": \"scene\", \"showlegend\": true, \"type\": \"scatter3d\", \"x\": [\"MICHAEL\"], \"y\": [2017], \"z\": [1507]}, {\"hoverlabel\": {\"namelength\": 0}, \"hovertemplate\": \"Count=%{marker.color}<br>Name=%{x}<br>YEAR=%{y}\", \"legendgroup\": \"Count=1439\", \"marker\": {\"color\": [1439], \"coloraxis\": \"coloraxis\", \"symbol\": \"square\"}, \"mode\": \"markers\", \"name\": \"Count=1439\", \"scene\": \"scene\", \"showlegend\": true, \"type\": \"scatter3d\", \"x\": [\"ANTHONY\"], \"y\": [2017], \"z\": [1439]}, {\"hoverlabel\": {\"namelength\": 0}, \"hovertemplate\": \"Count=%{marker.color}<br>Name=%{x}<br>YEAR=%{y}\", \"legendgroup\": \"Count=1423\", \"marker\": {\"color\": [1423], \"coloraxis\": \"coloraxis\", \"symbol\": \"x\"}, \"mode\": \"markers\", \"name\": \"Count=1423\", \"scene\": \"scene\", \"showlegend\": true, \"type\": \"scatter3d\", \"x\": [\"ISAAC\"], \"y\": [2017], \"z\": [1423]}],\n",
       "                        {\"coloraxis\": {\"colorbar\": {\"title\": {\"text\": \"Count\"}}, \"colorscale\": [[0.0, \"#0d0887\"], [0.1111111111111111, \"#46039f\"], [0.2222222222222222, \"#7201a8\"], [0.3333333333333333, \"#9c179e\"], [0.4444444444444444, \"#bd3786\"], [0.5555555555555556, \"#d8576b\"], [0.6666666666666666, \"#ed7953\"], [0.7777777777777778, \"#fb9f3a\"], [0.8888888888888888, \"#fdca26\"], [1.0, \"#f0f921\"]]}, \"height\": 600, \"legend\": {\"tracegroupgap\": 0}, \"margin\": {\"t\": 60}, \"scene\": {\"domain\": {\"x\": [0.0, 1.0], \"y\": [0.0, 1.0]}, \"xaxis\": {\"title\": {\"text\": \"Name\"}}, \"yaxis\": {\"title\": {\"text\": \"YEAR\"}}, \"zaxis\": {\"categoryarray\": [3268, 2770, 2483, 2333, 2172, 2035, 1876, 1626, 1612, 1523, 1519, 1479, 1406, 1397, 1368, 1347, 1291, 1223, 1217, 1208, 1201, 1197, 1175, 1152, 1151, 3889, 3714, 3538, 3243, 3203, 3187, 3136, 3095, 2841, 2730, 2631, 2581, 2526, 2436, 2399, 2354, 2323, 2279, 2207, 2188, 2112, 2006, 1987, 1959, 1941, 3085, 2771, 2596, 2425, 2331, 2218, 1958, 1540, 1474, 1467, 1433, 1416, 1392, 1390, 1380, 1308, 1257, 1233, 1202, 1198, 1187, 1156, 1143, 3797, 3762, 3706, 3184, 3125, 3114, 3089, 3003, 2864, 2732, 2717, 2711, 2617, 2477, 2440, 2379, 2349, 2104, 2074, 2064, 2058, 2043, 1938, 2952, 2903, 2582, 2507, 2360, 2054, 1907, 1620, 1552, 1512, 1502, 1476, 1432, 1408, 1341, 1333, 1328, 1305, 1298, 1261, 1204, 1167, 1164, 1149, 1132, 3838, 3766, 3520, 3101, 3100, 3013, 2972, 2867, 2832, 2590, 2588, 2573, 2544, 2503, 2489, 2447, 2283, 2144, 2139, 2080, 2056, 1998, 1968, 1966, 1933, 2767, 2764, 2561, 2249, 1870, 1834, 1734, 1564, 1462, 1415, 1404, 1360, 1353, 1346, 1315, 1310, 1230, 1139, 1101, 1088, 1084, 1039, 1027, 3722, 3623, 3189, 3014, 2895, 2854, 2825, 2734, 2603, 2564, 2530, 2514, 2513, 2495, 2302, 2201, 2134, 2128, 2046, 2008, 1961, 1928, 1912, 1879, 1828, 3139, 2647, 2529, 2098, 1829, 1726, 1701, 1546, 1544, 1337, 1303, 1302, 1235, 1222, 1211, 1186, 1119, 1044, 1035, 1020, 995, 977, 976, 3379, 3073, 3021, 2951, 2863, 2663, 2616, 2575, 2415, 2401, 2384, 2336, 2332, 2258, 2166, 2093, 2086, 2053, 1846, 1797, 1757, 1755, 1727, 1718, 3341, 3339, 2381, 1999, 1768, 1666, 1624, 1610, 1463, 1402, 1388, 1363, 1307, 1206, 1115, 1064, 1062, 1046, 1032, 1001, 975, 971, 912, 901, 3327, 3120, 2845, 2586, 2543, 2455, 2428, 2406, 2371, 2259, 2215, 2116, 2111, 2021, 1980, 1957, 1931, 1921, 1902, 1848, 1763, 1628, 1592, 1560, 3540, 3032, 2387, 2291, 2107, 1780, 1555, 1553, 1539, 1484, 1438, 1370, 1270, 1268, 1196, 1147, 1100, 1054, 988, 931, 928, 924, 908, 898, 896, 3148, 2872, 2741, 2676, 2456, 2449, 2288, 2276, 2241, 2214, 2152, 2090, 1899, 1867, 1861, 1823, 1804, 1663, 1582, 1525, 3610, 2423, 2416, 2307, 1894, 1669, 1638, 1440, 1394, 1289, 1288, 1094, 1091, 1037, 1029, 997, 985, 980, 897, 885, 854, 847, 2955, 2848, 2659, 2654, 2623, 2491, 2412, 2408, 2230, 1985, 1979, 1940, 1857, 1840, 1782, 1722, 1714, 1713, 1633, 1602, 1565, 3442, 2759, 2579, 2466, 2151, 1486, 1473, 1399, 1137, 1056, 1052, 1043, 1004, 991, 969, 956, 891, 875, 869, 820, 818, 2874, 2648, 2572, 2548, 2540, 2367, 2220, 2072, 2030, 1963, 1917, 1855, 1841, 1761, 1753, 1736, 1682, 1673, 1650, 1613, 1532, 1518, 3160, 2702, 2666, 2608, 2403, 2264, 2082, 1685, 1521, 1470, 1427, 1192, 1121, 1105, 1078, 1048, 970, 966, 948, 920, 918, 903, 899, 2757, 2690, 2553, 2542, 2478, 2463, 2361, 2071, 2015, 1995, 1901, 1900, 1869, 1864, 1862, 1854, 1816, 1790, 1645, 1642, 1641, 1575, 1572, 1543, 2936, 2846, 2694, 2506, 2138, 1762, 1551, 1533, 1422, 1336, 1058, 1049, 990, 989, 955, 946, 937, 919, 895, 2750, 2546, 2461, 2457, 2419, 2300, 2131, 2017, 1918, 1896, 1895, 1852, 1850, 1813, 1765, 1704, 1692, 1679, 1530, 1514, 1511, 1504, 2788, 2740, 1944, 1885, 1636, 1606, 1583, 1182, 1112, 1055, 1050, 1016, 1008, 1002, 959, 914, 906, 2681, 2322, 2284, 2254, 2213, 2034, 1910, 1844, 1827, 1759, 1744, 1706, 1691, 1651, 1561, 1550, 1528, 2479, 2342, 1805, 1677, 1524, 1487, 1387, 1171, 1150, 1104, 1086, 1072, 967, 949, 886, 882, 871, 853, 2267, 2187, 2147, 2132, 2088, 2007, 1774, 1688, 1632, 1513, 1508, 1507, 1439, 1423], \"categoryorder\": \"array\", \"title\": {\"text\": \"Count\"}}}, \"template\": {\"data\": {\"bar\": [{\"error_x\": {\"color\": \"#2a3f5f\"}, \"error_y\": {\"color\": \"#2a3f5f\"}, \"marker\": {\"line\": {\"color\": \"#E5ECF6\", \"width\": 0.5}}, \"type\": \"bar\"}], \"barpolar\": [{\"marker\": {\"line\": {\"color\": \"#E5ECF6\", \"width\": 0.5}}, \"type\": \"barpolar\"}], \"carpet\": [{\"aaxis\": {\"endlinecolor\": \"#2a3f5f\", \"gridcolor\": \"white\", \"linecolor\": \"white\", \"minorgridcolor\": \"white\", \"startlinecolor\": \"#2a3f5f\"}, \"baxis\": {\"endlinecolor\": \"#2a3f5f\", \"gridcolor\": \"white\", \"linecolor\": \"white\", \"minorgridcolor\": \"white\", \"startlinecolor\": \"#2a3f5f\"}, \"type\": \"carpet\"}], \"choropleth\": [{\"colorbar\": {\"outlinewidth\": 0, \"ticks\": \"\"}, \"type\": \"choropleth\"}], \"contour\": [{\"colorbar\": {\"outlinewidth\": 0, \"ticks\": \"\"}, \"colorscale\": [[0.0, \"#0d0887\"], [0.1111111111111111, \"#46039f\"], [0.2222222222222222, \"#7201a8\"], [0.3333333333333333, \"#9c179e\"], [0.4444444444444444, \"#bd3786\"], [0.5555555555555556, \"#d8576b\"], [0.6666666666666666, \"#ed7953\"], [0.7777777777777778, \"#fb9f3a\"], [0.8888888888888888, \"#fdca26\"], [1.0, \"#f0f921\"]], \"type\": \"contour\"}], \"contourcarpet\": [{\"colorbar\": {\"outlinewidth\": 0, \"ticks\": \"\"}, \"type\": \"contourcarpet\"}], \"heatmap\": [{\"colorbar\": {\"outlinewidth\": 0, \"ticks\": \"\"}, \"colorscale\": [[0.0, \"#0d0887\"], [0.1111111111111111, \"#46039f\"], [0.2222222222222222, \"#7201a8\"], [0.3333333333333333, \"#9c179e\"], [0.4444444444444444, \"#bd3786\"], [0.5555555555555556, \"#d8576b\"], [0.6666666666666666, \"#ed7953\"], [0.7777777777777778, \"#fb9f3a\"], [0.8888888888888888, \"#fdca26\"], [1.0, \"#f0f921\"]], \"type\": \"heatmap\"}], \"heatmapgl\": [{\"colorbar\": {\"outlinewidth\": 0, \"ticks\": \"\"}, \"colorscale\": [[0.0, \"#0d0887\"], [0.1111111111111111, \"#46039f\"], [0.2222222222222222, \"#7201a8\"], [0.3333333333333333, \"#9c179e\"], [0.4444444444444444, \"#bd3786\"], [0.5555555555555556, \"#d8576b\"], [0.6666666666666666, \"#ed7953\"], [0.7777777777777778, \"#fb9f3a\"], [0.8888888888888888, \"#fdca26\"], [1.0, \"#f0f921\"]], \"type\": \"heatmapgl\"}], \"histogram\": [{\"marker\": {\"colorbar\": {\"outlinewidth\": 0, \"ticks\": \"\"}}, \"type\": \"histogram\"}], \"histogram2d\": [{\"colorbar\": {\"outlinewidth\": 0, \"ticks\": \"\"}, \"colorscale\": [[0.0, \"#0d0887\"], [0.1111111111111111, \"#46039f\"], [0.2222222222222222, \"#7201a8\"], [0.3333333333333333, \"#9c179e\"], [0.4444444444444444, \"#bd3786\"], [0.5555555555555556, \"#d8576b\"], [0.6666666666666666, \"#ed7953\"], [0.7777777777777778, \"#fb9f3a\"], [0.8888888888888888, \"#fdca26\"], [1.0, \"#f0f921\"]], \"type\": \"histogram2d\"}], \"histogram2dcontour\": [{\"colorbar\": {\"outlinewidth\": 0, \"ticks\": \"\"}, \"colorscale\": [[0.0, \"#0d0887\"], [0.1111111111111111, \"#46039f\"], [0.2222222222222222, \"#7201a8\"], [0.3333333333333333, \"#9c179e\"], [0.4444444444444444, \"#bd3786\"], [0.5555555555555556, \"#d8576b\"], [0.6666666666666666, \"#ed7953\"], [0.7777777777777778, \"#fb9f3a\"], [0.8888888888888888, \"#fdca26\"], [1.0, \"#f0f921\"]], \"type\": \"histogram2dcontour\"}], \"mesh3d\": [{\"colorbar\": {\"outlinewidth\": 0, \"ticks\": \"\"}, \"type\": \"mesh3d\"}], \"parcoords\": [{\"line\": {\"colorbar\": {\"outlinewidth\": 0, \"ticks\": \"\"}}, \"type\": \"parcoords\"}], \"pie\": [{\"automargin\": true, \"type\": \"pie\"}], \"scatter\": [{\"marker\": {\"colorbar\": {\"outlinewidth\": 0, \"ticks\": \"\"}}, \"type\": \"scatter\"}], \"scatter3d\": [{\"line\": {\"colorbar\": {\"outlinewidth\": 0, \"ticks\": \"\"}}, \"marker\": {\"colorbar\": {\"outlinewidth\": 0, \"ticks\": \"\"}}, \"type\": \"scatter3d\"}], \"scattercarpet\": [{\"marker\": {\"colorbar\": {\"outlinewidth\": 0, \"ticks\": \"\"}}, \"type\": \"scattercarpet\"}], \"scattergeo\": [{\"marker\": {\"colorbar\": {\"outlinewidth\": 0, \"ticks\": \"\"}}, \"type\": \"scattergeo\"}], \"scattergl\": [{\"marker\": {\"colorbar\": {\"outlinewidth\": 0, \"ticks\": \"\"}}, \"type\": \"scattergl\"}], \"scattermapbox\": [{\"marker\": {\"colorbar\": {\"outlinewidth\": 0, \"ticks\": \"\"}}, \"type\": \"scattermapbox\"}], \"scatterpolar\": [{\"marker\": {\"colorbar\": {\"outlinewidth\": 0, \"ticks\": \"\"}}, \"type\": \"scatterpolar\"}], \"scatterpolargl\": [{\"marker\": {\"colorbar\": {\"outlinewidth\": 0, \"ticks\": \"\"}}, \"type\": \"scatterpolargl\"}], \"scatterternary\": [{\"marker\": {\"colorbar\": {\"outlinewidth\": 0, \"ticks\": \"\"}}, \"type\": \"scatterternary\"}], \"surface\": [{\"colorbar\": {\"outlinewidth\": 0, \"ticks\": \"\"}, \"colorscale\": [[0.0, \"#0d0887\"], [0.1111111111111111, \"#46039f\"], [0.2222222222222222, \"#7201a8\"], [0.3333333333333333, \"#9c179e\"], [0.4444444444444444, \"#bd3786\"], [0.5555555555555556, \"#d8576b\"], [0.6666666666666666, \"#ed7953\"], [0.7777777777777778, \"#fb9f3a\"], [0.8888888888888888, \"#fdca26\"], [1.0, \"#f0f921\"]], \"type\": \"surface\"}], \"table\": [{\"cells\": {\"fill\": {\"color\": \"#EBF0F8\"}, \"line\": {\"color\": \"white\"}}, \"header\": {\"fill\": {\"color\": \"#C8D4E3\"}, \"line\": {\"color\": \"white\"}}, \"type\": \"table\"}]}, \"layout\": {\"annotationdefaults\": {\"arrowcolor\": \"#2a3f5f\", \"arrowhead\": 0, \"arrowwidth\": 1}, \"coloraxis\": {\"colorbar\": {\"outlinewidth\": 0, \"ticks\": \"\"}}, \"colorscale\": {\"diverging\": [[0, \"#8e0152\"], [0.1, \"#c51b7d\"], [0.2, \"#de77ae\"], [0.3, \"#f1b6da\"], [0.4, \"#fde0ef\"], [0.5, \"#f7f7f7\"], [0.6, \"#e6f5d0\"], [0.7, \"#b8e186\"], [0.8, \"#7fbc41\"], [0.9, \"#4d9221\"], [1, \"#276419\"]], \"sequential\": [[0.0, \"#0d0887\"], [0.1111111111111111, \"#46039f\"], [0.2222222222222222, \"#7201a8\"], [0.3333333333333333, \"#9c179e\"], [0.4444444444444444, \"#bd3786\"], [0.5555555555555556, \"#d8576b\"], [0.6666666666666666, \"#ed7953\"], [0.7777777777777778, \"#fb9f3a\"], [0.8888888888888888, \"#fdca26\"], [1.0, \"#f0f921\"]], \"sequentialminus\": [[0.0, \"#0d0887\"], [0.1111111111111111, \"#46039f\"], [0.2222222222222222, \"#7201a8\"], [0.3333333333333333, \"#9c179e\"], [0.4444444444444444, \"#bd3786\"], [0.5555555555555556, \"#d8576b\"], [0.6666666666666666, \"#ed7953\"], [0.7777777777777778, \"#fb9f3a\"], [0.8888888888888888, \"#fdca26\"], [1.0, \"#f0f921\"]]}, \"colorway\": [\"#636efa\", \"#EF553B\", \"#00cc96\", \"#ab63fa\", \"#FFA15A\", \"#19d3f3\", \"#FF6692\", \"#B6E880\", \"#FF97FF\", \"#FECB52\"], \"font\": {\"color\": \"#2a3f5f\"}, \"geo\": {\"bgcolor\": \"white\", \"lakecolor\": \"white\", \"landcolor\": \"#E5ECF6\", \"showlakes\": true, \"showland\": true, \"subunitcolor\": \"white\"}, \"hoverlabel\": {\"align\": \"left\"}, \"hovermode\": \"closest\", \"mapbox\": {\"style\": \"light\"}, \"paper_bgcolor\": \"white\", \"plot_bgcolor\": \"#E5ECF6\", \"polar\": {\"angularaxis\": {\"gridcolor\": \"white\", \"linecolor\": \"white\", \"ticks\": \"\"}, \"bgcolor\": \"#E5ECF6\", \"radialaxis\": {\"gridcolor\": \"white\", \"linecolor\": \"white\", \"ticks\": \"\"}}, \"scene\": {\"xaxis\": {\"backgroundcolor\": \"#E5ECF6\", \"gridcolor\": \"white\", \"gridwidth\": 2, \"linecolor\": \"white\", \"showbackground\": true, \"ticks\": \"\", \"zerolinecolor\": \"white\"}, \"yaxis\": {\"backgroundcolor\": \"#E5ECF6\", \"gridcolor\": \"white\", \"gridwidth\": 2, \"linecolor\": \"white\", \"showbackground\": true, \"ticks\": \"\", \"zerolinecolor\": \"white\"}, \"zaxis\": {\"backgroundcolor\": \"#E5ECF6\", \"gridcolor\": \"white\", \"gridwidth\": 2, \"linecolor\": \"white\", \"showbackground\": true, \"ticks\": \"\", \"zerolinecolor\": \"white\"}}, \"shapedefaults\": {\"line\": {\"color\": \"#2a3f5f\"}}, \"ternary\": {\"aaxis\": {\"gridcolor\": \"white\", \"linecolor\": \"white\", \"ticks\": \"\"}, \"baxis\": {\"gridcolor\": \"white\", \"linecolor\": \"white\", \"ticks\": \"\"}, \"bgcolor\": \"#E5ECF6\", \"caxis\": {\"gridcolor\": \"white\", \"linecolor\": \"white\", \"ticks\": \"\"}}, \"title\": {\"x\": 0.05}, \"xaxis\": {\"automargin\": true, \"gridcolor\": \"white\", \"linecolor\": \"white\", \"ticks\": \"\", \"title\": {\"standoff\": 15}, \"zerolinecolor\": \"white\", \"zerolinewidth\": 2}, \"yaxis\": {\"automargin\": true, \"gridcolor\": \"white\", \"linecolor\": \"white\", \"ticks\": \"\", \"title\": {\"standoff\": 15}, \"zerolinecolor\": \"white\", \"zerolinewidth\": 2}}}},\n",
       "                        {\"responsive\": true}\n",
       "                    ).then(function(){\n",
       "                            \n",
       "var gd = document.getElementById('3969b9c5-2647-4711-becc-cc5bfccbc014');\n",
       "var x = new MutationObserver(function (mutations, observer) {{\n",
       "        var display = window.getComputedStyle(gd).display;\n",
       "        if (!display || display === 'none') {{\n",
       "            console.log([gd, 'removed!']);\n",
       "            Plotly.purge(gd);\n",
       "            observer.disconnect();\n",
       "        }}\n",
       "}});\n",
       "\n",
       "// Listen for the removal of the full notebook cells\n",
       "var notebookContainer = gd.closest('#notebook-container');\n",
       "if (notebookContainer) {{\n",
       "    x.observe(notebookContainer, {childList: true});\n",
       "}}\n",
       "\n",
       "// Listen for the clearing of the current output cell\n",
       "var outputEl = gd.closest('.output');\n",
       "if (outputEl) {{\n",
       "    x.observe(outputEl, {childList: true});\n",
       "}}\n",
       "\n",
       "                        })\n",
       "                };\n",
       "                });\n",
       "            </script>\n",
       "        </div>"
      ]
     },
     "metadata": {},
     "output_type": "display_data"
    }
   ],
   "source": [
    "import plotly.express as px\n",
    "#iris = px.data.iris()\n",
    "fig = px.scatter_3d(df_BabyNames, x='Name', y='YEAR', z='Count', color='Count', symbol='Count')\n",
    "fig.show()"
   ]
  },
  {
   "cell_type": "code",
   "execution_count": null,
   "metadata": {},
   "outputs": [],
   "source": [
    "import plotly.express as px\n",
    "import plotly.express as px\n",
    "fig = px.line_3d(df_BabyNames, x='Name', y='YEAR', z='Count',color=\"Name\")\n",
    "fig.show()"
   ]
  },
  {
   "cell_type": "code",
   "execution_count": null,
   "metadata": {},
   "outputs": [],
   "source": []
  }
 ],
 "metadata": {
  "kernelspec": {
   "display_name": "Python 3",
   "language": "python",
   "name": "python3"
  },
  "language_info": {
   "codemirror_mode": {
    "name": "ipython",
    "version": 3
   },
   "file_extension": ".py",
   "mimetype": "text/x-python",
   "name": "python",
   "nbconvert_exporter": "python",
   "pygments_lexer": "ipython3",
   "version": "3.7.3"
  }
 },
 "nbformat": 4,
 "nbformat_minor": 4
}
